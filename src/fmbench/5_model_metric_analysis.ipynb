{
 "cells": [
  {
   "cell_type": "markdown",
   "metadata": {},
   "source": [
    "## Model Metrics Analysis \n",
    "---------\n",
    "*This notebook works best with the conda_python3 kernel on a ml.t3.medium machine*.\n",
    "\n",
    "### This part of our solution design includes the chunk of taking the metrics generated and creating visualizations from it for further analysis to make decisions more quicker, efficient, and cost optimal.\n",
    "\n",
    "- In this file, we will go over and create side by side visualizations of different models deployed, how their inference latency is impacted based on the concurrency level, instance size and different model configurations. Using these visualizations and charts, making executive decisions, saving on time and cost becomes critical. \n",
    "\n",
    "\n",
    "- In this notebook, we will also record the error rates for each of the deployed model endpoints based on how it ran against different metrics as specified above. These visualizations will be applicable and work for any and every jumpstart and non jumpstart model if deployed correctly using the prior steps."
   ]
  },
  {
   "cell_type": "markdown",
   "metadata": {},
   "source": [
    "#### Import all of the necessary libraries below to run this notebook"
   ]
  },
  {
   "cell_type": "code",
   "execution_count": 81,
   "metadata": {
    "tags": []
   },
   "outputs": [],
   "source": [
    "# if interactive mode is set to no -> pickup fmbench from Python installation path\n",
    "# if interactive mode is set to yes -> pickup fmbench from the current path (one level above this notebook)\n",
    "# if interactive mode is not defined -> pickup fmbench from the current path (one level above this notebook)\n",
    "# the premise is that if run non-interactively then it can only be run through main.py which will set interactive mode to no\n",
    "import os\n",
    "import sys\n",
    "if os.environ.get(\"INTERACTIVE_MODE_SET\", \"yes\") == \"yes\":\n",
    "    sys.path.append(os.path.dirname(os.getcwd()))"
   ]
  },
  {
   "cell_type": "code",
   "execution_count": 82,
   "metadata": {
    "tags": []
   },
   "outputs": [],
   "source": [
    "import io\n",
    "import math\n",
    "import json\n",
    "import tempfile\n",
    "import datetime\n",
    "import matplotlib\n",
    "import numpy as np\n",
    "import pandas as pd\n",
    "\n",
    "# Import seaborn and other related libraries for visualizations and plotting charts\n",
    "import seaborn as sns\n",
    "from pathlib import Path\n",
    "from tomark import Tomark\n",
    "from fmbench.utils import *\n",
    "from fmbench.globals import *\n",
    "from datetime import datetime\n",
    "from datetime import timezone\n",
    "from dateutil.parser import parse\n",
    "from typing import List, Optional, Dict\n",
    "import importlib.resources as pkg_resources\n",
    "from fmbench import __version__ as fmbench_version"
   ]
  },
  {
   "cell_type": "code",
   "execution_count": 83,
   "metadata": {
    "tags": []
   },
   "outputs": [],
   "source": [
    "# for plotting\n",
    "import matplotlib.pyplot as plt\n",
    "# rcParams for configuring Matplotlib settings\n",
    "from matplotlib import rcParams\n",
    "import plotly\n",
    "import plotly.io as pio\n",
    "import plotly.express as px\n",
    "import plotly.graph_objects as go\n",
    "\n",
    "# figure size in inches\n",
    "rcParams['figure.figsize'] = 10, 6"
   ]
  },
  {
   "cell_type": "code",
   "execution_count": 84,
   "metadata": {
    "tags": []
   },
   "outputs": [],
   "source": [
    "logging.basicConfig(format='[%(asctime)s] p%(process)s {%(filename)s:%(lineno)d} %(levelname)s - %(message)s', level=logging.INFO)\n",
    "logger = logging.getLogger(__name__)"
   ]
  },
  {
   "cell_type": "markdown",
   "metadata": {},
   "source": [
    "Load the Config.yml file contains information that is used across this benchmarking environment, such as information about the aws account, prompts, payloads to be used for invocations"
   ]
  },
  {
   "cell_type": "code",
   "execution_count": 85,
   "metadata": {
    "tags": []
   },
   "outputs": [
    {
     "name": "stderr",
     "output_type": "stream",
     "text": [
      "[2024-08-12 23:42:12,259] p31041 {2445076252.py:1} INFO - CONFIG_FILE=configs/bedrock/config-bedrock-haiku-sonnet-majority-voting.yml\n",
      "[2024-08-12 23:42:12,354] p31041 {2445076252.py:3} INFO - {\n",
      "  \"general\": {\n",
      "    \"name\": \"fmbench-bedrock-anthropic-models\",\n",
      "    \"model_name\": \"Sonnet and Haiku on Amazon Bedrock\"\n",
      "  },\n",
      "  \"aws\": {\n",
      "    \"region\": \"us-east-1\",\n",
      "    \"sagemaker_execution_role\": \"arn:aws:iam::015469603702:role/SageMaker-ExecutionRole-20240111T084686\",\n",
      "    \"bucket\": \"sagemaker-fmbench-write-us-east-1-015469603702\"\n",
      "  },\n",
      "  \"dir_paths\": {\n",
      "    \"data_prefix\": \"data\",\n",
      "    \"prompts_prefix\": \"prompts\",\n",
      "    \"all_prompts_file\": \"all_prompts.csv\",\n",
      "    \"metrics_dir\": \"metrics\",\n",
      "    \"models_dir\": \"models\",\n",
      "    \"metadata_dir\": \"metadata\"\n",
      "  },\n",
      "  \"s3_read_data\": {\n",
      "    \"read_bucket\": \"sagemaker-fmbench-read-us-east-1-015469603702\",\n",
      "    \"scripts_prefix\": \"scripts\",\n",
      "    \"script_files\": [\n",
      "      \"hf_token.txt\"\n",
      "    ],\n",
      "    \"configs_prefix\": \"configs\",\n",
      "    \"config_files\": [\n",
      "      \"pricing.yml\"\n",
      "    ],\n",
      "    \"source_data_prefix\": \"source_data\",\n",
      "    \"source_data_files\": [\n",
      "      \"2wikimqa_e.jsonl\",\n",
      "      \"2wikimqa.jsonl\",\n",
      "      \"hotpotqa_e.jsonl\",\n",
      "      \"hotpotqa.jsonl\",\n",
      "      \"narrativeqa.jsonl\",\n",
      "      \"triviaqa_e.jsonl\",\n",
      "      \"triviaqa.jsonl\"\n",
      "    ],\n",
      "    \"tokenizer_prefix\": \"tokenizer\",\n",
      "    \"prompt_template_dir\": \"prompt_template\",\n",
      "    \"prompt_template_file\": \"prompt_template_claude.txt\"\n",
      "  },\n",
      "  \"run_steps\": {\n",
      "    \"0_setup.ipynb\": false,\n",
      "    \"1_generate_data.ipynb\": false,\n",
      "    \"2_deploy_model.ipynb\": false,\n",
      "    \"3_run_inference.ipynb\": false,\n",
      "    \"4_get_evaluations.ipynb\": false,\n",
      "    \"5_model_metric_analysis.ipynb\": true,\n",
      "    \"6_cleanup.ipynb\": false\n",
      "  },\n",
      "  \"datasets\": {\n",
      "    \"prompt_template_keys\": [\n",
      "      \"input\",\n",
      "      \"context\"\n",
      "    ],\n",
      "    \"ground_truth_col_key\": \"answers\",\n",
      "    \"question_col_key\": \"input\",\n",
      "    \"filters\": [\n",
      "      {\n",
      "        \"language\": \"en\",\n",
      "        \"min_length_in_tokens\": 1,\n",
      "        \"max_length_in_tokens\": 500,\n",
      "        \"payload_file\": \"payload_en_1-500.jsonl\"\n",
      "      },\n",
      "      {\n",
      "        \"language\": \"en\",\n",
      "        \"min_length_in_tokens\": 500,\n",
      "        \"max_length_in_tokens\": 1000,\n",
      "        \"payload_file\": \"payload_en_500-1000.jsonl\"\n",
      "      },\n",
      "      {\n",
      "        \"language\": \"en\",\n",
      "        \"min_length_in_tokens\": 1000,\n",
      "        \"max_length_in_tokens\": 2000,\n",
      "        \"payload_file\": \"payload_en_1000-2000.jsonl\"\n",
      "      },\n",
      "      {\n",
      "        \"language\": \"en\",\n",
      "        \"min_length_in_tokens\": 2000,\n",
      "        \"max_length_in_tokens\": 3000,\n",
      "        \"payload_file\": \"payload_en_2000-3000.jsonl\"\n",
      "      },\n",
      "      {\n",
      "        \"language\": \"en\",\n",
      "        \"min_length_in_tokens\": 3000,\n",
      "        \"max_length_in_tokens\": 4000,\n",
      "        \"payload_file\": \"payload_en_3000-4000.jsonl\"\n",
      "      },\n",
      "      {\n",
      "        \"language\": \"en\",\n",
      "        \"min_length_in_tokens\": 305,\n",
      "        \"max_length_in_tokens\": 3997,\n",
      "        \"payload_file\": \"payload_en_305-3997.jsonl\"\n",
      "      }\n",
      "    ]\n",
      "  },\n",
      "  \"model_evaluations\": \"model_eval_all_info.yml\",\n",
      "  \"metrics\": {\n",
      "    \"dataset_of_interest\": \"en_3000-4000\"\n",
      "  },\n",
      "  \"pricing\": \"pricing.yml\",\n",
      "  \"inference_parameters\": {\n",
      "    \"bedrock\": {\n",
      "      \"temperature\": 0.1,\n",
      "      \"max_tokens\": 100,\n",
      "      \"top_p\": 0.92,\n",
      "      \"caching\": false\n",
      "    }\n",
      "  },\n",
      "  \"experiments\": [\n",
      "    {\n",
      "      \"name\": \"anthropic.claude-3-sonnet-20240229-v1:0\",\n",
      "      \"model_name\": \"anthropic.claude-3-sonnet-20240229-v1:0\",\n",
      "      \"ep_name\": \"anthropic.claude-3-sonnet-20240229-v1:0\",\n",
      "      \"instance_type\": \"anthropic.claude-3-sonnet-20240229-v1:0\",\n",
      "      \"instance_count\": null,\n",
      "      \"inference_script\": \"bedrock_predictor.py\",\n",
      "      \"inference_spec\": {\n",
      "        \"split_input_and_parameters\": false,\n",
      "        \"parameter_set\": \"bedrock\",\n",
      "        \"parameters\": {\n",
      "          \"temperature\": 0.1,\n",
      "          \"max_tokens\": 100,\n",
      "          \"top_p\": 0.92,\n",
      "          \"caching\": false\n",
      "        }\n",
      "      },\n",
      "      \"payload_files\": [\n",
      "        \"payload_en_1-500.jsonl\",\n",
      "        \"payload_en_500-1000.jsonl\",\n",
      "        \"payload_en_1000-2000.jsonl\",\n",
      "        \"payload_en_2000-3000.jsonl\",\n",
      "        \"payload_en_3000-4000.jsonl\"\n",
      "      ],\n",
      "      \"concurrency_levels\": [\n",
      "        1\n",
      "      ],\n",
      "      \"env\": null,\n",
      "      \"bucket\": \"sagemaker-fmbench-write-us-east-1-015469603702\"\n",
      "    },\n",
      "    {\n",
      "      \"name\": \"anthropic.claude-3-haiku-20240307-v1:0\",\n",
      "      \"model_name\": \"anthropic.claude-3-haiku-20240307-v1:0\",\n",
      "      \"ep_name\": \"anthropic.claude-3-haiku-20240307-v1:0\",\n",
      "      \"instance_type\": \"anthropic.claude-3-haiku-20240307-v1:0\",\n",
      "      \"instance_count\": null,\n",
      "      \"inference_script\": \"bedrock_predictor.py\",\n",
      "      \"inference_spec\": {\n",
      "        \"split_input_and_parameters\": false,\n",
      "        \"parameter_set\": \"bedrock\",\n",
      "        \"parameters\": {\n",
      "          \"temperature\": 0.1,\n",
      "          \"max_tokens\": 100,\n",
      "          \"top_p\": 0.92,\n",
      "          \"caching\": false\n",
      "        }\n",
      "      },\n",
      "      \"payload_files\": [\n",
      "        \"payload_en_1-500.jsonl\",\n",
      "        \"payload_en_500-1000.jsonl\",\n",
      "        \"payload_en_1000-2000.jsonl\",\n",
      "        \"payload_en_2000-3000.jsonl\",\n",
      "        \"payload_en_3000-4000.jsonl\"\n",
      "      ],\n",
      "      \"concurrency_levels\": [\n",
      "        1\n",
      "      ],\n",
      "      \"env\": null,\n",
      "      \"bucket\": \"sagemaker-fmbench-write-us-east-1-015469603702\"\n",
      "    }\n",
      "  ],\n",
      "  \"report\": {\n",
      "    \"latency_budget\": 5,\n",
      "    \"cost_per_10k_txn_budget\": 350,\n",
      "    \"error_rate_budget\": 0,\n",
      "    \"per_inference_request_file\": \"per_inference_request_results.csv\",\n",
      "    \"all_metrics_file\": \"all_metrics.csv\",\n",
      "    \"txn_count_for_showing_cost\": 10000,\n",
      "    \"v_shift_w_single_instance\": 0.025,\n",
      "    \"v_shift_w_gt_one_instance\": 0.025\n",
      "  }\n",
      "}\n"
     ]
    },
    {
     "name": "stdout",
     "output_type": "stream",
     "text": [
      "region_name=us-east-1\n",
      "role_arn_from_env=None, using current sts caller identity to set arn_string\n",
      "the sts role is an assumed role, setting arn_string to arn:aws:iam::015469603702:role/SageMaker-ExecutionRole-20240111T084686\n"
     ]
    }
   ],
   "source": [
    "logger.info(f\"CONFIG_FILE={CONFIG_FILE}\")\n",
    "config = load_main_config(CONFIG_FILE)\n",
    "logger.info(json.dumps(config, indent=2))"
   ]
  },
  {
   "cell_type": "markdown",
   "metadata": {},
   "source": [
    "#### Load the associated pricing config file"
   ]
  },
  {
   "cell_type": "code",
   "execution_count": 86,
   "metadata": {
    "tags": []
   },
   "outputs": [
    {
     "name": "stderr",
     "output_type": "stream",
     "text": [
      "[2024-08-12 23:42:12,364] p31041 {2131877439.py:9} INFO - Using fmbench.configs directory: /home/sagemaker-user/.conda/envs/fmbench_python311/lib/python3.11/site-packages/fmbench/configs\n",
      "[2024-08-12 23:42:12,365] p31041 {2131877439.py:12} INFO - pricing config provided for inference from this model is --> pricing.yml\n",
      "[2024-08-12 23:42:12,366] p31041 {2131877439.py:14} INFO - pricing config file path is --> /home/sagemaker-user/.conda/envs/fmbench_python311/lib/python3.11/site-packages/fmbench/configs/pricing.yml\n",
      "[2024-08-12 23:42:12,452] p31041 {2131877439.py:17} INFO - pricing config file recorded: {\n",
      "  \"pricing\": {\n",
      "    \"instance_based\": {\n",
      "      \"ml.m5.xlarge\": 0.23,\n",
      "      \"ml.g5.xlarge\": 1.4084,\n",
      "      \"ml.g5.2xlarge\": 1.515,\n",
      "      \"ml.g5.12xlarge\": 7.09,\n",
      "      \"ml.g5.24xlarge\": 10.18,\n",
      "      \"ml.g5.48xlarge\": 20.36,\n",
      "      \"ml.inf2.xlarge\": 0.99,\n",
      "      \"ml.inf2.8xlarge\": 2.36,\n",
      "      \"ml.inf2.24xlarge\": 7.79,\n",
      "      \"ml.inf2.48xlarge\": 15.58,\n",
      "      \"ml.trn1.32xlarge\": 28.497,\n",
      "      \"ml.p4d.24xlarge\": 37.688,\n",
      "      \"ml.p5.48xlarge\": 113.068,\n",
      "      \"ml.p3.2xlarge\": 3.825,\n",
      "      \"ml.g4dn.12xlarge\": 4.89,\n",
      "      \"ml.g6.2xlarge\": 1.222,\n",
      "      \"ml.g6.16xlarge\": 4.246,\n",
      "      \"ml.g6.12xlarge\": 5.752,\n",
      "      \"ml.g6.24xlarge\": 8.344,\n",
      "      \"ml.g6.48xlarge\": 16.688,\n",
      "      \"anthropic.claude-v3-sonnet-pt-nc\": 88,\n",
      "      \"m5.xlarge\": 0.192,\n",
      "      \"g5.xlarge\": 1.006,\n",
      "      \"g5.2xlarge\": 1.212,\n",
      "      \"g5.12xlarge\": 5.672,\n",
      "      \"g5.24xlarge\": 8.144,\n",
      "      \"g5.48xlarge\": 16.288,\n",
      "      \"inf2.xlarge\": 0.7582,\n",
      "      \"inf2.8xlarge\": 1.96786,\n",
      "      \"inf2.24xlarge\": 6.49063,\n",
      "      \"inf2.48xlarge\": 12.98127,\n",
      "      \"trn1.32xlarge\": 21.5,\n",
      "      \"p4d.24xlarge\": 32.7726,\n",
      "      \"p5.48xlarge\": 98.32,\n",
      "      \"p3.2xlarge\": 3.06,\n",
      "      \"g4dn.12xlarge\": 3.912,\n",
      "      \"g6.2xlarge\": 0.9776,\n",
      "      \"g6.16xlarge\": 3.3968,\n",
      "      \"g6.12xlarge\": 4.6016,\n",
      "      \"g6.24xlarge\": 6.6752,\n",
      "      \"g6.48xlarge\": 13.3504\n",
      "    },\n",
      "    \"token_based\": {\n",
      "      \"anthropic.claude-3-haiku-20240307-v1:0\": {\n",
      "        \"input-per-1k-tokens\": 0.00025,\n",
      "        \"output-per-1k-tokens\": 0.00125\n",
      "      },\n",
      "      \"anthropic.claude-3-sonnet-20240229-v1:0\": {\n",
      "        \"input-per-1k-tokens\": 0.003,\n",
      "        \"output-per-1k-tokens\": 0.015\n",
      "      },\n",
      "      \"amazon.titan-text-lite-v1\": {\n",
      "        \"input-per-1k-tokens\": 0.0003,\n",
      "        \"output-per-1k-tokens\": 0.0004\n",
      "      },\n",
      "      \"amazon.titan-text-express-v1\": {\n",
      "        \"input-per-1k-tokens\": 0.0008,\n",
      "        \"output-per-1k-tokens\": 0.0016\n",
      "      },\n",
      "      \"mistral.mistral-7b-instruct-v0:2\": {\n",
      "        \"input-per-1k-tokens\": 0.00015,\n",
      "        \"output-per-1k-tokens\": 0.0002\n",
      "      },\n",
      "      \"mistral.mixtral-8x7b-instruct-v0:1\": {\n",
      "        \"input-per-1k-tokens\": 0.00045,\n",
      "        \"output-per-1k-tokens\": 0.0007\n",
      "      },\n",
      "      \"meta.llama3-8b-instruct-v1:0\": {\n",
      "        \"input-per-1k-tokens\": 0.0004,\n",
      "        \"output-per-1k-tokens\": 0.0006\n",
      "      },\n",
      "      \"meta.llama3-70b-instruct-v1:0\": {\n",
      "        \"input-per-1k-tokens\": 0.00265,\n",
      "        \"output-per-1k-tokens\": 0.0035\n",
      "      },\n",
      "      \"meta.llama2-13b-chat-v1\": {\n",
      "        \"input-per-1k-tokens\": 0.00075,\n",
      "        \"output-per-1k-tokens\": 0.001\n",
      "      },\n",
      "      \"meta.llama2-70b-chat-v1\": {\n",
      "        \"input-per-1k-tokens\": 0.00195,\n",
      "        \"output-per-1k-tokens\": 0.00256\n",
      "      },\n",
      "      \"ai21.j2-mid-v1\": {\n",
      "        \"input-per-1k-tokens\": 0.0125,\n",
      "        \"output-per-1k-tokens\": 0.0125\n",
      "      },\n",
      "      \"ai21.j2-ultra-v1\": {\n",
      "        \"input-per-1k-tokens\": 0.0188,\n",
      "        \"output-per-1k-tokens\": 0.0188\n",
      "      },\n",
      "      \"cohere.command-text-v14\": {\n",
      "        \"input-per-1k-tokens\": 0.0015,\n",
      "        \"output-per-1k-tokens\": 0.002\n",
      "      },\n",
      "      \"cohere.command-light-text-v14\": {\n",
      "        \"input-per-1k-tokens\": 0.0003,\n",
      "        \"output-per-1k-tokens\": 0.0006\n",
      "      }\n",
      "    }\n",
      "  }\n",
      "}\n"
     ]
    },
    {
     "name": "stdout",
     "output_type": "stream",
     "text": [
      "region_name=us-east-1\n",
      "role_arn_from_env=None, using current sts caller identity to set arn_string\n",
      "the sts role is an assumed role, setting arn_string to arn:aws:iam::015469603702:role/SageMaker-ExecutionRole-20240111T084686\n"
     ]
    }
   ],
   "source": [
    "# represents getting the config file from the s3 bucket/https path for pricing yml information\n",
    "pricing_file_path: str = config['pricing'] \n",
    "\n",
    "# initialize the pricing config file to None\n",
    "pricing_config: Optional[Dict] = None\n",
    "\n",
    "# get the current config dir path\n",
    "config_dir = Path(pkg_resources.files('fmbench'), 'configs')\n",
    "logger.info(f\"Using fmbench.configs directory: {config_dir}\")\n",
    "\n",
    "pricing_module = Path(config['pricing'])\n",
    "logger.info(f\"pricing config provided for inference from this model is --> {pricing_module}\")\n",
    "pricing_file_path = os.path.join(config_dir, pricing_module)\n",
    "logger.info(f\"pricing config file path is --> {pricing_file_path}\")\n",
    "\n",
    "pricing_config = load_config(pricing_file_path)\n",
    "logger.info(f\"pricing config file recorded: {json.dumps(pricing_config, indent=2)}\")"
   ]
  },
  {
   "cell_type": "code",
   "execution_count": 87,
   "metadata": {
    "tags": []
   },
   "outputs": [
    {
     "name": "stderr",
     "output_type": "stream",
     "text": [
      "[2024-08-12 23:42:12,463] p31041 {1795854198.py:6} INFO - cwd=/home/sagemaker-user/repos/foundation-model-benchmarking-tool/src/fmbench, METADATA_DIR=metadata, METRICS_PATH_FNAME=metrics_path.txt, metrics_path_file=../../metadata/metrics_path.txt\n",
      "[2024-08-12 23:42:12,466] p31041 {1795854198.py:8} INFO - metrics_path_file=../../metadata/metrics_path.txt, METRICS_DIR=fmbench-bedrock-anthropic-models-SageMaker-ExecutionRole-20240111T084686/data/metrics/yyyy=2024/mm=08/dd=12/hh=22/mm=16\n"
     ]
    }
   ],
   "source": [
    "debug = False\n",
    "if debug is True:\n",
    "    metrics_path_file: str = os.path.join(\"..\", \"..\", METADATA_DIR, METRICS_PATH_FNAME)\n",
    "else:\n",
    "    metrics_path_file: str = os.path.join(METADATA_DIR, METRICS_PATH_FNAME)\n",
    "logger.info(f\"cwd={os.getcwd()}, METADATA_DIR={METADATA_DIR}, METRICS_PATH_FNAME={METRICS_PATH_FNAME}, metrics_path_file={metrics_path_file}\")\n",
    "METRICS_DIR: str = Path(metrics_path_file).read_text().strip()\n",
    "logger.info(f\"metrics_path_file={metrics_path_file}, METRICS_DIR={METRICS_DIR}\")"
   ]
  },
  {
   "cell_type": "code",
   "execution_count": 88,
   "metadata": {
    "tags": []
   },
   "outputs": [
    {
     "name": "stderr",
     "output_type": "stream",
     "text": [
      "[2024-08-12 23:42:12,475] p31041 {2824091931.py:2} INFO - File path containing the metrics per inference folder --> fmbench-bedrock-anthropic-models-SageMaker-ExecutionRole-20240111T084686/data/metrics/yyyy=2024/mm=08/dd=12/hh=22/mm=16/per_inference_request_results.csv\n",
      "[2024-08-12 23:42:12,932] p31041 {2824091931.py:9} INFO - fmbench-bedrock-anthropic-models-SageMaker-ExecutionRole-20240111T084686/data/metrics/yyyy=2024/mm=08/dd=12/hh=22/mm=16/per_inference_request_results.csv read into dataframe of shape (428, 24), cols=Index(['endpoint_name', 'prompt', 'question', 'ground_truth', 'payload_file',\n",
      "       'temperature', 'max_tokens', 'top_p', 'completion', 'prompt_tokens',\n",
      "       'completion_tokens', 'latency', 'time_to_first_token',\n",
      "       'time_per_output_token', 'time_to_last_token', 'uuid',\n",
      "       'experiment_name', 'concurrency', 'instance_type', 'instance_count',\n",
      "       'EndpointName', 'ModelName', 'Image', 'S3Uri'],\n",
      "      dtype='object')\n",
      "[2024-08-12 23:42:12,933] p31041 {2824091931.py:11} INFO - fmbench-bedrock-anthropic-models-SageMaker-ExecutionRole-20240111T084686/data/metrics/yyyy=2024/mm=08/dd=12/hh=22/mm=16/per_inference_request_results.csv contains results for the following endpoints=['anthropic.claude-3-sonnet-20240229-v1:0'\n",
      " 'anthropic.claude-3-haiku-20240307-v1:0']\n",
      "[2024-08-12 23:42:12,934] p31041 {2824091931.py:12} INFO -                              endpoint_name  \\\n",
      "0  anthropic.claude-3-sonnet-20240229-v1:0   \n",
      "1  anthropic.claude-3-sonnet-20240229-v1:0   \n",
      "2  anthropic.claude-3-sonnet-20240229-v1:0   \n",
      "3  anthropic.claude-3-sonnet-20240229-v1:0   \n",
      "4  anthropic.claude-3-sonnet-20240229-v1:0   \n",
      "\n",
      "                                              prompt  \\\n",
      "0  <s>[INST] <<SYS>>\\nYou are an assistant for qu...   \n",
      "1  <s>[INST] <<SYS>>\\nYou are an assistant for qu...   \n",
      "2  <s>[INST] <<SYS>>\\nYou are an assistant for qu...   \n",
      "3  <s>[INST] <<SYS>>\\nYou are an assistant for qu...   \n",
      "4  <s>[INST] <<SYS>>\\nYou are an assistant for qu...   \n",
      "\n",
      "                                            question  \\\n",
      "0  What family are the genus' Sinofranchetia and ...   \n",
      "1  What family are the genus' Sinofranchetia and ...   \n",
      "2  What family are the genus' Sinofranchetia and ...   \n",
      "3  What family are the genus' Sinofranchetia and ...   \n",
      "4  What family are the genus' Sinofranchetia and ...   \n",
      "\n",
      "                                        ground_truth            payload_file  \\\n",
      "0  a genus of flowering plant in the Lardizabalac...  payload_en_1-500.jsonl   \n",
      "1  a genus of flowering plant in the Lardizabalac...  payload_en_1-500.jsonl   \n",
      "2  a genus of flowering plant in the Lardizabalac...  payload_en_1-500.jsonl   \n",
      "3  a genus of flowering plant in the Lardizabalac...  payload_en_1-500.jsonl   \n",
      "4  a genus of flowering plant in the Lardizabalac...  payload_en_1-500.jsonl   \n",
      "\n",
      "   temperature  max_tokens  top_p  \\\n",
      "0          0.1         100   0.92   \n",
      "1          0.1         100   0.92   \n",
      "2          0.1         100   0.92   \n",
      "3          0.1         100   0.92   \n",
      "4          0.1         100   0.92   \n",
      "\n",
      "                                          completion  prompt_tokens  ...  \\\n",
      "0  Sinofranchetia and Stauntonia are genera from ...            299  ...   \n",
      "1  Sinofranchetia and Stauntonia are genera from ...            299  ...   \n",
      "2  Sinofranchetia and Stauntonia are genera from ...            299  ...   \n",
      "3  Sinofranchetia and Stauntonia are genera from ...            299  ...   \n",
      "4  Sinofranchetia and Stauntonia are genera from ...            299  ...   \n",
      "\n",
      "   time_to_last_token                              uuid  \\\n",
      "0                 NaN  9f266186e93048e38995fcb119c8293b   \n",
      "1                 NaN  581dec36259d404d85bc0cfc61f8b5d9   \n",
      "2                 NaN  a7397f98bbd547a78dbb3c6dc5a724cd   \n",
      "3                 NaN  0acc42f9de1a45b0b066f1bcd5643de6   \n",
      "4                 NaN  538f32ecdd244a0bb1b6b0d2e30f90bc   \n",
      "\n",
      "                           experiment_name  concurrency  \\\n",
      "0  anthropic.claude-3-sonnet-20240229-v1:0            1   \n",
      "1  anthropic.claude-3-sonnet-20240229-v1:0            1   \n",
      "2  anthropic.claude-3-sonnet-20240229-v1:0            1   \n",
      "3  anthropic.claude-3-sonnet-20240229-v1:0            1   \n",
      "4  anthropic.claude-3-sonnet-20240229-v1:0            1   \n",
      "\n",
      "                             instance_type instance_count EndpointName  \\\n",
      "0  anthropic.claude-3-sonnet-20240229-v1:0            NaN          NaN   \n",
      "1  anthropic.claude-3-sonnet-20240229-v1:0            NaN          NaN   \n",
      "2  anthropic.claude-3-sonnet-20240229-v1:0            NaN          NaN   \n",
      "3  anthropic.claude-3-sonnet-20240229-v1:0            NaN          NaN   \n",
      "4  anthropic.claude-3-sonnet-20240229-v1:0            NaN          NaN   \n",
      "\n",
      "   ModelName Image  S3Uri  \n",
      "0        NaN   NaN    NaN  \n",
      "1        NaN   NaN    NaN  \n",
      "2        NaN   NaN    NaN  \n",
      "3        NaN   NaN    NaN  \n",
      "4        NaN   NaN    NaN  \n",
      "\n",
      "[5 rows x 24 columns]\n"
     ]
    }
   ],
   "source": [
    "file_path = os.path.join(METRICS_DIR, config[\"report\"][\"per_inference_request_file\"])\n",
    "logger.info(f\"File path containing the metrics per inference folder --> {file_path}\")\n",
    "\n",
    "# Read the file from S3\n",
    "try:\n",
    "    file_content = get_s3_object(config['aws']['bucket'], file_path)\n",
    "    # Use pandas to read the CSV content\n",
    "    df_per_inference = pd.read_csv(io.StringIO(file_content))\n",
    "    logger.info(f\"{file_path} read into dataframe of shape {df_per_inference.shape}, \"\n",
    "                f\"cols={df_per_inference.columns}\")\n",
    "    logger.info(f\"{file_path} contains results for the following endpoints={df_per_inference.endpoint_name.unique()}\")\n",
    "    logger.info(df_per_inference.head())\n",
    "except Exception as e:\n",
    "    logger.error(f\"Error reading from S3: {e}\")\n",
    "\n"
   ]
  },
  {
   "cell_type": "markdown",
   "metadata": {},
   "source": [
    "### Relationship between prompt token length and inference latency for different instances and concurrency levels"
   ]
  },
  {
   "cell_type": "code",
   "execution_count": 89,
   "metadata": {
    "tags": []
   },
   "outputs": [
    {
     "name": "stderr",
     "output_type": "stream",
     "text": [
      "[2024-08-12 23:42:12,959] p31041 {4123774888.py:3} INFO - df_per_inference.latency.quantile ->\n",
      "0.25    0.977187\n",
      "0.50    1.568596\n",
      "0.75    3.089818\n",
      "0.95    5.273995\n",
      "0.99    7.118302\n",
      "Name: latency, dtype: float64\n",
      "[2024-08-12 23:42:12,961] p31041 {4123774888.py:33} INFO - there are 2 instance types (['anthropic.claude-3-sonnet-20240229-v1:0'\n",
      " 'anthropic.claude-3-haiku-20240307-v1:0']), using row as instance\n",
      "[2024-08-12 23:42:13,312] p31041 {4123774888.py:68} INFO - yticks is configured, yticks=[0, 5, 10, 15]\n"
     ]
    },
    {
     "name": "stderr",
     "output_type": "stream",
     "text": [
      "[2024-08-12 23:42:13,634] p31041 {4123774888.py:81} INFO - Plot saved to s3://sagemaker-fmbench-write-us-east-1-015469603702/fmbench-bedrock-anthropic-models-SageMaker-ExecutionRole-20240111T084686/data/metrics/yyyy=2024/mm=08/dd=12/hh=22/mm=16/tokens_vs_latency.png\n"
     ]
    },
    {
     "data": {
      "text/plain": [
       "<seaborn.axisgrid.FacetGrid at 0x7f88f7022c10>"
      ]
     },
     "execution_count": 89,
     "metadata": {},
     "output_type": "execute_result"
    },
    {
     "data": {
      "image/png": "[encoded data removed]",
      "text/plain": [
       "<Figure size 437.5x700 with 2 Axes>"
      ]
     },
     "metadata": {},
     "output_type": "display_data"
    }
   ],
   "source": [
    "# Rename a column in the dataframe for clarity of the instance parameter of the model used\n",
    "df_per_inference = df_per_inference.rename(columns={\"instance_type\": \"instance\"})\n",
    "logger.info(f\"df_per_inference.latency.quantile ->\\n{df_per_inference.latency.quantile([0.25, 0.5, 0.75, 0.95, 0.99])}\")\n",
    "if df_per_inference.latency.quantile(0.5) < 1:\n",
    "    print(\"multiplying by 1000\")\n",
    "    latency_units = \"milliseconds\"\n",
    "    multiplier = 1000\n",
    "    step_size = 500\n",
    "    df_per_inference.latency = df_per_inference.latency*1000\n",
    "else:\n",
    "    multiplier = 10\n",
    "    step_size = 5\n",
    "    latency_units = \"seconds\"\n",
    "\n",
    "## Initializing yticks and title for the chart\n",
    "yticks: Optional[List] = None\n",
    "title: Optional[str] = None\n",
    "\n",
    "if config['report'].get('latency_vs_token_len_chart'):\n",
    "    yticks: List = config['report']['latency_vs_token_len_chart'].get('y_ticks')\n",
    "    title: str = config['report']['latency_vs_token_len_chart'].get('title')\n",
    "\n",
    "if title is None:\n",
    "    title = \"Effect of token length on inference latency\"\n",
    "\n",
    "unique_instance_types = df_per_inference.instance.unique()\n",
    "if len(unique_instance_types) == 1:\n",
    "    logger.info(f\"there is only {len(unique_instance_types)} instance type ({unique_instance_types}), \"\n",
    "                f\"not using row as instance\")\n",
    "    # This created a FacetGrid for plotting multiple scatter plots based on 'instance' and 'concurrency' categories\n",
    "    g = sns.FacetGrid(df_per_inference, col=\"concurrency\", hue=\"instance\", height=3.5, aspect=1.25, col_wrap=3)\n",
    "else:\n",
    "    logger.info(f\"there are {len(unique_instance_types)} instance types ({unique_instance_types}), \"\n",
    "                f\"using row as instance\")\n",
    "    g = sns.FacetGrid(df_per_inference, col=\"concurrency\", row=\"instance\", hue=\"instance\", height=3.5, aspect=1.25)\n",
    "\n",
    "\n",
    "## Subtitle of the facetgrid\n",
    "g.fig.suptitle(title)\n",
    "# # This will map a scatterplot to the FacetGrid for each subset of the data\n",
    "sns_plot = g.map(sns.scatterplot, \"prompt_tokens\", \"latency\")\n",
    "\n",
    "# flatten axes into a 1-d array\n",
    "axes = g.axes.flatten()\n",
    "\n",
    "# iterate through the axes\n",
    "for i, ax in enumerate(axes):\n",
    "    if latency_units == \"milliseconds\":\n",
    "        m = 1000\n",
    "    else:\n",
    "        m = 1\n",
    "    ax.axhline(config['report']['latency_budget']*m, ls='--', c='red')\n",
    "\n",
    "# Set the y-axis label for all plots\n",
    "g = g.set_ylabels(f\"Latency ({latency_units})\")\n",
    "    \n",
    "if yticks is None:\n",
    "    # Y-axis ticks based on the maximum latency value and setting them in that manner\n",
    "    yticks: List = list(range(0, (int(df_per_inference.latency.max())//multiplier+2)*multiplier, step_size))\n",
    "\n",
    "if yticks is None:\n",
    "    # Y-axis ticks based on the maximum latency value and setting them in that manner\n",
    "    yticks: List = list(range(0, (int(df_per_inference.latency.max())//multiplier+1)*multiplier, step_size))\n",
    "    logger.info(f\"yticks was not configured, setting it to yticks[:10]={yticks[:10]}, \"\n",
    "                f\"based on latency max of {df_per_inference.latency.max()}s, \"\n",
    "                f\"multiplier={multiplier}, step_size={step_size}\")\n",
    "else:\n",
    "    logger.info(f\"yticks is configured, yticks={yticks}\")\n",
    "g = g.set(yticks=yticks)\n",
    "\n",
    "# Set the x-axis label for all plots as the prompt length or tokens\n",
    "g = g.set_xlabels(\"Prompt length (tokens)\")\n",
    "\n",
    "# Create a bytes buffer to save the plot\n",
    "buffer = io.BytesIO()\n",
    "sns_plot.savefig(buffer, format='png')\n",
    "buffer.seek(0)  # Rewind buffer to the beginning\n",
    "\n",
    "# Write the plot to S3\n",
    "write_to_s3(buffer.getvalue(), BUCKET_NAME, \"\", METRICS_DIR, TOKENS_VS_LATENCY_PLOT_FNAME)\n",
    "logger.info(f\"Plot saved to s3://{BUCKET_NAME}/{METRICS_DIR}/{TOKENS_VS_LATENCY_PLOT_FNAME}\")\n",
    "\n",
    "# Optionally, display the plot\n",
    "sns_plot"
   ]
  },
  {
   "cell_type": "code",
   "execution_count": 90,
   "metadata": {
    "tags": []
   },
   "outputs": [
    {
     "data": {
      "text/plain": [
       "count    428.000000\n",
       "mean       2.217725\n",
       "std        1.577286\n",
       "min        0.374843\n",
       "25%        0.977187\n",
       "50%        1.568596\n",
       "75%        3.089818\n",
       "max        9.097352\n",
       "Name: latency, dtype: float64"
      ]
     },
     "execution_count": 90,
     "metadata": {},
     "output_type": "execute_result"
    }
   ],
   "source": [
    "df_per_inference.latency.describe()"
   ]
  },
  {
   "cell_type": "markdown",
   "metadata": {},
   "source": [
    "#### Define the all metrics file path and read it to generate visualizations"
   ]
  },
  {
   "cell_type": "code",
   "execution_count": 91,
   "metadata": {
    "tags": []
   },
   "outputs": [
    {
     "name": "stderr",
     "output_type": "stream",
     "text": [
      "[2024-08-12 23:42:13,907] p31041 {941246262.py:4} INFO - going to read all metrics file from fmbench-bedrock-anthropic-models-SageMaker-ExecutionRole-20240111T084686/data/metrics/yyyy=2024/mm=08/dd=12/hh=22/mm=16/all_metrics.csv\n",
      "[2024-08-12 23:42:14,046] p31041 {941246262.py:9} INFO - fmbench-bedrock-anthropic-models-SageMaker-ExecutionRole-20240111T084686/data/metrics/yyyy=2024/mm=08/dd=12/hh=22/mm=16/all_metrics.csv read into dataframe of shape (428, 28)\n"
     ]
    },
    {
     "data": {
      "text/html": [
       "<div>\n",
       "<style scoped>\n",
       "    .dataframe tbody tr th:only-of-type {\n",
       "        vertical-align: middle;\n",
       "    }\n",
       "\n",
       "    .dataframe tbody tr th {\n",
       "        vertical-align: top;\n",
       "    }\n",
       "\n",
       "    .dataframe thead th {\n",
       "        text-align: right;\n",
       "    }\n",
       "</style>\n",
       "<table border=\"1\" class=\"dataframe\">\n",
       "  <thead>\n",
       "    <tr style=\"text-align: right;\">\n",
       "      <th></th>\n",
       "      <th>experiment_name</th>\n",
       "      <th>concurrency</th>\n",
       "      <th>payload_file</th>\n",
       "      <th>errors</th>\n",
       "      <th>successes</th>\n",
       "      <th>error_rate</th>\n",
       "      <th>all_prompts_token_count</th>\n",
       "      <th>prompt_token_count_mean</th>\n",
       "      <th>prompt_token_throughput</th>\n",
       "      <th>all_completions_token_count</th>\n",
       "      <th>...</th>\n",
       "      <th>TTFT_p50</th>\n",
       "      <th>TTFT_p99</th>\n",
       "      <th>TPOT_p50</th>\n",
       "      <th>TPOT_p99</th>\n",
       "      <th>instance_type</th>\n",
       "      <th>instance_count</th>\n",
       "      <th>EndpointName</th>\n",
       "      <th>ModelName</th>\n",
       "      <th>Image</th>\n",
       "      <th>S3Uri</th>\n",
       "    </tr>\n",
       "  </thead>\n",
       "  <tbody>\n",
       "    <tr>\n",
       "      <th>0</th>\n",
       "      <td>anthropic.claude-3-sonnet-20240229-v1:0</td>\n",
       "      <td>1</td>\n",
       "      <td>payload_en_1-500.jsonl</td>\n",
       "      <td>[]</td>\n",
       "      <td>1</td>\n",
       "      <td>0.0</td>\n",
       "      <td>299</td>\n",
       "      <td>299.0</td>\n",
       "      <td>189.03</td>\n",
       "      <td>31</td>\n",
       "      <td>...</td>\n",
       "      <td>NaN</td>\n",
       "      <td>NaN</td>\n",
       "      <td>NaN</td>\n",
       "      <td>NaN</td>\n",
       "      <td>anthropic.claude-3-sonnet-20240229-v1:0</td>\n",
       "      <td>1.0</td>\n",
       "      <td>NaN</td>\n",
       "      <td>NaN</td>\n",
       "      <td>NaN</td>\n",
       "      <td>NaN</td>\n",
       "    </tr>\n",
       "    <tr>\n",
       "      <th>1</th>\n",
       "      <td>anthropic.claude-3-sonnet-20240229-v1:0</td>\n",
       "      <td>1</td>\n",
       "      <td>payload_en_1-500.jsonl</td>\n",
       "      <td>[]</td>\n",
       "      <td>1</td>\n",
       "      <td>0.0</td>\n",
       "      <td>299</td>\n",
       "      <td>299.0</td>\n",
       "      <td>297.58</td>\n",
       "      <td>31</td>\n",
       "      <td>...</td>\n",
       "      <td>NaN</td>\n",
       "      <td>NaN</td>\n",
       "      <td>NaN</td>\n",
       "      <td>NaN</td>\n",
       "      <td>anthropic.claude-3-sonnet-20240229-v1:0</td>\n",
       "      <td>1.0</td>\n",
       "      <td>NaN</td>\n",
       "      <td>NaN</td>\n",
       "      <td>NaN</td>\n",
       "      <td>NaN</td>\n",
       "    </tr>\n",
       "    <tr>\n",
       "      <th>2</th>\n",
       "      <td>anthropic.claude-3-sonnet-20240229-v1:0</td>\n",
       "      <td>1</td>\n",
       "      <td>payload_en_1-500.jsonl</td>\n",
       "      <td>[]</td>\n",
       "      <td>1</td>\n",
       "      <td>0.0</td>\n",
       "      <td>299</td>\n",
       "      <td>299.0</td>\n",
       "      <td>138.58</td>\n",
       "      <td>31</td>\n",
       "      <td>...</td>\n",
       "      <td>NaN</td>\n",
       "      <td>NaN</td>\n",
       "      <td>NaN</td>\n",
       "      <td>NaN</td>\n",
       "      <td>anthropic.claude-3-sonnet-20240229-v1:0</td>\n",
       "      <td>1.0</td>\n",
       "      <td>NaN</td>\n",
       "      <td>NaN</td>\n",
       "      <td>NaN</td>\n",
       "      <td>NaN</td>\n",
       "    </tr>\n",
       "    <tr>\n",
       "      <th>3</th>\n",
       "      <td>anthropic.claude-3-sonnet-20240229-v1:0</td>\n",
       "      <td>1</td>\n",
       "      <td>payload_en_1-500.jsonl</td>\n",
       "      <td>[]</td>\n",
       "      <td>1</td>\n",
       "      <td>0.0</td>\n",
       "      <td>299</td>\n",
       "      <td>299.0</td>\n",
       "      <td>223.40</td>\n",
       "      <td>31</td>\n",
       "      <td>...</td>\n",
       "      <td>NaN</td>\n",
       "      <td>NaN</td>\n",
       "      <td>NaN</td>\n",
       "      <td>NaN</td>\n",
       "      <td>anthropic.claude-3-sonnet-20240229-v1:0</td>\n",
       "      <td>1.0</td>\n",
       "      <td>NaN</td>\n",
       "      <td>NaN</td>\n",
       "      <td>NaN</td>\n",
       "      <td>NaN</td>\n",
       "    </tr>\n",
       "    <tr>\n",
       "      <th>4</th>\n",
       "      <td>anthropic.claude-3-sonnet-20240229-v1:0</td>\n",
       "      <td>1</td>\n",
       "      <td>payload_en_1-500.jsonl</td>\n",
       "      <td>[]</td>\n",
       "      <td>1</td>\n",
       "      <td>0.0</td>\n",
       "      <td>299</td>\n",
       "      <td>299.0</td>\n",
       "      <td>263.46</td>\n",
       "      <td>31</td>\n",
       "      <td>...</td>\n",
       "      <td>NaN</td>\n",
       "      <td>NaN</td>\n",
       "      <td>NaN</td>\n",
       "      <td>NaN</td>\n",
       "      <td>anthropic.claude-3-sonnet-20240229-v1:0</td>\n",
       "      <td>1.0</td>\n",
       "      <td>NaN</td>\n",
       "      <td>NaN</td>\n",
       "      <td>NaN</td>\n",
       "      <td>NaN</td>\n",
       "    </tr>\n",
       "  </tbody>\n",
       "</table>\n",
       "<p>5 rows × 28 columns</p>\n",
       "</div>"
      ],
      "text/plain": [
       "                           experiment_name  concurrency  \\\n",
       "0  anthropic.claude-3-sonnet-20240229-v1:0            1   \n",
       "1  anthropic.claude-3-sonnet-20240229-v1:0            1   \n",
       "2  anthropic.claude-3-sonnet-20240229-v1:0            1   \n",
       "3  anthropic.claude-3-sonnet-20240229-v1:0            1   \n",
       "4  anthropic.claude-3-sonnet-20240229-v1:0            1   \n",
       "\n",
       "             payload_file errors  successes  error_rate  \\\n",
       "0  payload_en_1-500.jsonl     []          1         0.0   \n",
       "1  payload_en_1-500.jsonl     []          1         0.0   \n",
       "2  payload_en_1-500.jsonl     []          1         0.0   \n",
       "3  payload_en_1-500.jsonl     []          1         0.0   \n",
       "4  payload_en_1-500.jsonl     []          1         0.0   \n",
       "\n",
       "   all_prompts_token_count  prompt_token_count_mean  prompt_token_throughput  \\\n",
       "0                      299                    299.0                   189.03   \n",
       "1                      299                    299.0                   297.58   \n",
       "2                      299                    299.0                   138.58   \n",
       "3                      299                    299.0                   223.40   \n",
       "4                      299                    299.0                   263.46   \n",
       "\n",
       "   all_completions_token_count  ...  TTFT_p50  TTFT_p99  TPOT_p50  TPOT_p99  \\\n",
       "0                           31  ...       NaN       NaN       NaN       NaN   \n",
       "1                           31  ...       NaN       NaN       NaN       NaN   \n",
       "2                           31  ...       NaN       NaN       NaN       NaN   \n",
       "3                           31  ...       NaN       NaN       NaN       NaN   \n",
       "4                           31  ...       NaN       NaN       NaN       NaN   \n",
       "\n",
       "                             instance_type  instance_count  EndpointName  \\\n",
       "0  anthropic.claude-3-sonnet-20240229-v1:0             1.0           NaN   \n",
       "1  anthropic.claude-3-sonnet-20240229-v1:0             1.0           NaN   \n",
       "2  anthropic.claude-3-sonnet-20240229-v1:0             1.0           NaN   \n",
       "3  anthropic.claude-3-sonnet-20240229-v1:0             1.0           NaN   \n",
       "4  anthropic.claude-3-sonnet-20240229-v1:0             1.0           NaN   \n",
       "\n",
       "   ModelName  Image  S3Uri  \n",
       "0        NaN    NaN    NaN  \n",
       "1        NaN    NaN    NaN  \n",
       "2        NaN    NaN    NaN  \n",
       "3        NaN    NaN    NaN  \n",
       "4        NaN    NaN    NaN  \n",
       "\n",
       "[5 rows x 28 columns]"
      ]
     },
     "execution_count": 91,
     "metadata": {},
     "output_type": "execute_result"
    }
   ],
   "source": [
    "all_metrics_fpath = os.path.join(METRICS_DIR, config[\"report\"][\"all_metrics_file\"])\n",
    "# Read the file from S3\n",
    "try:\n",
    "    logger.info(f\"going to read all metrics file from {all_metrics_fpath}\")\n",
    "    file_content = get_s3_object(BUCKET_NAME, all_metrics_fpath)\n",
    "    \n",
    "    # Use pandas to read the CSV content\n",
    "    df_all_metrics = pd.read_csv(io.StringIO(file_content))\n",
    "    logger.info(f\"{all_metrics_fpath} read into dataframe of shape {df_all_metrics.shape}\")\n",
    "    df_all_metrics.head()\n",
    "except Exception as e:\n",
    "    logger.error(f\"Error reading from S3: {e}\")\n",
    "\n",
    "# if the instance count is not set then set it to 1, this happens\n",
    "# in case of BYOE or Bedrock, so we want to count such a case as 1 compute unit\n",
    "\n",
    "df_all_metrics['instance_count'] = df_all_metrics['instance_count'].fillna(1)\n",
    "df_all_metrics.head()"
   ]
  },
  {
   "cell_type": "code",
   "execution_count": 92,
   "metadata": {
    "tags": []
   },
   "outputs": [
    {
     "data": {
      "text/plain": [
       "Index(['experiment_name', 'concurrency', 'payload_file', 'errors', 'successes',\n",
       "       'error_rate', 'all_prompts_token_count', 'prompt_token_count_mean',\n",
       "       'prompt_token_throughput', 'all_completions_token_count',\n",
       "       'completion_token_count_mean', 'completion_token_throughput',\n",
       "       'transactions', 'transactions_per_second', 'transactions_per_minute',\n",
       "       'latency_p50', 'latency_p95', 'latency_p99', 'TTFT_p50', 'TTFT_p99',\n",
       "       'TPOT_p50', 'TPOT_p99', 'instance_type', 'instance_count',\n",
       "       'EndpointName', 'ModelName', 'Image', 'S3Uri'],\n",
       "      dtype='object')"
      ]
     },
     "execution_count": 92,
     "metadata": {},
     "output_type": "execute_result"
    }
   ],
   "source": [
    "## displaying all of the available columns in the all metrics dataframe\n",
    "df_all_metrics.columns"
   ]
  },
  {
   "cell_type": "code",
   "execution_count": 93,
   "metadata": {
    "tags": []
   },
   "outputs": [
    {
     "data": {
      "text/plain": [
       "0      anthropic.claude-3-sonnet-20240229-v1:0\n",
       "1      anthropic.claude-3-sonnet-20240229-v1:0\n",
       "2      anthropic.claude-3-sonnet-20240229-v1:0\n",
       "3      anthropic.claude-3-sonnet-20240229-v1:0\n",
       "4      anthropic.claude-3-sonnet-20240229-v1:0\n",
       "                        ...                   \n",
       "423     anthropic.claude-3-haiku-20240307-v1:0\n",
       "424     anthropic.claude-3-haiku-20240307-v1:0\n",
       "425     anthropic.claude-3-haiku-20240307-v1:0\n",
       "426     anthropic.claude-3-haiku-20240307-v1:0\n",
       "427     anthropic.claude-3-haiku-20240307-v1:0\n",
       "Name: instance_type, Length: 428, dtype: object"
      ]
     },
     "execution_count": 93,
     "metadata": {},
     "output_type": "execute_result"
    }
   ],
   "source": [
    "df_all_metrics.instance_type"
   ]
  },
  {
   "cell_type": "markdown",
   "metadata": {},
   "source": [
    "#### Display the number of experiment names within the metrics dataframe, instance types and models"
   ]
  },
  {
   "cell_type": "code",
   "execution_count": 94,
   "metadata": {
    "tags": []
   },
   "outputs": [
    {
     "name": "stderr",
     "output_type": "stream",
     "text": [
      "[2024-08-12 23:42:14,088] p31041 {1268470327.py:5} INFO - contains information about 2 experiments, 2 instance types\n"
     ]
    }
   ],
   "source": [
    "experiments = df_all_metrics.experiment_name.unique()\n",
    "instance_types = df_all_metrics.instance_type.unique()\n",
    "# model_names = df_all_metrics.ModelName.unique()\n",
    "# logger.info(f\"contains information about {len(experiments)} experiments, {len(instance_types)} instance types, {len(model_names)} models\")\n",
    "logger.info(f\"contains information about {len(experiments)} experiments, {len(instance_types)} instance types\")"
   ]
  },
  {
   "cell_type": "code",
   "execution_count": 95,
   "metadata": {
    "tags": []
   },
   "outputs": [],
   "source": [
    "## extract some of the columns\n",
    "relevant_cols = ['experiment_name',\n",
    "                   'payload_file',\n",
    "                     'instance_type',\n",
    "                      'instance_count', \n",
    "                       'concurrency',\n",
    "                         'error_rate',\n",
    "                           'prompt_token_count_mean',\n",
    "                             'prompt_token_throughput',\n",
    "                               'completion_token_count_mean',\n",
    "                                 'completion_token_throughput',\n",
    "                                   #'latency_mean',\n",
    "                                      'latency_p50',\n",
    "                                        'latency_p95',\n",
    "                                         'latency_p99',\n",
    "                                         #'TTFT_mean',\n",
    "                                         'TTFT_p50',\n",
    "                                         #'TTFT_p95',\n",
    "                                         'TTFT_p99',\n",
    "                                          #'TPOT_mean',\n",
    "                                           'TPOT_p50',\n",
    "                                           # 'TPOT_p95',\n",
    "                                             'TPOT_p99',\n",
    "                                          # 'TTLT_mean',\n",
    "                                          #  'TTLT_p50',\n",
    "                                          #   'TTLT_p95',\n",
    "                                          #    'TTLT_p99',\n",
    "                                              'transactions_per_minute']\n",
    "\n",
    "## initialize a group by columns to use further in generating portions of the dataframe and filtering it\n",
    "group_by_cols = ['experiment_name',\n",
    "                   'payload_file',\n",
    "                     'instance_type',\n",
    "                      'instance_count', \n",
    "                        'concurrency']\n"
   ]
  },
  {
   "cell_type": "markdown",
   "metadata": {},
   "source": [
    "#### Create an 'experiment_counts.csv' to store metrics on experiment name, the payload file, concurrency and the total counts associated to that given experiment to visualize the distribution"
   ]
  },
  {
   "cell_type": "code",
   "execution_count": 96,
   "metadata": {
    "tags": []
   },
   "outputs": [
    {
     "data": {
      "text/plain": [
       "array(['anthropic.claude-3-sonnet-20240229-v1:0',\n",
       "       'anthropic.claude-3-haiku-20240307-v1:0'], dtype=object)"
      ]
     },
     "execution_count": 96,
     "metadata": {},
     "output_type": "execute_result"
    }
   ],
   "source": [
    "df_all_metrics.instance_type.unique()"
   ]
  },
  {
   "cell_type": "code",
   "execution_count": 97,
   "metadata": {
    "tags": []
   },
   "outputs": [
    {
     "name": "stderr",
     "output_type": "stream",
     "text": [
      "[2024-08-12 23:42:14,242] p31041 {1658785053.py:14} INFO - Counts DataFrame saved to s3://sagemaker-fmbench-write-us-east-1-015469603702/fmbench-bedrock-anthropic-models-SageMaker-ExecutionRole-20240111T084686/data/metrics/yyyy=2024/mm=08/dd=12/hh=22/mm=16/experiment_counts.csv\n"
     ]
    },
    {
     "data": {
      "text/html": [
       "<div>\n",
       "<style scoped>\n",
       "    .dataframe tbody tr th:only-of-type {\n",
       "        vertical-align: middle;\n",
       "    }\n",
       "\n",
       "    .dataframe tbody tr th {\n",
       "        vertical-align: top;\n",
       "    }\n",
       "\n",
       "    .dataframe thead th {\n",
       "        text-align: right;\n",
       "    }\n",
       "</style>\n",
       "<table border=\"1\" class=\"dataframe\">\n",
       "  <thead>\n",
       "    <tr style=\"text-align: right;\">\n",
       "      <th></th>\n",
       "      <th>experiment_name</th>\n",
       "      <th>payload_file</th>\n",
       "      <th>instance_type</th>\n",
       "      <th>instance_count</th>\n",
       "      <th>concurrency</th>\n",
       "      <th>count</th>\n",
       "    </tr>\n",
       "  </thead>\n",
       "  <tbody>\n",
       "    <tr>\n",
       "      <th>0</th>\n",
       "      <td>anthropic.claude-3-sonnet-20240229-v1:0</td>\n",
       "      <td>payload_en_3000-4000.jsonl</td>\n",
       "      <td>anthropic.claude-3-sonnet-20240229-v1:0</td>\n",
       "      <td>1.0</td>\n",
       "      <td>1</td>\n",
       "      <td>105</td>\n",
       "    </tr>\n",
       "    <tr>\n",
       "      <th>1</th>\n",
       "      <td>anthropic.claude-3-haiku-20240307-v1:0</td>\n",
       "      <td>payload_en_3000-4000.jsonl</td>\n",
       "      <td>anthropic.claude-3-haiku-20240307-v1:0</td>\n",
       "      <td>1.0</td>\n",
       "      <td>1</td>\n",
       "      <td>105</td>\n",
       "    </tr>\n",
       "    <tr>\n",
       "      <th>2</th>\n",
       "      <td>anthropic.claude-3-sonnet-20240229-v1:0</td>\n",
       "      <td>payload_en_2000-3000.jsonl</td>\n",
       "      <td>anthropic.claude-3-sonnet-20240229-v1:0</td>\n",
       "      <td>1.0</td>\n",
       "      <td>1</td>\n",
       "      <td>67</td>\n",
       "    </tr>\n",
       "    <tr>\n",
       "      <th>3</th>\n",
       "      <td>anthropic.claude-3-haiku-20240307-v1:0</td>\n",
       "      <td>payload_en_2000-3000.jsonl</td>\n",
       "      <td>anthropic.claude-3-haiku-20240307-v1:0</td>\n",
       "      <td>1.0</td>\n",
       "      <td>1</td>\n",
       "      <td>67</td>\n",
       "    </tr>\n",
       "    <tr>\n",
       "      <th>4</th>\n",
       "      <td>anthropic.claude-3-sonnet-20240229-v1:0</td>\n",
       "      <td>payload_en_1000-2000.jsonl</td>\n",
       "      <td>anthropic.claude-3-sonnet-20240229-v1:0</td>\n",
       "      <td>1.0</td>\n",
       "      <td>1</td>\n",
       "      <td>32</td>\n",
       "    </tr>\n",
       "    <tr>\n",
       "      <th>5</th>\n",
       "      <td>anthropic.claude-3-haiku-20240307-v1:0</td>\n",
       "      <td>payload_en_1000-2000.jsonl</td>\n",
       "      <td>anthropic.claude-3-haiku-20240307-v1:0</td>\n",
       "      <td>1.0</td>\n",
       "      <td>1</td>\n",
       "      <td>32</td>\n",
       "    </tr>\n",
       "    <tr>\n",
       "      <th>6</th>\n",
       "      <td>anthropic.claude-3-haiku-20240307-v1:0</td>\n",
       "      <td>payload_en_1-500.jsonl</td>\n",
       "      <td>anthropic.claude-3-haiku-20240307-v1:0</td>\n",
       "      <td>1.0</td>\n",
       "      <td>1</td>\n",
       "      <td>5</td>\n",
       "    </tr>\n",
       "    <tr>\n",
       "      <th>7</th>\n",
       "      <td>anthropic.claude-3-haiku-20240307-v1:0</td>\n",
       "      <td>payload_en_500-1000.jsonl</td>\n",
       "      <td>anthropic.claude-3-haiku-20240307-v1:0</td>\n",
       "      <td>1.0</td>\n",
       "      <td>1</td>\n",
       "      <td>5</td>\n",
       "    </tr>\n",
       "    <tr>\n",
       "      <th>8</th>\n",
       "      <td>anthropic.claude-3-sonnet-20240229-v1:0</td>\n",
       "      <td>payload_en_1-500.jsonl</td>\n",
       "      <td>anthropic.claude-3-sonnet-20240229-v1:0</td>\n",
       "      <td>1.0</td>\n",
       "      <td>1</td>\n",
       "      <td>5</td>\n",
       "    </tr>\n",
       "    <tr>\n",
       "      <th>9</th>\n",
       "      <td>anthropic.claude-3-sonnet-20240229-v1:0</td>\n",
       "      <td>payload_en_500-1000.jsonl</td>\n",
       "      <td>anthropic.claude-3-sonnet-20240229-v1:0</td>\n",
       "      <td>1.0</td>\n",
       "      <td>1</td>\n",
       "      <td>5</td>\n",
       "    </tr>\n",
       "  </tbody>\n",
       "</table>\n",
       "</div>"
      ],
      "text/plain": [
       "                           experiment_name                payload_file  \\\n",
       "0  anthropic.claude-3-sonnet-20240229-v1:0  payload_en_3000-4000.jsonl   \n",
       "1   anthropic.claude-3-haiku-20240307-v1:0  payload_en_3000-4000.jsonl   \n",
       "2  anthropic.claude-3-sonnet-20240229-v1:0  payload_en_2000-3000.jsonl   \n",
       "3   anthropic.claude-3-haiku-20240307-v1:0  payload_en_2000-3000.jsonl   \n",
       "4  anthropic.claude-3-sonnet-20240229-v1:0  payload_en_1000-2000.jsonl   \n",
       "5   anthropic.claude-3-haiku-20240307-v1:0  payload_en_1000-2000.jsonl   \n",
       "6   anthropic.claude-3-haiku-20240307-v1:0      payload_en_1-500.jsonl   \n",
       "7   anthropic.claude-3-haiku-20240307-v1:0   payload_en_500-1000.jsonl   \n",
       "8  anthropic.claude-3-sonnet-20240229-v1:0      payload_en_1-500.jsonl   \n",
       "9  anthropic.claude-3-sonnet-20240229-v1:0   payload_en_500-1000.jsonl   \n",
       "\n",
       "                             instance_type  instance_count  concurrency  count  \n",
       "0  anthropic.claude-3-sonnet-20240229-v1:0             1.0            1    105  \n",
       "1   anthropic.claude-3-haiku-20240307-v1:0             1.0            1    105  \n",
       "2  anthropic.claude-3-sonnet-20240229-v1:0             1.0            1     67  \n",
       "3   anthropic.claude-3-haiku-20240307-v1:0             1.0            1     67  \n",
       "4  anthropic.claude-3-sonnet-20240229-v1:0             1.0            1     32  \n",
       "5   anthropic.claude-3-haiku-20240307-v1:0             1.0            1     32  \n",
       "6   anthropic.claude-3-haiku-20240307-v1:0             1.0            1      5  \n",
       "7   anthropic.claude-3-haiku-20240307-v1:0             1.0            1      5  \n",
       "8  anthropic.claude-3-sonnet-20240229-v1:0             1.0            1      5  \n",
       "9  anthropic.claude-3-sonnet-20240229-v1:0             1.0            1      5  "
      ]
     },
     "execution_count": 97,
     "metadata": {},
     "output_type": "execute_result"
    }
   ],
   "source": [
    "df_counts = df_all_metrics[group_by_cols].value_counts().reset_index()\n",
    "\n",
    "# Convert df_counts to CSV format\n",
    "csv_buffer = io.StringIO()\n",
    "df_counts.to_csv(csv_buffer, index=False)\n",
    "csv_data = csv_buffer.getvalue()\n",
    "\n",
    "# Define the file name and the S3 path\n",
    "COUNTS_FNAME = \"experiment_counts.csv\"\n",
    "counts_s3_path = os.path.join(METRICS_DIR, COUNTS_FNAME)\n",
    "\n",
    "# Write the CSV data to S3\n",
    "write_to_s3(csv_data, BUCKET_NAME, \"\", METRICS_DIR, COUNTS_FNAME)\n",
    "logger.info(f\"Counts DataFrame saved to s3://{BUCKET_NAME}/{counts_s3_path}\")\n",
    "\n",
    "df_counts"
   ]
  },
  {
   "cell_type": "markdown",
   "metadata": {},
   "source": [
    "#### Display the mean error rates for each experiment with different congifurations using the same columns of interest used in the cell above"
   ]
  },
  {
   "cell_type": "code",
   "execution_count": 98,
   "metadata": {
    "tags": []
   },
   "outputs": [
    {
     "name": "stderr",
     "output_type": "stream",
     "text": [
      "[2024-08-12 23:42:14,439] p31041 {3093561034.py:14} INFO - Error Counts DataFrame saved to s3://sagemaker-fmbench-write-us-east-1-015469603702/fmbench-bedrock-anthropic-models-SageMaker-ExecutionRole-20240111T084686/data/metrics/yyyy=2024/mm=08/dd=12/hh=22/mm=16/error_rates.csv\n"
     ]
    },
    {
     "data": {
      "text/html": [
       "<div>\n",
       "<style scoped>\n",
       "    .dataframe tbody tr th:only-of-type {\n",
       "        vertical-align: middle;\n",
       "    }\n",
       "\n",
       "    .dataframe tbody tr th {\n",
       "        vertical-align: top;\n",
       "    }\n",
       "\n",
       "    .dataframe thead th {\n",
       "        text-align: right;\n",
       "    }\n",
       "</style>\n",
       "<table border=\"1\" class=\"dataframe\">\n",
       "  <thead>\n",
       "    <tr style=\"text-align: right;\">\n",
       "      <th></th>\n",
       "      <th>experiment_name</th>\n",
       "      <th>payload_file</th>\n",
       "      <th>instance_type</th>\n",
       "      <th>instance_count</th>\n",
       "      <th>concurrency</th>\n",
       "      <th>error_rate</th>\n",
       "    </tr>\n",
       "  </thead>\n",
       "  <tbody>\n",
       "    <tr>\n",
       "      <th>0</th>\n",
       "      <td>anthropic.claude-3-haiku-20240307-v1:0</td>\n",
       "      <td>payload_en_1-500.jsonl</td>\n",
       "      <td>anthropic.claude-3-haiku-20240307-v1:0</td>\n",
       "      <td>1.0</td>\n",
       "      <td>1</td>\n",
       "      <td>0.0</td>\n",
       "    </tr>\n",
       "    <tr>\n",
       "      <th>1</th>\n",
       "      <td>anthropic.claude-3-haiku-20240307-v1:0</td>\n",
       "      <td>payload_en_1000-2000.jsonl</td>\n",
       "      <td>anthropic.claude-3-haiku-20240307-v1:0</td>\n",
       "      <td>1.0</td>\n",
       "      <td>1</td>\n",
       "      <td>0.0</td>\n",
       "    </tr>\n",
       "    <tr>\n",
       "      <th>2</th>\n",
       "      <td>anthropic.claude-3-haiku-20240307-v1:0</td>\n",
       "      <td>payload_en_2000-3000.jsonl</td>\n",
       "      <td>anthropic.claude-3-haiku-20240307-v1:0</td>\n",
       "      <td>1.0</td>\n",
       "      <td>1</td>\n",
       "      <td>0.0</td>\n",
       "    </tr>\n",
       "    <tr>\n",
       "      <th>3</th>\n",
       "      <td>anthropic.claude-3-haiku-20240307-v1:0</td>\n",
       "      <td>payload_en_3000-4000.jsonl</td>\n",
       "      <td>anthropic.claude-3-haiku-20240307-v1:0</td>\n",
       "      <td>1.0</td>\n",
       "      <td>1</td>\n",
       "      <td>0.0</td>\n",
       "    </tr>\n",
       "    <tr>\n",
       "      <th>4</th>\n",
       "      <td>anthropic.claude-3-haiku-20240307-v1:0</td>\n",
       "      <td>payload_en_500-1000.jsonl</td>\n",
       "      <td>anthropic.claude-3-haiku-20240307-v1:0</td>\n",
       "      <td>1.0</td>\n",
       "      <td>1</td>\n",
       "      <td>0.0</td>\n",
       "    </tr>\n",
       "    <tr>\n",
       "      <th>5</th>\n",
       "      <td>anthropic.claude-3-sonnet-20240229-v1:0</td>\n",
       "      <td>payload_en_1-500.jsonl</td>\n",
       "      <td>anthropic.claude-3-sonnet-20240229-v1:0</td>\n",
       "      <td>1.0</td>\n",
       "      <td>1</td>\n",
       "      <td>0.0</td>\n",
       "    </tr>\n",
       "    <tr>\n",
       "      <th>6</th>\n",
       "      <td>anthropic.claude-3-sonnet-20240229-v1:0</td>\n",
       "      <td>payload_en_1000-2000.jsonl</td>\n",
       "      <td>anthropic.claude-3-sonnet-20240229-v1:0</td>\n",
       "      <td>1.0</td>\n",
       "      <td>1</td>\n",
       "      <td>0.0</td>\n",
       "    </tr>\n",
       "    <tr>\n",
       "      <th>7</th>\n",
       "      <td>anthropic.claude-3-sonnet-20240229-v1:0</td>\n",
       "      <td>payload_en_2000-3000.jsonl</td>\n",
       "      <td>anthropic.claude-3-sonnet-20240229-v1:0</td>\n",
       "      <td>1.0</td>\n",
       "      <td>1</td>\n",
       "      <td>0.0</td>\n",
       "    </tr>\n",
       "    <tr>\n",
       "      <th>8</th>\n",
       "      <td>anthropic.claude-3-sonnet-20240229-v1:0</td>\n",
       "      <td>payload_en_3000-4000.jsonl</td>\n",
       "      <td>anthropic.claude-3-sonnet-20240229-v1:0</td>\n",
       "      <td>1.0</td>\n",
       "      <td>1</td>\n",
       "      <td>0.0</td>\n",
       "    </tr>\n",
       "    <tr>\n",
       "      <th>9</th>\n",
       "      <td>anthropic.claude-3-sonnet-20240229-v1:0</td>\n",
       "      <td>payload_en_500-1000.jsonl</td>\n",
       "      <td>anthropic.claude-3-sonnet-20240229-v1:0</td>\n",
       "      <td>1.0</td>\n",
       "      <td>1</td>\n",
       "      <td>0.0</td>\n",
       "    </tr>\n",
       "  </tbody>\n",
       "</table>\n",
       "</div>"
      ],
      "text/plain": [
       "                           experiment_name                payload_file  \\\n",
       "0   anthropic.claude-3-haiku-20240307-v1:0      payload_en_1-500.jsonl   \n",
       "1   anthropic.claude-3-haiku-20240307-v1:0  payload_en_1000-2000.jsonl   \n",
       "2   anthropic.claude-3-haiku-20240307-v1:0  payload_en_2000-3000.jsonl   \n",
       "3   anthropic.claude-3-haiku-20240307-v1:0  payload_en_3000-4000.jsonl   \n",
       "4   anthropic.claude-3-haiku-20240307-v1:0   payload_en_500-1000.jsonl   \n",
       "5  anthropic.claude-3-sonnet-20240229-v1:0      payload_en_1-500.jsonl   \n",
       "6  anthropic.claude-3-sonnet-20240229-v1:0  payload_en_1000-2000.jsonl   \n",
       "7  anthropic.claude-3-sonnet-20240229-v1:0  payload_en_2000-3000.jsonl   \n",
       "8  anthropic.claude-3-sonnet-20240229-v1:0  payload_en_3000-4000.jsonl   \n",
       "9  anthropic.claude-3-sonnet-20240229-v1:0   payload_en_500-1000.jsonl   \n",
       "\n",
       "                             instance_type  instance_count  concurrency  \\\n",
       "0   anthropic.claude-3-haiku-20240307-v1:0             1.0            1   \n",
       "1   anthropic.claude-3-haiku-20240307-v1:0             1.0            1   \n",
       "2   anthropic.claude-3-haiku-20240307-v1:0             1.0            1   \n",
       "3   anthropic.claude-3-haiku-20240307-v1:0             1.0            1   \n",
       "4   anthropic.claude-3-haiku-20240307-v1:0             1.0            1   \n",
       "5  anthropic.claude-3-sonnet-20240229-v1:0             1.0            1   \n",
       "6  anthropic.claude-3-sonnet-20240229-v1:0             1.0            1   \n",
       "7  anthropic.claude-3-sonnet-20240229-v1:0             1.0            1   \n",
       "8  anthropic.claude-3-sonnet-20240229-v1:0             1.0            1   \n",
       "9  anthropic.claude-3-sonnet-20240229-v1:0             1.0            1   \n",
       "\n",
       "   error_rate  \n",
       "0         0.0  \n",
       "1         0.0  \n",
       "2         0.0  \n",
       "3         0.0  \n",
       "4         0.0  \n",
       "5         0.0  \n",
       "6         0.0  \n",
       "7         0.0  \n",
       "8         0.0  \n",
       "9         0.0  "
      ]
     },
     "execution_count": 98,
     "metadata": {},
     "output_type": "execute_result"
    }
   ],
   "source": [
    "df_error_rates = df_all_metrics.groupby(group_by_cols).agg({'error_rate': 'mean'}).reset_index()\n",
    "df_error_rates = df_error_rates.round(2)\n",
    "\n",
    "csv_buffer = io.StringIO()\n",
    "df_error_rates.to_csv(csv_buffer, index=False)\n",
    "error_csv = csv_buffer.getvalue()\n",
    "\n",
    "# Define the file name and the S3 path\n",
    "ERROR_RATES_FNAME: str = \"error_rates.csv\"\n",
    "counts_s3_path = os.path.join(METRICS_DIR, ERROR_RATES_FNAME)\n",
    "\n",
    "# Write the CSV data to S3\n",
    "write_to_s3(error_csv, BUCKET_NAME, \"\", METRICS_DIR, ERROR_RATES_FNAME)\n",
    "logger.info(f\"Error Counts DataFrame saved to s3://{BUCKET_NAME}/{counts_s3_path}\")\n",
    "\n",
    "df_error_rates"
   ]
  },
  {
   "cell_type": "markdown",
   "metadata": {},
   "source": [
    "### Visualize Inference error rates across different concurrency levels and instance types"
   ]
  },
  {
   "cell_type": "code",
   "execution_count": 99,
   "metadata": {
    "tags": []
   },
   "outputs": [
    {
     "name": "stderr",
     "output_type": "stream",
     "text": [
      "[2024-08-12 23:42:14,471] p31041 {1032143938.py:7} INFO - df_error_rates -->                            experiment_name       dataset  \\\n",
      "0   anthropic.claude-3-haiku-20240307-v1:0      en_1-500   \n",
      "1   anthropic.claude-3-haiku-20240307-v1:0  en_1000-2000   \n",
      "2   anthropic.claude-3-haiku-20240307-v1:0  en_2000-3000   \n",
      "3   anthropic.claude-3-haiku-20240307-v1:0  en_3000-4000   \n",
      "4   anthropic.claude-3-haiku-20240307-v1:0   en_500-1000   \n",
      "5  anthropic.claude-3-sonnet-20240229-v1:0      en_1-500   \n",
      "6  anthropic.claude-3-sonnet-20240229-v1:0  en_1000-2000   \n",
      "7  anthropic.claude-3-sonnet-20240229-v1:0  en_2000-3000   \n",
      "8  anthropic.claude-3-sonnet-20240229-v1:0  en_3000-4000   \n",
      "9  anthropic.claude-3-sonnet-20240229-v1:0   en_500-1000   \n",
      "\n",
      "                                  instance  instance_count  concurrency  \\\n",
      "0   anthropic.claude-3-haiku-20240307-v1:0             1.0            1   \n",
      "1   anthropic.claude-3-haiku-20240307-v1:0             1.0            1   \n",
      "2   anthropic.claude-3-haiku-20240307-v1:0             1.0            1   \n",
      "3   anthropic.claude-3-haiku-20240307-v1:0             1.0            1   \n",
      "4   anthropic.claude-3-haiku-20240307-v1:0             1.0            1   \n",
      "5  anthropic.claude-3-sonnet-20240229-v1:0             1.0            1   \n",
      "6  anthropic.claude-3-sonnet-20240229-v1:0             1.0            1   \n",
      "7  anthropic.claude-3-sonnet-20240229-v1:0             1.0            1   \n",
      "8  anthropic.claude-3-sonnet-20240229-v1:0             1.0            1   \n",
      "9  anthropic.claude-3-sonnet-20240229-v1:0             1.0            1   \n",
      "\n",
      "   error_rate  \n",
      "0         0.0  \n",
      "1         0.0  \n",
      "2         0.0  \n",
      "3         0.0  \n",
      "4         0.0  \n",
      "5         0.0  \n",
      "6         0.0  \n",
      "7         0.0  \n",
      "8         0.0  \n",
      "9         0.0  \n",
      "[2024-08-12 23:42:14,473] p31041 {1032143938.py:10} INFO - there are 0 experiment runs that encountered errors\n",
      "[2024-08-12 23:42:14,782] p31041 {1032143938.py:50} INFO - Plot saved to s3://sagemaker-fmbench-write-us-east-1-015469603702/fmbench-bedrock-anthropic-models-SageMaker-ExecutionRole-20240111T084686/data/metrics/yyyy=2024/mm=08/dd=12/hh=22/mm=16/error_rates.png\n"
     ]
    },
    {
     "data": {
      "text/plain": [
       "<Axes: title={'center': 'Inference error rates for different concurrency levels and instance types\\nError rate is zero for all experiment runs.'}, xlabel='Concurrency level', ylabel='Error rate (failed / total inferences)'>"
      ]
     },
     "execution_count": 99,
     "metadata": {},
     "output_type": "execute_result"
    },
    {
     "data": {
      "image/png": "[encoded data removed]",
      "text/plain": [
       "<Figure size 1000x600 with 1 Axes>"
      ]
     },
     "metadata": {},
     "output_type": "display_data"
    }
   ],
   "source": [
    "df_error_rates = df_error_rates.rename(columns={\"instance_type\": \"instance\", \"payload_file\": \"dataset\"})\n",
    "\n",
    "# Clean up the dataset names by removing json file extensions and prefixes\n",
    "df_error_rates.dataset = df_error_rates.dataset.map(lambda x: x.replace(\".jsonl\", \"\").replace(\"payload_\", \"\"))\n",
    "\n",
    "# this creates a facetGrid for plotting scatter plots based on 'instance' and 'dataset'\n",
    "logger.info(f\"df_error_rates --> {df_error_rates}\")\n",
    "\n",
    "df_error_rates_only_nz = df_error_rates[df_error_rates.error_rate > 0]\n",
    "logger.info(f\"there are {df_error_rates_only_nz.shape[0]} experiment runs that encountered errors\")\n",
    "if df_error_rates_only_nz.shape[0] > 0:    \n",
    "    g = sns.FacetGrid(df_error_rates_only_nz, col=\"instance\", row=\"dataset\", hue=\"instance\", height=3.5, aspect=1.25)\n",
    "    # Maps a scatterplot to the FacetGrid for each subset of the data\n",
    "    sns_plot = g.map(sns.scatterplot, \"concurrency\", \"error_rate\")\n",
    "    # flatten axes into a 1-d array\n",
    "    axes = g.axes.flatten()\n",
    "\n",
    "    # iterate through the axes\n",
    "    for i, ax in enumerate(axes):\n",
    "        ax.axhline(config['report']['error_rate_budget']*1000, ls='--', c='red')\n",
    "\n",
    "    # Create a subtitle\n",
    "    with sns.plotting_context('paper', font_scale = 1.3):\n",
    "        g.fig.suptitle(\"Inference error rates for different concurrency levels and instance types\\nOnly non-zero error rates shown.\")\n",
    "        g.set_titles(row_template=\"{row_name}\", col_template=\"{col_name}\", size=8)\n",
    "\n",
    "    # Set x and y labels for this chart\n",
    "    g = g.set_ylabels(\"Error rate (failed / total inferences)\")\n",
    "    g = g.set_xlabels(\"Concurrency level\")\n",
    "    g.figure.subplots_adjust(top=.8)\n",
    "    sns_plot.savefig(buffer, format='png')\n",
    "    buffer.seek(0)\n",
    "else:\n",
    "    # create a new dummy dataframe just for plotting an empty chart\n",
    "    \n",
    "    df_error_rates_only_nz = pd.DataFrame({\"concurrency\": df_error_rates.concurrency.unique(),\n",
    "                                           \"error_rate\": [0]*len(df_error_rates.concurrency.unique())\n",
    "                                          })\n",
    "    sns_plot = sns.scatterplot(data=df_error_rates_only_nz, x=\"concurrency\", y=\"error_rate\")\n",
    "    sns_plot.set_xticks(df_error_rates_only_nz.concurrency.unique())\n",
    "    sns_plot.set(xlabel=\"Concurrency level\",\n",
    "                 ylabel=\"Error rate (failed / total inferences)\",\n",
    "                 title=\"Inference error rates for different concurrency levels and instance types\\nError rate is zero for all experiment runs.\")\n",
    "    sns_plot.axhline(config['report']['error_rate_budget']*1000, ls='--', c='red')\n",
    "    sns_plot.figure.savefig(buffer, format='png')\n",
    "    buffer.seek(0)\n",
    "\n",
    "# Write the plot to S3\n",
    "write_to_s3(buffer.getvalue(), BUCKET_NAME, \"\", METRICS_DIR, ERROR_RATES_PLOT_FNAME)\n",
    "logger.info(f\"Plot saved to s3://{BUCKET_NAME}/{METRICS_DIR}/{ERROR_RATES_PLOT_FNAME}\")\n",
    "\n",
    "## Display the plot \n",
    "sns_plot"
   ]
  },
  {
   "cell_type": "markdown",
   "metadata": {},
   "source": [
    "#### Check for the df elements that have error rates above 0"
   ]
  },
  {
   "cell_type": "code",
   "execution_count": 100,
   "metadata": {
    "tags": []
   },
   "outputs": [
    {
     "data": {
      "text/html": [
       "<div>\n",
       "<style scoped>\n",
       "    .dataframe tbody tr th:only-of-type {\n",
       "        vertical-align: middle;\n",
       "    }\n",
       "\n",
       "    .dataframe tbody tr th {\n",
       "        vertical-align: top;\n",
       "    }\n",
       "\n",
       "    .dataframe thead th {\n",
       "        text-align: right;\n",
       "    }\n",
       "</style>\n",
       "<table border=\"1\" class=\"dataframe\">\n",
       "  <thead>\n",
       "    <tr style=\"text-align: right;\">\n",
       "      <th></th>\n",
       "      <th>experiment_name</th>\n",
       "      <th>dataset</th>\n",
       "      <th>instance</th>\n",
       "      <th>instance_count</th>\n",
       "      <th>concurrency</th>\n",
       "      <th>error_rate</th>\n",
       "    </tr>\n",
       "  </thead>\n",
       "  <tbody>\n",
       "  </tbody>\n",
       "</table>\n",
       "</div>"
      ],
      "text/plain": [
       "Empty DataFrame\n",
       "Columns: [experiment_name, dataset, instance, instance_count, concurrency, error_rate]\n",
       "Index: []"
      ]
     },
     "execution_count": 100,
     "metadata": {},
     "output_type": "execute_result"
    }
   ],
   "source": [
    "df_error_rates_nz = df_error_rates[df_error_rates.error_rate > 0]\n",
    "df_error_rates_nz"
   ]
  },
  {
   "cell_type": "code",
   "execution_count": 101,
   "metadata": {
    "tags": []
   },
   "outputs": [
    {
     "name": "stderr",
     "output_type": "stream",
     "text": [
      "[2024-08-12 23:42:14,961] p31041 {258799924.py:31} INFO - Updated summary metrics cols: Index(['experiment_name', 'payload_file', 'instance_type', 'instance_count',\n",
      "       'concurrency', 'error_rate', 'prompt_token_count_mean',\n",
      "       'prompt_token_throughput', 'completion_token_count_mean',\n",
      "       'completion_token_throughput', 'latency_p50', 'latency_p95',\n",
      "       'latency_p99', 'transactions_per_minute'],\n",
      "      dtype='object')\n",
      "[2024-08-12 23:42:15,061] p31041 {258799924.py:43} INFO - Summary metrics DataFrame saved to s3://sagemaker-fmbench-write-us-east-1-015469603702/fmbench-bedrock-anthropic-models-SageMaker-ExecutionRole-20240111T084686/data/metrics/yyyy=2024/mm=08/dd=12/hh=22/mm=16/all_metrics_summary.csv\n"
     ]
    },
    {
     "data": {
      "text/html": [
       "<div>\n",
       "<style scoped>\n",
       "    .dataframe tbody tr th:only-of-type {\n",
       "        vertical-align: middle;\n",
       "    }\n",
       "\n",
       "    .dataframe tbody tr th {\n",
       "        vertical-align: top;\n",
       "    }\n",
       "\n",
       "    .dataframe thead th {\n",
       "        text-align: right;\n",
       "    }\n",
       "</style>\n",
       "<table border=\"1\" class=\"dataframe\">\n",
       "  <thead>\n",
       "    <tr style=\"text-align: right;\">\n",
       "      <th></th>\n",
       "      <th>experiment_name</th>\n",
       "      <th>payload_file</th>\n",
       "      <th>instance_type</th>\n",
       "      <th>instance_count</th>\n",
       "      <th>concurrency</th>\n",
       "      <th>error_rate</th>\n",
       "      <th>prompt_token_count_mean</th>\n",
       "      <th>prompt_token_throughput</th>\n",
       "      <th>completion_token_count_mean</th>\n",
       "      <th>completion_token_throughput</th>\n",
       "      <th>latency_p50</th>\n",
       "      <th>latency_p95</th>\n",
       "      <th>latency_p99</th>\n",
       "      <th>transactions_per_minute</th>\n",
       "    </tr>\n",
       "  </thead>\n",
       "  <tbody>\n",
       "    <tr>\n",
       "      <th>0</th>\n",
       "      <td>anthropic.claude-3-haiku-20240307-v1:0</td>\n",
       "      <td>payload_en_1-500.jsonl</td>\n",
       "      <td>anthropic.claude-3-haiku-20240307-v1:0</td>\n",
       "      <td>1.0</td>\n",
       "      <td>1</td>\n",
       "      <td>0.0</td>\n",
       "      <td>299</td>\n",
       "      <td>686</td>\n",
       "      <td>30</td>\n",
       "      <td>68</td>\n",
       "      <td>0.43</td>\n",
       "      <td>0.43</td>\n",
       "      <td>0.43</td>\n",
       "      <td>137</td>\n",
       "    </tr>\n",
       "    <tr>\n",
       "      <th>1</th>\n",
       "      <td>anthropic.claude-3-haiku-20240307-v1:0</td>\n",
       "      <td>payload_en_1000-2000.jsonl</td>\n",
       "      <td>anthropic.claude-3-haiku-20240307-v1:0</td>\n",
       "      <td>1.0</td>\n",
       "      <td>1</td>\n",
       "      <td>0.0</td>\n",
       "      <td>2065</td>\n",
       "      <td>2318</td>\n",
       "      <td>64</td>\n",
       "      <td>66</td>\n",
       "      <td>0.95</td>\n",
       "      <td>0.95</td>\n",
       "      <td>0.95</td>\n",
       "      <td>67</td>\n",
       "    </tr>\n",
       "    <tr>\n",
       "      <th>2</th>\n",
       "      <td>anthropic.claude-3-haiku-20240307-v1:0</td>\n",
       "      <td>payload_en_2000-3000.jsonl</td>\n",
       "      <td>anthropic.claude-3-haiku-20240307-v1:0</td>\n",
       "      <td>1.0</td>\n",
       "      <td>1</td>\n",
       "      <td>0.0</td>\n",
       "      <td>3164</td>\n",
       "      <td>3497</td>\n",
       "      <td>58</td>\n",
       "      <td>54</td>\n",
       "      <td>1.04</td>\n",
       "      <td>1.04</td>\n",
       "      <td>1.04</td>\n",
       "      <td>67</td>\n",
       "    </tr>\n",
       "    <tr>\n",
       "      <th>3</th>\n",
       "      <td>anthropic.claude-3-haiku-20240307-v1:0</td>\n",
       "      <td>payload_en_3000-4000.jsonl</td>\n",
       "      <td>anthropic.claude-3-haiku-20240307-v1:0</td>\n",
       "      <td>1.0</td>\n",
       "      <td>1</td>\n",
       "      <td>0.0</td>\n",
       "      <td>4515</td>\n",
       "      <td>4589</td>\n",
       "      <td>64</td>\n",
       "      <td>59</td>\n",
       "      <td>1.05</td>\n",
       "      <td>1.05</td>\n",
       "      <td>1.05</td>\n",
       "      <td>60</td>\n",
       "    </tr>\n",
       "    <tr>\n",
       "      <th>4</th>\n",
       "      <td>anthropic.claude-3-haiku-20240307-v1:0</td>\n",
       "      <td>payload_en_500-1000.jsonl</td>\n",
       "      <td>anthropic.claude-3-haiku-20240307-v1:0</td>\n",
       "      <td>1.0</td>\n",
       "      <td>1</td>\n",
       "      <td>0.0</td>\n",
       "      <td>1277</td>\n",
       "      <td>1743</td>\n",
       "      <td>60</td>\n",
       "      <td>75</td>\n",
       "      <td>0.79</td>\n",
       "      <td>0.79</td>\n",
       "      <td>0.79</td>\n",
       "      <td>81</td>\n",
       "    </tr>\n",
       "    <tr>\n",
       "      <th>5</th>\n",
       "      <td>anthropic.claude-3-sonnet-20240229-v1:0</td>\n",
       "      <td>payload_en_1-500.jsonl</td>\n",
       "      <td>anthropic.claude-3-sonnet-20240229-v1:0</td>\n",
       "      <td>1.0</td>\n",
       "      <td>1</td>\n",
       "      <td>0.0</td>\n",
       "      <td>299</td>\n",
       "      <td>222</td>\n",
       "      <td>31</td>\n",
       "      <td>23</td>\n",
       "      <td>1.43</td>\n",
       "      <td>1.43</td>\n",
       "      <td>1.43</td>\n",
       "      <td>44</td>\n",
       "    </tr>\n",
       "    <tr>\n",
       "      <th>6</th>\n",
       "      <td>anthropic.claude-3-sonnet-20240229-v1:0</td>\n",
       "      <td>payload_en_1000-2000.jsonl</td>\n",
       "      <td>anthropic.claude-3-sonnet-20240229-v1:0</td>\n",
       "      <td>1.0</td>\n",
       "      <td>1</td>\n",
       "      <td>0.0</td>\n",
       "      <td>2065</td>\n",
       "      <td>777</td>\n",
       "      <td>72</td>\n",
       "      <td>26</td>\n",
       "      <td>3.07</td>\n",
       "      <td>3.07</td>\n",
       "      <td>3.07</td>\n",
       "      <td>22</td>\n",
       "    </tr>\n",
       "    <tr>\n",
       "      <th>7</th>\n",
       "      <td>anthropic.claude-3-sonnet-20240229-v1:0</td>\n",
       "      <td>payload_en_2000-3000.jsonl</td>\n",
       "      <td>anthropic.claude-3-sonnet-20240229-v1:0</td>\n",
       "      <td>1.0</td>\n",
       "      <td>1</td>\n",
       "      <td>0.0</td>\n",
       "      <td>3164</td>\n",
       "      <td>1042</td>\n",
       "      <td>72</td>\n",
       "      <td>21</td>\n",
       "      <td>3.47</td>\n",
       "      <td>3.47</td>\n",
       "      <td>3.47</td>\n",
       "      <td>19</td>\n",
       "    </tr>\n",
       "    <tr>\n",
       "      <th>8</th>\n",
       "      <td>anthropic.claude-3-sonnet-20240229-v1:0</td>\n",
       "      <td>payload_en_3000-4000.jsonl</td>\n",
       "      <td>anthropic.claude-3-sonnet-20240229-v1:0</td>\n",
       "      <td>1.0</td>\n",
       "      <td>1</td>\n",
       "      <td>0.0</td>\n",
       "      <td>4515</td>\n",
       "      <td>1360</td>\n",
       "      <td>69</td>\n",
       "      <td>19</td>\n",
       "      <td>3.67</td>\n",
       "      <td>3.67</td>\n",
       "      <td>3.67</td>\n",
       "      <td>17</td>\n",
       "    </tr>\n",
       "    <tr>\n",
       "      <th>9</th>\n",
       "      <td>anthropic.claude-3-sonnet-20240229-v1:0</td>\n",
       "      <td>payload_en_500-1000.jsonl</td>\n",
       "      <td>anthropic.claude-3-sonnet-20240229-v1:0</td>\n",
       "      <td>1.0</td>\n",
       "      <td>1</td>\n",
       "      <td>0.0</td>\n",
       "      <td>1277</td>\n",
       "      <td>694</td>\n",
       "      <td>59</td>\n",
       "      <td>29</td>\n",
       "      <td>1.93</td>\n",
       "      <td>1.93</td>\n",
       "      <td>1.93</td>\n",
       "      <td>32</td>\n",
       "    </tr>\n",
       "  </tbody>\n",
       "</table>\n",
       "</div>"
      ],
      "text/plain": [
       "                           experiment_name                payload_file  \\\n",
       "0   anthropic.claude-3-haiku-20240307-v1:0      payload_en_1-500.jsonl   \n",
       "1   anthropic.claude-3-haiku-20240307-v1:0  payload_en_1000-2000.jsonl   \n",
       "2   anthropic.claude-3-haiku-20240307-v1:0  payload_en_2000-3000.jsonl   \n",
       "3   anthropic.claude-3-haiku-20240307-v1:0  payload_en_3000-4000.jsonl   \n",
       "4   anthropic.claude-3-haiku-20240307-v1:0   payload_en_500-1000.jsonl   \n",
       "5  anthropic.claude-3-sonnet-20240229-v1:0      payload_en_1-500.jsonl   \n",
       "6  anthropic.claude-3-sonnet-20240229-v1:0  payload_en_1000-2000.jsonl   \n",
       "7  anthropic.claude-3-sonnet-20240229-v1:0  payload_en_2000-3000.jsonl   \n",
       "8  anthropic.claude-3-sonnet-20240229-v1:0  payload_en_3000-4000.jsonl   \n",
       "9  anthropic.claude-3-sonnet-20240229-v1:0   payload_en_500-1000.jsonl   \n",
       "\n",
       "                             instance_type  instance_count  concurrency  \\\n",
       "0   anthropic.claude-3-haiku-20240307-v1:0             1.0            1   \n",
       "1   anthropic.claude-3-haiku-20240307-v1:0             1.0            1   \n",
       "2   anthropic.claude-3-haiku-20240307-v1:0             1.0            1   \n",
       "3   anthropic.claude-3-haiku-20240307-v1:0             1.0            1   \n",
       "4   anthropic.claude-3-haiku-20240307-v1:0             1.0            1   \n",
       "5  anthropic.claude-3-sonnet-20240229-v1:0             1.0            1   \n",
       "6  anthropic.claude-3-sonnet-20240229-v1:0             1.0            1   \n",
       "7  anthropic.claude-3-sonnet-20240229-v1:0             1.0            1   \n",
       "8  anthropic.claude-3-sonnet-20240229-v1:0             1.0            1   \n",
       "9  anthropic.claude-3-sonnet-20240229-v1:0             1.0            1   \n",
       "\n",
       "   error_rate  prompt_token_count_mean  prompt_token_throughput  \\\n",
       "0         0.0                      299                      686   \n",
       "1         0.0                     2065                     2318   \n",
       "2         0.0                     3164                     3497   \n",
       "3         0.0                     4515                     4589   \n",
       "4         0.0                     1277                     1743   \n",
       "5         0.0                      299                      222   \n",
       "6         0.0                     2065                      777   \n",
       "7         0.0                     3164                     1042   \n",
       "8         0.0                     4515                     1360   \n",
       "9         0.0                     1277                      694   \n",
       "\n",
       "   completion_token_count_mean  completion_token_throughput  latency_p50  \\\n",
       "0                           30                           68         0.43   \n",
       "1                           64                           66         0.95   \n",
       "2                           58                           54         1.04   \n",
       "3                           64                           59         1.05   \n",
       "4                           60                           75         0.79   \n",
       "5                           31                           23         1.43   \n",
       "6                           72                           26         3.07   \n",
       "7                           72                           21         3.47   \n",
       "8                           69                           19         3.67   \n",
       "9                           59                           29         1.93   \n",
       "\n",
       "   latency_p95  latency_p99  transactions_per_minute  \n",
       "0         0.43         0.43                      137  \n",
       "1         0.95         0.95                       67  \n",
       "2         1.04         1.04                       67  \n",
       "3         1.05         1.05                       60  \n",
       "4         0.79         0.79                       81  \n",
       "5         1.43         1.43                       44  \n",
       "6         3.07         3.07                       22  \n",
       "7         3.47         3.47                       19  \n",
       "8         3.67         3.67                       17  \n",
       "9         1.93         1.93                       32  "
      ]
     },
     "execution_count": 101,
     "metadata": {},
     "output_type": "execute_result"
    }
   ],
   "source": [
    "## initialize a dataframe to get the mean of the columns in consideration\n",
    "df_summary_metrics = df_all_metrics[relevant_cols].groupby(group_by_cols).mean().reset_index()\n",
    "\n",
    "# ugly way of doing this, will refactor this later (maybe)\n",
    "df_summary_metrics.fillna(PLACE_HOLDER, inplace=True)\n",
    "int_cols = ['prompt_token_count_mean', 'prompt_token_throughput', 'completion_token_count_mean', 'completion_token_throughput', 'transactions_per_minute']\n",
    "for ic in int_cols:\n",
    "    df_summary_metrics[ic] = df_summary_metrics[ic].astype(int)\n",
    "\n",
    "df_summary_metrics.replace(PLACE_HOLDER, np.nan, inplace=True)\n",
    "#df_summary_metrics.latency_p95\t= df_summary_metrics.latency_p95.round(2)\n",
    "df_summary_metrics.latency_p50 = df_summary_metrics.latency_p50.round(2)\n",
    "df_summary_metrics.latency_p95 = df_summary_metrics.latency_p95.round(2)\n",
    "df_summary_metrics.latency_p99 = df_summary_metrics.latency_p99.round(2)\n",
    "df_summary_metrics.TTFT_p50 = df_summary_metrics.TTFT_p50.round(4)\n",
    "#df_summary_metrics.TTFT_p95 = df_summary_metrics.TTFT_p95.round(4)\n",
    "df_summary_metrics.TTFT_p99 = df_summary_metrics.TTFT_p99.round(4)\n",
    "df_summary_metrics.TPOT_p50 = df_summary_metrics.TPOT_p50.round(4)\n",
    "#df_summary_metrics.TPOT_p95 = df_summary_metrics.TPOT_p95.round(4)\n",
    "df_summary_metrics.TPOT_p99 = df_summary_metrics.TPOT_p99.round(4)\n",
    "# df_summary_metrics.TTLT_p50 = df_summary_metrics.TTLT_p50.round(4)\n",
    "# df_summary_metrics.TTLT_p95 = df_summary_metrics.TTLT_p95.round(4)\n",
    "# df_summary_metrics.TTLT_p99 = df_summary_metrics.TTLT_p99.round(4)\n",
    "df_summary_metrics.error_rate = df_summary_metrics.error_rate.round(2)\n",
    "\n",
    "# drop the columns if all, TTFT, TPOT and TTLT are NaN\n",
    "time_to_token_cols_to_check = [col for col in df_summary_metrics.columns if col.startswith(('TTFT', 'TTLT', 'TPOT'))]\n",
    "for col in time_to_token_cols_to_check:\n",
    "    if df_summary_metrics[col].isna().all():\n",
    "        df_summary_metrics.drop(columns=col, inplace=True)\n",
    "logger.info(f\"Updated summary metrics cols: {df_summary_metrics.columns}\")\n",
    "\n",
    "csv_buffer = io.StringIO()\n",
    "df_summary_metrics.to_csv(csv_buffer, index=False)\n",
    "summary_metrics_csv = csv_buffer.getvalue()\n",
    "\n",
    "# Define the file name for S3 based on the original file path\n",
    "summary_file_name = all_metrics_fpath.replace(\"all_metrics\", \"all_metrics_summary\").split('/')[-1] \n",
    "summary_s3_path = os.path.join(METRICS_DIR, summary_file_name)  # Define full S3 path\n",
    "\n",
    "# Write the CSV data to S3\n",
    "write_to_s3(summary_metrics_csv, BUCKET_NAME, \"\", METRICS_DIR, summary_file_name)\n",
    "logger.info(f\"Summary metrics DataFrame saved to s3://{BUCKET_NAME}/{summary_s3_path}\")\n",
    "\n",
    "df_summary_metrics"
   ]
  },
  {
   "cell_type": "code",
   "execution_count": 102,
   "metadata": {
    "tags": []
   },
   "outputs": [
    {
     "name": "stderr",
     "output_type": "stream",
     "text": [
      "[2024-08-12 23:42:15,089] p31041 {3483828648.py:2} INFO - there are 10 entries out of 10 in the summary data for which error rate is 0\n"
     ]
    }
   ],
   "source": [
    "df_summary_metrics_nz = df_summary_metrics[df_summary_metrics.error_rate == 0]\n",
    "logger.info(f\"there are {len(df_summary_metrics_nz)} entries out of {len(df_summary_metrics)} in the summary data for which error rate is 0\")"
   ]
  },
  {
   "cell_type": "code",
   "execution_count": 103,
   "metadata": {
    "tags": []
   },
   "outputs": [
    {
     "name": "stderr",
     "output_type": "stream",
     "text": [
      "[2024-08-12 23:42:15,100] p31041 {2401216161.py:2} INFO - shape of dataframe with summary metrics for en_3000-4000 is (2, 14)\n",
      "[2024-08-12 23:42:15,199] p31041 {2401216161.py:10} INFO - Summary metrics dataset saved to s3://sagemaker-fmbench-write-us-east-1-015469603702/fmbench-bedrock-anthropic-models-SageMaker-ExecutionRole-20240111T084686/data/metrics/yyyy=2024/mm=08/dd=12/hh=22/mm=16/summary_metrics_w_pricing.csv\n"
     ]
    },
    {
     "data": {
      "text/html": [
       "<div>\n",
       "<style scoped>\n",
       "    .dataframe tbody tr th:only-of-type {\n",
       "        vertical-align: middle;\n",
       "    }\n",
       "\n",
       "    .dataframe tbody tr th {\n",
       "        vertical-align: top;\n",
       "    }\n",
       "\n",
       "    .dataframe thead th {\n",
       "        text-align: right;\n",
       "    }\n",
       "</style>\n",
       "<table border=\"1\" class=\"dataframe\">\n",
       "  <thead>\n",
       "    <tr style=\"text-align: right;\">\n",
       "      <th></th>\n",
       "      <th>experiment_name</th>\n",
       "      <th>payload_file</th>\n",
       "      <th>instance_type</th>\n",
       "      <th>instance_count</th>\n",
       "      <th>concurrency</th>\n",
       "      <th>error_rate</th>\n",
       "      <th>prompt_token_count_mean</th>\n",
       "      <th>prompt_token_throughput</th>\n",
       "      <th>completion_token_count_mean</th>\n",
       "      <th>completion_token_throughput</th>\n",
       "      <th>latency_p50</th>\n",
       "      <th>latency_p95</th>\n",
       "      <th>latency_p99</th>\n",
       "      <th>transactions_per_minute</th>\n",
       "    </tr>\n",
       "  </thead>\n",
       "  <tbody>\n",
       "    <tr>\n",
       "      <th>3</th>\n",
       "      <td>anthropic.claude-3-haiku-20240307-v1:0</td>\n",
       "      <td>payload_en_3000-4000.jsonl</td>\n",
       "      <td>anthropic.claude-3-haiku-20240307-v1:0</td>\n",
       "      <td>1.0</td>\n",
       "      <td>1</td>\n",
       "      <td>0.0</td>\n",
       "      <td>4515</td>\n",
       "      <td>4589</td>\n",
       "      <td>64</td>\n",
       "      <td>59</td>\n",
       "      <td>1.05</td>\n",
       "      <td>1.05</td>\n",
       "      <td>1.05</td>\n",
       "      <td>60</td>\n",
       "    </tr>\n",
       "    <tr>\n",
       "      <th>8</th>\n",
       "      <td>anthropic.claude-3-sonnet-20240229-v1:0</td>\n",
       "      <td>payload_en_3000-4000.jsonl</td>\n",
       "      <td>anthropic.claude-3-sonnet-20240229-v1:0</td>\n",
       "      <td>1.0</td>\n",
       "      <td>1</td>\n",
       "      <td>0.0</td>\n",
       "      <td>4515</td>\n",
       "      <td>1360</td>\n",
       "      <td>69</td>\n",
       "      <td>19</td>\n",
       "      <td>3.67</td>\n",
       "      <td>3.67</td>\n",
       "      <td>3.67</td>\n",
       "      <td>17</td>\n",
       "    </tr>\n",
       "  </tbody>\n",
       "</table>\n",
       "</div>"
      ],
      "text/plain": [
       "                           experiment_name                payload_file  \\\n",
       "3   anthropic.claude-3-haiku-20240307-v1:0  payload_en_3000-4000.jsonl   \n",
       "8  anthropic.claude-3-sonnet-20240229-v1:0  payload_en_3000-4000.jsonl   \n",
       "\n",
       "                             instance_type  instance_count  concurrency  \\\n",
       "3   anthropic.claude-3-haiku-20240307-v1:0             1.0            1   \n",
       "8  anthropic.claude-3-sonnet-20240229-v1:0             1.0            1   \n",
       "\n",
       "   error_rate  prompt_token_count_mean  prompt_token_throughput  \\\n",
       "3         0.0                     4515                     4589   \n",
       "8         0.0                     4515                     1360   \n",
       "\n",
       "   completion_token_count_mean  completion_token_throughput  latency_p50  \\\n",
       "3                           64                           59         1.05   \n",
       "8                           69                           19         3.67   \n",
       "\n",
       "   latency_p95  latency_p99  transactions_per_minute  \n",
       "3         1.05         1.05                       60  \n",
       "8         3.67         3.67                       17  "
      ]
     },
     "execution_count": 103,
     "metadata": {},
     "output_type": "execute_result"
    }
   ],
   "source": [
    "df_summary_metrics_dataset = df_summary_metrics[df_summary_metrics.payload_file.str.contains(config['metrics']['dataset_of_interest'])]\n",
    "logger.info(f\"shape of dataframe with summary metrics for {config['metrics']['dataset_of_interest']} is {df_summary_metrics_dataset.shape}\")\n",
    "\n",
    "csv_buffer = io.StringIO()\n",
    "df_summary_metrics_dataset.to_csv(csv_buffer, index=False)\n",
    "metrics_dataset = csv_buffer.getvalue()\n",
    "\n",
    "# Write the CSV data to S3\n",
    "write_to_s3(metrics_dataset, BUCKET_NAME, \"\", METRICS_DIR, SUMMARY_METRICS_W_PRICING_FNAME)\n",
    "logger.info(f\"Summary metrics dataset saved to s3://{BUCKET_NAME}/{METRICS_DIR}/{SUMMARY_METRICS_W_PRICING_FNAME}\")\n",
    "\n",
    "df_summary_metrics_dataset"
   ]
  },
  {
   "cell_type": "code",
   "execution_count": 104,
   "metadata": {
    "tags": []
   },
   "outputs": [
    {
     "name": "stderr",
     "output_type": "stream",
     "text": [
      "[2024-08-12 23:42:15,232] p31041 {2001225109.py:10} ERROR - found 210 experiment runs for ds=en_3000-4000\n",
      "[2024-08-12 23:42:15,436] p31041 {category.py:223} INFO - Using categorical units to plot a list of strings that are all parsable as floats or dates. If these strings should be plotted as numbers, cast to the appropriate data type before plotting.\n",
      "[2024-08-12 23:42:15,447] p31041 {category.py:223} INFO - Using categorical units to plot a list of strings that are all parsable as floats or dates. If these strings should be plotted as numbers, cast to the appropriate data type before plotting.\n"
     ]
    },
    {
     "name": "stderr",
     "output_type": "stream",
     "text": [
      "[2024-08-12 23:42:15,990] p31041 {2001225109.py:34} INFO - Plot saved to s3://sagemaker-fmbench-write-us-east-1-015469603702/fmbench-bedrock-anthropic-models-SageMaker-ExecutionRole-20240111T084686/data/metrics/yyyy=2024/mm=08/dd=12/hh=22/mm=16/concurrency_vs_inference_latency.png\n"
     ]
    },
    {
     "data": {
      "image/png": "[encoded data removed]",
      "text/plain": [
       "<Figure size 1242.25x450 with 2 Axes>"
      ]
     },
     "metadata": {},
     "output_type": "display_data"
    }
   ],
   "source": [
    "df_all_metrics_for_dataset = df_all_metrics.rename(columns={\"instance_type\": \"instance\", \"payload_file\": \"dataset\"})\n",
    "df_all_metrics_for_dataset.dataset = df_all_metrics_for_dataset.dataset.map(lambda x: x.replace(\".jsonl\", \"\").replace(\"payload_\", \"\"))\n",
    "ds = config['metrics']['dataset_of_interest']\n",
    "df_all_metrics_for_dataset = df_all_metrics_for_dataset[df_all_metrics_for_dataset.dataset.str.contains(ds)]\n",
    "row_order = list(df_all_metrics_for_dataset[[\"instance\", \"latency_p95\"]].groupby(\"instance\").mean(\"latency_p95\").reset_index()[\"instance\"])\n",
    "if len(row_order) == 0:\n",
    "    logger.error(f\"seems like a missing configuration, no data found in df_all_metrics_for_dataset for ds={ds}\")\n",
    "    col_wrap = 1\n",
    "else:    \n",
    "    logger.error(f\"found {df_all_metrics_for_dataset.shape[0]} experiment runs for ds={ds}\")\n",
    "    col_wrap = 4 if len(row_order) > 4 else len(row_order)\n",
    "\n",
    "    sns_plot = sns.catplot(\n",
    "        data=df_all_metrics_for_dataset, x='concurrency', y='latency_p95',\n",
    "        col='instance', kind='box', col_wrap=col_wrap, hue=\"instance\", row_order=row_order, height=4.5, aspect=1.0\n",
    "    )\n",
    "    # flatten axes into a 1-d array\n",
    "    axes = sns_plot.axes.flatten()\n",
    "\n",
    "    # iterate through the axes\n",
    "    for i, ax in enumerate(axes):\n",
    "        ax.axhline(config['report']['latency_budget'], ls='--', c='red')\n",
    "    sns_plot._legend.remove()\n",
    "    sns_plot.fig.suptitle(f\"Effect of concurrency on inference latency for each instance type for the {ds} dataset\\n\\n\")\n",
    "    sns_plot = sns_plot.set_ylabels(\"Latency (seconds)\")\n",
    "    sns_plot = sns_plot.set_xlabels(\"Concurrency level\")\n",
    "    sns_plot.fig.subplots_adjust(top=0.9)\n",
    "\n",
    "    sns_plot.savefig(buffer, format='png')\n",
    "    buffer.seek(0)\n",
    "\n",
    "    # Write the plot to S3\n",
    "    write_to_s3(buffer.getvalue(), BUCKET_NAME, \"\", METRICS_DIR, CONCURRENCY_VS_INFERENCE_LATENCY_PLOT_FNAME)\n",
    "    logger.info(f\"Plot saved to s3://{BUCKET_NAME}/{METRICS_DIR}/{CONCURRENCY_VS_INFERENCE_LATENCY_PLOT_FNAME}\")"
   ]
  },
  {
   "cell_type": "code",
   "execution_count": 105,
   "metadata": {
    "tags": []
   },
   "outputs": [
    {
     "data": {
      "text/html": [
       "<div>\n",
       "<style scoped>\n",
       "    .dataframe tbody tr th:only-of-type {\n",
       "        vertical-align: middle;\n",
       "    }\n",
       "\n",
       "    .dataframe tbody tr th {\n",
       "        vertical-align: top;\n",
       "    }\n",
       "\n",
       "    .dataframe thead th {\n",
       "        text-align: right;\n",
       "    }\n",
       "</style>\n",
       "<table border=\"1\" class=\"dataframe\">\n",
       "  <thead>\n",
       "    <tr style=\"text-align: right;\">\n",
       "      <th></th>\n",
       "      <th>index</th>\n",
       "      <th>ml.m5.xlarge</th>\n",
       "      <th>ml.g5.xlarge</th>\n",
       "      <th>ml.g5.2xlarge</th>\n",
       "      <th>ml.g5.12xlarge</th>\n",
       "      <th>ml.g5.24xlarge</th>\n",
       "      <th>ml.g5.48xlarge</th>\n",
       "      <th>ml.inf2.xlarge</th>\n",
       "      <th>ml.inf2.8xlarge</th>\n",
       "      <th>ml.inf2.24xlarge</th>\n",
       "      <th>...</th>\n",
       "      <th>mistral.mistral-7b-instruct-v0:2</th>\n",
       "      <th>mistral.mixtral-8x7b-instruct-v0:1</th>\n",
       "      <th>meta.llama3-8b-instruct-v1:0</th>\n",
       "      <th>meta.llama3-70b-instruct-v1:0</th>\n",
       "      <th>meta.llama2-13b-chat-v1</th>\n",
       "      <th>meta.llama2-70b-chat-v1</th>\n",
       "      <th>ai21.j2-mid-v1</th>\n",
       "      <th>ai21.j2-ultra-v1</th>\n",
       "      <th>cohere.command-text-v14</th>\n",
       "      <th>cohere.command-light-text-v14</th>\n",
       "    </tr>\n",
       "  </thead>\n",
       "  <tbody>\n",
       "    <tr>\n",
       "      <th>0</th>\n",
       "      <td>instance_based</td>\n",
       "      <td>0.23</td>\n",
       "      <td>1.4084</td>\n",
       "      <td>1.515</td>\n",
       "      <td>7.09</td>\n",
       "      <td>10.18</td>\n",
       "      <td>20.36</td>\n",
       "      <td>0.99</td>\n",
       "      <td>2.36</td>\n",
       "      <td>7.79</td>\n",
       "      <td>...</td>\n",
       "      <td>NaN</td>\n",
       "      <td>NaN</td>\n",
       "      <td>NaN</td>\n",
       "      <td>NaN</td>\n",
       "      <td>NaN</td>\n",
       "      <td>NaN</td>\n",
       "      <td>NaN</td>\n",
       "      <td>NaN</td>\n",
       "      <td>NaN</td>\n",
       "      <td>NaN</td>\n",
       "    </tr>\n",
       "    <tr>\n",
       "      <th>1</th>\n",
       "      <td>token_based</td>\n",
       "      <td>NaN</td>\n",
       "      <td>NaN</td>\n",
       "      <td>NaN</td>\n",
       "      <td>NaN</td>\n",
       "      <td>NaN</td>\n",
       "      <td>NaN</td>\n",
       "      <td>NaN</td>\n",
       "      <td>NaN</td>\n",
       "      <td>NaN</td>\n",
       "      <td>...</td>\n",
       "      <td>{'input-per-1k-tokens': 0.00015, 'output-per-1...</td>\n",
       "      <td>{'input-per-1k-tokens': 0.00045, 'output-per-1...</td>\n",
       "      <td>{'input-per-1k-tokens': 0.0004, 'output-per-1k...</td>\n",
       "      <td>{'input-per-1k-tokens': 0.00265, 'output-per-1...</td>\n",
       "      <td>{'input-per-1k-tokens': 0.00075, 'output-per-1...</td>\n",
       "      <td>{'input-per-1k-tokens': 0.00195, 'output-per-1...</td>\n",
       "      <td>{'input-per-1k-tokens': 0.0125, 'output-per-1k...</td>\n",
       "      <td>{'input-per-1k-tokens': 0.0188, 'output-per-1k...</td>\n",
       "      <td>{'input-per-1k-tokens': 0.0015, 'output-per-1k...</td>\n",
       "      <td>{'input-per-1k-tokens': 0.0003, 'output-per-1k...</td>\n",
       "    </tr>\n",
       "  </tbody>\n",
       "</table>\n",
       "<p>2 rows × 56 columns</p>\n",
       "</div>"
      ],
      "text/plain": [
       "            index  ml.m5.xlarge  ml.g5.xlarge  ml.g5.2xlarge  ml.g5.12xlarge  \\\n",
       "0  instance_based          0.23        1.4084          1.515            7.09   \n",
       "1     token_based           NaN           NaN            NaN             NaN   \n",
       "\n",
       "   ml.g5.24xlarge  ml.g5.48xlarge  ml.inf2.xlarge  ml.inf2.8xlarge  \\\n",
       "0           10.18           20.36            0.99             2.36   \n",
       "1             NaN             NaN             NaN              NaN   \n",
       "\n",
       "   ml.inf2.24xlarge  ...                   mistral.mistral-7b-instruct-v0:2  \\\n",
       "0              7.79  ...                                                NaN   \n",
       "1               NaN  ...  {'input-per-1k-tokens': 0.00015, 'output-per-1...   \n",
       "\n",
       "                  mistral.mixtral-8x7b-instruct-v0:1  \\\n",
       "0                                                NaN   \n",
       "1  {'input-per-1k-tokens': 0.00045, 'output-per-1...   \n",
       "\n",
       "                        meta.llama3-8b-instruct-v1:0  \\\n",
       "0                                                NaN   \n",
       "1  {'input-per-1k-tokens': 0.0004, 'output-per-1k...   \n",
       "\n",
       "                       meta.llama3-70b-instruct-v1:0  \\\n",
       "0                                                NaN   \n",
       "1  {'input-per-1k-tokens': 0.00265, 'output-per-1...   \n",
       "\n",
       "                             meta.llama2-13b-chat-v1  \\\n",
       "0                                                NaN   \n",
       "1  {'input-per-1k-tokens': 0.00075, 'output-per-1...   \n",
       "\n",
       "                             meta.llama2-70b-chat-v1  \\\n",
       "0                                                NaN   \n",
       "1  {'input-per-1k-tokens': 0.00195, 'output-per-1...   \n",
       "\n",
       "                                      ai21.j2-mid-v1  \\\n",
       "0                                                NaN   \n",
       "1  {'input-per-1k-tokens': 0.0125, 'output-per-1k...   \n",
       "\n",
       "                                    ai21.j2-ultra-v1  \\\n",
       "0                                                NaN   \n",
       "1  {'input-per-1k-tokens': 0.0188, 'output-per-1k...   \n",
       "\n",
       "                             cohere.command-text-v14  \\\n",
       "0                                                NaN   \n",
       "1  {'input-per-1k-tokens': 0.0015, 'output-per-1k...   \n",
       "\n",
       "                       cohere.command-light-text-v14  \n",
       "0                                                NaN  \n",
       "1  {'input-per-1k-tokens': 0.0003, 'output-per-1k...  \n",
       "\n",
       "[2 rows x 56 columns]"
      ]
     },
     "execution_count": 105,
     "metadata": {},
     "output_type": "execute_result"
    }
   ],
   "source": [
    "df_pricing = pd.DataFrame.from_dict(pricing_config['pricing'], orient='index').reset_index()\n",
    "df_pricing"
   ]
  },
  {
   "cell_type": "code",
   "execution_count": 106,
   "metadata": {
    "tags": []
   },
   "outputs": [
    {
     "data": {
      "text/html": [
       "<div>\n",
       "<style scoped>\n",
       "    .dataframe tbody tr th:only-of-type {\n",
       "        vertical-align: middle;\n",
       "    }\n",
       "\n",
       "    .dataframe tbody tr th {\n",
       "        vertical-align: top;\n",
       "    }\n",
       "\n",
       "    .dataframe thead th {\n",
       "        text-align: right;\n",
       "    }\n",
       "</style>\n",
       "<table border=\"1\" class=\"dataframe\">\n",
       "  <thead>\n",
       "    <tr style=\"text-align: right;\">\n",
       "      <th></th>\n",
       "      <th>experiment_name</th>\n",
       "      <th>payload_file</th>\n",
       "      <th>instance_type</th>\n",
       "      <th>instance_count</th>\n",
       "      <th>concurrency</th>\n",
       "      <th>error_rate</th>\n",
       "      <th>prompt_token_count_mean</th>\n",
       "      <th>prompt_token_throughput</th>\n",
       "      <th>completion_token_count_mean</th>\n",
       "      <th>completion_token_throughput</th>\n",
       "      <th>latency_p50</th>\n",
       "      <th>latency_p95</th>\n",
       "      <th>latency_p99</th>\n",
       "      <th>transactions_per_minute</th>\n",
       "    </tr>\n",
       "  </thead>\n",
       "  <tbody>\n",
       "    <tr>\n",
       "      <th>3</th>\n",
       "      <td>anthropic.claude-3-haiku-20240307-v1:0</td>\n",
       "      <td>payload_en_3000-4000.jsonl</td>\n",
       "      <td>anthropic.claude-3-haiku-20240307-v1:0</td>\n",
       "      <td>1.0</td>\n",
       "      <td>1</td>\n",
       "      <td>0.0</td>\n",
       "      <td>4515</td>\n",
       "      <td>4589</td>\n",
       "      <td>64</td>\n",
       "      <td>59</td>\n",
       "      <td>1.05</td>\n",
       "      <td>1.05</td>\n",
       "      <td>1.05</td>\n",
       "      <td>60</td>\n",
       "    </tr>\n",
       "    <tr>\n",
       "      <th>8</th>\n",
       "      <td>anthropic.claude-3-sonnet-20240229-v1:0</td>\n",
       "      <td>payload_en_3000-4000.jsonl</td>\n",
       "      <td>anthropic.claude-3-sonnet-20240229-v1:0</td>\n",
       "      <td>1.0</td>\n",
       "      <td>1</td>\n",
       "      <td>0.0</td>\n",
       "      <td>4515</td>\n",
       "      <td>1360</td>\n",
       "      <td>69</td>\n",
       "      <td>19</td>\n",
       "      <td>3.67</td>\n",
       "      <td>3.67</td>\n",
       "      <td>3.67</td>\n",
       "      <td>17</td>\n",
       "    </tr>\n",
       "  </tbody>\n",
       "</table>\n",
       "</div>"
      ],
      "text/plain": [
       "                           experiment_name                payload_file  \\\n",
       "3   anthropic.claude-3-haiku-20240307-v1:0  payload_en_3000-4000.jsonl   \n",
       "8  anthropic.claude-3-sonnet-20240229-v1:0  payload_en_3000-4000.jsonl   \n",
       "\n",
       "                             instance_type  instance_count  concurrency  \\\n",
       "3   anthropic.claude-3-haiku-20240307-v1:0             1.0            1   \n",
       "8  anthropic.claude-3-sonnet-20240229-v1:0             1.0            1   \n",
       "\n",
       "   error_rate  prompt_token_count_mean  prompt_token_throughput  \\\n",
       "3         0.0                     4515                     4589   \n",
       "8         0.0                     4515                     1360   \n",
       "\n",
       "   completion_token_count_mean  completion_token_throughput  latency_p50  \\\n",
       "3                           64                           59         1.05   \n",
       "8                           69                           19         3.67   \n",
       "\n",
       "   latency_p95  latency_p99  transactions_per_minute  \n",
       "3         1.05         1.05                       60  \n",
       "8         3.67         3.67                       17  "
      ]
     },
     "execution_count": 106,
     "metadata": {},
     "output_type": "execute_result"
    }
   ],
   "source": [
    "df_summary_metrics_dataset"
   ]
  },
  {
   "cell_type": "markdown",
   "metadata": {},
   "source": [
    "### Handle pricing for token based pricing & hourly (instance type) pricing models"
   ]
  },
  {
   "cell_type": "code",
   "execution_count": 107,
   "metadata": {
    "tags": []
   },
   "outputs": [],
   "source": [
    "def calculate_cost_per_txn(row: pd.Series, pricing: Dict) -> Optional[float]:\n",
    "    \"\"\"\n",
    "    The instance type is supposed to be unique across all inference options\n",
    "    whether it is hourly pricing based instances (g5/p4 etc.) or Bedrock\n",
    "    model ids or anything else.\n",
    "    \"\"\"\n",
    "\n",
    "    cost_per_txn: Optional[float] = None\n",
    "    # check if this is instance type\n",
    "    pricing_for_this_instance = pricing['pricing']['instance_based'].get(row['instance_type'])\n",
    "    if pricing_for_this_instance:\n",
    "        # this is instance based pricing so then cost per txn is simply\n",
    "        logger.info(f\"pricing for {row['instance_type']} -> {pricing_for_this_instance}\")\n",
    "        if row['transactions_per_minute'] > 0:\n",
    "            instance_count = row.get('instance_count', 1)\n",
    "            logger.info(f\"calculate_cost_per_txn, instance_count={instance_count}\")\n",
    "            cost_per_txn = ((pricing_for_this_instance / 60) * instance_count) / row['transactions_per_minute']\n",
    "        else:\n",
    "            logger.info(f\"transactions_per_minute={row['transactions_per_minute']}, setting cost_per_txn=None\")\n",
    "            cost_per_txn = None\n",
    "            \n",
    "    else:\n",
    "        # this is token based pricing\n",
    "        token_based_pricing_this_model = pricing['pricing']['token_based'].get(row['instance_type'])\n",
    "        logger.info(f\"pricing for {row['instance_type']} -> {token_based_pricing_this_model}\")\n",
    "        if token_based_pricing_this_model:\n",
    "            input_token_cost = (row['prompt_token_count_mean']/1000) * \\\n",
    "                                token_based_pricing_this_model['input-per-1k-tokens']\n",
    "            output_token_cost = (row['completion_token_count_mean']/1000) * \\\n",
    "                                token_based_pricing_this_model['output-per-1k-tokens']\n",
    "            cost_per_txn = input_token_cost + output_token_cost\n",
    "        else:\n",
    "            logger.error(f\"no pricing information found for {row['instance_type']}\")\n",
    "    return cost_per_txn"
   ]
  },
  {
   "cell_type": "code",
   "execution_count": 108,
   "metadata": {
    "tags": []
   },
   "outputs": [
    {
     "name": "stderr",
     "output_type": "stream",
     "text": [
      "[2024-08-12 23:42:16,218] p31041 {3928684410.py:25} INFO - pricing for anthropic.claude-3-haiku-20240307-v1:0 -> {'input-per-1k-tokens': 0.00025, 'output-per-1k-tokens': 0.00125}\n",
      "[2024-08-12 23:42:16,220] p31041 {3928684410.py:25} INFO - pricing for anthropic.claude-3-sonnet-20240229-v1:0 -> {'input-per-1k-tokens': 0.003, 'output-per-1k-tokens': 0.015}\n",
      "/tmp/ipykernel_31041/217009477.py:1: SettingWithCopyWarning:\n",
      "\n",
      "\n",
      "A value is trying to be set on a copy of a slice from a DataFrame.\n",
      "Try using .loc[row_indexer,col_indexer] = value instead\n",
      "\n",
      "See the caveats in the documentation: https://pandas.pydata.org/pandas-docs/stable/user_guide/indexing.html#returning-a-view-versus-a-copy\n",
      "\n"
     ]
    }
   ],
   "source": [
    "df_summary_metrics_dataset['price_per_txn'] = df_summary_metrics_dataset.apply(lambda r: calculate_cost_per_txn(r, pricing_config),\n",
    "                                                                               axis=1)"
   ]
  },
  {
   "cell_type": "code",
   "execution_count": 109,
   "metadata": {
    "tags": []
   },
   "outputs": [
    {
     "name": "stderr",
     "output_type": "stream",
     "text": [
      "/tmp/ipykernel_31041/3444174930.py:1: SettingWithCopyWarning:\n",
      "\n",
      "\n",
      "A value is trying to be set on a copy of a slice from a DataFrame.\n",
      "Try using .loc[row_indexer,col_indexer] = value instead\n",
      "\n",
      "See the caveats in the documentation: https://pandas.pydata.org/pandas-docs/stable/user_guide/indexing.html#returning-a-view-versus-a-copy\n",
      "\n",
      "/tmp/ipykernel_31041/3444174930.py:5: SettingWithCopyWarning:\n",
      "\n",
      "\n",
      "A value is trying to be set on a copy of a slice from a DataFrame.\n",
      "Try using .loc[row_indexer,col_indexer] = value instead\n",
      "\n",
      "See the caveats in the documentation: https://pandas.pydata.org/pandas-docs/stable/user_guide/indexing.html#returning-a-view-versus-a-copy\n",
      "\n"
     ]
    }
   ],
   "source": [
    "df_summary_metrics_dataset['price_per_token'] = (df_summary_metrics_dataset['price_per_txn'] / \n",
    "                                                (df_summary_metrics_dataset['prompt_token_count_mean'] + \n",
    "                                                 df_summary_metrics_dataset['completion_token_count_mean']))\n",
    "\n",
    "df_summary_metrics_dataset['price_per_token'] = df_summary_metrics_dataset['price_per_token'].apply(lambda x: '{:.8f}'.format(x))"
   ]
  },
  {
   "cell_type": "code",
   "execution_count": 110,
   "metadata": {
    "tags": []
   },
   "outputs": [
    {
     "data": {
      "text/html": [
       "<div>\n",
       "<style scoped>\n",
       "    .dataframe tbody tr th:only-of-type {\n",
       "        vertical-align: middle;\n",
       "    }\n",
       "\n",
       "    .dataframe tbody tr th {\n",
       "        vertical-align: top;\n",
       "    }\n",
       "\n",
       "    .dataframe thead th {\n",
       "        text-align: right;\n",
       "    }\n",
       "</style>\n",
       "<table border=\"1\" class=\"dataframe\">\n",
       "  <thead>\n",
       "    <tr style=\"text-align: right;\">\n",
       "      <th></th>\n",
       "      <th>experiment_name</th>\n",
       "      <th>payload_file</th>\n",
       "      <th>instance_type</th>\n",
       "      <th>instance_count</th>\n",
       "      <th>concurrency</th>\n",
       "      <th>error_rate</th>\n",
       "      <th>prompt_token_count_mean</th>\n",
       "      <th>prompt_token_throughput</th>\n",
       "      <th>completion_token_count_mean</th>\n",
       "      <th>completion_token_throughput</th>\n",
       "      <th>latency_p50</th>\n",
       "      <th>latency_p95</th>\n",
       "      <th>latency_p99</th>\n",
       "      <th>transactions_per_minute</th>\n",
       "      <th>price_per_txn</th>\n",
       "      <th>price_per_token</th>\n",
       "    </tr>\n",
       "  </thead>\n",
       "  <tbody>\n",
       "    <tr>\n",
       "      <th>3</th>\n",
       "      <td>anthropic.claude-3-haiku-20240307-v1:0</td>\n",
       "      <td>payload_en_3000-4000.jsonl</td>\n",
       "      <td>anthropic.claude-3-haiku-20240307-v1:0</td>\n",
       "      <td>1.0</td>\n",
       "      <td>1</td>\n",
       "      <td>0.0</td>\n",
       "      <td>4515</td>\n",
       "      <td>4589</td>\n",
       "      <td>64</td>\n",
       "      <td>59</td>\n",
       "      <td>1.05</td>\n",
       "      <td>1.05</td>\n",
       "      <td>1.05</td>\n",
       "      <td>60</td>\n",
       "      <td>0.001209</td>\n",
       "      <td>0.00000026</td>\n",
       "    </tr>\n",
       "    <tr>\n",
       "      <th>8</th>\n",
       "      <td>anthropic.claude-3-sonnet-20240229-v1:0</td>\n",
       "      <td>payload_en_3000-4000.jsonl</td>\n",
       "      <td>anthropic.claude-3-sonnet-20240229-v1:0</td>\n",
       "      <td>1.0</td>\n",
       "      <td>1</td>\n",
       "      <td>0.0</td>\n",
       "      <td>4515</td>\n",
       "      <td>1360</td>\n",
       "      <td>69</td>\n",
       "      <td>19</td>\n",
       "      <td>3.67</td>\n",
       "      <td>3.67</td>\n",
       "      <td>3.67</td>\n",
       "      <td>17</td>\n",
       "      <td>0.014580</td>\n",
       "      <td>0.00000318</td>\n",
       "    </tr>\n",
       "  </tbody>\n",
       "</table>\n",
       "</div>"
      ],
      "text/plain": [
       "                           experiment_name                payload_file  \\\n",
       "3   anthropic.claude-3-haiku-20240307-v1:0  payload_en_3000-4000.jsonl   \n",
       "8  anthropic.claude-3-sonnet-20240229-v1:0  payload_en_3000-4000.jsonl   \n",
       "\n",
       "                             instance_type  instance_count  concurrency  \\\n",
       "3   anthropic.claude-3-haiku-20240307-v1:0             1.0            1   \n",
       "8  anthropic.claude-3-sonnet-20240229-v1:0             1.0            1   \n",
       "\n",
       "   error_rate  prompt_token_count_mean  prompt_token_throughput  \\\n",
       "3         0.0                     4515                     4589   \n",
       "8         0.0                     4515                     1360   \n",
       "\n",
       "   completion_token_count_mean  completion_token_throughput  latency_p50  \\\n",
       "3                           64                           59         1.05   \n",
       "8                           69                           19         3.67   \n",
       "\n",
       "   latency_p95  latency_p99  transactions_per_minute  price_per_txn  \\\n",
       "3         1.05         1.05                       60       0.001209   \n",
       "8         3.67         3.67                       17       0.014580   \n",
       "\n",
       "  price_per_token  \n",
       "3      0.00000026  \n",
       "8      0.00000318  "
      ]
     },
     "execution_count": 110,
     "metadata": {},
     "output_type": "execute_result"
    }
   ],
   "source": [
    "df_summary_metrics_dataset"
   ]
  },
  {
   "cell_type": "code",
   "execution_count": 111,
   "metadata": {
    "tags": []
   },
   "outputs": [],
   "source": [
    "def score_run(row: pd.core.series.Series, config: Dict) -> Dict:\n",
    "    \"\"\"\n",
    "    check all criteria configured in the report section of the config\n",
    "    these are error rates, latency and cost to determine the \"score\"\n",
    "    for each run in the following way:\n",
    "    1. Set score to 0, criteria failed to false.\n",
    "    2. If the run has an error rate lte to the error rate budget,\n",
    "       add 1 to the score otherwise set set criteria failed to true.\n",
    "    3. If the run has a price per 10k txns lte to the cost budget,\n",
    "       add 1 to the score otherwise set set criteria failed to true.\n",
    "    4. If the run has p95 latency lte to the latency budget,\n",
    "       add 1 to the score otherwise set set criteria failed to true.\n",
    "    5. If criteria failed is false add the concurrency to the score.\n",
    "    The idea that we want to select runs that satisfy cost/error rate/latency criteria\n",
    "    and out of those prefer the run with the highest level of concurrency.\n",
    "    \"\"\"\n",
    "    score: float = 0\n",
    "    point_per_criterion: int = 1\n",
    "    any_criterion_failed: bool = False\n",
    "    error_rate_criterion_failed: bool = False\n",
    "    cost_per_txn_criterion_failed: bool = False\n",
    "    latency_criterion_failed: bool = False\n",
    "\n",
    "    mk_text_green = lambda k, m=1: f\"<span style='color:green'>{row[k]*m:0.2f}</span>\"\n",
    "    mk_text_red = lambda k, m=1: f\"<span style='color:red'>**{row[k]*m:0.2f}**</span>\"\n",
    "    mk_text_red2 = lambda k: f\"<span style='color:red'>**{row[k]}**</span>\"\n",
    "    \n",
    "    # error rate\n",
    "    threshold: float = config['report'].get('error_rate_budget', 0)\n",
    "    if row['error_rate'] <= threshold:\n",
    "        score += point_per_criterion\n",
    "        error_rate_text = mk_text_green('error_rate')\n",
    "    else:\n",
    "        error_rate_criterion_failed = True\n",
    "        error_rate_text = mk_text_red('error_rate')\n",
    "        logger.info(f\"score_run, experiment_name={row['experiment_name']}, setting \"\n",
    "                    f\"error_rate_criterion_failed={error_rate_criterion_failed} because \"\n",
    "                    f\"error_rate={row['error_rate']} > threshold={threshold}\")\n",
    "\n",
    "    # latency\n",
    "    threshold: float = config['report'].get('latency_budget', 10)\n",
    "    if row['latency_p95'] <= threshold:\n",
    "        # extra points for better latency\n",
    "        score += point_per_criterion + (threshold-row['latency_p95'])/threshold\n",
    "        latency_p95_text = mk_text_green('latency_p95')\n",
    "    else:\n",
    "        latency_criterion_failed = True\n",
    "        latency_p95_text = mk_text_red('latency_p95')\n",
    "        logger.info(f\"score_run, experiment_name={row['experiment_name']}, setting \"\n",
    "                    f\"latency_criterion_failed={latency_criterion_failed} because \"\n",
    "                    f\"latency_p95={row['latency_p95']} > threshold={threshold}\")\n",
    "\n",
    "    # cost_per_10k_txn_budget\n",
    "    threshold: float = config['report'].get('cost_per_10k_txn_budget', 5)\n",
    "    if row['price_per_txn'] and row['price_per_txn'] * 10000 <= threshold:\n",
    "        # extra points for better price\n",
    "        score += point_per_criterion + (threshold-(row['price_per_txn']* 10000))/threshold     \n",
    "        price_per_10k_txn_text = mk_text_green('price_per_txn', m=10000)\n",
    "    else:\n",
    "        cost_per_txn_criterion_failed = True\n",
    "        if row['price_per_txn']:\n",
    "            price_per_10k_txn_text = mk_text_red('price_per_txn', m=10000)\n",
    "            cost_per_10k_txn = row['price_per_txn'] * 10000\n",
    "        else:\n",
    "            cost_per_10k_txn = None\n",
    "            price_per_10k_txn_text = mk_text_red2('price_per_txn')\n",
    "\n",
    "        logger.info(f\"score_run, experiment_name={row['experiment_name']}, setting \"\n",
    "                    f\"cost_per_txn_criterion_failed={cost_per_txn_criterion_failed} because \"\n",
    "                    f\"cost_per_10k_txn={cost_per_10k_txn} > threshold={threshold}\")\n",
    "\n",
    "    # if all criteria passed then add points for concurrency\n",
    "    # we want to select the run with the highest concurrency amongst\n",
    "    # all runs that satisfy all criteria\n",
    "    any_criterion_failed = error_rate_criterion_failed or \\\n",
    "                           latency_criterion_failed or \\\n",
    "                           cost_per_txn_criterion_failed\n",
    "\n",
    "    if any_criterion_failed is True:\n",
    "        logger.info(f\"experiment_name={row['experiment_name']}, not adding points for \"\n",
    "                    f\"concurrency because any_criterion_failed={any_criterion_failed}\")\n",
    "    else:\n",
    "        score += row['concurrency']\n",
    "\n",
    "    score_dict = dict(score=score,\n",
    "                      any_criterion_failed=any_criterion_failed,\n",
    "                      error_rate_criterion_failed=error_rate_criterion_failed,\n",
    "                      latency_criterion_failed=latency_criterion_failed,\n",
    "                      cost_per_txn_criterion_failed=cost_per_txn_criterion_failed,\n",
    "                      error_rate_text=error_rate_text,\n",
    "                      latency_p95_text=latency_p95_text,\n",
    "                      price_per_10k_txn_text=price_per_10k_txn_text)\n",
    "    logger.info(json.dumps(row.to_dict() | score_dict, indent=2, default=str))\n",
    "    return score_dict"
   ]
  },
  {
   "cell_type": "code",
   "execution_count": 112,
   "metadata": {
    "tags": []
   },
   "outputs": [
    {
     "name": "stderr",
     "output_type": "stream",
     "text": [
      "[2024-08-12 23:42:16,272] p31041 {2835114254.py:93} INFO - {\n",
      "  \"experiment_name\": \"anthropic.claude-3-haiku-20240307-v1:0\",\n",
      "  \"payload_file\": \"payload_en_3000-4000.jsonl\",\n",
      "  \"instance_type\": \"anthropic.claude-3-haiku-20240307-v1:0\",\n",
      "  \"instance_count\": 1.0,\n",
      "  \"concurrency\": 1,\n",
      "  \"error_rate\": 0.0,\n",
      "  \"prompt_token_count_mean\": 4515,\n",
      "  \"prompt_token_throughput\": 4589,\n",
      "  \"completion_token_count_mean\": 64,\n",
      "  \"completion_token_throughput\": 59,\n",
      "  \"latency_p50\": 1.05,\n",
      "  \"latency_p95\": 1.05,\n",
      "  \"latency_p99\": 1.05,\n",
      "  \"transactions_per_minute\": 60,\n",
      "  \"price_per_txn\": 0.00120875,\n",
      "  \"price_per_token\": \"0.00000026\",\n",
      "  \"score\": 5.755464285714286,\n",
      "  \"any_criterion_failed\": false,\n",
      "  \"error_rate_criterion_failed\": false,\n",
      "  \"latency_criterion_failed\": false,\n",
      "  \"cost_per_txn_criterion_failed\": false,\n",
      "  \"error_rate_text\": \"<span style='color:green'>0.00</span>\",\n",
      "  \"latency_p95_text\": \"<span style='color:green'>1.05</span>\",\n",
      "  \"price_per_10k_txn_text\": \"<span style='color:green'>12.09</span>\"\n",
      "}\n",
      "[2024-08-12 23:42:16,273] p31041 {2835114254.py:93} INFO - {\n",
      "  \"experiment_name\": \"anthropic.claude-3-sonnet-20240229-v1:0\",\n",
      "  \"payload_file\": \"payload_en_3000-4000.jsonl\",\n",
      "  \"instance_type\": \"anthropic.claude-3-sonnet-20240229-v1:0\",\n",
      "  \"instance_count\": 1.0,\n",
      "  \"concurrency\": 1,\n",
      "  \"error_rate\": 0.0,\n",
      "  \"prompt_token_count_mean\": 4515,\n",
      "  \"prompt_token_throughput\": 1360,\n",
      "  \"completion_token_count_mean\": 69,\n",
      "  \"completion_token_throughput\": 19,\n",
      "  \"latency_p50\": 3.67,\n",
      "  \"latency_p95\": 3.67,\n",
      "  \"latency_p99\": 3.67,\n",
      "  \"transactions_per_minute\": 17,\n",
      "  \"price_per_txn\": 0.01458,\n",
      "  \"price_per_token\": \"0.00000318\",\n",
      "  \"score\": 4.849428571428572,\n",
      "  \"any_criterion_failed\": false,\n",
      "  \"error_rate_criterion_failed\": false,\n",
      "  \"latency_criterion_failed\": false,\n",
      "  \"cost_per_txn_criterion_failed\": false,\n",
      "  \"error_rate_text\": \"<span style='color:green'>0.00</span>\",\n",
      "  \"latency_p95_text\": \"<span style='color:green'>3.67</span>\",\n",
      "  \"price_per_10k_txn_text\": \"<span style='color:green'>145.80</span>\"\n",
      "}\n",
      "/tmp/ipykernel_31041/3624342965.py:1: SettingWithCopyWarning:\n",
      "\n",
      "\n",
      "A value is trying to be set on a copy of a slice from a DataFrame.\n",
      "Try using .loc[row_indexer,col_indexer] = value instead\n",
      "\n",
      "See the caveats in the documentation: https://pandas.pydata.org/pandas-docs/stable/user_guide/indexing.html#returning-a-view-versus-a-copy\n",
      "\n",
      "/tmp/ipykernel_31041/3624342965.py:4: SettingWithCopyWarning:\n",
      "\n",
      "\n",
      "A value is trying to be set on a copy of a slice from a DataFrame.\n",
      "Try using .loc[row_indexer,col_indexer] = value instead\n",
      "\n",
      "See the caveats in the documentation: https://pandas.pydata.org/pandas-docs/stable/user_guide/indexing.html#returning-a-view-versus-a-copy\n",
      "\n",
      "/tmp/ipykernel_31041/3624342965.py:4: SettingWithCopyWarning:\n",
      "\n",
      "\n",
      "A value is trying to be set on a copy of a slice from a DataFrame.\n",
      "Try using .loc[row_indexer,col_indexer] = value instead\n",
      "\n",
      "See the caveats in the documentation: https://pandas.pydata.org/pandas-docs/stable/user_guide/indexing.html#returning-a-view-versus-a-copy\n",
      "\n",
      "/tmp/ipykernel_31041/3624342965.py:4: SettingWithCopyWarning:\n",
      "\n",
      "\n",
      "A value is trying to be set on a copy of a slice from a DataFrame.\n",
      "Try using .loc[row_indexer,col_indexer] = value instead\n",
      "\n",
      "See the caveats in the documentation: https://pandas.pydata.org/pandas-docs/stable/user_guide/indexing.html#returning-a-view-versus-a-copy\n",
      "\n",
      "/tmp/ipykernel_31041/3624342965.py:4: SettingWithCopyWarning:\n",
      "\n",
      "\n",
      "A value is trying to be set on a copy of a slice from a DataFrame.\n",
      "Try using .loc[row_indexer,col_indexer] = value instead\n",
      "\n",
      "See the caveats in the documentation: https://pandas.pydata.org/pandas-docs/stable/user_guide/indexing.html#returning-a-view-versus-a-copy\n",
      "\n",
      "/tmp/ipykernel_31041/3624342965.py:4: SettingWithCopyWarning:\n",
      "\n",
      "\n",
      "A value is trying to be set on a copy of a slice from a DataFrame.\n",
      "Try using .loc[row_indexer,col_indexer] = value instead\n",
      "\n",
      "See the caveats in the documentation: https://pandas.pydata.org/pandas-docs/stable/user_guide/indexing.html#returning-a-view-versus-a-copy\n",
      "\n",
      "/tmp/ipykernel_31041/3624342965.py:4: SettingWithCopyWarning:\n",
      "\n",
      "\n",
      "A value is trying to be set on a copy of a slice from a DataFrame.\n",
      "Try using .loc[row_indexer,col_indexer] = value instead\n",
      "\n",
      "See the caveats in the documentation: https://pandas.pydata.org/pandas-docs/stable/user_guide/indexing.html#returning-a-view-versus-a-copy\n",
      "\n",
      "/tmp/ipykernel_31041/3624342965.py:4: SettingWithCopyWarning:\n",
      "\n",
      "\n",
      "A value is trying to be set on a copy of a slice from a DataFrame.\n",
      "Try using .loc[row_indexer,col_indexer] = value instead\n",
      "\n",
      "See the caveats in the documentation: https://pandas.pydata.org/pandas-docs/stable/user_guide/indexing.html#returning-a-view-versus-a-copy\n",
      "\n",
      "/tmp/ipykernel_31041/3624342965.py:4: SettingWithCopyWarning:\n",
      "\n",
      "\n",
      "A value is trying to be set on a copy of a slice from a DataFrame.\n",
      "Try using .loc[row_indexer,col_indexer] = value instead\n",
      "\n",
      "See the caveats in the documentation: https://pandas.pydata.org/pandas-docs/stable/user_guide/indexing.html#returning-a-view-versus-a-copy\n",
      "\n"
     ]
    }
   ],
   "source": [
    "df_summary_metrics_dataset['score_dict'] = df_summary_metrics_dataset.apply(lambda row: score_run(row, config), axis=1)\n",
    "score_keys = df_summary_metrics_dataset.score_dict.iloc[0].keys()\n",
    "for k in score_keys:\n",
    "    df_summary_metrics_dataset[k] = df_summary_metrics_dataset.score_dict.map(lambda d: d[k])"
   ]
  },
  {
   "cell_type": "code",
   "execution_count": 113,
   "metadata": {
    "tags": []
   },
   "outputs": [
    {
     "name": "stderr",
     "output_type": "stream",
     "text": [
      "[2024-08-12 23:42:16,404] p31041 {3750655657.py:11} INFO - Summary metrics dataset saved to s3://sagemaker-fmbench-write-us-east-1-015469603702/fmbench-bedrock-anthropic-models-SageMaker-ExecutionRole-20240111T084686/data/metrics/yyyy=2024/mm=08/dd=12/hh=22/mm=16/summary_metrics_for_dataset_w_scores.csv\n"
     ]
    },
    {
     "data": {
      "text/html": [
       "<div>\n",
       "<style scoped>\n",
       "    .dataframe tbody tr th:only-of-type {\n",
       "        vertical-align: middle;\n",
       "    }\n",
       "\n",
       "    .dataframe tbody tr th {\n",
       "        vertical-align: top;\n",
       "    }\n",
       "\n",
       "    .dataframe thead th {\n",
       "        text-align: right;\n",
       "    }\n",
       "</style>\n",
       "<table border=\"1\" class=\"dataframe\">\n",
       "  <thead>\n",
       "    <tr style=\"text-align: right;\">\n",
       "      <th></th>\n",
       "      <th>experiment_name</th>\n",
       "      <th>payload_file</th>\n",
       "      <th>instance_type</th>\n",
       "      <th>instance_count</th>\n",
       "      <th>concurrency</th>\n",
       "      <th>error_rate</th>\n",
       "      <th>prompt_token_count_mean</th>\n",
       "      <th>prompt_token_throughput</th>\n",
       "      <th>completion_token_count_mean</th>\n",
       "      <th>completion_token_throughput</th>\n",
       "      <th>...</th>\n",
       "      <th>price_per_token</th>\n",
       "      <th>score_dict</th>\n",
       "      <th>score</th>\n",
       "      <th>any_criterion_failed</th>\n",
       "      <th>error_rate_criterion_failed</th>\n",
       "      <th>latency_criterion_failed</th>\n",
       "      <th>cost_per_txn_criterion_failed</th>\n",
       "      <th>error_rate_text</th>\n",
       "      <th>latency_p95_text</th>\n",
       "      <th>price_per_10k_txn_text</th>\n",
       "    </tr>\n",
       "  </thead>\n",
       "  <tbody>\n",
       "    <tr>\n",
       "      <th>3</th>\n",
       "      <td>anthropic.claude-3-haiku-20240307-v1:0</td>\n",
       "      <td>payload_en_3000-4000.jsonl</td>\n",
       "      <td>anthropic.claude-3-haiku-20240307-v1:0</td>\n",
       "      <td>1.0</td>\n",
       "      <td>1</td>\n",
       "      <td>0.0</td>\n",
       "      <td>4515</td>\n",
       "      <td>4589</td>\n",
       "      <td>64</td>\n",
       "      <td>59</td>\n",
       "      <td>...</td>\n",
       "      <td>0.00000026</td>\n",
       "      <td>{'score': 5.755464285714286, 'any_criterion_fa...</td>\n",
       "      <td>5.755464</td>\n",
       "      <td>False</td>\n",
       "      <td>False</td>\n",
       "      <td>False</td>\n",
       "      <td>False</td>\n",
       "      <td>&lt;span style='color:green'&gt;0.00&lt;/span&gt;</td>\n",
       "      <td>&lt;span style='color:green'&gt;1.05&lt;/span&gt;</td>\n",
       "      <td>&lt;span style='color:green'&gt;12.09&lt;/span&gt;</td>\n",
       "    </tr>\n",
       "    <tr>\n",
       "      <th>8</th>\n",
       "      <td>anthropic.claude-3-sonnet-20240229-v1:0</td>\n",
       "      <td>payload_en_3000-4000.jsonl</td>\n",
       "      <td>anthropic.claude-3-sonnet-20240229-v1:0</td>\n",
       "      <td>1.0</td>\n",
       "      <td>1</td>\n",
       "      <td>0.0</td>\n",
       "      <td>4515</td>\n",
       "      <td>1360</td>\n",
       "      <td>69</td>\n",
       "      <td>19</td>\n",
       "      <td>...</td>\n",
       "      <td>0.00000318</td>\n",
       "      <td>{'score': 4.849428571428572, 'any_criterion_fa...</td>\n",
       "      <td>4.849429</td>\n",
       "      <td>False</td>\n",
       "      <td>False</td>\n",
       "      <td>False</td>\n",
       "      <td>False</td>\n",
       "      <td>&lt;span style='color:green'&gt;0.00&lt;/span&gt;</td>\n",
       "      <td>&lt;span style='color:green'&gt;3.67&lt;/span&gt;</td>\n",
       "      <td>&lt;span style='color:green'&gt;145.80&lt;/span&gt;</td>\n",
       "    </tr>\n",
       "  </tbody>\n",
       "</table>\n",
       "<p>2 rows × 25 columns</p>\n",
       "</div>"
      ],
      "text/plain": [
       "                           experiment_name                payload_file  \\\n",
       "3   anthropic.claude-3-haiku-20240307-v1:0  payload_en_3000-4000.jsonl   \n",
       "8  anthropic.claude-3-sonnet-20240229-v1:0  payload_en_3000-4000.jsonl   \n",
       "\n",
       "                             instance_type  instance_count  concurrency  \\\n",
       "3   anthropic.claude-3-haiku-20240307-v1:0             1.0            1   \n",
       "8  anthropic.claude-3-sonnet-20240229-v1:0             1.0            1   \n",
       "\n",
       "   error_rate  prompt_token_count_mean  prompt_token_throughput  \\\n",
       "3         0.0                     4515                     4589   \n",
       "8         0.0                     4515                     1360   \n",
       "\n",
       "   completion_token_count_mean  completion_token_throughput  ...  \\\n",
       "3                           64                           59  ...   \n",
       "8                           69                           19  ...   \n",
       "\n",
       "   price_per_token                                         score_dict  \\\n",
       "3       0.00000026  {'score': 5.755464285714286, 'any_criterion_fa...   \n",
       "8       0.00000318  {'score': 4.849428571428572, 'any_criterion_fa...   \n",
       "\n",
       "      score  any_criterion_failed  error_rate_criterion_failed  \\\n",
       "3  5.755464                 False                        False   \n",
       "8  4.849429                 False                        False   \n",
       "\n",
       "  latency_criterion_failed cost_per_txn_criterion_failed  \\\n",
       "3                    False                         False   \n",
       "8                    False                         False   \n",
       "\n",
       "                         error_rate_text  \\\n",
       "3  <span style='color:green'>0.00</span>   \n",
       "8  <span style='color:green'>0.00</span>   \n",
       "\n",
       "                        latency_p95_text  \\\n",
       "3  <span style='color:green'>1.05</span>   \n",
       "8  <span style='color:green'>3.67</span>   \n",
       "\n",
       "                    price_per_10k_txn_text  \n",
       "3   <span style='color:green'>12.09</span>  \n",
       "8  <span style='color:green'>145.80</span>  \n",
       "\n",
       "[2 rows x 25 columns]"
      ]
     },
     "execution_count": 113,
     "metadata": {},
     "output_type": "execute_result"
    }
   ],
   "source": [
    "df_summary_metrics_dataset = df_summary_metrics_dataset.sort_values(by=\"score\", ascending=False)\n",
    "file_path_df = os.path.join(METRICS_DIR, SUMMARY_METRICS_FOR_DATASET_W_SCORES_FNAME)\n",
    "\n",
    "csv_buffer = io.StringIO()\n",
    "os.makedirs(os.path.dirname(file_path_df), exist_ok=True)\n",
    "df_summary_metrics_dataset.to_csv(file_path_df, index=False)\n",
    "summary_metrics_dataset_csv = csv_buffer.getvalue()\n",
    "\n",
    "# Write the CSV data to S3\n",
    "write_to_s3(summary_metrics_dataset_csv, config['aws']['bucket'], \"\", METRICS_DIR, SUMMARY_METRICS_FOR_DATASET_W_SCORES_FNAME)\n",
    "logger.info(f\"Summary metrics dataset saved to s3://{config['aws']['bucket']}/{METRICS_DIR}/{SUMMARY_METRICS_FOR_DATASET_W_SCORES_FNAME}\")\n",
    "\n",
    "df_summary_metrics_dataset"
   ]
  },
  {
   "cell_type": "code",
   "execution_count": 114,
   "metadata": {
    "tags": []
   },
   "outputs": [
    {
     "data": {
      "text/html": [
       "<div>\n",
       "<style scoped>\n",
       "    .dataframe tbody tr th:only-of-type {\n",
       "        vertical-align: middle;\n",
       "    }\n",
       "\n",
       "    .dataframe tbody tr th {\n",
       "        vertical-align: top;\n",
       "    }\n",
       "\n",
       "    .dataframe thead th {\n",
       "        text-align: right;\n",
       "    }\n",
       "</style>\n",
       "<table border=\"1\" class=\"dataframe\">\n",
       "  <thead>\n",
       "    <tr style=\"text-align: right;\">\n",
       "      <th></th>\n",
       "      <th>experiment_name</th>\n",
       "      <th>payload_file</th>\n",
       "      <th>instance_type</th>\n",
       "      <th>instance_count</th>\n",
       "      <th>concurrency</th>\n",
       "      <th>error_rate</th>\n",
       "      <th>prompt_token_count_mean</th>\n",
       "      <th>prompt_token_throughput</th>\n",
       "      <th>completion_token_count_mean</th>\n",
       "      <th>completion_token_throughput</th>\n",
       "      <th>...</th>\n",
       "      <th>price_per_token</th>\n",
       "      <th>score_dict</th>\n",
       "      <th>score</th>\n",
       "      <th>any_criterion_failed</th>\n",
       "      <th>error_rate_criterion_failed</th>\n",
       "      <th>latency_criterion_failed</th>\n",
       "      <th>cost_per_txn_criterion_failed</th>\n",
       "      <th>error_rate_text</th>\n",
       "      <th>latency_p95_text</th>\n",
       "      <th>price_per_10k_txn_text</th>\n",
       "    </tr>\n",
       "  </thead>\n",
       "  <tbody>\n",
       "    <tr>\n",
       "      <th>3</th>\n",
       "      <td>anthropic.claude-3-haiku-20240307-v1:0</td>\n",
       "      <td>payload_en_3000-4000.jsonl</td>\n",
       "      <td>anthropic.claude-3-haiku-20240307-v1:0</td>\n",
       "      <td>1.0</td>\n",
       "      <td>1</td>\n",
       "      <td>0.0</td>\n",
       "      <td>4515</td>\n",
       "      <td>4589</td>\n",
       "      <td>64</td>\n",
       "      <td>59</td>\n",
       "      <td>...</td>\n",
       "      <td>0.00000026</td>\n",
       "      <td>{'score': 5.755464285714286, 'any_criterion_fa...</td>\n",
       "      <td>5.755464</td>\n",
       "      <td>False</td>\n",
       "      <td>False</td>\n",
       "      <td>False</td>\n",
       "      <td>False</td>\n",
       "      <td>&lt;span style='color:green'&gt;0.00&lt;/span&gt;</td>\n",
       "      <td>&lt;span style='color:green'&gt;1.05&lt;/span&gt;</td>\n",
       "      <td>&lt;span style='color:green'&gt;12.09&lt;/span&gt;</td>\n",
       "    </tr>\n",
       "  </tbody>\n",
       "</table>\n",
       "<p>1 rows × 25 columns</p>\n",
       "</div>"
      ],
      "text/plain": [
       "                          experiment_name                payload_file  \\\n",
       "3  anthropic.claude-3-haiku-20240307-v1:0  payload_en_3000-4000.jsonl   \n",
       "\n",
       "                            instance_type  instance_count  concurrency  \\\n",
       "3  anthropic.claude-3-haiku-20240307-v1:0             1.0            1   \n",
       "\n",
       "   error_rate  prompt_token_count_mean  prompt_token_throughput  \\\n",
       "3         0.0                     4515                     4589   \n",
       "\n",
       "   completion_token_count_mean  completion_token_throughput  ...  \\\n",
       "3                           64                           59  ...   \n",
       "\n",
       "   price_per_token                                         score_dict  \\\n",
       "3       0.00000026  {'score': 5.755464285714286, 'any_criterion_fa...   \n",
       "\n",
       "      score  any_criterion_failed  error_rate_criterion_failed  \\\n",
       "3  5.755464                 False                        False   \n",
       "\n",
       "  latency_criterion_failed cost_per_txn_criterion_failed  \\\n",
       "3                    False                         False   \n",
       "\n",
       "                         error_rate_text  \\\n",
       "3  <span style='color:green'>0.00</span>   \n",
       "\n",
       "                        latency_p95_text  \\\n",
       "3  <span style='color:green'>1.05</span>   \n",
       "\n",
       "                   price_per_10k_txn_text  \n",
       "3  <span style='color:green'>12.09</span>  \n",
       "\n",
       "[1 rows x 25 columns]"
      ]
     },
     "execution_count": 114,
     "metadata": {},
     "output_type": "execute_result"
    }
   ],
   "source": [
    "# select the best option overall and for each instance type\n",
    "df_summary_metrics_dataset_overall = df_summary_metrics_dataset[df_summary_metrics_dataset.score == df_summary_metrics_dataset.score.max()]\n",
    "\n",
    "csv_buffer = io.StringIO()\n",
    "df_summary_metrics_dataset_overall.to_csv(csv_buffer, index=False)\n",
    "metrics_overall_data = csv_buffer.getvalue()\n",
    "\n",
    "# Write the CSV data to S3\n",
    "write_to_s3(metrics_overall_data, BUCKET_NAME, \"\", METRICS_DIR, SUMMARY_METRICS_FOR_DATASET_W_SCORES_BEST_OPTION_FNAME)\n",
    "\n",
    "df_summary_metrics_dataset_overall"
   ]
  },
  {
   "cell_type": "code",
   "execution_count": 115,
   "metadata": {
    "tags": []
   },
   "outputs": [
    {
     "data": {
      "text/plain": [
       "[{'experiment_name': 'anthropic.claude-3-haiku-20240307-v1:0',\n",
       "  'payload_file': 'payload_en_3000-4000.jsonl',\n",
       "  'instance_type': 'anthropic.claude-3-haiku-20240307-v1:0',\n",
       "  'instance_count': 1.0,\n",
       "  'concurrency': 1,\n",
       "  'error_rate': 0.0,\n",
       "  'prompt_token_count_mean': 4515,\n",
       "  'prompt_token_throughput': 4589,\n",
       "  'completion_token_count_mean': 64,\n",
       "  'completion_token_throughput': 59,\n",
       "  'latency_p50': 1.05,\n",
       "  'latency_p95': 1.05,\n",
       "  'latency_p99': 1.05,\n",
       "  'transactions_per_minute': 60,\n",
       "  'price_per_txn': 0.001209,\n",
       "  'price_per_token': '0.00000026',\n",
       "  'score_dict': {'score': 5.755464285714286,\n",
       "   'any_criterion_failed': False,\n",
       "   'error_rate_criterion_failed': False,\n",
       "   'latency_criterion_failed': False,\n",
       "   'cost_per_txn_criterion_failed': False,\n",
       "   'error_rate_text': \"<span style='color:green'>0.00</span>\",\n",
       "   'latency_p95_text': \"<span style='color:green'>1.05</span>\",\n",
       "   'price_per_10k_txn_text': \"<span style='color:green'>12.09</span>\"},\n",
       "  'score': 5.755464,\n",
       "  'any_criterion_failed': False,\n",
       "  'error_rate_criterion_failed': False,\n",
       "  'latency_criterion_failed': False,\n",
       "  'cost_per_txn_criterion_failed': False,\n",
       "  'error_rate_text': \"<span style='color:green'>0.00</span>\",\n",
       "  'latency_p95_text': \"<span style='color:green'>1.05</span>\",\n",
       "  'price_per_10k_txn_text': \"<span style='color:green'>12.09</span>\"}]"
      ]
     },
     "execution_count": 115,
     "metadata": {},
     "output_type": "execute_result"
    }
   ],
   "source": [
    "df_summary_metrics_dataset_overall = df_summary_metrics_dataset_overall.round(6)\n",
    "df_summary_metrics_dataset_overall.to_dict(orient='records')"
   ]
  },
  {
   "cell_type": "code",
   "execution_count": 116,
   "metadata": {
    "tags": []
   },
   "outputs": [
    {
     "name": "stderr",
     "output_type": "stream",
     "text": [
      "[2024-08-12 23:42:16,581] p31041 {2557499297.py:3} INFO - shape of df_summary_metrics_dataset=(2, 25), idx=instance_type\n",
      "anthropic.claude-3-haiku-20240307-v1:0     3\n",
      "anthropic.claude-3-sonnet-20240229-v1:0    8\n",
      "Name: score, dtype: int64\n",
      "[2024-08-12 23:42:16,583] p31041 {2557499297.py:5} INFO - shape of df_summary_metrics_best_option_instance_type=(2, 25)\n"
     ]
    },
    {
     "data": {
      "text/html": [
       "<div>\n",
       "<style scoped>\n",
       "    .dataframe tbody tr th:only-of-type {\n",
       "        vertical-align: middle;\n",
       "    }\n",
       "\n",
       "    .dataframe tbody tr th {\n",
       "        vertical-align: top;\n",
       "    }\n",
       "\n",
       "    .dataframe thead th {\n",
       "        text-align: right;\n",
       "    }\n",
       "</style>\n",
       "<table border=\"1\" class=\"dataframe\">\n",
       "  <thead>\n",
       "    <tr style=\"text-align: right;\">\n",
       "      <th></th>\n",
       "      <th>experiment_name</th>\n",
       "      <th>payload_file</th>\n",
       "      <th>instance_type</th>\n",
       "      <th>instance_count</th>\n",
       "      <th>concurrency</th>\n",
       "      <th>error_rate</th>\n",
       "      <th>prompt_token_count_mean</th>\n",
       "      <th>prompt_token_throughput</th>\n",
       "      <th>completion_token_count_mean</th>\n",
       "      <th>completion_token_throughput</th>\n",
       "      <th>...</th>\n",
       "      <th>price_per_token</th>\n",
       "      <th>score_dict</th>\n",
       "      <th>score</th>\n",
       "      <th>any_criterion_failed</th>\n",
       "      <th>error_rate_criterion_failed</th>\n",
       "      <th>latency_criterion_failed</th>\n",
       "      <th>cost_per_txn_criterion_failed</th>\n",
       "      <th>error_rate_text</th>\n",
       "      <th>latency_p95_text</th>\n",
       "      <th>price_per_10k_txn_text</th>\n",
       "    </tr>\n",
       "  </thead>\n",
       "  <tbody>\n",
       "    <tr>\n",
       "      <th>3</th>\n",
       "      <td>anthropic.claude-3-haiku-20240307-v1:0</td>\n",
       "      <td>payload_en_3000-4000.jsonl</td>\n",
       "      <td>anthropic.claude-3-haiku-20240307-v1:0</td>\n",
       "      <td>1.0</td>\n",
       "      <td>1</td>\n",
       "      <td>0.0</td>\n",
       "      <td>4515</td>\n",
       "      <td>4589</td>\n",
       "      <td>64</td>\n",
       "      <td>59</td>\n",
       "      <td>...</td>\n",
       "      <td>0.00000026</td>\n",
       "      <td>{'score': 5.755464285714286, 'any_criterion_fa...</td>\n",
       "      <td>5.755464</td>\n",
       "      <td>False</td>\n",
       "      <td>False</td>\n",
       "      <td>False</td>\n",
       "      <td>False</td>\n",
       "      <td>&lt;span style='color:green'&gt;0.00&lt;/span&gt;</td>\n",
       "      <td>&lt;span style='color:green'&gt;1.05&lt;/span&gt;</td>\n",
       "      <td>&lt;span style='color:green'&gt;12.09&lt;/span&gt;</td>\n",
       "    </tr>\n",
       "    <tr>\n",
       "      <th>8</th>\n",
       "      <td>anthropic.claude-3-sonnet-20240229-v1:0</td>\n",
       "      <td>payload_en_3000-4000.jsonl</td>\n",
       "      <td>anthropic.claude-3-sonnet-20240229-v1:0</td>\n",
       "      <td>1.0</td>\n",
       "      <td>1</td>\n",
       "      <td>0.0</td>\n",
       "      <td>4515</td>\n",
       "      <td>1360</td>\n",
       "      <td>69</td>\n",
       "      <td>19</td>\n",
       "      <td>...</td>\n",
       "      <td>0.00000318</td>\n",
       "      <td>{'score': 4.849428571428572, 'any_criterion_fa...</td>\n",
       "      <td>4.849429</td>\n",
       "      <td>False</td>\n",
       "      <td>False</td>\n",
       "      <td>False</td>\n",
       "      <td>False</td>\n",
       "      <td>&lt;span style='color:green'&gt;0.00&lt;/span&gt;</td>\n",
       "      <td>&lt;span style='color:green'&gt;3.67&lt;/span&gt;</td>\n",
       "      <td>&lt;span style='color:green'&gt;145.80&lt;/span&gt;</td>\n",
       "    </tr>\n",
       "  </tbody>\n",
       "</table>\n",
       "<p>2 rows × 25 columns</p>\n",
       "</div>"
      ],
      "text/plain": [
       "                           experiment_name                payload_file  \\\n",
       "3   anthropic.claude-3-haiku-20240307-v1:0  payload_en_3000-4000.jsonl   \n",
       "8  anthropic.claude-3-sonnet-20240229-v1:0  payload_en_3000-4000.jsonl   \n",
       "\n",
       "                             instance_type  instance_count  concurrency  \\\n",
       "3   anthropic.claude-3-haiku-20240307-v1:0             1.0            1   \n",
       "8  anthropic.claude-3-sonnet-20240229-v1:0             1.0            1   \n",
       "\n",
       "   error_rate  prompt_token_count_mean  prompt_token_throughput  \\\n",
       "3         0.0                     4515                     4589   \n",
       "8         0.0                     4515                     1360   \n",
       "\n",
       "   completion_token_count_mean  completion_token_throughput  ...  \\\n",
       "3                           64                           59  ...   \n",
       "8                           69                           19  ...   \n",
       "\n",
       "   price_per_token                                         score_dict  \\\n",
       "3       0.00000026  {'score': 5.755464285714286, 'any_criterion_fa...   \n",
       "8       0.00000318  {'score': 4.849428571428572, 'any_criterion_fa...   \n",
       "\n",
       "      score  any_criterion_failed  error_rate_criterion_failed  \\\n",
       "3  5.755464                 False                        False   \n",
       "8  4.849429                 False                        False   \n",
       "\n",
       "  latency_criterion_failed cost_per_txn_criterion_failed  \\\n",
       "3                    False                         False   \n",
       "8                    False                         False   \n",
       "\n",
       "                         error_rate_text  \\\n",
       "3  <span style='color:green'>0.00</span>   \n",
       "8  <span style='color:green'>0.00</span>   \n",
       "\n",
       "                        latency_p95_text  \\\n",
       "3  <span style='color:green'>1.05</span>   \n",
       "8  <span style='color:green'>3.67</span>   \n",
       "\n",
       "                    price_per_10k_txn_text  \n",
       "3   <span style='color:green'>12.09</span>  \n",
       "8  <span style='color:green'>145.80</span>  \n",
       "\n",
       "[2 rows x 25 columns]"
      ]
     },
     "execution_count": 116,
     "metadata": {},
     "output_type": "execute_result"
    }
   ],
   "source": [
    "df_summary_metrics_dataset = df_summary_metrics_dataset.dropna()\n",
    "idx = df_summary_metrics_dataset.groupby(['instance_type']).score.idxmax()\n",
    "logger.info(f\"shape of df_summary_metrics_dataset={df_summary_metrics_dataset.shape}, idx={idx}\")\n",
    "df_summary_metrics_best_option_instance_type = df_summary_metrics_dataset.loc[idx]\n",
    "logger.info(f\"shape of df_summary_metrics_best_option_instance_type={df_summary_metrics_best_option_instance_type.shape}\")\n",
    "\n",
    "csv_buffer = io.StringIO()\n",
    "df_summary_metrics_best_option_instance_type.to_csv(csv_buffer, index=False)\n",
    "best_option = csv_buffer.getvalue()\n",
    "\n",
    "# Write the CSV data to S3\n",
    "write_to_s3(best_option, BUCKET_NAME, \"\", METRICS_DIR, SUMMARY_METRICS_FOR_DATASET_W_SCORES_BEST_OPTION_EACH_INSTANCE_TYPE_FNAME)\n",
    "\n",
    "df_summary_metrics_best_option_instance_type\n"
   ]
  },
  {
   "cell_type": "code",
   "execution_count": 117,
   "metadata": {
    "tags": []
   },
   "outputs": [
    {
     "data": {
      "text/html": [
       "<div>\n",
       "<style scoped>\n",
       "    .dataframe tbody tr th:only-of-type {\n",
       "        vertical-align: middle;\n",
       "    }\n",
       "\n",
       "    .dataframe tbody tr th {\n",
       "        vertical-align: top;\n",
       "    }\n",
       "\n",
       "    .dataframe thead th {\n",
       "        text-align: right;\n",
       "    }\n",
       "</style>\n",
       "<table border=\"1\" class=\"dataframe\">\n",
       "  <thead>\n",
       "    <tr style=\"text-align: right;\">\n",
       "      <th></th>\n",
       "      <th>experiment_name</th>\n",
       "      <th>payload_file</th>\n",
       "      <th>instance_type</th>\n",
       "      <th>instance_count</th>\n",
       "      <th>concurrency</th>\n",
       "      <th>error_rate</th>\n",
       "      <th>prompt_token_count_mean</th>\n",
       "      <th>prompt_token_throughput</th>\n",
       "      <th>completion_token_count_mean</th>\n",
       "      <th>completion_token_throughput</th>\n",
       "      <th>...</th>\n",
       "      <th>price_per_token</th>\n",
       "      <th>score_dict</th>\n",
       "      <th>score</th>\n",
       "      <th>any_criterion_failed</th>\n",
       "      <th>error_rate_criterion_failed</th>\n",
       "      <th>latency_criterion_failed</th>\n",
       "      <th>cost_per_txn_criterion_failed</th>\n",
       "      <th>error_rate_text</th>\n",
       "      <th>latency_p95_text</th>\n",
       "      <th>price_per_10k_txn_text</th>\n",
       "    </tr>\n",
       "  </thead>\n",
       "  <tbody>\n",
       "    <tr>\n",
       "      <th>3</th>\n",
       "      <td>anthropic.claude-3-haiku-20240307-v1:0</td>\n",
       "      <td>payload_en_3000-4000.jsonl</td>\n",
       "      <td>anthropic.claude-3-haiku-20240307-v1:0</td>\n",
       "      <td>1.0</td>\n",
       "      <td>1</td>\n",
       "      <td>0.0</td>\n",
       "      <td>4515</td>\n",
       "      <td>4589</td>\n",
       "      <td>64</td>\n",
       "      <td>59</td>\n",
       "      <td>...</td>\n",
       "      <td>0.00000026</td>\n",
       "      <td>{'score': 5.755464285714286, 'any_criterion_fa...</td>\n",
       "      <td>5.755464</td>\n",
       "      <td>False</td>\n",
       "      <td>False</td>\n",
       "      <td>False</td>\n",
       "      <td>False</td>\n",
       "      <td>&lt;span style='color:green'&gt;0.00&lt;/span&gt;</td>\n",
       "      <td>&lt;span style='color:green'&gt;1.05&lt;/span&gt;</td>\n",
       "      <td>&lt;span style='color:green'&gt;12.09&lt;/span&gt;</td>\n",
       "    </tr>\n",
       "    <tr>\n",
       "      <th>8</th>\n",
       "      <td>anthropic.claude-3-sonnet-20240229-v1:0</td>\n",
       "      <td>payload_en_3000-4000.jsonl</td>\n",
       "      <td>anthropic.claude-3-sonnet-20240229-v1:0</td>\n",
       "      <td>1.0</td>\n",
       "      <td>1</td>\n",
       "      <td>0.0</td>\n",
       "      <td>4515</td>\n",
       "      <td>1360</td>\n",
       "      <td>69</td>\n",
       "      <td>19</td>\n",
       "      <td>...</td>\n",
       "      <td>0.00000318</td>\n",
       "      <td>{'score': 4.849428571428572, 'any_criterion_fa...</td>\n",
       "      <td>4.849429</td>\n",
       "      <td>False</td>\n",
       "      <td>False</td>\n",
       "      <td>False</td>\n",
       "      <td>False</td>\n",
       "      <td>&lt;span style='color:green'&gt;0.00&lt;/span&gt;</td>\n",
       "      <td>&lt;span style='color:green'&gt;3.67&lt;/span&gt;</td>\n",
       "      <td>&lt;span style='color:green'&gt;145.80&lt;/span&gt;</td>\n",
       "    </tr>\n",
       "  </tbody>\n",
       "</table>\n",
       "<p>2 rows × 25 columns</p>\n",
       "</div>"
      ],
      "text/plain": [
       "                           experiment_name                payload_file  \\\n",
       "3   anthropic.claude-3-haiku-20240307-v1:0  payload_en_3000-4000.jsonl   \n",
       "8  anthropic.claude-3-sonnet-20240229-v1:0  payload_en_3000-4000.jsonl   \n",
       "\n",
       "                             instance_type  instance_count  concurrency  \\\n",
       "3   anthropic.claude-3-haiku-20240307-v1:0             1.0            1   \n",
       "8  anthropic.claude-3-sonnet-20240229-v1:0             1.0            1   \n",
       "\n",
       "   error_rate  prompt_token_count_mean  prompt_token_throughput  \\\n",
       "3         0.0                     4515                     4589   \n",
       "8         0.0                     4515                     1360   \n",
       "\n",
       "   completion_token_count_mean  completion_token_throughput  ...  \\\n",
       "3                           64                           59  ...   \n",
       "8                           69                           19  ...   \n",
       "\n",
       "   price_per_token                                         score_dict  \\\n",
       "3       0.00000026  {'score': 5.755464285714286, 'any_criterion_fa...   \n",
       "8       0.00000318  {'score': 4.849428571428572, 'any_criterion_fa...   \n",
       "\n",
       "      score  any_criterion_failed  error_rate_criterion_failed  \\\n",
       "3  5.755464                 False                        False   \n",
       "8  4.849429                 False                        False   \n",
       "\n",
       "  latency_criterion_failed cost_per_txn_criterion_failed  \\\n",
       "3                    False                         False   \n",
       "8                    False                         False   \n",
       "\n",
       "                         error_rate_text  \\\n",
       "3  <span style='color:green'>0.00</span>   \n",
       "8  <span style='color:green'>0.00</span>   \n",
       "\n",
       "                        latency_p95_text  \\\n",
       "3  <span style='color:green'>1.05</span>   \n",
       "8  <span style='color:green'>3.67</span>   \n",
       "\n",
       "                    price_per_10k_txn_text  \n",
       "3   <span style='color:green'>12.09</span>  \n",
       "8  <span style='color:green'>145.80</span>  \n",
       "\n",
       "[2 rows x 25 columns]"
      ]
     },
     "execution_count": 117,
     "metadata": {},
     "output_type": "execute_result"
    }
   ],
   "source": [
    "df_summary_metrics_best_option_instance_type"
   ]
  },
  {
   "cell_type": "code",
   "execution_count": 118,
   "metadata": {
    "tags": []
   },
   "outputs": [
    {
     "name": "stdout",
     "output_type": "stream",
     "text": [
      "[Text(0.0, 0, '0'), Text(50.0, 0, '50'), Text(100.0, 0, '100'), Text(150.0, 0, '150'), Text(200.0, 0, '200'), Text(250.0, 0, '250'), Text(300.0, 0, '300'), Text(350.0, 0, '$350\\n(threshold)'), Text(400.0, 0, '400'), Text(350.0, 0, '$350\\n(threshold)')]\n",
      "v_shift=0.025\n",
      "x=13.115, y=anthropic.claude-3-haiku-20240307-v1:0, text=60 txn/min,\n",
      "concurrency=1,\n",
      "1.05s per txn\n",
      "v_shift=0.025\n",
      "x=146.82500000000002, y=anthropic.claude-3-sonnet-20240229-v1:0, text=17 txn/min,\n",
      "concurrency=1,\n",
      "3.67s per txn\n"
     ]
    },
    {
     "name": "stderr",
     "output_type": "stream",
     "text": [
      "[2024-08-12 23:42:17,198] p31041 {2585894607.py:53} INFO - Plot saved to s3://sagemaker-fmbench-write-us-east-1-015469603702/fmbench-bedrock-anthropic-models-SageMaker-ExecutionRole-20240111T084686/data/metrics/yyyy=2024/mm=08/dd=12/hh=22/mm=16/business_summary_barchart.png\n"
     ]
    },
    {
     "data": {
      "text/plain": [
       "<Axes: title={'center': 'Comparing performance of Sonnet and Haiku on Amazon Bedrock for en_3000-4000 dataset'}, xlabel='Cost per 10,000 transactions (USD)'>"
      ]
     },
     "execution_count": 118,
     "metadata": {},
     "output_type": "execute_result"
    },
    {
     "data": {
      "image/png": "[encoded data removed]",
      "text/plain": [
       "<Figure size 1000x600 with 1 Axes>"
      ]
     },
     "metadata": {},
     "output_type": "display_data"
    }
   ],
   "source": [
    "min_price_per_tx = df_summary_metrics_best_option_instance_type.price_per_txn.min()\n",
    "txn_count_for_showing_cost: int = config[\"report\"][\"txn_count_for_showing_cost\"]\n",
    "\n",
    "price_tx_col_name = f\"price_per_tx_{txn_count_for_showing_cost}_txn\"\n",
    "df_summary_metrics_best_option_instance_type[price_tx_col_name] = df_summary_metrics_best_option_instance_type.price_per_txn * txn_count_for_showing_cost\n",
    "df_summary_metrics_best_option_instance_type[price_tx_col_name] = round(df_summary_metrics_best_option_instance_type[price_tx_col_name], 2)\n",
    "df_summary_metrics_best_option_instance_type = df_summary_metrics_best_option_instance_type.sort_values(by=price_tx_col_name)\n",
    "sns_plot = sns.barplot(df_summary_metrics_best_option_instance_type,\n",
    "                       y=\"instance_type\",\n",
    "                       x=price_tx_col_name,\n",
    "                       hue=\"instance_type\",\n",
    "                       orient='h')\n",
    "sns_plot.axvline(x=config['report']['cost_per_10k_txn_budget'],\n",
    "                 ls='dotted',\n",
    "                 c='red',\n",
    "                 linewidth=1) \n",
    "title: str = f\"Comparing performance of {config['general']['model_name']} for {config['metrics']['dataset_of_interest']} dataset\"\n",
    "sns_plot.set(ylabel=\"\", xlabel=f\"Cost per {txn_count_for_showing_cost:,} transactions (USD)\", title=title)\n",
    "\n",
    "xticks = sns_plot.get_xticks()\n",
    "xtick_labels = sns_plot.get_xticklabels()\n",
    "#print(sns_plot.get_xticks(xticks))\n",
    "sns_plot.set_xticks(np.append(xticks, config['report']['cost_per_10k_txn_budget']))\n",
    "#print(sns_plot.get_xticks(xtick_labels))\n",
    "sns_plot.set_xticklabels(np.append(xtick_labels,\n",
    "                                   matplotlib.text.Text(config['report']['cost_per_10k_txn_budget'], 0, f\"${config['report']['cost_per_10k_txn_budget']}\\n(threshold)\")))\n",
    "print(sns_plot.get_xticklabels())\n",
    "num_instance_types = len(df_summary_metrics_dataset.instance_type.unique())\n",
    "for r in df_summary_metrics_best_option_instance_type.iterrows():\n",
    "    y = r[1]['instance_type']\n",
    "    if num_instance_types == 1:\n",
    "        v_shift = config[\"report\"][\"v_shift_w_single_instance\"]\n",
    "    else:\n",
    "        v_shift = config[\"report\"][\"v_shift_w_gt_one_instance\"]\n",
    "\n",
    "    print(f\"v_shift={v_shift}\")    \n",
    "    x = r[1][price_tx_col_name] + v_shift + 1\n",
    "    text = f\"{r[1]['transactions_per_minute']} txn/min,\\nconcurrency={r[1]['concurrency']},\\n{r[1]['latency_p95']}s per txn\"\n",
    "    print(f\"x={x}, y={y}, text={text}\")\n",
    "    sns_plot.text(x, y, text, \n",
    "       fontsize = 8,          # Size\n",
    "       #fontstyle = \"oblique\",  # Style\n",
    "       color = \"red\",          # Color\n",
    "       ha = \"left\", # Horizontal alignment\n",
    "       va = \"center\") # Vertical alignment \n",
    "\n",
    "business_summary_plot_fpath: str = os.path.join(METRICS_DIR, BUSINESS_SUMMARY_PLOT_FNAME2)\n",
    "sns_plot.figure.savefig(buffer, format='png', bbox_inches='tight')\n",
    "buffer.seek(0)\n",
    "\n",
    "# Write the plot to S3\n",
    "write_to_s3(buffer.getvalue(), BUCKET_NAME, \"\", \"\", business_summary_plot_fpath)\n",
    "logger.info(f\"Plot saved to s3://{BUCKET_NAME}/{business_summary_plot_fpath}\")\n",
    "\n",
    "# Display the plot \n",
    "sns_plot\n"
   ]
  },
  {
   "cell_type": "code",
   "execution_count": 119,
   "metadata": {
    "tags": []
   },
   "outputs": [],
   "source": [
    "df_summary_metrics_dataset['cost_per_10k_txn'] = df_summary_metrics_dataset.price_per_txn * 10000"
   ]
  },
  {
   "cell_type": "code",
   "execution_count": 120,
   "metadata": {
    "tags": []
   },
   "outputs": [
    {
     "name": "stderr",
     "output_type": "stream",
     "text": [
      "[2024-08-12 23:42:17,463] p31041 {954209958.py:96} INFO - iter 0, r=1, c=1, v=1, best_price_perf_concurrency=1\n",
      "[2024-08-12 23:42:17,464] p31041 {954209958.py:99} INFO - iter=0, match found, r=1, c=1\n",
      "[2024-08-12 23:42:17,464] p31041 {954209958.py:111} INFO - facet row col for best_price_perf, r=1, total_rows=1, best_facet_row=1, best_facet_col=1\n"
     ]
    },
    {
     "data": {
      "application/vnd.plotly.v1+json": {
       "config": {
        "plotlyServerURL": "https://plot.ly"
       },
       "data": [
        {
         "hovertemplate": "instance_type=anthropic.claude-3-haiku-20240307-v1:0<br>concurrency=1<br>latency_p95=%{x}<br>cost_per_10k_txn=%{y}<br>transactions_per_minute=%{marker.size}<extra></extra>",
         "legendgroup": "anthropic.claude-3-haiku-20240307-v1:0",
         "marker": {
          "color": "#636efa",
          "size": [
           60
          ],
          "sizemode": "area",
          "sizeref": 0.15,
          "symbol": "circle"
         },
         "mode": "markers",
         "name": "anthropic.claude-3-haiku-20240307-v1:0",
         "orientation": "v",
         "showlegend": true,
         "type": "scatter",
         "x": [
          1.05
         ],
         "xaxis": "x",
         "y": [
          12.0875
         ],
         "yaxis": "y"
        },
        {
         "hovertemplate": "instance_type=anthropic.claude-3-sonnet-20240229-v1:0<br>concurrency=1<br>latency_p95=%{x}<br>cost_per_10k_txn=%{y}<br>transactions_per_minute=%{marker.size}<extra></extra>",
         "legendgroup": "anthropic.claude-3-sonnet-20240229-v1:0",
         "marker": {
          "color": "#EF553B",
          "size": [
           17
          ],
          "sizemode": "area",
          "sizeref": 0.15,
          "symbol": "circle"
         },
         "mode": "markers",
         "name": "anthropic.claude-3-sonnet-20240229-v1:0",
         "orientation": "v",
         "showlegend": true,
         "type": "scatter",
         "x": [
          3.67
         ],
         "xaxis": "x",
         "y": [
          145.79999999999998
         ],
         "yaxis": "y"
        }
       ],
       "layout": {
        "annotations": [
         {
          "showarrow": false,
          "text": "concurrency=1",
          "x": 0.5,
          "xanchor": "center",
          "xref": "paper",
          "y": 1,
          "yanchor": "bottom",
          "yref": "paper"
         },
         {
          "text": "Cost per 10,000 requests (USD)",
          "textangle": -90,
          "x": -0.05,
          "xref": "paper",
          "y": 0.5,
          "yref": "paper"
         },
         {
          "showarrow": false,
          "text": "p95 latency (seconds)",
          "x": 0.5,
          "xanchor": "center",
          "xref": "paper",
          "y": -0.1,
          "yref": "paper"
         },
         {
          "arrowhead": 1,
          "showarrow": true,
          "text": "best price|performance*",
          "x": 1.05,
          "xref": "x",
          "y": 12.09,
          "yref": "y"
         },
         {
          "showarrow": false,
          "text": "*<b>best price|performance</b>: anthropic.claude-3-haiku-20240307-v1:0, p95 latency 1.05s, 10k txn cost $12.09, transactions/minute 60.",
          "x": 0,
          "xanchor": "left",
          "xref": "paper",
          "y": -0.15,
          "yref": "paper"
         }
        ],
        "height": 600,
        "legend": {
         "itemsizing": "constant",
         "title": {
          "text": ""
         },
         "tracegroupgap": 0
        },
        "margin": {
         "t": 100
        },
        "shapes": [
         {
          "line": {
           "color": "red",
           "dash": "dash",
           "width": 1
          },
          "type": "line",
          "x0": 5,
          "x1": 5,
          "xref": "x",
          "y0": 0,
          "y1": 1,
          "yref": "y domain"
         },
         {
          "line": {
           "color": "red",
           "dash": "dash",
           "width": 1
          },
          "type": "line",
          "x0": 0,
          "x1": 1,
          "xref": "x domain",
          "y0": 350,
          "y1": 350,
          "yref": "y"
         },
         {
          "fillcolor": "pink",
          "layer": "below",
          "line": {
           "width": 0
          },
          "type": "rect",
          "x0": 0,
          "x1": 5,
          "xref": "x",
          "y0": 0,
          "y1": 350,
          "yref": "y"
         }
        ],
        "template": {
         "data": {
          "bar": [
           {
            "error_x": {
             "color": "#2a3f5f"
            },
            "error_y": {
             "color": "#2a3f5f"
            },
            "marker": {
             "line": {
              "color": "#E5ECF6",
              "width": 0.5
             },
             "pattern": {
              "fillmode": "overlay",
              "size": 10,
              "solidity": 0.2
             }
            },
            "type": "bar"
           }
          ],
          "barpolar": [
           {
            "marker": {
             "line": {
              "color": "#E5ECF6",
              "width": 0.5
             },
             "pattern": {
              "fillmode": "overlay",
              "size": 10,
              "solidity": 0.2
             }
            },
            "type": "barpolar"
           }
          ],
          "carpet": [
           {
            "aaxis": {
             "endlinecolor": "#2a3f5f",
             "gridcolor": "white",
             "linecolor": "white",
             "minorgridcolor": "white",
             "startlinecolor": "#2a3f5f"
            },
            "baxis": {
             "endlinecolor": "#2a3f5f",
             "gridcolor": "white",
             "linecolor": "white",
             "minorgridcolor": "white",
             "startlinecolor": "#2a3f5f"
            },
            "type": "carpet"
           }
          ],
          "choropleth": [
           {
            "colorbar": {
             "outlinewidth": 0,
             "ticks": ""
            },
            "type": "choropleth"
           }
          ],
          "contour": [
           {
            "colorbar": {
             "outlinewidth": 0,
             "ticks": ""
            },
            "colorscale": [
             [
              0,
              "#0d0887"
             ],
             [
              0.1111111111111111,
              "#46039f"
             ],
             [
              0.2222222222222222,
              "#7201a8"
             ],
             [
              0.3333333333333333,
              "#9c179e"
             ],
             [
              0.4444444444444444,
              "#bd3786"
             ],
             [
              0.5555555555555556,
              "#d8576b"
             ],
             [
              0.6666666666666666,
              "#ed7953"
             ],
             [
              0.7777777777777778,
              "#fb9f3a"
             ],
             [
              0.8888888888888888,
              "#fdca26"
             ],
             [
              1,
              "#f0f921"
             ]
            ],
            "type": "contour"
           }
          ],
          "contourcarpet": [
           {
            "colorbar": {
             "outlinewidth": 0,
             "ticks": ""
            },
            "type": "contourcarpet"
           }
          ],
          "heatmap": [
           {
            "colorbar": {
             "outlinewidth": 0,
             "ticks": ""
            },
            "colorscale": [
             [
              0,
              "#0d0887"
             ],
             [
              0.1111111111111111,
              "#46039f"
             ],
             [
              0.2222222222222222,
              "#7201a8"
             ],
             [
              0.3333333333333333,
              "#9c179e"
             ],
             [
              0.4444444444444444,
              "#bd3786"
             ],
             [
              0.5555555555555556,
              "#d8576b"
             ],
             [
              0.6666666666666666,
              "#ed7953"
             ],
             [
              0.7777777777777778,
              "#fb9f3a"
             ],
             [
              0.8888888888888888,
              "#fdca26"
             ],
             [
              1,
              "#f0f921"
             ]
            ],
            "type": "heatmap"
           }
          ],
          "heatmapgl": [
           {
            "colorbar": {
             "outlinewidth": 0,
             "ticks": ""
            },
            "colorscale": [
             [
              0,
              "#0d0887"
             ],
             [
              0.1111111111111111,
              "#46039f"
             ],
             [
              0.2222222222222222,
              "#7201a8"
             ],
             [
              0.3333333333333333,
              "#9c179e"
             ],
             [
              0.4444444444444444,
              "#bd3786"
             ],
             [
              0.5555555555555556,
              "#d8576b"
             ],
             [
              0.6666666666666666,
              "#ed7953"
             ],
             [
              0.7777777777777778,
              "#fb9f3a"
             ],
             [
              0.8888888888888888,
              "#fdca26"
             ],
             [
              1,
              "#f0f921"
             ]
            ],
            "type": "heatmapgl"
           }
          ],
          "histogram": [
           {
            "marker": {
             "pattern": {
              "fillmode": "overlay",
              "size": 10,
              "solidity": 0.2
             }
            },
            "type": "histogram"
           }
          ],
          "histogram2d": [
           {
            "colorbar": {
             "outlinewidth": 0,
             "ticks": ""
            },
            "colorscale": [
             [
              0,
              "#0d0887"
             ],
             [
              0.1111111111111111,
              "#46039f"
             ],
             [
              0.2222222222222222,
              "#7201a8"
             ],
             [
              0.3333333333333333,
              "#9c179e"
             ],
             [
              0.4444444444444444,
              "#bd3786"
             ],
             [
              0.5555555555555556,
              "#d8576b"
             ],
             [
              0.6666666666666666,
              "#ed7953"
             ],
             [
              0.7777777777777778,
              "#fb9f3a"
             ],
             [
              0.8888888888888888,
              "#fdca26"
             ],
             [
              1,
              "#f0f921"
             ]
            ],
            "type": "histogram2d"
           }
          ],
          "histogram2dcontour": [
           {
            "colorbar": {
             "outlinewidth": 0,
             "ticks": ""
            },
            "colorscale": [
             [
              0,
              "#0d0887"
             ],
             [
              0.1111111111111111,
              "#46039f"
             ],
             [
              0.2222222222222222,
              "#7201a8"
             ],
             [
              0.3333333333333333,
              "#9c179e"
             ],
             [
              0.4444444444444444,
              "#bd3786"
             ],
             [
              0.5555555555555556,
              "#d8576b"
             ],
             [
              0.6666666666666666,
              "#ed7953"
             ],
             [
              0.7777777777777778,
              "#fb9f3a"
             ],
             [
              0.8888888888888888,
              "#fdca26"
             ],
             [
              1,
              "#f0f921"
             ]
            ],
            "type": "histogram2dcontour"
           }
          ],
          "mesh3d": [
           {
            "colorbar": {
             "outlinewidth": 0,
             "ticks": ""
            },
            "type": "mesh3d"
           }
          ],
          "parcoords": [
           {
            "line": {
             "colorbar": {
              "outlinewidth": 0,
              "ticks": ""
             }
            },
            "type": "parcoords"
           }
          ],
          "pie": [
           {
            "automargin": true,
            "type": "pie"
           }
          ],
          "scatter": [
           {
            "fillpattern": {
             "fillmode": "overlay",
             "size": 10,
             "solidity": 0.2
            },
            "type": "scatter"
           }
          ],
          "scatter3d": [
           {
            "line": {
             "colorbar": {
              "outlinewidth": 0,
              "ticks": ""
             }
            },
            "marker": {
             "colorbar": {
              "outlinewidth": 0,
              "ticks": ""
             }
            },
            "type": "scatter3d"
           }
          ],
          "scattercarpet": [
           {
            "marker": {
             "colorbar": {
              "outlinewidth": 0,
              "ticks": ""
             }
            },
            "type": "scattercarpet"
           }
          ],
          "scattergeo": [
           {
            "marker": {
             "colorbar": {
              "outlinewidth": 0,
              "ticks": ""
             }
            },
            "type": "scattergeo"
           }
          ],
          "scattergl": [
           {
            "marker": {
             "colorbar": {
              "outlinewidth": 0,
              "ticks": ""
             }
            },
            "type": "scattergl"
           }
          ],
          "scattermapbox": [
           {
            "marker": {
             "colorbar": {
              "outlinewidth": 0,
              "ticks": ""
             }
            },
            "type": "scattermapbox"
           }
          ],
          "scatterpolar": [
           {
            "marker": {
             "colorbar": {
              "outlinewidth": 0,
              "ticks": ""
             }
            },
            "type": "scatterpolar"
           }
          ],
          "scatterpolargl": [
           {
            "marker": {
             "colorbar": {
              "outlinewidth": 0,
              "ticks": ""
             }
            },
            "type": "scatterpolargl"
           }
          ],
          "scatterternary": [
           {
            "marker": {
             "colorbar": {
              "outlinewidth": 0,
              "ticks": ""
             }
            },
            "type": "scatterternary"
           }
          ],
          "surface": [
           {
            "colorbar": {
             "outlinewidth": 0,
             "ticks": ""
            },
            "colorscale": [
             [
              0,
              "#0d0887"
             ],
             [
              0.1111111111111111,
              "#46039f"
             ],
             [
              0.2222222222222222,
              "#7201a8"
             ],
             [
              0.3333333333333333,
              "#9c179e"
             ],
             [
              0.4444444444444444,
              "#bd3786"
             ],
             [
              0.5555555555555556,
              "#d8576b"
             ],
             [
              0.6666666666666666,
              "#ed7953"
             ],
             [
              0.7777777777777778,
              "#fb9f3a"
             ],
             [
              0.8888888888888888,
              "#fdca26"
             ],
             [
              1,
              "#f0f921"
             ]
            ],
            "type": "surface"
           }
          ],
          "table": [
           {
            "cells": {
             "fill": {
              "color": "#EBF0F8"
             },
             "line": {
              "color": "white"
             }
            },
            "header": {
             "fill": {
              "color": "#C8D4E3"
             },
             "line": {
              "color": "white"
             }
            },
            "type": "table"
           }
          ]
         },
         "layout": {
          "annotationdefaults": {
           "arrowcolor": "#2a3f5f",
           "arrowhead": 0,
           "arrowwidth": 1
          },
          "autotypenumbers": "strict",
          "coloraxis": {
           "colorbar": {
            "outlinewidth": 0,
            "ticks": ""
           }
          },
          "colorscale": {
           "diverging": [
            [
             0,
             "#8e0152"
            ],
            [
             0.1,
             "#c51b7d"
            ],
            [
             0.2,
             "#de77ae"
            ],
            [
             0.3,
             "#f1b6da"
            ],
            [
             0.4,
             "#fde0ef"
            ],
            [
             0.5,
             "#f7f7f7"
            ],
            [
             0.6,
             "#e6f5d0"
            ],
            [
             0.7,
             "#b8e186"
            ],
            [
             0.8,
             "#7fbc41"
            ],
            [
             0.9,
             "#4d9221"
            ],
            [
             1,
             "#276419"
            ]
           ],
           "sequential": [
            [
             0,
             "#0d0887"
            ],
            [
             0.1111111111111111,
             "#46039f"
            ],
            [
             0.2222222222222222,
             "#7201a8"
            ],
            [
             0.3333333333333333,
             "#9c179e"
            ],
            [
             0.4444444444444444,
             "#bd3786"
            ],
            [
             0.5555555555555556,
             "#d8576b"
            ],
            [
             0.6666666666666666,
             "#ed7953"
            ],
            [
             0.7777777777777778,
             "#fb9f3a"
            ],
            [
             0.8888888888888888,
             "#fdca26"
            ],
            [
             1,
             "#f0f921"
            ]
           ],
           "sequentialminus": [
            [
             0,
             "#0d0887"
            ],
            [
             0.1111111111111111,
             "#46039f"
            ],
            [
             0.2222222222222222,
             "#7201a8"
            ],
            [
             0.3333333333333333,
             "#9c179e"
            ],
            [
             0.4444444444444444,
             "#bd3786"
            ],
            [
             0.5555555555555556,
             "#d8576b"
            ],
            [
             0.6666666666666666,
             "#ed7953"
            ],
            [
             0.7777777777777778,
             "#fb9f3a"
            ],
            [
             0.8888888888888888,
             "#fdca26"
            ],
            [
             1,
             "#f0f921"
            ]
           ]
          },
          "colorway": [
           "#636efa",
           "#EF553B",
           "#00cc96",
           "#ab63fa",
           "#FFA15A",
           "#19d3f3",
           "#FF6692",
           "#B6E880",
           "#FF97FF",
           "#FECB52"
          ],
          "font": {
           "color": "#2a3f5f"
          },
          "geo": {
           "bgcolor": "white",
           "lakecolor": "white",
           "landcolor": "#E5ECF6",
           "showlakes": true,
           "showland": true,
           "subunitcolor": "white"
          },
          "hoverlabel": {
           "align": "left"
          },
          "hovermode": "closest",
          "mapbox": {
           "style": "light"
          },
          "paper_bgcolor": "white",
          "plot_bgcolor": "#E5ECF6",
          "polar": {
           "angularaxis": {
            "gridcolor": "white",
            "linecolor": "white",
            "ticks": ""
           },
           "bgcolor": "#E5ECF6",
           "radialaxis": {
            "gridcolor": "white",
            "linecolor": "white",
            "ticks": ""
           }
          },
          "scene": {
           "xaxis": {
            "backgroundcolor": "#E5ECF6",
            "gridcolor": "white",
            "gridwidth": 2,
            "linecolor": "white",
            "showbackground": true,
            "ticks": "",
            "zerolinecolor": "white"
           },
           "yaxis": {
            "backgroundcolor": "#E5ECF6",
            "gridcolor": "white",
            "gridwidth": 2,
            "linecolor": "white",
            "showbackground": true,
            "ticks": "",
            "zerolinecolor": "white"
           },
           "zaxis": {
            "backgroundcolor": "#E5ECF6",
            "gridcolor": "white",
            "gridwidth": 2,
            "linecolor": "white",
            "showbackground": true,
            "ticks": "",
            "zerolinecolor": "white"
           }
          },
          "shapedefaults": {
           "line": {
            "color": "#2a3f5f"
           }
          },
          "ternary": {
           "aaxis": {
            "gridcolor": "white",
            "linecolor": "white",
            "ticks": ""
           },
           "baxis": {
            "gridcolor": "white",
            "linecolor": "white",
            "ticks": ""
           },
           "bgcolor": "#E5ECF6",
           "caxis": {
            "gridcolor": "white",
            "linecolor": "white",
            "ticks": ""
           }
          },
          "title": {
           "x": 0.05
          },
          "xaxis": {
           "automargin": true,
           "gridcolor": "white",
           "linecolor": "white",
           "ticks": "",
           "title": {
            "standoff": 15
           },
           "zerolinecolor": "white",
           "zerolinewidth": 2
          },
          "yaxis": {
           "automargin": true,
           "gridcolor": "white",
           "linecolor": "white",
           "ticks": "",
           "title": {
            "standoff": 15
           },
           "zerolinecolor": "white",
           "zerolinewidth": 2
          }
         }
        },
        "title": {
         "text": "Sonnet and Haiku on Amazon Bedrock price|performance on the en_3000-4000 dataset<br>Bubbles in shaded quadrant represent experiments that satisfy price|performance costraints.<br>Larger the bubble the greater the transactions/minute.",
         "x": 0.5,
         "xanchor": "center",
         "y": 0.95,
         "yanchor": "top"
        },
        "width": 1000,
        "xaxis": {
         "anchor": "y",
         "domain": [
          0,
          1
         ],
         "rangemode": "nonnegative",
         "title": {
          "text": ""
         }
        },
        "yaxis": {
         "anchor": "x",
         "domain": [
          0,
          1
         ],
         "title": {
          "text": ""
         }
        }
       }
      },
      "text/html": [
       "<div>                            <div id=\"8bf6620a-774b-4751-bc3c-8d1a4d2c0f62\" class=\"plotly-graph-div\" style=\"height:600px; width:1000px;\"></div>            <script type=\"text/javascript\">                require([\"plotly\"], function(Plotly) {                    window.PLOTLYENV=window.PLOTLYENV || {};                                    if (document.getElementById(\"8bf6620a-774b-4751-bc3c-8d1a4d2c0f62\")) {                    Plotly.newPlot(                        \"8bf6620a-774b-4751-bc3c-8d1a4d2c0f62\",                        [{\"hovertemplate\":\"instance_type=anthropic.claude-3-haiku-20240307-v1:0\\u003cbr\\u003econcurrency=1\\u003cbr\\u003elatency_p95=%{x}\\u003cbr\\u003ecost_per_10k_txn=%{y}\\u003cbr\\u003etransactions_per_minute=%{marker.size}\\u003cextra\\u003e\\u003c\\u002fextra\\u003e\",\"legendgroup\":\"anthropic.claude-3-haiku-20240307-v1:0\",\"marker\":{\"color\":\"#636efa\",\"size\":[60],\"sizemode\":\"area\",\"sizeref\":0.15,\"symbol\":\"circle\"},\"mode\":\"markers\",\"name\":\"anthropic.claude-3-haiku-20240307-v1:0\",\"orientation\":\"v\",\"showlegend\":true,\"x\":[1.05],\"xaxis\":\"x\",\"y\":[12.0875],\"yaxis\":\"y\",\"type\":\"scatter\"},{\"hovertemplate\":\"instance_type=anthropic.claude-3-sonnet-20240229-v1:0\\u003cbr\\u003econcurrency=1\\u003cbr\\u003elatency_p95=%{x}\\u003cbr\\u003ecost_per_10k_txn=%{y}\\u003cbr\\u003etransactions_per_minute=%{marker.size}\\u003cextra\\u003e\\u003c\\u002fextra\\u003e\",\"legendgroup\":\"anthropic.claude-3-sonnet-20240229-v1:0\",\"marker\":{\"color\":\"#EF553B\",\"size\":[17],\"sizemode\":\"area\",\"sizeref\":0.15,\"symbol\":\"circle\"},\"mode\":\"markers\",\"name\":\"anthropic.claude-3-sonnet-20240229-v1:0\",\"orientation\":\"v\",\"showlegend\":true,\"x\":[3.67],\"xaxis\":\"x\",\"y\":[145.79999999999998],\"yaxis\":\"y\",\"type\":\"scatter\"}],                        {\"template\":{\"data\":{\"histogram2dcontour\":[{\"type\":\"histogram2dcontour\",\"colorbar\":{\"outlinewidth\":0,\"ticks\":\"\"},\"colorscale\":[[0.0,\"#0d0887\"],[0.1111111111111111,\"#46039f\"],[0.2222222222222222,\"#7201a8\"],[0.3333333333333333,\"#9c179e\"],[0.4444444444444444,\"#bd3786\"],[0.5555555555555556,\"#d8576b\"],[0.6666666666666666,\"#ed7953\"],[0.7777777777777778,\"#fb9f3a\"],[0.8888888888888888,\"#fdca26\"],[1.0,\"#f0f921\"]]}],\"choropleth\":[{\"type\":\"choropleth\",\"colorbar\":{\"outlinewidth\":0,\"ticks\":\"\"}}],\"histogram2d\":[{\"type\":\"histogram2d\",\"colorbar\":{\"outlinewidth\":0,\"ticks\":\"\"},\"colorscale\":[[0.0,\"#0d0887\"],[0.1111111111111111,\"#46039f\"],[0.2222222222222222,\"#7201a8\"],[0.3333333333333333,\"#9c179e\"],[0.4444444444444444,\"#bd3786\"],[0.5555555555555556,\"#d8576b\"],[0.6666666666666666,\"#ed7953\"],[0.7777777777777778,\"#fb9f3a\"],[0.8888888888888888,\"#fdca26\"],[1.0,\"#f0f921\"]]}],\"heatmap\":[{\"type\":\"heatmap\",\"colorbar\":{\"outlinewidth\":0,\"ticks\":\"\"},\"colorscale\":[[0.0,\"#0d0887\"],[0.1111111111111111,\"#46039f\"],[0.2222222222222222,\"#7201a8\"],[0.3333333333333333,\"#9c179e\"],[0.4444444444444444,\"#bd3786\"],[0.5555555555555556,\"#d8576b\"],[0.6666666666666666,\"#ed7953\"],[0.7777777777777778,\"#fb9f3a\"],[0.8888888888888888,\"#fdca26\"],[1.0,\"#f0f921\"]]}],\"heatmapgl\":[{\"type\":\"heatmapgl\",\"colorbar\":{\"outlinewidth\":0,\"ticks\":\"\"},\"colorscale\":[[0.0,\"#0d0887\"],[0.1111111111111111,\"#46039f\"],[0.2222222222222222,\"#7201a8\"],[0.3333333333333333,\"#9c179e\"],[0.4444444444444444,\"#bd3786\"],[0.5555555555555556,\"#d8576b\"],[0.6666666666666666,\"#ed7953\"],[0.7777777777777778,\"#fb9f3a\"],[0.8888888888888888,\"#fdca26\"],[1.0,\"#f0f921\"]]}],\"contourcarpet\":[{\"type\":\"contourcarpet\",\"colorbar\":{\"outlinewidth\":0,\"ticks\":\"\"}}],\"contour\":[{\"type\":\"contour\",\"colorbar\":{\"outlinewidth\":0,\"ticks\":\"\"},\"colorscale\":[[0.0,\"#0d0887\"],[0.1111111111111111,\"#46039f\"],[0.2222222222222222,\"#7201a8\"],[0.3333333333333333,\"#9c179e\"],[0.4444444444444444,\"#bd3786\"],[0.5555555555555556,\"#d8576b\"],[0.6666666666666666,\"#ed7953\"],[0.7777777777777778,\"#fb9f3a\"],[0.8888888888888888,\"#fdca26\"],[1.0,\"#f0f921\"]]}],\"surface\":[{\"type\":\"surface\",\"colorbar\":{\"outlinewidth\":0,\"ticks\":\"\"},\"colorscale\":[[0.0,\"#0d0887\"],[0.1111111111111111,\"#46039f\"],[0.2222222222222222,\"#7201a8\"],[0.3333333333333333,\"#9c179e\"],[0.4444444444444444,\"#bd3786\"],[0.5555555555555556,\"#d8576b\"],[0.6666666666666666,\"#ed7953\"],[0.7777777777777778,\"#fb9f3a\"],[0.8888888888888888,\"#fdca26\"],[1.0,\"#f0f921\"]]}],\"mesh3d\":[{\"type\":\"mesh3d\",\"colorbar\":{\"outlinewidth\":0,\"ticks\":\"\"}}],\"scatter\":[{\"fillpattern\":{\"fillmode\":\"overlay\",\"size\":10,\"solidity\":0.2},\"type\":\"scatter\"}],\"parcoords\":[{\"type\":\"parcoords\",\"line\":{\"colorbar\":{\"outlinewidth\":0,\"ticks\":\"\"}}}],\"scatterpolargl\":[{\"type\":\"scatterpolargl\",\"marker\":{\"colorbar\":{\"outlinewidth\":0,\"ticks\":\"\"}}}],\"bar\":[{\"error_x\":{\"color\":\"#2a3f5f\"},\"error_y\":{\"color\":\"#2a3f5f\"},\"marker\":{\"line\":{\"color\":\"#E5ECF6\",\"width\":0.5},\"pattern\":{\"fillmode\":\"overlay\",\"size\":10,\"solidity\":0.2}},\"type\":\"bar\"}],\"scattergeo\":[{\"type\":\"scattergeo\",\"marker\":{\"colorbar\":{\"outlinewidth\":0,\"ticks\":\"\"}}}],\"scatterpolar\":[{\"type\":\"scatterpolar\",\"marker\":{\"colorbar\":{\"outlinewidth\":0,\"ticks\":\"\"}}}],\"histogram\":[{\"marker\":{\"pattern\":{\"fillmode\":\"overlay\",\"size\":10,\"solidity\":0.2}},\"type\":\"histogram\"}],\"scattergl\":[{\"type\":\"scattergl\",\"marker\":{\"colorbar\":{\"outlinewidth\":0,\"ticks\":\"\"}}}],\"scatter3d\":[{\"type\":\"scatter3d\",\"line\":{\"colorbar\":{\"outlinewidth\":0,\"ticks\":\"\"}},\"marker\":{\"colorbar\":{\"outlinewidth\":0,\"ticks\":\"\"}}}],\"scattermapbox\":[{\"type\":\"scattermapbox\",\"marker\":{\"colorbar\":{\"outlinewidth\":0,\"ticks\":\"\"}}}],\"scatterternary\":[{\"type\":\"scatterternary\",\"marker\":{\"colorbar\":{\"outlinewidth\":0,\"ticks\":\"\"}}}],\"scattercarpet\":[{\"type\":\"scattercarpet\",\"marker\":{\"colorbar\":{\"outlinewidth\":0,\"ticks\":\"\"}}}],\"carpet\":[{\"aaxis\":{\"endlinecolor\":\"#2a3f5f\",\"gridcolor\":\"white\",\"linecolor\":\"white\",\"minorgridcolor\":\"white\",\"startlinecolor\":\"#2a3f5f\"},\"baxis\":{\"endlinecolor\":\"#2a3f5f\",\"gridcolor\":\"white\",\"linecolor\":\"white\",\"minorgridcolor\":\"white\",\"startlinecolor\":\"#2a3f5f\"},\"type\":\"carpet\"}],\"table\":[{\"cells\":{\"fill\":{\"color\":\"#EBF0F8\"},\"line\":{\"color\":\"white\"}},\"header\":{\"fill\":{\"color\":\"#C8D4E3\"},\"line\":{\"color\":\"white\"}},\"type\":\"table\"}],\"barpolar\":[{\"marker\":{\"line\":{\"color\":\"#E5ECF6\",\"width\":0.5},\"pattern\":{\"fillmode\":\"overlay\",\"size\":10,\"solidity\":0.2}},\"type\":\"barpolar\"}],\"pie\":[{\"automargin\":true,\"type\":\"pie\"}]},\"layout\":{\"autotypenumbers\":\"strict\",\"colorway\":[\"#636efa\",\"#EF553B\",\"#00cc96\",\"#ab63fa\",\"#FFA15A\",\"#19d3f3\",\"#FF6692\",\"#B6E880\",\"#FF97FF\",\"#FECB52\"],\"font\":{\"color\":\"#2a3f5f\"},\"hovermode\":\"closest\",\"hoverlabel\":{\"align\":\"left\"},\"paper_bgcolor\":\"white\",\"plot_bgcolor\":\"#E5ECF6\",\"polar\":{\"bgcolor\":\"#E5ECF6\",\"angularaxis\":{\"gridcolor\":\"white\",\"linecolor\":\"white\",\"ticks\":\"\"},\"radialaxis\":{\"gridcolor\":\"white\",\"linecolor\":\"white\",\"ticks\":\"\"}},\"ternary\":{\"bgcolor\":\"#E5ECF6\",\"aaxis\":{\"gridcolor\":\"white\",\"linecolor\":\"white\",\"ticks\":\"\"},\"baxis\":{\"gridcolor\":\"white\",\"linecolor\":\"white\",\"ticks\":\"\"},\"caxis\":{\"gridcolor\":\"white\",\"linecolor\":\"white\",\"ticks\":\"\"}},\"coloraxis\":{\"colorbar\":{\"outlinewidth\":0,\"ticks\":\"\"}},\"colorscale\":{\"sequential\":[[0.0,\"#0d0887\"],[0.1111111111111111,\"#46039f\"],[0.2222222222222222,\"#7201a8\"],[0.3333333333333333,\"#9c179e\"],[0.4444444444444444,\"#bd3786\"],[0.5555555555555556,\"#d8576b\"],[0.6666666666666666,\"#ed7953\"],[0.7777777777777778,\"#fb9f3a\"],[0.8888888888888888,\"#fdca26\"],[1.0,\"#f0f921\"]],\"sequentialminus\":[[0.0,\"#0d0887\"],[0.1111111111111111,\"#46039f\"],[0.2222222222222222,\"#7201a8\"],[0.3333333333333333,\"#9c179e\"],[0.4444444444444444,\"#bd3786\"],[0.5555555555555556,\"#d8576b\"],[0.6666666666666666,\"#ed7953\"],[0.7777777777777778,\"#fb9f3a\"],[0.8888888888888888,\"#fdca26\"],[1.0,\"#f0f921\"]],\"diverging\":[[0,\"#8e0152\"],[0.1,\"#c51b7d\"],[0.2,\"#de77ae\"],[0.3,\"#f1b6da\"],[0.4,\"#fde0ef\"],[0.5,\"#f7f7f7\"],[0.6,\"#e6f5d0\"],[0.7,\"#b8e186\"],[0.8,\"#7fbc41\"],[0.9,\"#4d9221\"],[1,\"#276419\"]]},\"xaxis\":{\"gridcolor\":\"white\",\"linecolor\":\"white\",\"ticks\":\"\",\"title\":{\"standoff\":15},\"zerolinecolor\":\"white\",\"automargin\":true,\"zerolinewidth\":2},\"yaxis\":{\"gridcolor\":\"white\",\"linecolor\":\"white\",\"ticks\":\"\",\"title\":{\"standoff\":15},\"zerolinecolor\":\"white\",\"automargin\":true,\"zerolinewidth\":2},\"scene\":{\"xaxis\":{\"backgroundcolor\":\"#E5ECF6\",\"gridcolor\":\"white\",\"linecolor\":\"white\",\"showbackground\":true,\"ticks\":\"\",\"zerolinecolor\":\"white\",\"gridwidth\":2},\"yaxis\":{\"backgroundcolor\":\"#E5ECF6\",\"gridcolor\":\"white\",\"linecolor\":\"white\",\"showbackground\":true,\"ticks\":\"\",\"zerolinecolor\":\"white\",\"gridwidth\":2},\"zaxis\":{\"backgroundcolor\":\"#E5ECF6\",\"gridcolor\":\"white\",\"linecolor\":\"white\",\"showbackground\":true,\"ticks\":\"\",\"zerolinecolor\":\"white\",\"gridwidth\":2}},\"shapedefaults\":{\"line\":{\"color\":\"#2a3f5f\"}},\"annotationdefaults\":{\"arrowcolor\":\"#2a3f5f\",\"arrowhead\":0,\"arrowwidth\":1},\"geo\":{\"bgcolor\":\"white\",\"landcolor\":\"#E5ECF6\",\"subunitcolor\":\"white\",\"showland\":true,\"showlakes\":true,\"lakecolor\":\"white\"},\"title\":{\"x\":0.05},\"mapbox\":{\"style\":\"light\"}}},\"xaxis\":{\"anchor\":\"y\",\"domain\":[0.0,1.0],\"title\":{\"text\":\"\"},\"rangemode\":\"nonnegative\"},\"yaxis\":{\"anchor\":\"x\",\"domain\":[0.0,1.0],\"title\":{\"text\":\"\"}},\"annotations\":[{\"showarrow\":false,\"text\":\"concurrency=1\",\"x\":0.5,\"xanchor\":\"center\",\"xref\":\"paper\",\"y\":1.0,\"yanchor\":\"bottom\",\"yref\":\"paper\"},{\"text\":\"Cost per 10,000 requests (USD)\",\"textangle\":-90,\"x\":-0.05,\"xref\":\"paper\",\"y\":0.5,\"yref\":\"paper\"},{\"showarrow\":false,\"text\":\"p95 latency (seconds)\",\"x\":0.5,\"xanchor\":\"center\",\"xref\":\"paper\",\"y\":-0.1,\"yref\":\"paper\"},{\"arrowhead\":1,\"showarrow\":true,\"text\":\"best price|performance*\",\"x\":1.05,\"xref\":\"x\",\"y\":12.09,\"yref\":\"y\"},{\"showarrow\":false,\"text\":\"*\\u003cb\\u003ebest price|performance\\u003c\\u002fb\\u003e: anthropic.claude-3-haiku-20240307-v1:0, p95 latency 1.05s, 10k txn cost $12.09, transactions\\u002fminute 60.\",\"x\":0,\"xanchor\":\"left\",\"xref\":\"paper\",\"y\":-0.15,\"yref\":\"paper\"}],\"legend\":{\"title\":{\"text\":\"\"},\"tracegroupgap\":0,\"itemsizing\":\"constant\"},\"margin\":{\"t\":100},\"height\":600,\"width\":1000,\"shapes\":[{\"line\":{\"color\":\"red\",\"dash\":\"dash\",\"width\":1},\"type\":\"line\",\"x0\":5,\"x1\":5,\"xref\":\"x\",\"y0\":0,\"y1\":1,\"yref\":\"y domain\"},{\"line\":{\"color\":\"red\",\"dash\":\"dash\",\"width\":1},\"type\":\"line\",\"x0\":0,\"x1\":1,\"xref\":\"x domain\",\"y0\":350,\"y1\":350,\"yref\":\"y\"},{\"fillcolor\":\"pink\",\"layer\":\"below\",\"line\":{\"width\":0},\"type\":\"rect\",\"x0\":0,\"x1\":5,\"xref\":\"x\",\"y0\":0,\"y1\":350,\"yref\":\"y\"}],\"title\":{\"text\":\"Sonnet and Haiku on Amazon Bedrock price|performance on the en_3000-4000 dataset\\u003cbr\\u003eBubbles in shaded quadrant represent experiments that satisfy price|performance costraints.\\u003cbr\\u003eLarger the bubble the greater the transactions\\u002fminute.\",\"x\":0.5,\"y\":0.95,\"xanchor\":\"center\",\"yanchor\":\"top\"}},                        {\"responsive\": true}                    ).then(function(){\n",
       "                            \n",
       "var gd = document.getElementById('8bf6620a-774b-4751-bc3c-8d1a4d2c0f62');\n",
       "var x = new MutationObserver(function (mutations, observer) {{\n",
       "        var display = window.getComputedStyle(gd).display;\n",
       "        if (!display || display === 'none') {{\n",
       "            console.log([gd, 'removed!']);\n",
       "            Plotly.purge(gd);\n",
       "            observer.disconnect();\n",
       "        }}\n",
       "}});\n",
       "\n",
       "// Listen for the removal of the full notebook cells\n",
       "var notebookContainer = gd.closest('#notebook-container');\n",
       "if (notebookContainer) {{\n",
       "    x.observe(notebookContainer, {childList: true});\n",
       "}}\n",
       "\n",
       "// Listen for the clearing of the current output cell\n",
       "var outputEl = gd.closest('.output');\n",
       "if (outputEl) {{\n",
       "    x.observe(outputEl, {childList: true});\n",
       "}}\n",
       "\n",
       "                        })                };                });            </script>        </div>"
      ]
     },
     "metadata": {},
     "output_type": "display_data"
    }
   ],
   "source": [
    "CHARTS_PER_ROW: int = 2\n",
    "fig = px.scatter(df_summary_metrics_dataset,\n",
    "                 x=\"latency_p95\",\n",
    "                 y=\"cost_per_10k_txn\",\n",
    "                 size=\"transactions_per_minute\",\n",
    "                 color=\"instance_type\", #\",\n",
    "                 facet_col=\"concurrency\",\n",
    "                 #symbol =\"concurrency\",\n",
    "                 facet_col_wrap=CHARTS_PER_ROW,\n",
    "                 #text=\"instance_type\",\n",
    "                 log_y=False,\n",
    "                 #size_max=10,\n",
    "                 category_orders={\"concurrency\": sorted(list(df_summary_metrics_dataset.concurrency))},\n",
    "                 width=1000, height=600)\n",
    "\n",
    "fig.for_each_yaxis(lambda y: y.update(title = ''))\n",
    "fig.add_annotation(x=-0.05,y=0.5,\n",
    "                   text=\"Cost per 10,000 requests (USD)\", textangle=-90,\n",
    "                   xref=\"paper\", yref=\"paper\")\n",
    "\n",
    "fig.update_xaxes(title=\"\")\n",
    "fig.add_annotation(\n",
    "    showarrow=False,\n",
    "    xanchor='center',\n",
    "    xref='paper', \n",
    "    x=0.5, \n",
    "    yref='paper',\n",
    "    y=-0.1,\n",
    "    text='p95 latency (seconds)'\n",
    ")\n",
    "\n",
    "fig.update_layout(legend={'title_text':''})\n",
    "\n",
    "fig.add_vline(x=config['report']['latency_budget'], line_width=1, line_dash=\"dash\", line_color=\"red\")\n",
    "fig.add_hline(y=config['report']['cost_per_10k_txn_budget'], line_width=1, line_dash=\"dash\", line_color=\"red\")\n",
    "\n",
    "fig.add_shape(\n",
    "        type=\"rect\",\n",
    "        x0=0,\n",
    "        y0=0,\n",
    "        x1=config['report']['latency_budget'],\n",
    "        y1=config['report']['cost_per_10k_txn_budget'],\n",
    "        fillcolor=\"pink\",\n",
    "        line_width=0,\n",
    "        layer=\"below\",\n",
    "        row='all',\n",
    "        col='all',\n",
    "        exclude_empty_subplots=True\n",
    "    )\n",
    "\n",
    "title: str = f\"{config['general']['model_name']} price|performance on the {config['metrics']['dataset_of_interest']} dataset\"\n",
    "#subtitle: str = \"Hover over bubbles in the shaded quadrant to see best best price|performance options.\"\n",
    "subtitle: str = \"Bubbles in shaded quadrant represent experiments that satisfy price|performance costraints.<br>Larger the bubble the greater the transactions/minute.\"\n",
    "\n",
    "fig.update_layout(title=dict(\n",
    "                      text=f\"{title}<br>{subtitle}\",\n",
    "                      x=0.5,\n",
    "                      y=0.95,\n",
    "                      xanchor='center',\n",
    "                      yanchor='top'))\n",
    "\n",
    "fig.update_layout(margin=dict(t=100))\n",
    "fig.update_xaxes(rangemode=\"nonnegative\")\n",
    "# fig.update_layout(legend=dict(\n",
    "#     yanchor=\"bottom\",\n",
    "#     y=-0.425,\n",
    "#     xanchor=\"left\",\n",
    "#     x=0.01\n",
    "# ))\n",
    "\n",
    "# now is the tricky part to add annotation for the best price performance\n",
    "# we have to identify the correct facet for the best entry and then correct\n",
    "# row and col index for that facet\n",
    "# we first identify the best entry as a json dictionary\n",
    "# to find the index we sort all the concurrency levens in asc order\n",
    "# then find the row col index by iterating but we are iterating from 1,1\n",
    "# which is at the top left because that is how we sett it visually\n",
    "# but the facets row col counter starts at bottom left so the col counter is\n",
    "# correct but the row counter needs to be inverted\n",
    "best_price_perf = df_summary_metrics_dataset_overall.to_dict(orient='records')[0]\n",
    "best_price_perf_x = best_price_perf['instance_type']\n",
    "best_price_perf_y = best_price_perf['price_per_txn']*10000\n",
    "best_price_perf_avg_latency = best_price_perf['latency_p95']\n",
    "best_price_perf_cost_per_10k = round(best_price_perf['price_per_txn']*10000, 2)\n",
    "best_price_perf_instance_type = best_price_perf['instance_type']\n",
    "best_price_perf_instance_count = best_price_perf['instance_count']\n",
    "best_price_perf_tpm = best_price_perf['transactions_per_minute']\n",
    "concurrencies = np.sort(df_summary_metrics_dataset.concurrency.unique())\n",
    "\n",
    "concurrencies = list(df_summary_metrics_dataset.concurrency.unique())\n",
    "\n",
    "c = 1\n",
    "total_rows = math.ceil(len(concurrencies)/CHARTS_PER_ROW)\n",
    "r = total_rows\n",
    "for i, v in enumerate(np.sort(concurrencies)):\n",
    "    logger.info(f\"iter {i}, r={r}, c={c}, v={v}, \"\n",
    "                f\"best_price_perf_concurrency={best_price_perf['concurrency']}\")\n",
    "    if v == best_price_perf['concurrency']: #best_price_perf['concurrency']:\n",
    "        logger.info(f\"iter={i}, match found, r={r}, c={c}\")\n",
    "        break\n",
    "    if c == CHARTS_PER_ROW:\n",
    "        r -= 1\n",
    "        c = 1\n",
    "        logger.info(f\"iter {i}, reset r and c indexes, r={r}, c={c}\")\n",
    "    else:\n",
    "        c += 1\n",
    "        logger.info(f\"iter {i}, incrementing c, c={c}\")\n",
    "    \n",
    "best_facet_row = r\n",
    "best_facet_col = c\n",
    "logger.info(f\"facet row col for best_price_perf, r={r}, total_rows={total_rows}, \"\n",
    "            f\"best_facet_row={best_facet_row}, best_facet_col={best_facet_col}\")\n",
    "\n",
    "fig.add_annotation(\n",
    "        x=best_price_perf_avg_latency,\n",
    "        y=best_price_perf_cost_per_10k,\n",
    "        text=\"best price|performance*\",\n",
    "        row=best_facet_row,\n",
    "        col=best_facet_col,\n",
    "        showarrow=True,\n",
    "        arrowhead=1,\n",
    "        exclude_empty_subplots=True)\n",
    "\n",
    "instance_count_str = f\"{best_price_perf_instance_count} instances of \" if best_price_perf_instance_count > 1 else \"\"\n",
    "fig.add_annotation(\n",
    "    showarrow=False,\n",
    "    xanchor='left',\n",
    "    xref='paper', \n",
    "    x=0, \n",
    "    yref='paper',\n",
    "    y=-0.15,\n",
    "    text=f\"*<b>best price|performance</b>: {instance_count_str}{best_price_perf_instance_type}, p95 latency {best_price_perf_avg_latency}s, 10k txn cost ${best_price_perf_cost_per_10k}, transactions/minute {best_price_perf_tpm}.\",\n",
    ")\n",
    "fig.show()"
   ]
  },
  {
   "cell_type": "code",
   "execution_count": 121,
   "metadata": {
    "tags": []
   },
   "outputs": [
    {
     "name": "stderr",
     "output_type": "stream",
     "text": [
      "[2024-08-12 23:42:17,775] p31041 {245086894.py:6} INFO - writing business summary image from /tmp/business_summary.png to s3://sagemaker-fmbench-write-us-east-1-015469603702/fmbench-bedrock-anthropic-models-SageMaker-ExecutionRole-20240111T084686/data/metrics/yyyy=2024/mm=08/dd=12/hh=22/mm=16/business_summary.png\n"
     ]
    }
   ],
   "source": [
    "business_summary_plot_fpath: str = os.path.join(METRICS_DIR, BUSINESS_SUMMARY_PLOT_FNAME)\n",
    "\n",
    "local_path: str = os.path.join(tempfile.tempdir, BUSINESS_SUMMARY_PLOT_FNAME)\n",
    "pio.write_image(fig, local_path) \n",
    "upload_file_to_s3(BUCKET_NAME, local_path, business_summary_plot_fpath)\n",
    "logger.info(f\"writing business summary image from {local_path} to s3://{BUCKET_NAME}/{business_summary_plot_fpath}\")"
   ]
  },
  {
   "cell_type": "code",
   "execution_count": 122,
   "metadata": {
    "tags": []
   },
   "outputs": [
    {
     "name": "stderr",
     "output_type": "stream",
     "text": [
      "[2024-08-12 23:42:18,039] p31041 {2012293385.py:5} INFO - writing business summary image from /tmp/business_summary.html to s3://sagemaker-fmbench-write-us-east-1-015469603702/fmbench-bedrock-anthropic-models-SageMaker-ExecutionRole-20240111T084686/data/metrics/yyyy=2024/mm=08/dd=12/hh=22/mm=16/business_summary.html\n"
     ]
    }
   ],
   "source": [
    "local_path: str = os.path.join(tempfile.tempdir, BUSINESS_SUMMARY_PLOT_FNAME.split('.')[0] + \".html\")\n",
    "fig.write_html(local_path)\n",
    "business_summary_html_plot_fpath = business_summary_plot_fpath.split('.')[0] + \".html\"\n",
    "upload_file_to_s3(BUCKET_NAME, local_path, business_summary_html_plot_fpath)\n",
    "logger.info(f\"writing business summary image from {local_path} to s3://{BUCKET_NAME}/{business_summary_html_plot_fpath}\")"
   ]
  },
  {
   "cell_type": "code",
   "execution_count": 123,
   "metadata": {
    "tags": []
   },
   "outputs": [
    {
     "data": {
      "text/html": [
       "<div>\n",
       "<style scoped>\n",
       "    .dataframe tbody tr th:only-of-type {\n",
       "        vertical-align: middle;\n",
       "    }\n",
       "\n",
       "    .dataframe tbody tr th {\n",
       "        vertical-align: top;\n",
       "    }\n",
       "\n",
       "    .dataframe thead th {\n",
       "        text-align: right;\n",
       "    }\n",
       "</style>\n",
       "<table border=\"1\" class=\"dataframe\">\n",
       "  <thead>\n",
       "    <tr style=\"text-align: right;\">\n",
       "      <th></th>\n",
       "      <th>experiment_name</th>\n",
       "      <th>payload_file</th>\n",
       "      <th>instance_type</th>\n",
       "      <th>instance_count</th>\n",
       "      <th>concurrency</th>\n",
       "      <th>error_rate</th>\n",
       "      <th>prompt_token_count_mean</th>\n",
       "      <th>prompt_token_throughput</th>\n",
       "      <th>completion_token_count_mean</th>\n",
       "      <th>completion_token_throughput</th>\n",
       "      <th>...</th>\n",
       "      <th>score_dict</th>\n",
       "      <th>score</th>\n",
       "      <th>any_criterion_failed</th>\n",
       "      <th>error_rate_criterion_failed</th>\n",
       "      <th>latency_criterion_failed</th>\n",
       "      <th>cost_per_txn_criterion_failed</th>\n",
       "      <th>error_rate_text</th>\n",
       "      <th>latency_p95_text</th>\n",
       "      <th>price_per_10k_txn_text</th>\n",
       "      <th>price_per_tx_10000_txn</th>\n",
       "    </tr>\n",
       "  </thead>\n",
       "  <tbody>\n",
       "    <tr>\n",
       "      <th>3</th>\n",
       "      <td>anthropic.claude-3-haiku-20240307-v1:0</td>\n",
       "      <td>payload_en_3000-4000.jsonl</td>\n",
       "      <td>anthropic.claude-3-haiku-20240307-v1:0</td>\n",
       "      <td>1.0</td>\n",
       "      <td>1</td>\n",
       "      <td>0.0</td>\n",
       "      <td>4515</td>\n",
       "      <td>4589</td>\n",
       "      <td>64</td>\n",
       "      <td>59</td>\n",
       "      <td>...</td>\n",
       "      <td>{'score': 5.755464285714286, 'any_criterion_fa...</td>\n",
       "      <td>5.755464</td>\n",
       "      <td>False</td>\n",
       "      <td>False</td>\n",
       "      <td>False</td>\n",
       "      <td>False</td>\n",
       "      <td>&lt;span style='color:green'&gt;0.00&lt;/span&gt;</td>\n",
       "      <td>&lt;span style='color:green'&gt;1.05&lt;/span&gt;</td>\n",
       "      <td>&lt;span style='color:green'&gt;12.09&lt;/span&gt;</td>\n",
       "      <td>12.09</td>\n",
       "    </tr>\n",
       "    <tr>\n",
       "      <th>8</th>\n",
       "      <td>anthropic.claude-3-sonnet-20240229-v1:0</td>\n",
       "      <td>payload_en_3000-4000.jsonl</td>\n",
       "      <td>anthropic.claude-3-sonnet-20240229-v1:0</td>\n",
       "      <td>1.0</td>\n",
       "      <td>1</td>\n",
       "      <td>0.0</td>\n",
       "      <td>4515</td>\n",
       "      <td>1360</td>\n",
       "      <td>69</td>\n",
       "      <td>19</td>\n",
       "      <td>...</td>\n",
       "      <td>{'score': 4.849428571428572, 'any_criterion_fa...</td>\n",
       "      <td>4.849429</td>\n",
       "      <td>False</td>\n",
       "      <td>False</td>\n",
       "      <td>False</td>\n",
       "      <td>False</td>\n",
       "      <td>&lt;span style='color:green'&gt;0.00&lt;/span&gt;</td>\n",
       "      <td>&lt;span style='color:green'&gt;3.67&lt;/span&gt;</td>\n",
       "      <td>&lt;span style='color:green'&gt;145.80&lt;/span&gt;</td>\n",
       "      <td>145.80</td>\n",
       "    </tr>\n",
       "  </tbody>\n",
       "</table>\n",
       "<p>2 rows × 26 columns</p>\n",
       "</div>"
      ],
      "text/plain": [
       "                           experiment_name                payload_file  \\\n",
       "3   anthropic.claude-3-haiku-20240307-v1:0  payload_en_3000-4000.jsonl   \n",
       "8  anthropic.claude-3-sonnet-20240229-v1:0  payload_en_3000-4000.jsonl   \n",
       "\n",
       "                             instance_type  instance_count  concurrency  \\\n",
       "3   anthropic.claude-3-haiku-20240307-v1:0             1.0            1   \n",
       "8  anthropic.claude-3-sonnet-20240229-v1:0             1.0            1   \n",
       "\n",
       "   error_rate  prompt_token_count_mean  prompt_token_throughput  \\\n",
       "3         0.0                     4515                     4589   \n",
       "8         0.0                     4515                     1360   \n",
       "\n",
       "   completion_token_count_mean  completion_token_throughput  ...  \\\n",
       "3                           64                           59  ...   \n",
       "8                           69                           19  ...   \n",
       "\n",
       "                                          score_dict     score  \\\n",
       "3  {'score': 5.755464285714286, 'any_criterion_fa...  5.755464   \n",
       "8  {'score': 4.849428571428572, 'any_criterion_fa...  4.849429   \n",
       "\n",
       "   any_criterion_failed  error_rate_criterion_failed  \\\n",
       "3                 False                        False   \n",
       "8                 False                        False   \n",
       "\n",
       "   latency_criterion_failed cost_per_txn_criterion_failed  \\\n",
       "3                     False                         False   \n",
       "8                     False                         False   \n",
       "\n",
       "                         error_rate_text  \\\n",
       "3  <span style='color:green'>0.00</span>   \n",
       "8  <span style='color:green'>0.00</span>   \n",
       "\n",
       "                        latency_p95_text  \\\n",
       "3  <span style='color:green'>1.05</span>   \n",
       "8  <span style='color:green'>3.67</span>   \n",
       "\n",
       "                    price_per_10k_txn_text  price_per_tx_10000_txn  \n",
       "3   <span style='color:green'>12.09</span>                   12.09  \n",
       "8  <span style='color:green'>145.80</span>                  145.80  \n",
       "\n",
       "[2 rows x 26 columns]"
      ]
     },
     "metadata": {},
     "output_type": "display_data"
    }
   ],
   "source": [
    "display(df_summary_metrics_best_option_instance_type)"
   ]
  },
  {
   "cell_type": "code",
   "execution_count": 124,
   "metadata": {
    "tags": []
   },
   "outputs": [
    {
     "name": "stderr",
     "output_type": "stream",
     "text": [
      "[2024-08-12 23:42:18,069] p31041 {3676473203.py:2} INFO - the cost information can be found in the csv file here -> fmbench-bedrock-anthropic-models-SageMaker-ExecutionRole-20240111T084686/data/metrics/yyyy=2024/mm=08/dd=12/hh=22/mm=16/endpoint_per_instance_per_run_costs.csv\n",
      "[2024-08-12 23:42:18,222] p31041 {3676473203.py:10} INFO - fmbench-bedrock-anthropic-models-SageMaker-ExecutionRole-20240111T084686/data/metrics/yyyy=2024/mm=08/dd=12/hh=22/mm=16/endpoint_per_instance_per_run_costs.csv read into dataframe of shape (2, 5)\n"
     ]
    }
   ],
   "source": [
    "cost_csv_content_fpath = os.path.join(METRICS_DIR, SUMMARY_MODEL_ENDPOINT_COST_PER_INSTANCE)\n",
    "logger.info(f\"the cost information can be found in the csv file here -> {cost_csv_content_fpath}\")\n",
    "\n",
    "# Read the file from S3\n",
    "try:\n",
    "    cost_content = get_s3_object(BUCKET_NAME, cost_csv_content_fpath)\n",
    "\n",
    "    # Use pandas to read the CSV content\n",
    "    df_cost_metrics = pd.read_csv(io.StringIO(cost_content))\n",
    "    logger.info(f\"{cost_csv_content_fpath} read into dataframe of shape {df_cost_metrics.shape}\")\n",
    "    df_cost_metrics.head()\n",
    "except Exception as e:\n",
    "    logger.error(f\"Error reading from S3: {e}\")\n",
    "\n",
    "# Replace NaN values with an empty string\n",
    "# df_cost_metrics.fillna('', inplace=True)\n",
    "\n",
    "df_cost_metrics.head()\n",
    "\n",
    "# Convert df_cost_metrics to Markdown table\n",
    "cost_mkdn_table = Tomark.table(df_cost_metrics.to_dict(orient='records'))"
   ]
  },
  {
   "cell_type": "code",
   "execution_count": 125,
   "metadata": {
    "tags": []
   },
   "outputs": [
    {
     "name": "stderr",
     "output_type": "stream",
     "text": [
      "[2024-08-12 23:42:18,237] p31041 {2713487255.py:2} INFO - the ep metrics summarized information can be found in the csv file here -> fmbench-bedrock-anthropic-models-SageMaker-ExecutionRole-20240111T084686/data/metrics/yyyy=2024/mm=08/dd=12/hh=22/mm=16/endpoint_metrics_summarized.csv\n",
      "[2024-08-12 23:42:18,309] p31041 {2713487255.py:16} ERROR - Error reading from S3: An error occurred (NoSuchKey) when calling the GetObject operation: The specified key does not exist.\n"
     ]
    }
   ],
   "source": [
    "ep_metrics_summarized_fpath = os.path.join(METRICS_DIR, ENDPOINT_METRICS_SUMMARIZED_FNAME)\n",
    "logger.info(f\"the ep metrics summarized information can be found in the csv file here -> {ep_metrics_summarized_fpath}\")\n",
    "\n",
    "# Read the file from S3\n",
    "try:\n",
    "    cost_content = get_s3_object(BUCKET_NAME, ep_metrics_summarized_fpath)\n",
    "\n",
    "    # Use pandas to read the CSV content\n",
    "    df_ep_metrics_summarized = pd.read_csv(io.StringIO(cost_content))\n",
    "    df_ep_metrics_summarized = df_ep_metrics_summarized.round(2)\n",
    "    logger.info(f\"{ep_metrics_summarized_fpath} read into dataframe of shape {df_ep_metrics_summarized.shape}\")\n",
    "    df_ep_metrics_summarized.head()\n",
    "    # Convert df_cost_metrics to Markdown table\n",
    "    endpoint_metrics_summarized_table = Tomark.table(df_ep_metrics_summarized.to_dict(orient='records'))\n",
    "except Exception as e:\n",
    "    logger.error(f\"Error reading from S3: {e}\")\n",
    "    endpoint_metrics_summarized_table = \"_No endpoint metrics data is available_.\"\n"
   ]
  },
  {
   "cell_type": "markdown",
   "metadata": {},
   "source": [
    "#### Get evaluation data and generate visualizations\n",
    "---\n",
    "\n",
    "In this portion of the metrics generation step, we use the data gathered from the evaluation step (if any) and use it to generate as follows:\n",
    "\n",
    "1. Overall accuracy chart: This chart shows the overall accuracy as per majority voting on all candidate models evaluated by the panel of LLM evaluators. This gives users a high level business judgement as to the overall accuracy metrics for each model on the entire dataset.\n",
    "\n",
    "1. Accuracy per candidate model per payload file: This chart shows a more granular view into the accuracy metrics per candidate model per payload file. Users can analyze this chart to view and spot trends within the accuracy trajectory as the prompt size increases or decreases."
   ]
  },
  {
   "cell_type": "code",
   "execution_count": 126,
   "metadata": {
    "tags": []
   },
   "outputs": [],
   "source": [
    "# check if the merged long df exists that contains the variable and accuracy value\n",
    "# per payload file per candidate model to generate the per payload accuracy chart\n",
    "per_model_per_payload_accuracy_counts_fpath = os.path.join(METRICS_DIR,\n",
    "                                                           PER_PAYLOAD_MODEL_ACCURACY_MAJORITY_VOTING)\n",
    "try:\n",
    "    per_payload_content = get_s3_object(BUCKET_NAME,\n",
    "                            per_model_per_payload_accuracy_counts_fpath,\n",
    "                            decode='True')\n",
    "except Exception as e:\n",
    "    logger.error(f\"{per_model_per_payload_accuracy_counts_fpath} not found in {BUCKET_NAME}\")\n",
    "    per_payload_content = None\n",
    "\n",
    "if per_payload_content is None:\n",
    "    model_evaluation_text_per_payload_accuracy: str = \"_Per payload per model accuracy data is not available_.\"\n",
    "else:\n",
    "    from io import StringIO\n",
    "    df_per_payload_evals = pd.read_csv(StringIO(per_payload_content))\n",
    "    merged_accuracy_df_long_df = df_per_payload_evals.melt(id_vars=[\"candidate_model\", \"payload_file\"])\n",
    "    merged_accuracy_df_long_df.head()"
   ]
  },
  {
   "cell_type": "code",
   "execution_count": 127,
   "metadata": {},
   "outputs": [
    {
     "data": {
      "text/html": [
       "<div>\n",
       "<style scoped>\n",
       "    .dataframe tbody tr th:only-of-type {\n",
       "        vertical-align: middle;\n",
       "    }\n",
       "\n",
       "    .dataframe tbody tr th {\n",
       "        vertical-align: top;\n",
       "    }\n",
       "\n",
       "    .dataframe thead th {\n",
       "        text-align: right;\n",
       "    }\n",
       "</style>\n",
       "<table border=\"1\" class=\"dataframe\">\n",
       "  <thead>\n",
       "    <tr style=\"text-align: right;\">\n",
       "      <th></th>\n",
       "      <th>candidate_model</th>\n",
       "      <th>payload_file</th>\n",
       "      <th>judge_anthropic.claude-3-sonnet-20240229-v1:0_accuracy</th>\n",
       "      <th>judge_cohere.command-r-plus-v1:0_accuracy</th>\n",
       "      <th>judge_meta.llama3-70b-instruct-v1:0_accuracy</th>\n",
       "      <th>majority_voting_accuracy</th>\n",
       "    </tr>\n",
       "  </thead>\n",
       "  <tbody>\n",
       "    <tr>\n",
       "      <th>0</th>\n",
       "      <td>anthropic.claude-3-haiku-20240307-v1:0</td>\n",
       "      <td>payload_en_1-500.jsonl</td>\n",
       "      <td>100.00</td>\n",
       "      <td>100.00</td>\n",
       "      <td>100.00</td>\n",
       "      <td>100.00</td>\n",
       "    </tr>\n",
       "    <tr>\n",
       "      <th>1</th>\n",
       "      <td>anthropic.claude-3-sonnet-20240229-v1:0</td>\n",
       "      <td>payload_en_1-500.jsonl</td>\n",
       "      <td>100.00</td>\n",
       "      <td>100.00</td>\n",
       "      <td>100.00</td>\n",
       "      <td>100.00</td>\n",
       "    </tr>\n",
       "    <tr>\n",
       "      <th>2</th>\n",
       "      <td>anthropic.claude-3-sonnet-20240229-v1:0</td>\n",
       "      <td>payload_en_500-1000.jsonl</td>\n",
       "      <td>100.00</td>\n",
       "      <td>100.00</td>\n",
       "      <td>100.00</td>\n",
       "      <td>100.00</td>\n",
       "    </tr>\n",
       "    <tr>\n",
       "      <th>3</th>\n",
       "      <td>anthropic.claude-3-haiku-20240307-v1:0</td>\n",
       "      <td>payload_en_500-1000.jsonl</td>\n",
       "      <td>100.00</td>\n",
       "      <td>100.00</td>\n",
       "      <td>100.00</td>\n",
       "      <td>100.00</td>\n",
       "    </tr>\n",
       "    <tr>\n",
       "      <th>4</th>\n",
       "      <td>anthropic.claude-3-haiku-20240307-v1:0</td>\n",
       "      <td>payload_en_1000-2000.jsonl</td>\n",
       "      <td>87.10</td>\n",
       "      <td>93.55</td>\n",
       "      <td>77.42</td>\n",
       "      <td>86.67</td>\n",
       "    </tr>\n",
       "    <tr>\n",
       "      <th>5</th>\n",
       "      <td>anthropic.claude-3-sonnet-20240229-v1:0</td>\n",
       "      <td>payload_en_1000-2000.jsonl</td>\n",
       "      <td>83.87</td>\n",
       "      <td>96.77</td>\n",
       "      <td>81.25</td>\n",
       "      <td>86.67</td>\n",
       "    </tr>\n",
       "    <tr>\n",
       "      <th>6</th>\n",
       "      <td>anthropic.claude-3-sonnet-20240229-v1:0</td>\n",
       "      <td>payload_en_2000-3000.jsonl</td>\n",
       "      <td>77.61</td>\n",
       "      <td>80.30</td>\n",
       "      <td>74.63</td>\n",
       "      <td>77.61</td>\n",
       "    </tr>\n",
       "    <tr>\n",
       "      <th>7</th>\n",
       "      <td>anthropic.claude-3-haiku-20240307-v1:0</td>\n",
       "      <td>payload_en_2000-3000.jsonl</td>\n",
       "      <td>77.27</td>\n",
       "      <td>77.27</td>\n",
       "      <td>73.85</td>\n",
       "      <td>77.27</td>\n",
       "    </tr>\n",
       "    <tr>\n",
       "      <th>8</th>\n",
       "      <td>anthropic.claude-3-haiku-20240307-v1:0</td>\n",
       "      <td>payload_en_3000-4000.jsonl</td>\n",
       "      <td>79.81</td>\n",
       "      <td>79.81</td>\n",
       "      <td>70.19</td>\n",
       "      <td>75.96</td>\n",
       "    </tr>\n",
       "    <tr>\n",
       "      <th>9</th>\n",
       "      <td>anthropic.claude-3-sonnet-20240229-v1:0</td>\n",
       "      <td>payload_en_3000-4000.jsonl</td>\n",
       "      <td>73.08</td>\n",
       "      <td>78.85</td>\n",
       "      <td>67.31</td>\n",
       "      <td>74.04</td>\n",
       "    </tr>\n",
       "  </tbody>\n",
       "</table>\n",
       "</div>"
      ],
      "text/plain": [
       "                           candidate_model                payload_file  \\\n",
       "0   anthropic.claude-3-haiku-20240307-v1:0      payload_en_1-500.jsonl   \n",
       "1  anthropic.claude-3-sonnet-20240229-v1:0      payload_en_1-500.jsonl   \n",
       "2  anthropic.claude-3-sonnet-20240229-v1:0   payload_en_500-1000.jsonl   \n",
       "3   anthropic.claude-3-haiku-20240307-v1:0   payload_en_500-1000.jsonl   \n",
       "4   anthropic.claude-3-haiku-20240307-v1:0  payload_en_1000-2000.jsonl   \n",
       "5  anthropic.claude-3-sonnet-20240229-v1:0  payload_en_1000-2000.jsonl   \n",
       "6  anthropic.claude-3-sonnet-20240229-v1:0  payload_en_2000-3000.jsonl   \n",
       "7   anthropic.claude-3-haiku-20240307-v1:0  payload_en_2000-3000.jsonl   \n",
       "8   anthropic.claude-3-haiku-20240307-v1:0  payload_en_3000-4000.jsonl   \n",
       "9  anthropic.claude-3-sonnet-20240229-v1:0  payload_en_3000-4000.jsonl   \n",
       "\n",
       "   judge_anthropic.claude-3-sonnet-20240229-v1:0_accuracy  \\\n",
       "0                                             100.00        \n",
       "1                                             100.00        \n",
       "2                                             100.00        \n",
       "3                                             100.00        \n",
       "4                                              87.10        \n",
       "5                                              83.87        \n",
       "6                                              77.61        \n",
       "7                                              77.27        \n",
       "8                                              79.81        \n",
       "9                                              73.08        \n",
       "\n",
       "   judge_cohere.command-r-plus-v1:0_accuracy  \\\n",
       "0                                     100.00   \n",
       "1                                     100.00   \n",
       "2                                     100.00   \n",
       "3                                     100.00   \n",
       "4                                      93.55   \n",
       "5                                      96.77   \n",
       "6                                      80.30   \n",
       "7                                      77.27   \n",
       "8                                      79.81   \n",
       "9                                      78.85   \n",
       "\n",
       "   judge_meta.llama3-70b-instruct-v1:0_accuracy  majority_voting_accuracy  \n",
       "0                                        100.00                    100.00  \n",
       "1                                        100.00                    100.00  \n",
       "2                                        100.00                    100.00  \n",
       "3                                        100.00                    100.00  \n",
       "4                                         77.42                     86.67  \n",
       "5                                         81.25                     86.67  \n",
       "6                                         74.63                     77.61  \n",
       "7                                         73.85                     77.27  \n",
       "8                                         70.19                     75.96  \n",
       "9                                         67.31                     74.04  "
      ]
     },
     "execution_count": 127,
     "metadata": {},
     "output_type": "execute_result"
    }
   ],
   "source": [
    "df_per_payload_evals"
   ]
  },
  {
   "cell_type": "code",
   "execution_count": 143,
   "metadata": {},
   "outputs": [
    {
     "data": {
      "text/html": [
       "<div>\n",
       "<style scoped>\n",
       "    .dataframe tbody tr th:only-of-type {\n",
       "        vertical-align: middle;\n",
       "    }\n",
       "\n",
       "    .dataframe tbody tr th {\n",
       "        vertical-align: top;\n",
       "    }\n",
       "\n",
       "    .dataframe thead th {\n",
       "        text-align: right;\n",
       "    }\n",
       "</style>\n",
       "<table border=\"1\" class=\"dataframe\">\n",
       "  <thead>\n",
       "    <tr style=\"text-align: right;\">\n",
       "      <th></th>\n",
       "      <th>candidate_model</th>\n",
       "      <th>judge_anthropic.claude-3-sonnet-20240229-v1:0_accuracy</th>\n",
       "      <th>judge_cohere.command-r-plus-v1:0_accuracy</th>\n",
       "      <th>judge_meta.llama3-70b-instruct-v1:0_accuracy</th>\n",
       "      <th>majority_voting_accuracy</th>\n",
       "    </tr>\n",
       "  </thead>\n",
       "  <tbody>\n",
       "    <tr>\n",
       "      <th>0</th>\n",
       "      <td>anthropic.claude-3-haiku-20240307-v1:0</td>\n",
       "      <td>88.836</td>\n",
       "      <td>90.126</td>\n",
       "      <td>84.292</td>\n",
       "      <td>87.980</td>\n",
       "    </tr>\n",
       "    <tr>\n",
       "      <th>1</th>\n",
       "      <td>anthropic.claude-3-sonnet-20240229-v1:0</td>\n",
       "      <td>86.912</td>\n",
       "      <td>91.184</td>\n",
       "      <td>84.638</td>\n",
       "      <td>87.664</td>\n",
       "    </tr>\n",
       "  </tbody>\n",
       "</table>\n",
       "</div>"
      ],
      "text/plain": [
       "                           candidate_model  \\\n",
       "0   anthropic.claude-3-haiku-20240307-v1:0   \n",
       "1  anthropic.claude-3-sonnet-20240229-v1:0   \n",
       "\n",
       "   judge_anthropic.claude-3-sonnet-20240229-v1:0_accuracy  \\\n",
       "0                                             88.836        \n",
       "1                                             86.912        \n",
       "\n",
       "   judge_cohere.command-r-plus-v1:0_accuracy  \\\n",
       "0                                     90.126   \n",
       "1                                     91.184   \n",
       "\n",
       "   judge_meta.llama3-70b-instruct-v1:0_accuracy  majority_voting_accuracy  \n",
       "0                                        84.292                    87.980  \n",
       "1                                        84.638                    87.664  "
      ]
     },
     "execution_count": 143,
     "metadata": {},
     "output_type": "execute_result"
    }
   ],
   "source": [
    "df_per_payload_evals.groupby('candidate_model').mean(numeric_only=True).reset_index()"
   ]
  },
  {
   "cell_type": "markdown",
   "metadata": {},
   "source": [
    "### Calculate the Accuracy Trajectory Across Payload Sizes\n",
    "---\n",
    "\n",
    "In this portion of the evaluation step, the accuracy measure for each candidate model across each judge is calculated across different variations of payload sizes. This gives users more insights into accuracy measure for their desired payload size for their specific use case."
   ]
  },
  {
   "cell_type": "code",
   "execution_count": 129,
   "metadata": {
    "tags": []
   },
   "outputs": [],
   "source": [
    "# check if model evals were enabled or not, if not then we just provide a canned message\n",
    "majority_vote_per_model_accuracy_metrics_fpath = os.path.join(METRICS_DIR,\n",
    "                                                              PER_MODEL_ACCURACY_PER_EVAL_JUDGE)\n",
    "try:\n",
    "    content = get_s3_object(BUCKET_NAME,\n",
    "                            majority_vote_per_model_accuracy_metrics_fpath,\n",
    "                            decode='True')\n",
    "except Exception as e:\n",
    "    logger.error(f\"{majority_vote_per_model_accuracy_metrics_fpath} not found in {BUCKET_NAME}\")\n",
    "    content = None\n",
    "\n",
    "if content is None:\n",
    "    model_evaluation_text: str = \"_Model evaluation data is not available_.\"\n",
    "else:\n",
    "    from io import StringIO\n",
    "    df_evals = pd.read_csv(StringIO(content))\n",
    "    num_judges = len(df_evals.judge_model_id.unique())\n",
    "    model_count = len(df_evals.candidate_model.unique())\n",
    "    judge_name_list = \", \".join(list(df_evals.judge_model_id.unique()))"
   ]
  },
  {
   "cell_type": "code",
   "execution_count": 130,
   "metadata": {
    "tags": []
   },
   "outputs": [
    {
     "name": "stderr",
     "output_type": "stream",
     "text": [
      "/tmp/ipykernel_31041/1344847057.py:20: SettingWithCopyWarning:\n",
      "\n",
      "\n",
      "A value is trying to be set on a copy of a slice from a DataFrame.\n",
      "Try using .loc[row_indexer,col_indexer] = value instead\n",
      "\n",
      "See the caveats in the documentation: https://pandas.pydata.org/pandas-docs/stable/user_guide/indexing.html#returning-a-view-versus-a-copy\n",
      "\n",
      "/tmp/ipykernel_31041/1344847057.py:21: SettingWithCopyWarning:\n",
      "\n",
      "\n",
      "A value is trying to be set on a copy of a slice from a DataFrame.\n",
      "Try using .loc[row_indexer,col_indexer] = value instead\n",
      "\n",
      "See the caveats in the documentation: https://pandas.pydata.org/pandas-docs/stable/user_guide/indexing.html#returning-a-view-versus-a-copy\n",
      "\n"
     ]
    },
    {
     "data": {
      "application/vnd.plotly.v1+json": {
       "config": {
        "plotlyServerURL": "https://plot.ly"
       },
       "data": [
        {
         "hovertemplate": "candidate_model=anthropic.claude-3-haiku-20240307-v1:0<br>payload_file=%{x}<br>value=%{y}<extra></extra>",
         "legendgroup": "anthropic.claude-3-haiku-20240307-v1:0",
         "line": {
          "color": "#636efa",
          "dash": "dash"
         },
         "marker": {
          "size": 10,
          "symbol": "x"
         },
         "mode": "lines+markers",
         "name": "anthropic.claude-3-haiku-20240307-v1:0",
         "orientation": "v",
         "showlegend": true,
         "type": "scatter",
         "x": [
          "en_1-500",
          "en_500-1000",
          "en_1000-2000",
          "en_2000-3000",
          "en_3000-4000"
         ],
         "xaxis": "x",
         "y": [
          100,
          100,
          86.67,
          77.27,
          75.96
         ],
         "yaxis": "y"
        },
        {
         "hovertemplate": "candidate_model=anthropic.claude-3-sonnet-20240229-v1:0<br>payload_file=%{x}<br>value=%{y}<extra></extra>",
         "legendgroup": "anthropic.claude-3-sonnet-20240229-v1:0",
         "line": {
          "color": "#EF553B",
          "dash": "dash"
         },
         "marker": {
          "size": 10,
          "symbol": "x"
         },
         "mode": "lines+markers",
         "name": "anthropic.claude-3-sonnet-20240229-v1:0",
         "orientation": "v",
         "showlegend": true,
         "type": "scatter",
         "x": [
          "en_1-500",
          "en_500-1000",
          "en_1000-2000",
          "en_2000-3000",
          "en_3000-4000"
         ],
         "xaxis": "x",
         "y": [
          100,
          100,
          86.67,
          77.61,
          74.04
         ],
         "yaxis": "y"
        }
       ],
       "layout": {
        "height": 500,
        "legend": {
         "title": {},
         "tracegroupgap": 0
        },
        "margin": {
         "t": 60
        },
        "template": {
         "data": {
          "bar": [
           {
            "error_x": {
             "color": "#2a3f5f"
            },
            "error_y": {
             "color": "#2a3f5f"
            },
            "marker": {
             "line": {
              "color": "#E5ECF6",
              "width": 0.5
             },
             "pattern": {
              "fillmode": "overlay",
              "size": 10,
              "solidity": 0.2
             }
            },
            "type": "bar"
           }
          ],
          "barpolar": [
           {
            "marker": {
             "line": {
              "color": "#E5ECF6",
              "width": 0.5
             },
             "pattern": {
              "fillmode": "overlay",
              "size": 10,
              "solidity": 0.2
             }
            },
            "type": "barpolar"
           }
          ],
          "carpet": [
           {
            "aaxis": {
             "endlinecolor": "#2a3f5f",
             "gridcolor": "white",
             "linecolor": "white",
             "minorgridcolor": "white",
             "startlinecolor": "#2a3f5f"
            },
            "baxis": {
             "endlinecolor": "#2a3f5f",
             "gridcolor": "white",
             "linecolor": "white",
             "minorgridcolor": "white",
             "startlinecolor": "#2a3f5f"
            },
            "type": "carpet"
           }
          ],
          "choropleth": [
           {
            "colorbar": {
             "outlinewidth": 0,
             "ticks": ""
            },
            "type": "choropleth"
           }
          ],
          "contour": [
           {
            "colorbar": {
             "outlinewidth": 0,
             "ticks": ""
            },
            "colorscale": [
             [
              0,
              "#0d0887"
             ],
             [
              0.1111111111111111,
              "#46039f"
             ],
             [
              0.2222222222222222,
              "#7201a8"
             ],
             [
              0.3333333333333333,
              "#9c179e"
             ],
             [
              0.4444444444444444,
              "#bd3786"
             ],
             [
              0.5555555555555556,
              "#d8576b"
             ],
             [
              0.6666666666666666,
              "#ed7953"
             ],
             [
              0.7777777777777778,
              "#fb9f3a"
             ],
             [
              0.8888888888888888,
              "#fdca26"
             ],
             [
              1,
              "#f0f921"
             ]
            ],
            "type": "contour"
           }
          ],
          "contourcarpet": [
           {
            "colorbar": {
             "outlinewidth": 0,
             "ticks": ""
            },
            "type": "contourcarpet"
           }
          ],
          "heatmap": [
           {
            "colorbar": {
             "outlinewidth": 0,
             "ticks": ""
            },
            "colorscale": [
             [
              0,
              "#0d0887"
             ],
             [
              0.1111111111111111,
              "#46039f"
             ],
             [
              0.2222222222222222,
              "#7201a8"
             ],
             [
              0.3333333333333333,
              "#9c179e"
             ],
             [
              0.4444444444444444,
              "#bd3786"
             ],
             [
              0.5555555555555556,
              "#d8576b"
             ],
             [
              0.6666666666666666,
              "#ed7953"
             ],
             [
              0.7777777777777778,
              "#fb9f3a"
             ],
             [
              0.8888888888888888,
              "#fdca26"
             ],
             [
              1,
              "#f0f921"
             ]
            ],
            "type": "heatmap"
           }
          ],
          "heatmapgl": [
           {
            "colorbar": {
             "outlinewidth": 0,
             "ticks": ""
            },
            "colorscale": [
             [
              0,
              "#0d0887"
             ],
             [
              0.1111111111111111,
              "#46039f"
             ],
             [
              0.2222222222222222,
              "#7201a8"
             ],
             [
              0.3333333333333333,
              "#9c179e"
             ],
             [
              0.4444444444444444,
              "#bd3786"
             ],
             [
              0.5555555555555556,
              "#d8576b"
             ],
             [
              0.6666666666666666,
              "#ed7953"
             ],
             [
              0.7777777777777778,
              "#fb9f3a"
             ],
             [
              0.8888888888888888,
              "#fdca26"
             ],
             [
              1,
              "#f0f921"
             ]
            ],
            "type": "heatmapgl"
           }
          ],
          "histogram": [
           {
            "marker": {
             "pattern": {
              "fillmode": "overlay",
              "size": 10,
              "solidity": 0.2
             }
            },
            "type": "histogram"
           }
          ],
          "histogram2d": [
           {
            "colorbar": {
             "outlinewidth": 0,
             "ticks": ""
            },
            "colorscale": [
             [
              0,
              "#0d0887"
             ],
             [
              0.1111111111111111,
              "#46039f"
             ],
             [
              0.2222222222222222,
              "#7201a8"
             ],
             [
              0.3333333333333333,
              "#9c179e"
             ],
             [
              0.4444444444444444,
              "#bd3786"
             ],
             [
              0.5555555555555556,
              "#d8576b"
             ],
             [
              0.6666666666666666,
              "#ed7953"
             ],
             [
              0.7777777777777778,
              "#fb9f3a"
             ],
             [
              0.8888888888888888,
              "#fdca26"
             ],
             [
              1,
              "#f0f921"
             ]
            ],
            "type": "histogram2d"
           }
          ],
          "histogram2dcontour": [
           {
            "colorbar": {
             "outlinewidth": 0,
             "ticks": ""
            },
            "colorscale": [
             [
              0,
              "#0d0887"
             ],
             [
              0.1111111111111111,
              "#46039f"
             ],
             [
              0.2222222222222222,
              "#7201a8"
             ],
             [
              0.3333333333333333,
              "#9c179e"
             ],
             [
              0.4444444444444444,
              "#bd3786"
             ],
             [
              0.5555555555555556,
              "#d8576b"
             ],
             [
              0.6666666666666666,
              "#ed7953"
             ],
             [
              0.7777777777777778,
              "#fb9f3a"
             ],
             [
              0.8888888888888888,
              "#fdca26"
             ],
             [
              1,
              "#f0f921"
             ]
            ],
            "type": "histogram2dcontour"
           }
          ],
          "mesh3d": [
           {
            "colorbar": {
             "outlinewidth": 0,
             "ticks": ""
            },
            "type": "mesh3d"
           }
          ],
          "parcoords": [
           {
            "line": {
             "colorbar": {
              "outlinewidth": 0,
              "ticks": ""
             }
            },
            "type": "parcoords"
           }
          ],
          "pie": [
           {
            "automargin": true,
            "type": "pie"
           }
          ],
          "scatter": [
           {
            "fillpattern": {
             "fillmode": "overlay",
             "size": 10,
             "solidity": 0.2
            },
            "type": "scatter"
           }
          ],
          "scatter3d": [
           {
            "line": {
             "colorbar": {
              "outlinewidth": 0,
              "ticks": ""
             }
            },
            "marker": {
             "colorbar": {
              "outlinewidth": 0,
              "ticks": ""
             }
            },
            "type": "scatter3d"
           }
          ],
          "scattercarpet": [
           {
            "marker": {
             "colorbar": {
              "outlinewidth": 0,
              "ticks": ""
             }
            },
            "type": "scattercarpet"
           }
          ],
          "scattergeo": [
           {
            "marker": {
             "colorbar": {
              "outlinewidth": 0,
              "ticks": ""
             }
            },
            "type": "scattergeo"
           }
          ],
          "scattergl": [
           {
            "marker": {
             "colorbar": {
              "outlinewidth": 0,
              "ticks": ""
             }
            },
            "type": "scattergl"
           }
          ],
          "scattermapbox": [
           {
            "marker": {
             "colorbar": {
              "outlinewidth": 0,
              "ticks": ""
             }
            },
            "type": "scattermapbox"
           }
          ],
          "scatterpolar": [
           {
            "marker": {
             "colorbar": {
              "outlinewidth": 0,
              "ticks": ""
             }
            },
            "type": "scatterpolar"
           }
          ],
          "scatterpolargl": [
           {
            "marker": {
             "colorbar": {
              "outlinewidth": 0,
              "ticks": ""
             }
            },
            "type": "scatterpolargl"
           }
          ],
          "scatterternary": [
           {
            "marker": {
             "colorbar": {
              "outlinewidth": 0,
              "ticks": ""
             }
            },
            "type": "scatterternary"
           }
          ],
          "surface": [
           {
            "colorbar": {
             "outlinewidth": 0,
             "ticks": ""
            },
            "colorscale": [
             [
              0,
              "#0d0887"
             ],
             [
              0.1111111111111111,
              "#46039f"
             ],
             [
              0.2222222222222222,
              "#7201a8"
             ],
             [
              0.3333333333333333,
              "#9c179e"
             ],
             [
              0.4444444444444444,
              "#bd3786"
             ],
             [
              0.5555555555555556,
              "#d8576b"
             ],
             [
              0.6666666666666666,
              "#ed7953"
             ],
             [
              0.7777777777777778,
              "#fb9f3a"
             ],
             [
              0.8888888888888888,
              "#fdca26"
             ],
             [
              1,
              "#f0f921"
             ]
            ],
            "type": "surface"
           }
          ],
          "table": [
           {
            "cells": {
             "fill": {
              "color": "#EBF0F8"
             },
             "line": {
              "color": "white"
             }
            },
            "header": {
             "fill": {
              "color": "#C8D4E3"
             },
             "line": {
              "color": "white"
             }
            },
            "type": "table"
           }
          ]
         },
         "layout": {
          "annotationdefaults": {
           "arrowcolor": "#2a3f5f",
           "arrowhead": 0,
           "arrowwidth": 1
          },
          "autotypenumbers": "strict",
          "coloraxis": {
           "colorbar": {
            "outlinewidth": 0,
            "ticks": ""
           }
          },
          "colorscale": {
           "diverging": [
            [
             0,
             "#8e0152"
            ],
            [
             0.1,
             "#c51b7d"
            ],
            [
             0.2,
             "#de77ae"
            ],
            [
             0.3,
             "#f1b6da"
            ],
            [
             0.4,
             "#fde0ef"
            ],
            [
             0.5,
             "#f7f7f7"
            ],
            [
             0.6,
             "#e6f5d0"
            ],
            [
             0.7,
             "#b8e186"
            ],
            [
             0.8,
             "#7fbc41"
            ],
            [
             0.9,
             "#4d9221"
            ],
            [
             1,
             "#276419"
            ]
           ],
           "sequential": [
            [
             0,
             "#0d0887"
            ],
            [
             0.1111111111111111,
             "#46039f"
            ],
            [
             0.2222222222222222,
             "#7201a8"
            ],
            [
             0.3333333333333333,
             "#9c179e"
            ],
            [
             0.4444444444444444,
             "#bd3786"
            ],
            [
             0.5555555555555556,
             "#d8576b"
            ],
            [
             0.6666666666666666,
             "#ed7953"
            ],
            [
             0.7777777777777778,
             "#fb9f3a"
            ],
            [
             0.8888888888888888,
             "#fdca26"
            ],
            [
             1,
             "#f0f921"
            ]
           ],
           "sequentialminus": [
            [
             0,
             "#0d0887"
            ],
            [
             0.1111111111111111,
             "#46039f"
            ],
            [
             0.2222222222222222,
             "#7201a8"
            ],
            [
             0.3333333333333333,
             "#9c179e"
            ],
            [
             0.4444444444444444,
             "#bd3786"
            ],
            [
             0.5555555555555556,
             "#d8576b"
            ],
            [
             0.6666666666666666,
             "#ed7953"
            ],
            [
             0.7777777777777778,
             "#fb9f3a"
            ],
            [
             0.8888888888888888,
             "#fdca26"
            ],
            [
             1,
             "#f0f921"
            ]
           ]
          },
          "colorway": [
           "#636efa",
           "#EF553B",
           "#00cc96",
           "#ab63fa",
           "#FFA15A",
           "#19d3f3",
           "#FF6692",
           "#B6E880",
           "#FF97FF",
           "#FECB52"
          ],
          "font": {
           "color": "#2a3f5f"
          },
          "geo": {
           "bgcolor": "white",
           "lakecolor": "white",
           "landcolor": "#E5ECF6",
           "showlakes": true,
           "showland": true,
           "subunitcolor": "white"
          },
          "hoverlabel": {
           "align": "left"
          },
          "hovermode": "closest",
          "mapbox": {
           "style": "light"
          },
          "paper_bgcolor": "white",
          "plot_bgcolor": "#E5ECF6",
          "polar": {
           "angularaxis": {
            "gridcolor": "white",
            "linecolor": "white",
            "ticks": ""
           },
           "bgcolor": "#E5ECF6",
           "radialaxis": {
            "gridcolor": "white",
            "linecolor": "white",
            "ticks": ""
           }
          },
          "scene": {
           "xaxis": {
            "backgroundcolor": "#E5ECF6",
            "gridcolor": "white",
            "gridwidth": 2,
            "linecolor": "white",
            "showbackground": true,
            "ticks": "",
            "zerolinecolor": "white"
           },
           "yaxis": {
            "backgroundcolor": "#E5ECF6",
            "gridcolor": "white",
            "gridwidth": 2,
            "linecolor": "white",
            "showbackground": true,
            "ticks": "",
            "zerolinecolor": "white"
           },
           "zaxis": {
            "backgroundcolor": "#E5ECF6",
            "gridcolor": "white",
            "gridwidth": 2,
            "linecolor": "white",
            "showbackground": true,
            "ticks": "",
            "zerolinecolor": "white"
           }
          },
          "shapedefaults": {
           "line": {
            "color": "#2a3f5f"
           }
          },
          "ternary": {
           "aaxis": {
            "gridcolor": "white",
            "linecolor": "white",
            "ticks": ""
           },
           "baxis": {
            "gridcolor": "white",
            "linecolor": "white",
            "ticks": ""
           },
           "bgcolor": "#E5ECF6",
           "caxis": {
            "gridcolor": "white",
            "linecolor": "white",
            "ticks": ""
           }
          },
          "title": {
           "x": 0.05
          },
          "xaxis": {
           "automargin": true,
           "gridcolor": "white",
           "linecolor": "white",
           "ticks": "",
           "title": {
            "standoff": 15
           },
           "zerolinecolor": "white",
           "zerolinewidth": 2
          },
          "yaxis": {
           "automargin": true,
           "gridcolor": "white",
           "linecolor": "white",
           "ticks": "",
           "title": {
            "standoff": 15
           },
           "zerolinecolor": "white",
           "zerolinewidth": 2
          }
         }
        },
        "title": {
         "text": "Model accuracy for prompts of different sizes in the \"LongBench\" dataset determined by a 3 LLM judge panel through majority vote"
        },
        "width": 1500,
        "xaxis": {
         "anchor": "y",
         "domain": [
          0,
          1
         ],
         "title": {
          "text": "Prompt size range"
         }
        },
        "yaxis": {
         "anchor": "x",
         "domain": [
          0,
          1
         ],
         "range": [
          0,
          110
         ],
         "ticksuffix": "%",
         "title": {
          "text": "Accuracy"
         }
        }
       }
      },
      "text/html": [
       "<div>                            <div id=\"3593f81b-42c7-45f6-b24f-9faa0172c506\" class=\"plotly-graph-div\" style=\"height:500px; width:1500px;\"></div>            <script type=\"text/javascript\">                require([\"plotly\"], function(Plotly) {                    window.PLOTLYENV=window.PLOTLYENV || {};                                    if (document.getElementById(\"3593f81b-42c7-45f6-b24f-9faa0172c506\")) {                    Plotly.newPlot(                        \"3593f81b-42c7-45f6-b24f-9faa0172c506\",                        [{\"hovertemplate\":\"candidate_model=anthropic.claude-3-haiku-20240307-v1:0\\u003cbr\\u003epayload_file=%{x}\\u003cbr\\u003evalue=%{y}\\u003cextra\\u003e\\u003c\\u002fextra\\u003e\",\"legendgroup\":\"anthropic.claude-3-haiku-20240307-v1:0\",\"line\":{\"color\":\"#636efa\",\"dash\":\"dash\"},\"marker\":{\"symbol\":\"x\",\"size\":10},\"mode\":\"lines+markers\",\"name\":\"anthropic.claude-3-haiku-20240307-v1:0\",\"orientation\":\"v\",\"showlegend\":true,\"x\":[\"en_1-500\",\"en_500-1000\",\"en_1000-2000\",\"en_2000-3000\",\"en_3000-4000\"],\"xaxis\":\"x\",\"y\":[100.0,100.0,86.67,77.27,75.96],\"yaxis\":\"y\",\"type\":\"scatter\"},{\"hovertemplate\":\"candidate_model=anthropic.claude-3-sonnet-20240229-v1:0\\u003cbr\\u003epayload_file=%{x}\\u003cbr\\u003evalue=%{y}\\u003cextra\\u003e\\u003c\\u002fextra\\u003e\",\"legendgroup\":\"anthropic.claude-3-sonnet-20240229-v1:0\",\"line\":{\"color\":\"#EF553B\",\"dash\":\"dash\"},\"marker\":{\"symbol\":\"x\",\"size\":10},\"mode\":\"lines+markers\",\"name\":\"anthropic.claude-3-sonnet-20240229-v1:0\",\"orientation\":\"v\",\"showlegend\":true,\"x\":[\"en_1-500\",\"en_500-1000\",\"en_1000-2000\",\"en_2000-3000\",\"en_3000-4000\"],\"xaxis\":\"x\",\"y\":[100.0,100.0,86.67,77.61,74.04],\"yaxis\":\"y\",\"type\":\"scatter\"}],                        {\"template\":{\"data\":{\"histogram2dcontour\":[{\"type\":\"histogram2dcontour\",\"colorbar\":{\"outlinewidth\":0,\"ticks\":\"\"},\"colorscale\":[[0.0,\"#0d0887\"],[0.1111111111111111,\"#46039f\"],[0.2222222222222222,\"#7201a8\"],[0.3333333333333333,\"#9c179e\"],[0.4444444444444444,\"#bd3786\"],[0.5555555555555556,\"#d8576b\"],[0.6666666666666666,\"#ed7953\"],[0.7777777777777778,\"#fb9f3a\"],[0.8888888888888888,\"#fdca26\"],[1.0,\"#f0f921\"]]}],\"choropleth\":[{\"type\":\"choropleth\",\"colorbar\":{\"outlinewidth\":0,\"ticks\":\"\"}}],\"histogram2d\":[{\"type\":\"histogram2d\",\"colorbar\":{\"outlinewidth\":0,\"ticks\":\"\"},\"colorscale\":[[0.0,\"#0d0887\"],[0.1111111111111111,\"#46039f\"],[0.2222222222222222,\"#7201a8\"],[0.3333333333333333,\"#9c179e\"],[0.4444444444444444,\"#bd3786\"],[0.5555555555555556,\"#d8576b\"],[0.6666666666666666,\"#ed7953\"],[0.7777777777777778,\"#fb9f3a\"],[0.8888888888888888,\"#fdca26\"],[1.0,\"#f0f921\"]]}],\"heatmap\":[{\"type\":\"heatmap\",\"colorbar\":{\"outlinewidth\":0,\"ticks\":\"\"},\"colorscale\":[[0.0,\"#0d0887\"],[0.1111111111111111,\"#46039f\"],[0.2222222222222222,\"#7201a8\"],[0.3333333333333333,\"#9c179e\"],[0.4444444444444444,\"#bd3786\"],[0.5555555555555556,\"#d8576b\"],[0.6666666666666666,\"#ed7953\"],[0.7777777777777778,\"#fb9f3a\"],[0.8888888888888888,\"#fdca26\"],[1.0,\"#f0f921\"]]}],\"heatmapgl\":[{\"type\":\"heatmapgl\",\"colorbar\":{\"outlinewidth\":0,\"ticks\":\"\"},\"colorscale\":[[0.0,\"#0d0887\"],[0.1111111111111111,\"#46039f\"],[0.2222222222222222,\"#7201a8\"],[0.3333333333333333,\"#9c179e\"],[0.4444444444444444,\"#bd3786\"],[0.5555555555555556,\"#d8576b\"],[0.6666666666666666,\"#ed7953\"],[0.7777777777777778,\"#fb9f3a\"],[0.8888888888888888,\"#fdca26\"],[1.0,\"#f0f921\"]]}],\"contourcarpet\":[{\"type\":\"contourcarpet\",\"colorbar\":{\"outlinewidth\":0,\"ticks\":\"\"}}],\"contour\":[{\"type\":\"contour\",\"colorbar\":{\"outlinewidth\":0,\"ticks\":\"\"},\"colorscale\":[[0.0,\"#0d0887\"],[0.1111111111111111,\"#46039f\"],[0.2222222222222222,\"#7201a8\"],[0.3333333333333333,\"#9c179e\"],[0.4444444444444444,\"#bd3786\"],[0.5555555555555556,\"#d8576b\"],[0.6666666666666666,\"#ed7953\"],[0.7777777777777778,\"#fb9f3a\"],[0.8888888888888888,\"#fdca26\"],[1.0,\"#f0f921\"]]}],\"surface\":[{\"type\":\"surface\",\"colorbar\":{\"outlinewidth\":0,\"ticks\":\"\"},\"colorscale\":[[0.0,\"#0d0887\"],[0.1111111111111111,\"#46039f\"],[0.2222222222222222,\"#7201a8\"],[0.3333333333333333,\"#9c179e\"],[0.4444444444444444,\"#bd3786\"],[0.5555555555555556,\"#d8576b\"],[0.6666666666666666,\"#ed7953\"],[0.7777777777777778,\"#fb9f3a\"],[0.8888888888888888,\"#fdca26\"],[1.0,\"#f0f921\"]]}],\"mesh3d\":[{\"type\":\"mesh3d\",\"colorbar\":{\"outlinewidth\":0,\"ticks\":\"\"}}],\"scatter\":[{\"fillpattern\":{\"fillmode\":\"overlay\",\"size\":10,\"solidity\":0.2},\"type\":\"scatter\"}],\"parcoords\":[{\"type\":\"parcoords\",\"line\":{\"colorbar\":{\"outlinewidth\":0,\"ticks\":\"\"}}}],\"scatterpolargl\":[{\"type\":\"scatterpolargl\",\"marker\":{\"colorbar\":{\"outlinewidth\":0,\"ticks\":\"\"}}}],\"bar\":[{\"error_x\":{\"color\":\"#2a3f5f\"},\"error_y\":{\"color\":\"#2a3f5f\"},\"marker\":{\"line\":{\"color\":\"#E5ECF6\",\"width\":0.5},\"pattern\":{\"fillmode\":\"overlay\",\"size\":10,\"solidity\":0.2}},\"type\":\"bar\"}],\"scattergeo\":[{\"type\":\"scattergeo\",\"marker\":{\"colorbar\":{\"outlinewidth\":0,\"ticks\":\"\"}}}],\"scatterpolar\":[{\"type\":\"scatterpolar\",\"marker\":{\"colorbar\":{\"outlinewidth\":0,\"ticks\":\"\"}}}],\"histogram\":[{\"marker\":{\"pattern\":{\"fillmode\":\"overlay\",\"size\":10,\"solidity\":0.2}},\"type\":\"histogram\"}],\"scattergl\":[{\"type\":\"scattergl\",\"marker\":{\"colorbar\":{\"outlinewidth\":0,\"ticks\":\"\"}}}],\"scatter3d\":[{\"type\":\"scatter3d\",\"line\":{\"colorbar\":{\"outlinewidth\":0,\"ticks\":\"\"}},\"marker\":{\"colorbar\":{\"outlinewidth\":0,\"ticks\":\"\"}}}],\"scattermapbox\":[{\"type\":\"scattermapbox\",\"marker\":{\"colorbar\":{\"outlinewidth\":0,\"ticks\":\"\"}}}],\"scatterternary\":[{\"type\":\"scatterternary\",\"marker\":{\"colorbar\":{\"outlinewidth\":0,\"ticks\":\"\"}}}],\"scattercarpet\":[{\"type\":\"scattercarpet\",\"marker\":{\"colorbar\":{\"outlinewidth\":0,\"ticks\":\"\"}}}],\"carpet\":[{\"aaxis\":{\"endlinecolor\":\"#2a3f5f\",\"gridcolor\":\"white\",\"linecolor\":\"white\",\"minorgridcolor\":\"white\",\"startlinecolor\":\"#2a3f5f\"},\"baxis\":{\"endlinecolor\":\"#2a3f5f\",\"gridcolor\":\"white\",\"linecolor\":\"white\",\"minorgridcolor\":\"white\",\"startlinecolor\":\"#2a3f5f\"},\"type\":\"carpet\"}],\"table\":[{\"cells\":{\"fill\":{\"color\":\"#EBF0F8\"},\"line\":{\"color\":\"white\"}},\"header\":{\"fill\":{\"color\":\"#C8D4E3\"},\"line\":{\"color\":\"white\"}},\"type\":\"table\"}],\"barpolar\":[{\"marker\":{\"line\":{\"color\":\"#E5ECF6\",\"width\":0.5},\"pattern\":{\"fillmode\":\"overlay\",\"size\":10,\"solidity\":0.2}},\"type\":\"barpolar\"}],\"pie\":[{\"automargin\":true,\"type\":\"pie\"}]},\"layout\":{\"autotypenumbers\":\"strict\",\"colorway\":[\"#636efa\",\"#EF553B\",\"#00cc96\",\"#ab63fa\",\"#FFA15A\",\"#19d3f3\",\"#FF6692\",\"#B6E880\",\"#FF97FF\",\"#FECB52\"],\"font\":{\"color\":\"#2a3f5f\"},\"hovermode\":\"closest\",\"hoverlabel\":{\"align\":\"left\"},\"paper_bgcolor\":\"white\",\"plot_bgcolor\":\"#E5ECF6\",\"polar\":{\"bgcolor\":\"#E5ECF6\",\"angularaxis\":{\"gridcolor\":\"white\",\"linecolor\":\"white\",\"ticks\":\"\"},\"radialaxis\":{\"gridcolor\":\"white\",\"linecolor\":\"white\",\"ticks\":\"\"}},\"ternary\":{\"bgcolor\":\"#E5ECF6\",\"aaxis\":{\"gridcolor\":\"white\",\"linecolor\":\"white\",\"ticks\":\"\"},\"baxis\":{\"gridcolor\":\"white\",\"linecolor\":\"white\",\"ticks\":\"\"},\"caxis\":{\"gridcolor\":\"white\",\"linecolor\":\"white\",\"ticks\":\"\"}},\"coloraxis\":{\"colorbar\":{\"outlinewidth\":0,\"ticks\":\"\"}},\"colorscale\":{\"sequential\":[[0.0,\"#0d0887\"],[0.1111111111111111,\"#46039f\"],[0.2222222222222222,\"#7201a8\"],[0.3333333333333333,\"#9c179e\"],[0.4444444444444444,\"#bd3786\"],[0.5555555555555556,\"#d8576b\"],[0.6666666666666666,\"#ed7953\"],[0.7777777777777778,\"#fb9f3a\"],[0.8888888888888888,\"#fdca26\"],[1.0,\"#f0f921\"]],\"sequentialminus\":[[0.0,\"#0d0887\"],[0.1111111111111111,\"#46039f\"],[0.2222222222222222,\"#7201a8\"],[0.3333333333333333,\"#9c179e\"],[0.4444444444444444,\"#bd3786\"],[0.5555555555555556,\"#d8576b\"],[0.6666666666666666,\"#ed7953\"],[0.7777777777777778,\"#fb9f3a\"],[0.8888888888888888,\"#fdca26\"],[1.0,\"#f0f921\"]],\"diverging\":[[0,\"#8e0152\"],[0.1,\"#c51b7d\"],[0.2,\"#de77ae\"],[0.3,\"#f1b6da\"],[0.4,\"#fde0ef\"],[0.5,\"#f7f7f7\"],[0.6,\"#e6f5d0\"],[0.7,\"#b8e186\"],[0.8,\"#7fbc41\"],[0.9,\"#4d9221\"],[1,\"#276419\"]]},\"xaxis\":{\"gridcolor\":\"white\",\"linecolor\":\"white\",\"ticks\":\"\",\"title\":{\"standoff\":15},\"zerolinecolor\":\"white\",\"automargin\":true,\"zerolinewidth\":2},\"yaxis\":{\"gridcolor\":\"white\",\"linecolor\":\"white\",\"ticks\":\"\",\"title\":{\"standoff\":15},\"zerolinecolor\":\"white\",\"automargin\":true,\"zerolinewidth\":2},\"scene\":{\"xaxis\":{\"backgroundcolor\":\"#E5ECF6\",\"gridcolor\":\"white\",\"linecolor\":\"white\",\"showbackground\":true,\"ticks\":\"\",\"zerolinecolor\":\"white\",\"gridwidth\":2},\"yaxis\":{\"backgroundcolor\":\"#E5ECF6\",\"gridcolor\":\"white\",\"linecolor\":\"white\",\"showbackground\":true,\"ticks\":\"\",\"zerolinecolor\":\"white\",\"gridwidth\":2},\"zaxis\":{\"backgroundcolor\":\"#E5ECF6\",\"gridcolor\":\"white\",\"linecolor\":\"white\",\"showbackground\":true,\"ticks\":\"\",\"zerolinecolor\":\"white\",\"gridwidth\":2}},\"shapedefaults\":{\"line\":{\"color\":\"#2a3f5f\"}},\"annotationdefaults\":{\"arrowcolor\":\"#2a3f5f\",\"arrowhead\":0,\"arrowwidth\":1},\"geo\":{\"bgcolor\":\"white\",\"landcolor\":\"#E5ECF6\",\"subunitcolor\":\"white\",\"showland\":true,\"showlakes\":true,\"lakecolor\":\"white\"},\"title\":{\"x\":0.05},\"mapbox\":{\"style\":\"light\"}}},\"xaxis\":{\"anchor\":\"y\",\"domain\":[0.0,1.0],\"title\":{\"text\":\"Prompt size range\"}},\"yaxis\":{\"anchor\":\"x\",\"domain\":[0.0,1.0],\"title\":{\"text\":\"Accuracy\"},\"range\":[0,110],\"ticksuffix\":\"%\"},\"legend\":{\"title\":{},\"tracegroupgap\":0},\"margin\":{\"t\":60},\"title\":{\"text\":\"Model accuracy for prompts of different sizes in the \\\"LongBench\\\" dataset determined by a 3 LLM judge panel through majority vote\"},\"width\":1500,\"height\":500},                        {\"responsive\": true}                    ).then(function(){\n",
       "                            \n",
       "var gd = document.getElementById('3593f81b-42c7-45f6-b24f-9faa0172c506');\n",
       "var x = new MutationObserver(function (mutations, observer) {{\n",
       "        var display = window.getComputedStyle(gd).display;\n",
       "        if (!display || display === 'none') {{\n",
       "            console.log([gd, 'removed!']);\n",
       "            Plotly.purge(gd);\n",
       "            observer.disconnect();\n",
       "        }}\n",
       "}});\n",
       "\n",
       "// Listen for the removal of the full notebook cells\n",
       "var notebookContainer = gd.closest('#notebook-container');\n",
       "if (notebookContainer) {{\n",
       "    x.observe(notebookContainer, {childList: true});\n",
       "}}\n",
       "\n",
       "// Listen for the clearing of the current output cell\n",
       "var outputEl = gd.closest('.output');\n",
       "if (outputEl) {{\n",
       "    x.observe(outputEl, {childList: true});\n",
       "}}\n",
       "\n",
       "                        })                };                });            </script>        </div>"
      ]
     },
     "metadata": {},
     "output_type": "display_data"
    }
   ],
   "source": [
    "def get_mean(text):\n",
    "    import re\n",
    "\n",
    "    # Regular expression to extract the numbers\n",
    "    pattern = r\"(\\d+)-(\\d+)\"\n",
    "\n",
    "    # Use re.search to find the numbers\n",
    "    match = re.search(pattern, text)\n",
    "\n",
    "    # Extract and print the numbers if a match is found\n",
    "    if match:\n",
    "        n1 = int(match.group(1))\n",
    "        n2 = int(match.group(2))\n",
    "        return (n1+n2)/2\n",
    "    else:\n",
    "        return None\n",
    "\n",
    "try:\n",
    "    data = merged_accuracy_df_long_df[merged_accuracy_df_long_df.variable == \"majority_voting_accuracy\"]\n",
    "    data.payload_file = data.payload_file.map(lambda x: x.replace(\"payload_\", \"\").replace(\".jsonl\", \"\"))\n",
    "    data['mean_payload_size'] = data.payload_file.map(get_mean)\n",
    "    data = data.sort_values(by=\"mean_payload_size\")\n",
    "\n",
    "    # dataset name\n",
    "    ds_name = \"LongBench\"\n",
    "\n",
    "    # Create the line + point plot\n",
    "    fig = px.line(data, \n",
    "                  x='payload_file', \n",
    "                  y='value', \n",
    "                  color='candidate_model',\n",
    "                  line_dash_sequence=['dash'],   # Set line style to dashed\n",
    "                  symbol='candidate_model',      # Set different symbols based on candidate_model\n",
    "                  markers=True)                  # Show points on the line\n",
    "\n",
    "    # Update the trace for all symbols to be 'x'\n",
    "    fig.update_traces(marker=dict(symbol='x', size=10))  # Set the marker to 'X' and adjust size\n",
    "\n",
    "    # Update layout for y-axis range\n",
    "    fig.update_layout(\n",
    "        title=f'Model accuracy for prompts of different sizes in the \\\"{ds_name}\\\" dataset determined by a {num_judges} LLM judge panel through majority vote',\n",
    "        yaxis=dict(\n",
    "            range=[0, 110],\n",
    "            title='Accuracy',\n",
    "            ticksuffix='%',\n",
    "        ),\n",
    "        xaxis_title='Prompt size range',\n",
    "        legend_title=None,\n",
    "        width=1500,   # Set the width of the plot\n",
    "        height=500   # Set the height of the plot\n",
    "    )\n",
    "    # Show the plot\n",
    "    fig.show()\n",
    "except Exception as e:\n",
    "    logger.info(f\"Error occured while generating per model per payload accuracy measure chart: {e}\")"
   ]
  },
  {
   "cell_type": "code",
   "execution_count": 131,
   "metadata": {
    "tags": []
   },
   "outputs": [
    {
     "name": "stderr",
     "output_type": "stream",
     "text": [
      "[2024-08-12 23:42:18,880] p31041 {1467922215.py:7} INFO - writing accuracy trajectory per payload file from /tmp/accuracy_trajectory_per_payload.png to s3://sagemaker-fmbench-write-us-east-1-015469603702/fmbench-bedrock-anthropic-models-SageMaker-ExecutionRole-20240111T084686/data/metrics/yyyy=2024/mm=08/dd=12/hh=22/mm=16/accuracy_trajectory_per_payload.png\n"
     ]
    }
   ],
   "source": [
    "try:\n",
    "    per_model_per_payload_accuracy_fpath: str = os.path.join(METRICS_DIR, PER_PAYLOAD_FILE_ACCURACY_TRAJECTORY)\n",
    "\n",
    "    local_path: str = os.path.join(tempfile.tempdir, PER_PAYLOAD_FILE_ACCURACY_TRAJECTORY)\n",
    "    pio.write_image(fig, local_path) \n",
    "    upload_file_to_s3(BUCKET_NAME, local_path, per_model_per_payload_accuracy_fpath)\n",
    "    logger.info(f\"writing accuracy trajectory per payload file from {local_path} to s3://{BUCKET_NAME}/{per_model_per_payload_accuracy_fpath}\")\n",
    "except Exception as e:\n",
    "    logger.info(f\"Error occured while generating per model per payload accuracy measure chart: {e}\")"
   ]
  },
  {
   "cell_type": "code",
   "execution_count": 132,
   "metadata": {
    "tags": []
   },
   "outputs": [
    {
     "name": "stderr",
     "output_type": "stream",
     "text": [
      "[2024-08-12 23:42:19,129] p31041 {1469525319.py:6} INFO - writing business summary image from /tmp/accuracy_trajectory_per_payload.html to s3://sagemaker-fmbench-write-us-east-1-015469603702/fmbench-bedrock-anthropic-models-SageMaker-ExecutionRole-20240111T084686/data/metrics/yyyy=2024/mm=08/dd=12/hh=22/mm=16/accuracy_trajectory_per_payload.html\n"
     ]
    }
   ],
   "source": [
    "if content is not None:\n",
    "    local_path: str = os.path.join(tempfile.tempdir, PER_PAYLOAD_FILE_ACCURACY_TRAJECTORY.split('.')[0] + \".html\")\n",
    "    fig.write_html(local_path)\n",
    "    per_model_per_payload_accuracy_html_fpath = per_model_per_payload_accuracy_fpath.split('.')[0] + \".html\"\n",
    "    upload_file_to_s3(BUCKET_NAME, local_path, per_model_per_payload_accuracy_html_fpath)\n",
    "    logger.info(f\"writing business summary image from {local_path} to s3://{BUCKET_NAME}/{per_model_per_payload_accuracy_html_fpath}\")"
   ]
  },
  {
   "cell_type": "markdown",
   "metadata": {},
   "source": [
    "### Compute the overall majority voting accuracy per candidate model\n",
    "---\n",
    "\n",
    "In this portion of the evaluation step, the overall accuracy (based on all majority votes) are calculated for each of the candidate model and displayed on a bar chart. This helps gather insights into an overall business judgement as to which model satisfies the accuracy criteria (configurable within the config file)."
   ]
  },
  {
   "cell_type": "code",
   "execution_count": 133,
   "metadata": {
    "tags": []
   },
   "outputs": [],
   "source": [
    "try:\n",
    "    merged_accuracy_df_long_df.groupby(['candidate_model', 'variable'])['value'].mean().reset_index()\n",
    "    majority_vote_accuracy_df = merged_accuracy_df_long_df.groupby(['candidate_model', 'variable'])['value'].mean().reset_index()\n",
    "    majority_vote_accuracy_df = majority_vote_accuracy_df.sort_values(by=\"value\", ascending=False)\n",
    "    data = majority_vote_accuracy_df[majority_vote_accuracy_df.variable == \"majority_voting_accuracy\"]\n",
    "    data\n",
    "except Exception as e:\n",
    "    logger.info(f\"Error occured while getting the majority voting dataframe: {e}\")"
   ]
  },
  {
   "cell_type": "code",
   "execution_count": 134,
   "metadata": {
    "tags": []
   },
   "outputs": [
    {
     "name": "stderr",
     "output_type": "stream",
     "text": [
      "/tmp/ipykernel_31041/3226860383.py:10: SettingWithCopyWarning:\n",
      "\n",
      "\n",
      "A value is trying to be set on a copy of a slice from a DataFrame.\n",
      "Try using .loc[row_indexer,col_indexer] = value instead\n",
      "\n",
      "See the caveats in the documentation: https://pandas.pydata.org/pandas-docs/stable/user_guide/indexing.html#returning-a-view-versus-a-copy\n",
      "\n"
     ]
    },
    {
     "data": {
      "application/vnd.plotly.v1+json": {
       "config": {
        "plotlyServerURL": "https://plot.ly"
       },
       "data": [
        {
         "alignmentgroup": "True",
         "hovertemplate": "candidate_model=%{x}<br>value=%{marker.color}<extra></extra>",
         "legendgroup": "",
         "marker": {
          "color": [
           87.97999999999999,
           87.664
          ],
          "coloraxis": "coloraxis",
          "pattern": {
           "shape": ""
          }
         },
         "name": "",
         "offsetgroup": "",
         "orientation": "v",
         "showlegend": false,
         "textposition": "auto",
         "type": "bar",
         "x": [
          "claude-3-haiku-20240307-v1:0",
          "claude-3-sonnet-20240229-v1:0"
         ],
         "xaxis": "x",
         "y": [
          87.97999999999999,
          87.664
         ],
         "yaxis": "y"
        }
       ],
       "layout": {
        "annotations": [
         {
          "font": {
           "color": "red",
           "size": 12
          },
          "showarrow": false,
          "text": "Accuracy threshold 80%",
          "x": 1,
          "y": 80,
          "yshift": 10
         },
         {
          "showarrow": false,
          "text": "87.98%",
          "x": "claude-3-haiku-20240307-v1:0",
          "y": 87.97999999999999,
          "yshift": 10
         },
         {
          "showarrow": false,
          "text": "87.66%",
          "x": "claude-3-sonnet-20240229-v1:0",
          "y": 87.664,
          "yshift": 10
         }
        ],
        "barmode": "relative",
        "coloraxis": {
         "colorbar": {
          "title": {
           "text": "value"
          }
         },
         "colorscale": [
          [
           0,
           "rgb(247,251,255)"
          ],
          [
           0.125,
           "rgb(222,235,247)"
          ],
          [
           0.25,
           "rgb(198,219,239)"
          ],
          [
           0.375,
           "rgb(158,202,225)"
          ],
          [
           0.5,
           "rgb(107,174,214)"
          ],
          [
           0.625,
           "rgb(66,146,198)"
          ],
          [
           0.75,
           "rgb(33,113,181)"
          ],
          [
           0.875,
           "rgb(8,81,156)"
          ],
          [
           1,
           "rgb(8,48,107)"
          ]
         ],
         "showscale": false
        },
        "height": 500,
        "legend": {
         "tracegroupgap": 0
        },
        "shapes": [
         {
          "line": {
           "color": "red",
           "dash": "dash",
           "width": 2
          },
          "type": "line",
          "x0": -0.5,
          "x1": 1.5,
          "xref": "x",
          "y0": 80,
          "y1": 80,
          "yref": "y"
         }
        ],
        "showlegend": false,
        "template": {
         "data": {
          "bar": [
           {
            "error_x": {
             "color": "#2a3f5f"
            },
            "error_y": {
             "color": "#2a3f5f"
            },
            "marker": {
             "line": {
              "color": "#E5ECF6",
              "width": 0.5
             },
             "pattern": {
              "fillmode": "overlay",
              "size": 10,
              "solidity": 0.2
             }
            },
            "type": "bar"
           }
          ],
          "barpolar": [
           {
            "marker": {
             "line": {
              "color": "#E5ECF6",
              "width": 0.5
             },
             "pattern": {
              "fillmode": "overlay",
              "size": 10,
              "solidity": 0.2
             }
            },
            "type": "barpolar"
           }
          ],
          "carpet": [
           {
            "aaxis": {
             "endlinecolor": "#2a3f5f",
             "gridcolor": "white",
             "linecolor": "white",
             "minorgridcolor": "white",
             "startlinecolor": "#2a3f5f"
            },
            "baxis": {
             "endlinecolor": "#2a3f5f",
             "gridcolor": "white",
             "linecolor": "white",
             "minorgridcolor": "white",
             "startlinecolor": "#2a3f5f"
            },
            "type": "carpet"
           }
          ],
          "choropleth": [
           {
            "colorbar": {
             "outlinewidth": 0,
             "ticks": ""
            },
            "type": "choropleth"
           }
          ],
          "contour": [
           {
            "colorbar": {
             "outlinewidth": 0,
             "ticks": ""
            },
            "colorscale": [
             [
              0,
              "#0d0887"
             ],
             [
              0.1111111111111111,
              "#46039f"
             ],
             [
              0.2222222222222222,
              "#7201a8"
             ],
             [
              0.3333333333333333,
              "#9c179e"
             ],
             [
              0.4444444444444444,
              "#bd3786"
             ],
             [
              0.5555555555555556,
              "#d8576b"
             ],
             [
              0.6666666666666666,
              "#ed7953"
             ],
             [
              0.7777777777777778,
              "#fb9f3a"
             ],
             [
              0.8888888888888888,
              "#fdca26"
             ],
             [
              1,
              "#f0f921"
             ]
            ],
            "type": "contour"
           }
          ],
          "contourcarpet": [
           {
            "colorbar": {
             "outlinewidth": 0,
             "ticks": ""
            },
            "type": "contourcarpet"
           }
          ],
          "heatmap": [
           {
            "colorbar": {
             "outlinewidth": 0,
             "ticks": ""
            },
            "colorscale": [
             [
              0,
              "#0d0887"
             ],
             [
              0.1111111111111111,
              "#46039f"
             ],
             [
              0.2222222222222222,
              "#7201a8"
             ],
             [
              0.3333333333333333,
              "#9c179e"
             ],
             [
              0.4444444444444444,
              "#bd3786"
             ],
             [
              0.5555555555555556,
              "#d8576b"
             ],
             [
              0.6666666666666666,
              "#ed7953"
             ],
             [
              0.7777777777777778,
              "#fb9f3a"
             ],
             [
              0.8888888888888888,
              "#fdca26"
             ],
             [
              1,
              "#f0f921"
             ]
            ],
            "type": "heatmap"
           }
          ],
          "heatmapgl": [
           {
            "colorbar": {
             "outlinewidth": 0,
             "ticks": ""
            },
            "colorscale": [
             [
              0,
              "#0d0887"
             ],
             [
              0.1111111111111111,
              "#46039f"
             ],
             [
              0.2222222222222222,
              "#7201a8"
             ],
             [
              0.3333333333333333,
              "#9c179e"
             ],
             [
              0.4444444444444444,
              "#bd3786"
             ],
             [
              0.5555555555555556,
              "#d8576b"
             ],
             [
              0.6666666666666666,
              "#ed7953"
             ],
             [
              0.7777777777777778,
              "#fb9f3a"
             ],
             [
              0.8888888888888888,
              "#fdca26"
             ],
             [
              1,
              "#f0f921"
             ]
            ],
            "type": "heatmapgl"
           }
          ],
          "histogram": [
           {
            "marker": {
             "pattern": {
              "fillmode": "overlay",
              "size": 10,
              "solidity": 0.2
             }
            },
            "type": "histogram"
           }
          ],
          "histogram2d": [
           {
            "colorbar": {
             "outlinewidth": 0,
             "ticks": ""
            },
            "colorscale": [
             [
              0,
              "#0d0887"
             ],
             [
              0.1111111111111111,
              "#46039f"
             ],
             [
              0.2222222222222222,
              "#7201a8"
             ],
             [
              0.3333333333333333,
              "#9c179e"
             ],
             [
              0.4444444444444444,
              "#bd3786"
             ],
             [
              0.5555555555555556,
              "#d8576b"
             ],
             [
              0.6666666666666666,
              "#ed7953"
             ],
             [
              0.7777777777777778,
              "#fb9f3a"
             ],
             [
              0.8888888888888888,
              "#fdca26"
             ],
             [
              1,
              "#f0f921"
             ]
            ],
            "type": "histogram2d"
           }
          ],
          "histogram2dcontour": [
           {
            "colorbar": {
             "outlinewidth": 0,
             "ticks": ""
            },
            "colorscale": [
             [
              0,
              "#0d0887"
             ],
             [
              0.1111111111111111,
              "#46039f"
             ],
             [
              0.2222222222222222,
              "#7201a8"
             ],
             [
              0.3333333333333333,
              "#9c179e"
             ],
             [
              0.4444444444444444,
              "#bd3786"
             ],
             [
              0.5555555555555556,
              "#d8576b"
             ],
             [
              0.6666666666666666,
              "#ed7953"
             ],
             [
              0.7777777777777778,
              "#fb9f3a"
             ],
             [
              0.8888888888888888,
              "#fdca26"
             ],
             [
              1,
              "#f0f921"
             ]
            ],
            "type": "histogram2dcontour"
           }
          ],
          "mesh3d": [
           {
            "colorbar": {
             "outlinewidth": 0,
             "ticks": ""
            },
            "type": "mesh3d"
           }
          ],
          "parcoords": [
           {
            "line": {
             "colorbar": {
              "outlinewidth": 0,
              "ticks": ""
             }
            },
            "type": "parcoords"
           }
          ],
          "pie": [
           {
            "automargin": true,
            "type": "pie"
           }
          ],
          "scatter": [
           {
            "fillpattern": {
             "fillmode": "overlay",
             "size": 10,
             "solidity": 0.2
            },
            "type": "scatter"
           }
          ],
          "scatter3d": [
           {
            "line": {
             "colorbar": {
              "outlinewidth": 0,
              "ticks": ""
             }
            },
            "marker": {
             "colorbar": {
              "outlinewidth": 0,
              "ticks": ""
             }
            },
            "type": "scatter3d"
           }
          ],
          "scattercarpet": [
           {
            "marker": {
             "colorbar": {
              "outlinewidth": 0,
              "ticks": ""
             }
            },
            "type": "scattercarpet"
           }
          ],
          "scattergeo": [
           {
            "marker": {
             "colorbar": {
              "outlinewidth": 0,
              "ticks": ""
             }
            },
            "type": "scattergeo"
           }
          ],
          "scattergl": [
           {
            "marker": {
             "colorbar": {
              "outlinewidth": 0,
              "ticks": ""
             }
            },
            "type": "scattergl"
           }
          ],
          "scattermapbox": [
           {
            "marker": {
             "colorbar": {
              "outlinewidth": 0,
              "ticks": ""
             }
            },
            "type": "scattermapbox"
           }
          ],
          "scatterpolar": [
           {
            "marker": {
             "colorbar": {
              "outlinewidth": 0,
              "ticks": ""
             }
            },
            "type": "scatterpolar"
           }
          ],
          "scatterpolargl": [
           {
            "marker": {
             "colorbar": {
              "outlinewidth": 0,
              "ticks": ""
             }
            },
            "type": "scatterpolargl"
           }
          ],
          "scatterternary": [
           {
            "marker": {
             "colorbar": {
              "outlinewidth": 0,
              "ticks": ""
             }
            },
            "type": "scatterternary"
           }
          ],
          "surface": [
           {
            "colorbar": {
             "outlinewidth": 0,
             "ticks": ""
            },
            "colorscale": [
             [
              0,
              "#0d0887"
             ],
             [
              0.1111111111111111,
              "#46039f"
             ],
             [
              0.2222222222222222,
              "#7201a8"
             ],
             [
              0.3333333333333333,
              "#9c179e"
             ],
             [
              0.4444444444444444,
              "#bd3786"
             ],
             [
              0.5555555555555556,
              "#d8576b"
             ],
             [
              0.6666666666666666,
              "#ed7953"
             ],
             [
              0.7777777777777778,
              "#fb9f3a"
             ],
             [
              0.8888888888888888,
              "#fdca26"
             ],
             [
              1,
              "#f0f921"
             ]
            ],
            "type": "surface"
           }
          ],
          "table": [
           {
            "cells": {
             "fill": {
              "color": "#EBF0F8"
             },
             "line": {
              "color": "white"
             }
            },
            "header": {
             "fill": {
              "color": "#C8D4E3"
             },
             "line": {
              "color": "white"
             }
            },
            "type": "table"
           }
          ]
         },
         "layout": {
          "annotationdefaults": {
           "arrowcolor": "#2a3f5f",
           "arrowhead": 0,
           "arrowwidth": 1
          },
          "autotypenumbers": "strict",
          "coloraxis": {
           "colorbar": {
            "outlinewidth": 0,
            "ticks": ""
           }
          },
          "colorscale": {
           "diverging": [
            [
             0,
             "#8e0152"
            ],
            [
             0.1,
             "#c51b7d"
            ],
            [
             0.2,
             "#de77ae"
            ],
            [
             0.3,
             "#f1b6da"
            ],
            [
             0.4,
             "#fde0ef"
            ],
            [
             0.5,
             "#f7f7f7"
            ],
            [
             0.6,
             "#e6f5d0"
            ],
            [
             0.7,
             "#b8e186"
            ],
            [
             0.8,
             "#7fbc41"
            ],
            [
             0.9,
             "#4d9221"
            ],
            [
             1,
             "#276419"
            ]
           ],
           "sequential": [
            [
             0,
             "#0d0887"
            ],
            [
             0.1111111111111111,
             "#46039f"
            ],
            [
             0.2222222222222222,
             "#7201a8"
            ],
            [
             0.3333333333333333,
             "#9c179e"
            ],
            [
             0.4444444444444444,
             "#bd3786"
            ],
            [
             0.5555555555555556,
             "#d8576b"
            ],
            [
             0.6666666666666666,
             "#ed7953"
            ],
            [
             0.7777777777777778,
             "#fb9f3a"
            ],
            [
             0.8888888888888888,
             "#fdca26"
            ],
            [
             1,
             "#f0f921"
            ]
           ],
           "sequentialminus": [
            [
             0,
             "#0d0887"
            ],
            [
             0.1111111111111111,
             "#46039f"
            ],
            [
             0.2222222222222222,
             "#7201a8"
            ],
            [
             0.3333333333333333,
             "#9c179e"
            ],
            [
             0.4444444444444444,
             "#bd3786"
            ],
            [
             0.5555555555555556,
             "#d8576b"
            ],
            [
             0.6666666666666666,
             "#ed7953"
            ],
            [
             0.7777777777777778,
             "#fb9f3a"
            ],
            [
             0.8888888888888888,
             "#fdca26"
            ],
            [
             1,
             "#f0f921"
            ]
           ]
          },
          "colorway": [
           "#636efa",
           "#EF553B",
           "#00cc96",
           "#ab63fa",
           "#FFA15A",
           "#19d3f3",
           "#FF6692",
           "#B6E880",
           "#FF97FF",
           "#FECB52"
          ],
          "font": {
           "color": "#2a3f5f"
          },
          "geo": {
           "bgcolor": "white",
           "lakecolor": "white",
           "landcolor": "#E5ECF6",
           "showlakes": true,
           "showland": true,
           "subunitcolor": "white"
          },
          "hoverlabel": {
           "align": "left"
          },
          "hovermode": "closest",
          "mapbox": {
           "style": "light"
          },
          "paper_bgcolor": "white",
          "plot_bgcolor": "#E5ECF6",
          "polar": {
           "angularaxis": {
            "gridcolor": "white",
            "linecolor": "white",
            "ticks": ""
           },
           "bgcolor": "#E5ECF6",
           "radialaxis": {
            "gridcolor": "white",
            "linecolor": "white",
            "ticks": ""
           }
          },
          "scene": {
           "xaxis": {
            "backgroundcolor": "#E5ECF6",
            "gridcolor": "white",
            "gridwidth": 2,
            "linecolor": "white",
            "showbackground": true,
            "ticks": "",
            "zerolinecolor": "white"
           },
           "yaxis": {
            "backgroundcolor": "#E5ECF6",
            "gridcolor": "white",
            "gridwidth": 2,
            "linecolor": "white",
            "showbackground": true,
            "ticks": "",
            "zerolinecolor": "white"
           },
           "zaxis": {
            "backgroundcolor": "#E5ECF6",
            "gridcolor": "white",
            "gridwidth": 2,
            "linecolor": "white",
            "showbackground": true,
            "ticks": "",
            "zerolinecolor": "white"
           }
          },
          "shapedefaults": {
           "line": {
            "color": "#2a3f5f"
           }
          },
          "ternary": {
           "aaxis": {
            "gridcolor": "white",
            "linecolor": "white",
            "ticks": ""
           },
           "baxis": {
            "gridcolor": "white",
            "linecolor": "white",
            "ticks": ""
           },
           "bgcolor": "#E5ECF6",
           "caxis": {
            "gridcolor": "white",
            "linecolor": "white",
            "ticks": ""
           }
          },
          "title": {
           "x": 0.05
          },
          "xaxis": {
           "automargin": true,
           "gridcolor": "white",
           "linecolor": "white",
           "ticks": "",
           "title": {
            "standoff": 15
           },
           "zerolinecolor": "white",
           "zerolinewidth": 2
          },
          "yaxis": {
           "automargin": true,
           "gridcolor": "white",
           "linecolor": "white",
           "ticks": "",
           "title": {
            "standoff": 15
           },
           "zerolinecolor": "white",
           "zerolinewidth": 2
          }
         }
        },
        "title": {
         "text": "Model accuracy on \"LongBench\" dataset determined by a 3 LLM judge panel through majority vote<br>2 models, namely: claude-3-haiku-20240307-v1:0, claude-3-sonnet-20240229-v1:0 had accuracy >= 80% "
        },
        "width": 1500,
        "xaxis": {
         "anchor": "y",
         "domain": [
          0,
          1
         ],
         "title": {
          "text": ""
         }
        },
        "yaxis": {
         "anchor": "x",
         "domain": [
          0,
          1
         ],
         "range": [
          0,
          100
         ],
         "ticksuffix": "%",
         "title": {
          "text": "Accuracy"
         }
        }
       }
      },
      "text/html": [
       "<div>                            <div id=\"f918e614-1108-4bac-9d3c-b2ab12b42b57\" class=\"plotly-graph-div\" style=\"height:500px; width:1500px;\"></div>            <script type=\"text/javascript\">                require([\"plotly\"], function(Plotly) {                    window.PLOTLYENV=window.PLOTLYENV || {};                                    if (document.getElementById(\"f918e614-1108-4bac-9d3c-b2ab12b42b57\")) {                    Plotly.newPlot(                        \"f918e614-1108-4bac-9d3c-b2ab12b42b57\",                        [{\"alignmentgroup\":\"True\",\"hovertemplate\":\"candidate_model=%{x}\\u003cbr\\u003evalue=%{marker.color}\\u003cextra\\u003e\\u003c\\u002fextra\\u003e\",\"legendgroup\":\"\",\"marker\":{\"color\":[87.97999999999999,87.664],\"coloraxis\":\"coloraxis\",\"pattern\":{\"shape\":\"\"}},\"name\":\"\",\"offsetgroup\":\"\",\"orientation\":\"v\",\"showlegend\":false,\"textposition\":\"auto\",\"x\":[\"claude-3-haiku-20240307-v1:0\",\"claude-3-sonnet-20240229-v1:0\"],\"xaxis\":\"x\",\"y\":[87.97999999999999,87.664],\"yaxis\":\"y\",\"type\":\"bar\"}],                        {\"template\":{\"data\":{\"histogram2dcontour\":[{\"type\":\"histogram2dcontour\",\"colorbar\":{\"outlinewidth\":0,\"ticks\":\"\"},\"colorscale\":[[0.0,\"#0d0887\"],[0.1111111111111111,\"#46039f\"],[0.2222222222222222,\"#7201a8\"],[0.3333333333333333,\"#9c179e\"],[0.4444444444444444,\"#bd3786\"],[0.5555555555555556,\"#d8576b\"],[0.6666666666666666,\"#ed7953\"],[0.7777777777777778,\"#fb9f3a\"],[0.8888888888888888,\"#fdca26\"],[1.0,\"#f0f921\"]]}],\"choropleth\":[{\"type\":\"choropleth\",\"colorbar\":{\"outlinewidth\":0,\"ticks\":\"\"}}],\"histogram2d\":[{\"type\":\"histogram2d\",\"colorbar\":{\"outlinewidth\":0,\"ticks\":\"\"},\"colorscale\":[[0.0,\"#0d0887\"],[0.1111111111111111,\"#46039f\"],[0.2222222222222222,\"#7201a8\"],[0.3333333333333333,\"#9c179e\"],[0.4444444444444444,\"#bd3786\"],[0.5555555555555556,\"#d8576b\"],[0.6666666666666666,\"#ed7953\"],[0.7777777777777778,\"#fb9f3a\"],[0.8888888888888888,\"#fdca26\"],[1.0,\"#f0f921\"]]}],\"heatmap\":[{\"type\":\"heatmap\",\"colorbar\":{\"outlinewidth\":0,\"ticks\":\"\"},\"colorscale\":[[0.0,\"#0d0887\"],[0.1111111111111111,\"#46039f\"],[0.2222222222222222,\"#7201a8\"],[0.3333333333333333,\"#9c179e\"],[0.4444444444444444,\"#bd3786\"],[0.5555555555555556,\"#d8576b\"],[0.6666666666666666,\"#ed7953\"],[0.7777777777777778,\"#fb9f3a\"],[0.8888888888888888,\"#fdca26\"],[1.0,\"#f0f921\"]]}],\"heatmapgl\":[{\"type\":\"heatmapgl\",\"colorbar\":{\"outlinewidth\":0,\"ticks\":\"\"},\"colorscale\":[[0.0,\"#0d0887\"],[0.1111111111111111,\"#46039f\"],[0.2222222222222222,\"#7201a8\"],[0.3333333333333333,\"#9c179e\"],[0.4444444444444444,\"#bd3786\"],[0.5555555555555556,\"#d8576b\"],[0.6666666666666666,\"#ed7953\"],[0.7777777777777778,\"#fb9f3a\"],[0.8888888888888888,\"#fdca26\"],[1.0,\"#f0f921\"]]}],\"contourcarpet\":[{\"type\":\"contourcarpet\",\"colorbar\":{\"outlinewidth\":0,\"ticks\":\"\"}}],\"contour\":[{\"type\":\"contour\",\"colorbar\":{\"outlinewidth\":0,\"ticks\":\"\"},\"colorscale\":[[0.0,\"#0d0887\"],[0.1111111111111111,\"#46039f\"],[0.2222222222222222,\"#7201a8\"],[0.3333333333333333,\"#9c179e\"],[0.4444444444444444,\"#bd3786\"],[0.5555555555555556,\"#d8576b\"],[0.6666666666666666,\"#ed7953\"],[0.7777777777777778,\"#fb9f3a\"],[0.8888888888888888,\"#fdca26\"],[1.0,\"#f0f921\"]]}],\"surface\":[{\"type\":\"surface\",\"colorbar\":{\"outlinewidth\":0,\"ticks\":\"\"},\"colorscale\":[[0.0,\"#0d0887\"],[0.1111111111111111,\"#46039f\"],[0.2222222222222222,\"#7201a8\"],[0.3333333333333333,\"#9c179e\"],[0.4444444444444444,\"#bd3786\"],[0.5555555555555556,\"#d8576b\"],[0.6666666666666666,\"#ed7953\"],[0.7777777777777778,\"#fb9f3a\"],[0.8888888888888888,\"#fdca26\"],[1.0,\"#f0f921\"]]}],\"mesh3d\":[{\"type\":\"mesh3d\",\"colorbar\":{\"outlinewidth\":0,\"ticks\":\"\"}}],\"scatter\":[{\"fillpattern\":{\"fillmode\":\"overlay\",\"size\":10,\"solidity\":0.2},\"type\":\"scatter\"}],\"parcoords\":[{\"type\":\"parcoords\",\"line\":{\"colorbar\":{\"outlinewidth\":0,\"ticks\":\"\"}}}],\"scatterpolargl\":[{\"type\":\"scatterpolargl\",\"marker\":{\"colorbar\":{\"outlinewidth\":0,\"ticks\":\"\"}}}],\"bar\":[{\"error_x\":{\"color\":\"#2a3f5f\"},\"error_y\":{\"color\":\"#2a3f5f\"},\"marker\":{\"line\":{\"color\":\"#E5ECF6\",\"width\":0.5},\"pattern\":{\"fillmode\":\"overlay\",\"size\":10,\"solidity\":0.2}},\"type\":\"bar\"}],\"scattergeo\":[{\"type\":\"scattergeo\",\"marker\":{\"colorbar\":{\"outlinewidth\":0,\"ticks\":\"\"}}}],\"scatterpolar\":[{\"type\":\"scatterpolar\",\"marker\":{\"colorbar\":{\"outlinewidth\":0,\"ticks\":\"\"}}}],\"histogram\":[{\"marker\":{\"pattern\":{\"fillmode\":\"overlay\",\"size\":10,\"solidity\":0.2}},\"type\":\"histogram\"}],\"scattergl\":[{\"type\":\"scattergl\",\"marker\":{\"colorbar\":{\"outlinewidth\":0,\"ticks\":\"\"}}}],\"scatter3d\":[{\"type\":\"scatter3d\",\"line\":{\"colorbar\":{\"outlinewidth\":0,\"ticks\":\"\"}},\"marker\":{\"colorbar\":{\"outlinewidth\":0,\"ticks\":\"\"}}}],\"scattermapbox\":[{\"type\":\"scattermapbox\",\"marker\":{\"colorbar\":{\"outlinewidth\":0,\"ticks\":\"\"}}}],\"scatterternary\":[{\"type\":\"scatterternary\",\"marker\":{\"colorbar\":{\"outlinewidth\":0,\"ticks\":\"\"}}}],\"scattercarpet\":[{\"type\":\"scattercarpet\",\"marker\":{\"colorbar\":{\"outlinewidth\":0,\"ticks\":\"\"}}}],\"carpet\":[{\"aaxis\":{\"endlinecolor\":\"#2a3f5f\",\"gridcolor\":\"white\",\"linecolor\":\"white\",\"minorgridcolor\":\"white\",\"startlinecolor\":\"#2a3f5f\"},\"baxis\":{\"endlinecolor\":\"#2a3f5f\",\"gridcolor\":\"white\",\"linecolor\":\"white\",\"minorgridcolor\":\"white\",\"startlinecolor\":\"#2a3f5f\"},\"type\":\"carpet\"}],\"table\":[{\"cells\":{\"fill\":{\"color\":\"#EBF0F8\"},\"line\":{\"color\":\"white\"}},\"header\":{\"fill\":{\"color\":\"#C8D4E3\"},\"line\":{\"color\":\"white\"}},\"type\":\"table\"}],\"barpolar\":[{\"marker\":{\"line\":{\"color\":\"#E5ECF6\",\"width\":0.5},\"pattern\":{\"fillmode\":\"overlay\",\"size\":10,\"solidity\":0.2}},\"type\":\"barpolar\"}],\"pie\":[{\"automargin\":true,\"type\":\"pie\"}]},\"layout\":{\"autotypenumbers\":\"strict\",\"colorway\":[\"#636efa\",\"#EF553B\",\"#00cc96\",\"#ab63fa\",\"#FFA15A\",\"#19d3f3\",\"#FF6692\",\"#B6E880\",\"#FF97FF\",\"#FECB52\"],\"font\":{\"color\":\"#2a3f5f\"},\"hovermode\":\"closest\",\"hoverlabel\":{\"align\":\"left\"},\"paper_bgcolor\":\"white\",\"plot_bgcolor\":\"#E5ECF6\",\"polar\":{\"bgcolor\":\"#E5ECF6\",\"angularaxis\":{\"gridcolor\":\"white\",\"linecolor\":\"white\",\"ticks\":\"\"},\"radialaxis\":{\"gridcolor\":\"white\",\"linecolor\":\"white\",\"ticks\":\"\"}},\"ternary\":{\"bgcolor\":\"#E5ECF6\",\"aaxis\":{\"gridcolor\":\"white\",\"linecolor\":\"white\",\"ticks\":\"\"},\"baxis\":{\"gridcolor\":\"white\",\"linecolor\":\"white\",\"ticks\":\"\"},\"caxis\":{\"gridcolor\":\"white\",\"linecolor\":\"white\",\"ticks\":\"\"}},\"coloraxis\":{\"colorbar\":{\"outlinewidth\":0,\"ticks\":\"\"}},\"colorscale\":{\"sequential\":[[0.0,\"#0d0887\"],[0.1111111111111111,\"#46039f\"],[0.2222222222222222,\"#7201a8\"],[0.3333333333333333,\"#9c179e\"],[0.4444444444444444,\"#bd3786\"],[0.5555555555555556,\"#d8576b\"],[0.6666666666666666,\"#ed7953\"],[0.7777777777777778,\"#fb9f3a\"],[0.8888888888888888,\"#fdca26\"],[1.0,\"#f0f921\"]],\"sequentialminus\":[[0.0,\"#0d0887\"],[0.1111111111111111,\"#46039f\"],[0.2222222222222222,\"#7201a8\"],[0.3333333333333333,\"#9c179e\"],[0.4444444444444444,\"#bd3786\"],[0.5555555555555556,\"#d8576b\"],[0.6666666666666666,\"#ed7953\"],[0.7777777777777778,\"#fb9f3a\"],[0.8888888888888888,\"#fdca26\"],[1.0,\"#f0f921\"]],\"diverging\":[[0,\"#8e0152\"],[0.1,\"#c51b7d\"],[0.2,\"#de77ae\"],[0.3,\"#f1b6da\"],[0.4,\"#fde0ef\"],[0.5,\"#f7f7f7\"],[0.6,\"#e6f5d0\"],[0.7,\"#b8e186\"],[0.8,\"#7fbc41\"],[0.9,\"#4d9221\"],[1,\"#276419\"]]},\"xaxis\":{\"gridcolor\":\"white\",\"linecolor\":\"white\",\"ticks\":\"\",\"title\":{\"standoff\":15},\"zerolinecolor\":\"white\",\"automargin\":true,\"zerolinewidth\":2},\"yaxis\":{\"gridcolor\":\"white\",\"linecolor\":\"white\",\"ticks\":\"\",\"title\":{\"standoff\":15},\"zerolinecolor\":\"white\",\"automargin\":true,\"zerolinewidth\":2},\"scene\":{\"xaxis\":{\"backgroundcolor\":\"#E5ECF6\",\"gridcolor\":\"white\",\"linecolor\":\"white\",\"showbackground\":true,\"ticks\":\"\",\"zerolinecolor\":\"white\",\"gridwidth\":2},\"yaxis\":{\"backgroundcolor\":\"#E5ECF6\",\"gridcolor\":\"white\",\"linecolor\":\"white\",\"showbackground\":true,\"ticks\":\"\",\"zerolinecolor\":\"white\",\"gridwidth\":2},\"zaxis\":{\"backgroundcolor\":\"#E5ECF6\",\"gridcolor\":\"white\",\"linecolor\":\"white\",\"showbackground\":true,\"ticks\":\"\",\"zerolinecolor\":\"white\",\"gridwidth\":2}},\"shapedefaults\":{\"line\":{\"color\":\"#2a3f5f\"}},\"annotationdefaults\":{\"arrowcolor\":\"#2a3f5f\",\"arrowhead\":0,\"arrowwidth\":1},\"geo\":{\"bgcolor\":\"white\",\"landcolor\":\"#E5ECF6\",\"subunitcolor\":\"white\",\"showland\":true,\"showlakes\":true,\"lakecolor\":\"white\"},\"title\":{\"x\":0.05},\"mapbox\":{\"style\":\"light\"}}},\"xaxis\":{\"anchor\":\"y\",\"domain\":[0.0,1.0],\"title\":{\"text\":\"\"}},\"yaxis\":{\"anchor\":\"x\",\"domain\":[0.0,1.0],\"title\":{\"text\":\"Accuracy\"},\"range\":[0,100],\"ticksuffix\":\"%\"},\"coloraxis\":{\"colorbar\":{\"title\":{\"text\":\"value\"}},\"colorscale\":[[0.0,\"rgb(247,251,255)\"],[0.125,\"rgb(222,235,247)\"],[0.25,\"rgb(198,219,239)\"],[0.375,\"rgb(158,202,225)\"],[0.5,\"rgb(107,174,214)\"],[0.625,\"rgb(66,146,198)\"],[0.75,\"rgb(33,113,181)\"],[0.875,\"rgb(8,81,156)\"],[1.0,\"rgb(8,48,107)\"]],\"showscale\":false},\"legend\":{\"tracegroupgap\":0},\"title\":{\"text\":\"Model accuracy on \\\"LongBench\\\" dataset determined by a 3 LLM judge panel through majority vote\\u003cbr\\u003e2 models, namely: claude-3-haiku-20240307-v1:0, claude-3-sonnet-20240229-v1:0 had accuracy \\u003e= 80% \"},\"barmode\":\"relative\",\"shapes\":[{\"line\":{\"color\":\"red\",\"dash\":\"dash\",\"width\":2},\"type\":\"line\",\"x0\":-0.5,\"x1\":1.5,\"xref\":\"x\",\"y0\":80,\"y1\":80,\"yref\":\"y\"}],\"annotations\":[{\"font\":{\"color\":\"red\",\"size\":12},\"showarrow\":false,\"text\":\"Accuracy threshold 80%\",\"x\":1,\"y\":80,\"yshift\":10},{\"showarrow\":false,\"text\":\"87.98%\",\"x\":\"claude-3-haiku-20240307-v1:0\",\"y\":87.97999999999999,\"yshift\":10},{\"showarrow\":false,\"text\":\"87.66%\",\"x\":\"claude-3-sonnet-20240229-v1:0\",\"y\":87.664,\"yshift\":10}],\"width\":1500,\"height\":500,\"showlegend\":false},                        {\"responsive\": true}                    ).then(function(){\n",
       "                            \n",
       "var gd = document.getElementById('f918e614-1108-4bac-9d3c-b2ab12b42b57');\n",
       "var x = new MutationObserver(function (mutations, observer) {{\n",
       "        var display = window.getComputedStyle(gd).display;\n",
       "        if (!display || display === 'none') {{\n",
       "            console.log([gd, 'removed!']);\n",
       "            Plotly.purge(gd);\n",
       "            observer.disconnect();\n",
       "        }}\n",
       "}});\n",
       "\n",
       "// Listen for the removal of the full notebook cells\n",
       "var notebookContainer = gd.closest('#notebook-container');\n",
       "if (notebookContainer) {{\n",
       "    x.observe(notebookContainer, {childList: true});\n",
       "}}\n",
       "\n",
       "// Listen for the clearing of the current output cell\n",
       "var outputEl = gd.closest('.output');\n",
       "if (outputEl) {{\n",
       "    x.observe(outputEl, {childList: true});\n",
       "}}\n",
       "\n",
       "                        })                };                });            </script>        </div>"
      ]
     },
     "metadata": {},
     "output_type": "display_data"
    }
   ],
   "source": [
    "def findnth(haystack, needle, n):\n",
    "    parts= haystack.split(needle, n+1)\n",
    "    if len(parts)<=n+1:\n",
    "        return -1\n",
    "    return len(haystack)-len(parts[-1])-len(needle)\n",
    "\n",
    "try:\n",
    "    # Sample data\n",
    "    data = majority_vote_accuracy_df[majority_vote_accuracy_df.variable == \"majority_voting_accuracy\"]\n",
    "    data.candidate_model = data.candidate_model.map(lambda x: x.split(\".\")[1])\n",
    "\n",
    "    # Define the y-coordinate for the dashed line\n",
    "    threshold = 80\n",
    "    dashed_line_y = threshold\n",
    "\n",
    "    # dataset name\n",
    "    ds_name = \"LongBench\"\n",
    "\n",
    "    # models that have accuracy gte than threshold\n",
    "    selected_models = data[data.value >= threshold].candidate_model.unique()\n",
    "    num_selected_models = len(selected_models)\n",
    "    if num_selected_models > 0:\n",
    "        # if there are more than 3 models then text would not fit in one line so add\n",
    "        # a line break after the 3rd model    \n",
    "        selected_models_str = \", \".join(selected_models) + f\" had accuracy >= {threshold}% \"\n",
    "        if selected_models_str.count(\",\") > 3:\n",
    "            i = findnth(selected_models_str, \",\", 2)       \n",
    "            selected_models_str = list(selected_models_str)\n",
    "            selected_models_str[i] = \",<br>\"\n",
    "            selected_models_str = \"\".join(selected_models_str).replace(\"<br> \", \"<br>\")\n",
    "        selected_models_str = f\"{num_selected_models} models, namely: \" + selected_models_str\n",
    "    else:\n",
    "        selected_models_str = f\"No candidate model(s) had accuracy >= the accuracy threshold of {threshold}%\"\n",
    "\n",
    "    # Create the bar chart with Plotly Express\n",
    "    fig = px.bar(data,\n",
    "                 x='candidate_model',\n",
    "                 y='value',\n",
    "                 #color='candidate_model',\n",
    "                 title=f'Model accuracy on \\\"{ds_name}\\\" dataset determined by a {num_judges} LLM judge panel through majority vote<br>{selected_models_str}',\n",
    "                 color='value', \n",
    "                 color_continuous_scale='Blues')\n",
    "\n",
    "    # Add a dashed horizontal line\n",
    "    fig.add_shape(\n",
    "        type=\"line\",\n",
    "        x0=-0.5,\n",
    "        y0=dashed_line_y,\n",
    "        x1=len(data['candidate_model']) - 0.5,\n",
    "        y1=dashed_line_y,\n",
    "        line=dict(\n",
    "            color=\"red\",\n",
    "            width=2,\n",
    "            dash=\"dash\"\n",
    "        ),\n",
    "        xref='x',\n",
    "        yref='y'\n",
    "    )\n",
    "\n",
    "    # Add an annotation to the horizontal line\n",
    "    fig.add_annotation(\n",
    "        x=len(data['candidate_model']) - 1,  # Position at the end of the line\n",
    "        y=dashed_line_y,\n",
    "        text=f\"Accuracy threshold {threshold}%\",  # The text to display\n",
    "        showarrow=False,\n",
    "        yshift=10,  # Slightly move the annotation above the line\n",
    "        font=dict(color=\"red\", size=12)  # Customize the text style\n",
    "    )\n",
    "    \n",
    "    # Add annotations on top of each bar\n",
    "    for i, row in data.iterrows():\n",
    "        fig.add_annotation(\n",
    "            x=row['candidate_model'],  # X position (category)\n",
    "            y=row['value'],    # Y position (value)\n",
    "            text=f\"{round(row['value'], 2)}%\",  # Annotation text\n",
    "            showarrow=False,    # No arrow, just the text\n",
    "            yshift=10           # Shift text upward so it's above the bar\n",
    "        )\n",
    "    # Update layout for better readability based on the number of candidate models in the evaluation process\n",
    "    width = max(model_count * 500, 1500)\n",
    "    \n",
    "    # Update layout for y-axis range\n",
    "    fig.update_layout(\n",
    "        yaxis=dict(\n",
    "            range=[0, 100],\n",
    "            title='Accuracy',\n",
    "            ticksuffix='%',\n",
    "        ),    \n",
    "        xaxis_title='',\n",
    "        width=width,   # Set the width of the plot\n",
    "        height=500   # Set the height of the plot\n",
    "    )\n",
    "\n",
    "    fig.update_layout(showlegend=False, coloraxis_showscale=False)\n",
    "\n",
    "    # Show the plot\n",
    "    fig.show()\n",
    "except Exception as e:\n",
    "    logger.info(f\"Error occured while generating the overall accuracy chart: {e}\")"
   ]
  },
  {
   "cell_type": "code",
   "execution_count": 135,
   "metadata": {
    "tags": []
   },
   "outputs": [
    {
     "name": "stderr",
     "output_type": "stream",
     "text": [
      "[2024-08-12 23:42:19,477] p31041 {2098176000.py:7} INFO - writing the overall candidate model accuracy (with majority voting) from /tmp/overall_candidate_model_majority_voting_accuracy.png to s3://sagemaker-fmbench-write-us-east-1-015469603702/fmbench-bedrock-anthropic-models-SageMaker-ExecutionRole-20240111T084686/data/metrics/yyyy=2024/mm=08/dd=12/hh=22/mm=16/overall_candidate_model_majority_voting_accuracy.png\n"
     ]
    }
   ],
   "source": [
    "try:\n",
    "    overall_model_majority_voting_accuracy_fpath: str = os.path.join(METRICS_DIR, OVERALL_CANDIDATE_MODEL_MAJORITY_VOTING_ACCURACY)\n",
    "\n",
    "    local_path: str = os.path.join(tempfile.tempdir, OVERALL_CANDIDATE_MODEL_MAJORITY_VOTING_ACCURACY)\n",
    "    pio.write_image(fig, local_path) \n",
    "    upload_file_to_s3(BUCKET_NAME, local_path, overall_model_majority_voting_accuracy_fpath)\n",
    "    logger.info(f\"writing the overall candidate model accuracy (with majority voting) from {local_path} to s3://{BUCKET_NAME}/{overall_model_majority_voting_accuracy_fpath}\")\n",
    "except Exception as e:\n",
    "    logger.info(f\"Error occured while writing the overall accuracy chart to s3://{BUCKET_NAME}/{overall_model_majority_voting_accuracy_fpath}\")"
   ]
  },
  {
   "cell_type": "code",
   "execution_count": 136,
   "metadata": {},
   "outputs": [
    {
     "name": "stderr",
     "output_type": "stream",
     "text": [
      "[2024-08-12 23:42:19,692] p31041 {1302960767.py:6} INFO - writing business summary image from /tmp/overall_candidate_model_majority_voting_accuracy.html to s3://sagemaker-fmbench-write-us-east-1-015469603702/fmbench-bedrock-anthropic-models-SageMaker-ExecutionRole-20240111T084686/data/metrics/yyyy=2024/mm=08/dd=12/hh=22/mm=16/overall_candidate_model_majority_voting_accuracy.html\n"
     ]
    }
   ],
   "source": [
    "if content is not None:\n",
    "    local_path: str = os.path.join(tempfile.tempdir, OVERALL_CANDIDATE_MODEL_MAJORITY_VOTING_ACCURACY.split('.')[0] + \".html\")\n",
    "    fig.write_html(local_path)\n",
    "    overall_model_majority_voting_accuracy_html_fpath = overall_model_majority_voting_accuracy_fpath.split('.')[0] + \".html\"\n",
    "    upload_file_to_s3(BUCKET_NAME, local_path, overall_model_majority_voting_accuracy_html_fpath)\n",
    "    logger.info(f\"writing business summary image from {local_path} to s3://{BUCKET_NAME}/{overall_model_majority_voting_accuracy_html_fpath}\")"
   ]
  },
  {
   "cell_type": "code",
   "execution_count": 137,
   "metadata": {},
   "outputs": [],
   "source": [
    "\n",
    "# Convert df_per_payload_evals to Markdown table\n",
    "df_temp = df_per_payload_evals.groupby('candidate_model').mean(numeric_only=True).reset_index().round(2)\n",
    "# the first column of this dataframe is the candidate model name and the rest all \n",
    "# are accuracy metrics columns so we want to append a % to all this columns\n",
    "df_temp.iloc[:, 1:] = df_temp.iloc[:, 1:].astype(str) + '%'\n",
    "model_eval_accuracy_mkdn_table = Tomark.table(df_temp.to_dict(orient='records'))"
   ]
  },
  {
   "cell_type": "code",
   "execution_count": 138,
   "metadata": {},
   "outputs": [],
   "source": [
    "# model evaluation text\n",
    "if content is not None:\n",
    "    model_evaluation_text: str = f\"\"\"Model evaluations were performed by a panel of {num_judges} LLM judges: {judge_name_list}. Model outputs were compared with ground truth available in the dataset by the judge models. The following charts provide the results of model evaluations.\n",
    "\n",
    "{model_eval_accuracy_mkdn_table}\n",
    "    \n",
    "![Overall model accuracy]({OVERALL_CANDIDATE_MODEL_MAJORITY_VOTING_ACCURACY})  \n",
    "View an interactive version of the overall accuracy chart [here]({os.path.basename(overall_model_majority_voting_accuracy_html_fpath)})\n",
    "\n",
    "![Model accuracy trend across prompt sizes]({PER_PAYLOAD_FILE_ACCURACY_TRAJECTORY})  \n",
    "View an interactive version of the accuracy trajectory chart [here]({os.path.basename(per_model_per_payload_accuracy_html_fpath)})\n",
    "\"\"\""
   ]
  },
  {
   "cell_type": "code",
   "execution_count": 139,
   "metadata": {
    "tags": []
   },
   "outputs": [
    {
     "name": "stderr",
     "output_type": "stream",
     "text": [
      "[2024-08-12 23:42:19,736] p31041 {4074166557.py:45} INFO - df_summary_metrics_dataset_overall is: Index(['experiment_name', 'payload_file', 'instance_type', 'instance_count',\n",
      "       'concurrency', 'error_rate', 'prompt_token_count_mean',\n",
      "       'prompt_token_throughput', 'completion_token_count_mean',\n",
      "       'completion_token_throughput', 'latency_p50', 'latency_p95',\n",
      "       'latency_p99', 'transactions_per_minute', 'price_per_txn',\n",
      "       'price_per_token', 'score_dict', 'score', 'any_criterion_failed',\n",
      "       'error_rate_criterion_failed', 'latency_criterion_failed',\n",
      "       'cost_per_txn_criterion_failed', 'error_rate_text', 'latency_p95_text',\n",
      "       'price_per_10k_txn_text'],\n",
      "      dtype='object')\n",
      "[2024-08-12 23:42:19,738] p31041 {4074166557.py:46} INFO - df_summary_metrics_dataset instance types: 3     anthropic.claude-3-haiku-20240307-v1:0\n",
      "8    anthropic.claude-3-sonnet-20240229-v1:0\n",
      "Name: instance_type, dtype: object\n",
      "[2024-08-12 23:42:19,741] p31041 {4074166557.py:84} INFO - c=latency_, s=p50, col_to_delete=latency_p50, new_val=1.05, \n",
      "[2024-08-12 23:42:19,743] p31041 {4074166557.py:84} INFO - c=latency_, s=p95, col_to_delete=latency_p95, new_val=1.05, 1.05, \n",
      "[2024-08-12 23:42:19,744] p31041 {4074166557.py:84} INFO - c=latency_, s=p99, col_to_delete=latency_p99, new_val=1.05, 1.05, 1.05, \n",
      "[2024-08-12 23:42:19,744] p31041 {4074166557.py:89} INFO - new_col=latency p50, p95, p99, new_val=1.05, 1.05, 1.05\n",
      "[2024-08-12 23:42:19,745] p31041 {4074166557.py:89} INFO - new_col=TTF, new_val=\n",
      "[2024-08-12 23:42:19,746] p31041 {4074166557.py:89} INFO - new_col=TPO, new_val=\n",
      "[2024-08-12 23:42:19,749] p31041 {4074166557.py:116} INFO - TTFT metrics fields are not available, looks like no experiment had streaming enabled\n"
     ]
    },
    {
     "data": {
      "text/plain": [
       "'We did performance benchmarking for `Sonnet and Haiku on Amazon Bedrock` on \"`anthropic.claude-3-haiku-20240307-v1:0`, `anthropic.claude-3-sonnet-20240229-v1:0`\" on multiple datasets and based on the test results the best price performance for dataset `en_3000-4000` is provided by the `anthropic.claude-3-haiku-20240307-v1:0`.\\n\\n\\n| Information | Value |\\n|-----|-----|\\n| experiment_name | anthropic.claude-3-haiku-20240307-v1:0 |\\n| payload_file | payload_en_3000-4000.jsonl |\\n| instance_type | anthropic.claude-3-haiku-20240307-v1:0 |\\n| instance_count | 1.0 |\\n| concurrency | 1 |\\n| error_rate | 0.0 |\\n| prompt_token_count_mean | 4515 |\\n| prompt_token_throughput | 4589 |\\n| completion_token_count_mean | 64 |\\n| completion_token_throughput | 59 |\\n| transactions_per_minute | 60 |\\n| price_per_txn | 0.001209 |\\n| price_per_token | 0.00000026 |\\n| latency p50, p95, p99 | 1.05, 1.05, 1.05 |\\n| TTF |  |\\n| TPO |  |\\n\\n\\n\\nThe price performance comparison for different instance types is presented below. An interactive version of this chart is available [here](business_summary.html).\\n\\n![Price performance comparison](business_summary.png)\\n\\n### Latency Metrics Analysis\\n\\nThe following table provides token latency metrics including the overall latency, Time To First Token (TTFT), and Time Per Output Token (TPOT) for the `en_3000-4000` dataset.\\n\\n\\n_No token latency metrics data is available. To get token latency metrics enable streaming responses by setting `stream: True` in experiment configuration_.\\n\\n\\n### Failed experiments\\n\\n\\nAll experiments satisfied the configured performance criteria: `Latency` < `5s`, `cost per 10k transactions`: `$350`, `error rate`: `0`.\\n\\n\\n\\n\\n\\n\\n### Model evaluations\\n\\nModel evaluations were performed by a panel of 3 LLM judges: anthropic.claude-3-sonnet-20240229-v1:0, cohere.command-r-plus-v1:0, meta.llama3-70b-instruct-v1:0. Model outputs were compared with ground truth available in the dataset by the judge models. The following charts provide the results of model evaluations.\\n\\n    | judge_anthropic.claude-3-sonnet-20240229-v1:0_accuracy | judge_cohere.command-r-plus-v1:0_accuracy | judge_meta.llama3-70b-instruct-v1:0_accuracy | majority_voting_accuracy |\\n|-----|-----|-----|-----|\\n| 88.836 | 90.126 | 84.292 | 87.97999999999999 |\\n| 86.912 | 91.184 | 84.638 | 87.664 |\\n\\n    \\n    ![Overall model accuracy](overall_candidate_model_majority_voting_accuracy.png)  \\n    View an interactive version of the overall accuracy chart [here](overall_candidate_model_majority_voting_accuracy.html)\\n    ![Model accuracy trend across prompt sizes](accuracy_trajectory_per_payload.png)  \\n    View an interactive version of the accuracy trajectory chart [here](accuracy_trajectory_per_payload.html)\\n    \\n\\n### Endpoint metrics\\n\\nThe following table provides endpoint utilization and invocation metrics.\\n\\n_No endpoint metrics data is available_.\\n\\n### Configuration\\n\\nThe configuration used for these tests is available in the [`config`](#configuration-file) file.\\n\\n### Experiment cost\\n\\nThe cost to run each experiment is provided in the table below. The total cost for running all experiments is $2.71.\\n\\n\\n\\n| experiment_name | instance_type | instance_count | duration_in_seconds | cost |\\n|-----|-----|-----|-----|-----|\\n| anthropic.claude-3-sonnet-20240229-v1:0 | anthropic.claude-3-sonnet-20240229-v1:0 | nan | 790.86 | 2.504736 |\\n| anthropic.claude-3-haiku-20240307-v1:0 | anthropic.claude-3-haiku-20240307-v1:0 | nan | 273.82 | 0.206467 |\\n\\n\\n'"
      ]
     },
     "execution_count": 139,
     "metadata": {},
     "output_type": "execute_result"
    }
   ],
   "source": [
    "BUSINESS_SUMMARY: str = \"\"\"We did performance benchmarking for `{model_name}` on \"{instance_types}\" on multiple datasets and based on the test results the best price performance for dataset `{ds}` is provided by the `{selected_instance_type}`.\n",
    "\n",
    "{mkdn_table}\n",
    "\n",
    "The price performance comparison for different instance types is presented below. An interactive version of this chart is available [here]({business_summary_plot_interactive_fpath}).\n",
    "\n",
    "![Price performance comparison]({business_summary_plot_fpath})\n",
    "\n",
    "### Latency Metrics Analysis\n",
    "\n",
    "The following table provides token latency metrics including the overall latency, Time To First Token (TTFT), and Time Per Output Token (TPOT) for the `{ds}` dataset.\n",
    "\n",
    "{latency_metrics_table}\n",
    "\n",
    "### Failed experiments\n",
    "\n",
    "{failed_experiment_text}\n",
    "\n",
    "{failed_experiment_table}\n",
    "\n",
    "### Model evaluations\n",
    "\n",
    "{model_evaluation_text}\n",
    "\n",
    "### Endpoint metrics\n",
    "\n",
    "The following table provides endpoint utilization and invocation metrics.\n",
    "\n",
    "{endpoint_metrics_summarized_table}\n",
    "\n",
    "### Configuration\n",
    "\n",
    "The configuration used for these tests is available in the [`config`](#configuration-file) file.\n",
    "\n",
    "### Experiment cost\n",
    "\n",
    "The cost to run each experiment is provided in the table below. The total cost for running all experiments is {total_cost_as_str}.\n",
    "\n",
    "\n",
    "\n",
    "{cost_table}\n",
    "\n",
    "\"\"\"\n",
    "transposed_list = []\n",
    "logger.info(f\"df_summary_metrics_dataset_overall is: {df_summary_metrics_dataset_overall.columns}\")\n",
    "logger.info(f\"df_summary_metrics_dataset instance types: {df_summary_metrics_dataset.instance_type}\")\n",
    "best_instance_type_info = df_summary_metrics_dataset_overall.to_dict(orient='records')[0]\n",
    "cols_to_delete = [\"score\",\n",
    "                  \"score_dict\",\n",
    "                  \"any_criterion_failed\",\n",
    "                  \"latency_criterion_failed\",\n",
    "                  \"cost_per_txn_criterion_failed\",\n",
    "                  \"error_rate_criterion_failed\",\n",
    "                  \"error_rate_text\",\n",
    "                  \"latency_p95_text\",\n",
    "                  \"price_per_10k_txn_text\"]\n",
    "\n",
    "for c in cols_to_delete:\n",
    "    del best_instance_type_info[c]\n",
    "\n",
    "# we want to convert all the latency/TTFT/TTLT/TPOT columns into one single column\n",
    "# for e.g. latency mean|p50|p95|p99: 0.044 | 0.45 | 0.6 | 0.789\n",
    "latency_prefixes = ['latency_', 'TTFT_', 'TPOT_']\n",
    "latency_suffixes = [\"p50\", \"p95\", \"p99\"]\n",
    "latency_cols = []\n",
    "new_dict = {}\n",
    "for c in latency_prefixes:\n",
    "    # remove the underscore from the end\n",
    "    new_col = c[:-1] + ' '\n",
    "    new_val = ''\n",
    "    for s in latency_suffixes:\n",
    "        col_to_delete = c + s\n",
    "        # check if this key exists, it may not exist for some metric\n",
    "        # for example we dont keep p95 for TPOT only p50 and p99\n",
    "        if best_instance_type_info.get(col_to_delete) is None:\n",
    "            continue\n",
    "        new_col += s + \", \"\n",
    "        val = best_instance_type_info[col_to_delete]\n",
    "        # somewhere in the code mean has been rounded to 6\n",
    "        # cant find where, round it to 4\n",
    "        if s == \"mean\":\n",
    "            val = round(val, 4)\n",
    "        new_val += str(val) + \", \"\n",
    "        logger.info(f\"c={c}, s={s}, col_to_delete={col_to_delete}, new_val={new_val}\")\n",
    "        latency_cols.append(col_to_delete)\n",
    "    # remove the underscore from the end\n",
    "    new_col = new_col[:-2]\n",
    "    new_val = new_val[:-2]\n",
    "    logger.info(f\"new_col={new_col}, new_val={new_val}\")\n",
    "    new_dict[new_col] = new_val\n",
    "\n",
    "# we dont want a colum each for each combination of latency metric and suffix\n",
    "# we want all latency statistical summary metrics in a single row for ease of display\n",
    "# so now that we have it that way in a new dict so first delete those columns from\n",
    "# the old dictionary\n",
    "for c in latency_cols:\n",
    "    del best_instance_type_info[c]\n",
    "# now merge the new dict with the old dict\n",
    "best_instance_type_info = best_instance_type_info | new_dict\n",
    "#logger.info(f\"new_dict={new_dict}\")\n",
    "for k, v in best_instance_type_info.items():\n",
    "    transposed_list.append({\"Information\": k, \"Value\": v})\n",
    "mkdn_table = Tomark.table(transposed_list)\n",
    "\n",
    "\n",
    "# Define the prefixes and columns for latency-related metrics\n",
    "latency_index_cols = ['experiment_name', 'instance_type', 'concurrency']\n",
    "df_summary_latency_metrics_dataset = df_summary_metrics_dataset[latency_index_cols + latency_cols]\n",
    "latency_metrics_table = \"_No token latency metrics data is available. To get token latency metrics enable streaming responses by setting `stream: True` in experiment configuration_.\"\n",
    "if 'TTFT_p50' in df_summary_latency_metrics_dataset.columns:\n",
    "    if all(df_summary_latency_metrics_dataset.TTFT_p50.isnull()):\n",
    "        logger.info(f\"all TTFT metrics are null, so no token latency metrics are available\")        \n",
    "    else:\n",
    "        latency_metrics_table = Tomark.table(df_summary_latency_metrics_dataset.to_dict(orient='records'))\n",
    "else:\n",
    "    logger.info(f\"TTFT metrics fields are not available, looks like no experiment had streaming enabled\")        \n",
    "    \n",
    "    \n",
    "experiments_w_some_criterion_failed = df_summary_metrics_dataset.any_criterion_failed.sum()\n",
    "perf_criteria_text = f\"\"\"`Latency` < `{config['report']['latency_budget']}s`, `cost per 10k transactions`: `${config['report']['cost_per_10k_txn_budget']}`, `error rate`: `{config['report']['error_rate_budget']}`\"\"\"\n",
    "if experiments_w_some_criterion_failed > 0:\n",
    "    logger.info(f\"a total of {experiments_w_some_criterion_failed} experiment run(s) failed at least one criterion\")\n",
    "    failed_experiment_text = f\"\"\"There were a total of {experiments_w_some_criterion_failed} experiment run(s) that failed at least one configured performance criteria: {perf_criteria_text}. See table below.    \n",
    "    \"\"\"\n",
    "    failed_experiment_table = Tomark.table(df_summary_metrics_dataset[df_summary_metrics_dataset.any_criterion_failed == True][['experiment_name',\n",
    "                                         'payload_file',\n",
    "                                         'concurrency',\n",
    "                                         'error_rate_text',\n",
    "                                         'latency_p95_text',\n",
    "                                         'price_per_10k_txn_text']].to_dict('records'))\n",
    "else:\n",
    "    failed_experiment_text = f\"\"\"All experiments satisfied the configured performance criteria: {perf_criteria_text}.\"\"\"\n",
    "    failed_experiment_table = \"\"\n",
    "\n",
    "\n",
    "\n",
    "\n",
    "plural = \"s\" if len(df_summary_metrics.instance_type.unique()) > 1 else \"\"\n",
    "instance_types_md = \", \".join([f\"`{it}`\" for it in df_summary_metrics.instance_type.unique()])\n",
    "selected_instance_type: str = df_summary_metrics_dataset_overall.to_dict(orient='records')[0]['instance_type']\n",
    "ds: str = config['metrics']['dataset_of_interest']\n",
    "\n",
    "business_summary: str = BUSINESS_SUMMARY.format(model_name=config['general']['model_name'],\n",
    "                                                instance_types=instance_types_md,\n",
    "                                                plural=plural,\n",
    "                                                ds=ds,\n",
    "                                                selected_instance_type=selected_instance_type,\n",
    "                                                mkdn_table=\"\\n\" + mkdn_table + \"\\n\",\n",
    "                                                failed_experiment_text=\"\\n\" + failed_experiment_text + \"\\n\",\n",
    "                                                failed_experiment_table=\"\\n\" + failed_experiment_table + \"\\n\",\n",
    "                                                endpoint_metrics_summarized_table=endpoint_metrics_summarized_table,\n",
    "                                                latency_metrics_table=\"\\n\" + latency_metrics_table + \"\\n\",\n",
    "                                                cfg_file_path=os.path.basename(CONFIG_FILE),\n",
    "                                                business_summary_plot_fpath=BUSINESS_SUMMARY_PLOT_FNAME,\n",
    "                                                business_summary_plot_interactive_fpath=os.path.basename(business_summary_html_plot_fpath),\n",
    "                                                cost_table=cost_mkdn_table,\n",
    "                                                model_evaluation_text=model_evaluation_text,\n",
    "                                                total_cost_as_str=f\"${df_cost_metrics.cost.sum():.2f}\")\n",
    "business_summary"
   ]
  },
  {
   "cell_type": "code",
   "execution_count": 140,
   "metadata": {},
   "outputs": [
    {
     "name": "stderr",
     "output_type": "stream",
     "text": [
      "[2024-08-12 23:42:19,777] p31041 {4071145682.py:25} INFO - there are 1 options to choose the best option from for instance_type=anthropic.claude-3-haiku-20240307-v1:0, dataset=payload_en_1-500.jsonl\n",
      "[2024-08-12 23:42:19,781] p31041 {4071145682.py:25} INFO - there are 1 options to choose the best option from for instance_type=anthropic.claude-3-haiku-20240307-v1:0, dataset=payload_en_1000-2000.jsonl\n",
      "[2024-08-12 23:42:19,786] p31041 {4071145682.py:25} INFO - there are 1 options to choose the best option from for instance_type=anthropic.claude-3-haiku-20240307-v1:0, dataset=payload_en_2000-3000.jsonl\n",
      "[2024-08-12 23:42:19,790] p31041 {4071145682.py:25} INFO - there are 1 options to choose the best option from for instance_type=anthropic.claude-3-haiku-20240307-v1:0, dataset=payload_en_3000-4000.jsonl\n",
      "[2024-08-12 23:42:19,796] p31041 {4071145682.py:25} INFO - there are 1 options to choose the best option from for instance_type=anthropic.claude-3-haiku-20240307-v1:0, dataset=payload_en_500-1000.jsonl\n",
      "[2024-08-12 23:42:19,799] p31041 {4071145682.py:25} INFO - there are 1 options to choose the best option from for instance_type=anthropic.claude-3-sonnet-20240229-v1:0, dataset=payload_en_1-500.jsonl\n",
      "[2024-08-12 23:42:19,803] p31041 {4071145682.py:25} INFO - there are 1 options to choose the best option from for instance_type=anthropic.claude-3-sonnet-20240229-v1:0, dataset=payload_en_1000-2000.jsonl\n",
      "[2024-08-12 23:42:19,807] p31041 {4071145682.py:25} INFO - there are 1 options to choose the best option from for instance_type=anthropic.claude-3-sonnet-20240229-v1:0, dataset=payload_en_2000-3000.jsonl\n",
      "[2024-08-12 23:42:19,813] p31041 {4071145682.py:25} INFO - there are 1 options to choose the best option from for instance_type=anthropic.claude-3-sonnet-20240229-v1:0, dataset=payload_en_3000-4000.jsonl\n",
      "[2024-08-12 23:42:19,819] p31041 {4071145682.py:25} INFO - there are 1 options to choose the best option from for instance_type=anthropic.claude-3-sonnet-20240229-v1:0, dataset=payload_en_500-1000.jsonl\n",
      "[2024-08-12 23:42:19,832] p31041 {4071145682.py:93} INFO - writing final markdown to fmbench-bedrock-anthropic-models-SageMaker-ExecutionRole-20240111T084686/data/metrics/yyyy=2024/mm=08/dd=12/hh=22/mm=16\n",
      "[2024-08-12 23:42:19,834] p31041 {4071145682.py:95} INFO - \n",
      "# Results for performance benchmarking Sonnet and Haiku on Amazon Bedrock\n",
      "\n",
      "|**Last modified (UTC)** | **FMBench version**  |\n",
      "|---|---|\n",
      "|2024-08-12 23:42:19.773598|1.0.53.dev0|\n",
      "\n",
      "\n",
      "## Summary\n",
      "\n",
      "We did performance benchmarking for `Sonnet and Haiku on Amazon Bedrock` on \"`anthropic.claude-3-haiku-20240307-v1:0`, `anthropic.claude-3-sonnet-20240229-v1:0`\" on multiple datasets and based on the test results the best price performance for dataset `en_3000-4000` is provided by the `anthropic.claude-3-haiku-20240307-v1:0`.\n",
      "\n",
      "\n",
      "| Information | Value |\n",
      "|-----|-----|\n",
      "| experiment_name | anthropic.claude-3-haiku-20240307-v1:0 |\n",
      "| payload_file | payload_en_3000-4000.jsonl |\n",
      "| instance_type | anthropic.claude-3-haiku-20240307-v1:0 |\n",
      "| instance_count | 1.0 |\n",
      "| concurrency | 1 |\n",
      "| error_rate | 0.0 |\n",
      "| prompt_token_count_mean | 4515 |\n",
      "| prompt_token_throughput | 4589 |\n",
      "| completion_token_count_mean | 64 |\n",
      "| completion_token_throughput | 59 |\n",
      "| transactions_per_minute | 60 |\n",
      "| price_per_txn | 0.001209 |\n",
      "| price_per_token | 0.00000026 |\n",
      "| latency p50, p95, p99 | 1.05, 1.05, 1.05 |\n",
      "| TTF |  |\n",
      "| TPO |  |\n",
      "\n",
      "\n",
      "\n",
      "The price performance comparison for different instance types is presented below. An interactive version of this chart is available [here](business_summary.html).\n",
      "\n",
      "![Price performance comparison](business_summary.png)\n",
      "\n",
      "### Latency Metrics Analysis\n",
      "\n",
      "The following table provides token latency metrics including the overall latency, Time To First Token (TTFT), and Time Per Output Token (TPOT) for the `en_3000-4000` dataset.\n",
      "\n",
      "\n",
      "_No token latency metrics data is available. To get token latency metrics enable streaming responses by setting `stream: True` in experiment configuration_.\n",
      "\n",
      "\n",
      "### Failed experiments\n",
      "\n",
      "\n",
      "All experiments satisfied the configured performance criteria: `Latency` < `5s`, `cost per 10k transactions`: `$350`, `error rate`: `0`.\n",
      "\n",
      "\n",
      "\n",
      "\n",
      "\n",
      "\n",
      "### Model evaluations\n",
      "\n",
      "Model evaluations were performed by a panel of 3 LLM judges: anthropic.claude-3-sonnet-20240229-v1:0, cohere.command-r-plus-v1:0, meta.llama3-70b-instruct-v1:0. Model outputs were compared with ground truth available in the dataset by the judge models. The following charts provide the results of model evaluations.\n",
      "\n",
      "    | judge_anthropic.claude-3-sonnet-20240229-v1:0_accuracy | judge_cohere.command-r-plus-v1:0_accuracy | judge_meta.llama3-70b-instruct-v1:0_accuracy | majority_voting_accuracy |\n",
      "|-----|-----|-----|-----|\n",
      "| 88.836 | 90.126 | 84.292 | 87.97999999999999 |\n",
      "| 86.912 | 91.184 | 84.638 | 87.664 |\n",
      "\n",
      "    \n",
      "    ![Overall model accuracy](overall_candidate_model_majority_voting_accuracy.png)  \n",
      "    View an interactive version of the overall accuracy chart [here](overall_candidate_model_majority_voting_accuracy.html)\n",
      "    ![Model accuracy trend across prompt sizes](accuracy_trajectory_per_payload.png)  \n",
      "    View an interactive version of the accuracy trajectory chart [here](accuracy_trajectory_per_payload.html)\n",
      "    \n",
      "\n",
      "### Endpoint metrics\n",
      "\n",
      "The following table provides endpoint utilization and invocation metrics.\n",
      "\n",
      "_No endpoint metrics data is available_.\n",
      "\n",
      "### Configuration\n",
      "\n",
      "The configuration used for these tests is available in the [`config`](#configuration-file) file.\n",
      "\n",
      "### Experiment cost\n",
      "\n",
      "The cost to run each experiment is provided in the table below. The total cost for running all experiments is $2.71.\n",
      "\n",
      "\n",
      "\n",
      "| experiment_name | instance_type | instance_count | duration_in_seconds | cost |\n",
      "|-----|-----|-----|-----|-----|\n",
      "| anthropic.claude-3-sonnet-20240229-v1:0 | anthropic.claude-3-sonnet-20240229-v1:0 | nan | 790.86 | 2.504736 |\n",
      "| anthropic.claude-3-haiku-20240307-v1:0 | anthropic.claude-3-haiku-20240307-v1:0 | nan | 273.82 | 0.206467 |\n",
      "\n",
      "\n",
      "\n",
      "\n",
      "## Per instance results\n",
      "\n",
      "The following table provides the best combinations for running inference for different sizes prompts on different instance types. The following dataset(s) were used for this test: `2wikimqa_e.jsonl`, `2wikimqa.jsonl`, `hotpotqa_e.jsonl`, `hotpotqa.jsonl`, `narrativeqa.jsonl`, `triviaqa_e.jsonl`, `triviaqa.jsonl`.\n",
      "\n",
      "|Dataset   | Instance type   | Recommendation   |\n",
      "|---|---|---|\n",
      "|`payload_en_1-500.jsonl`|`anthropic.claude-3-haiku-20240307-v1:0`|The best option for staying within a latency budget of `5 seconds` on a `anthropic.claude-3-haiku-20240307-v1:0` for the `payload_en_1-500.jsonl` dataset is a `concurrency level of 1`. A concurrency level of 1 achieves an `median latency of 0.43 seconds`, for an `average prompt size of 299 tokens` and `completion size of 30 tokens` with `137 transactions/minute`.|\n",
      "|`payload_en_1000-2000.jsonl`|`anthropic.claude-3-haiku-20240307-v1:0`|The best option for staying within a latency budget of `5 seconds` on a `anthropic.claude-3-haiku-20240307-v1:0` for the `payload_en_1000-2000.jsonl` dataset is a `concurrency level of 1`. A concurrency level of 1 achieves an `median latency of 0.95 seconds`, for an `average prompt size of 2065 tokens` and `completion size of 64 tokens` with `67 transactions/minute`.|\n",
      "|`payload_en_2000-3000.jsonl`|`anthropic.claude-3-haiku-20240307-v1:0`|The best option for staying within a latency budget of `5 seconds` on a `anthropic.claude-3-haiku-20240307-v1:0` for the `payload_en_2000-3000.jsonl` dataset is a `concurrency level of 1`. A concurrency level of 1 achieves an `median latency of 1.04 seconds`, for an `average prompt size of 3164 tokens` and `completion size of 58 tokens` with `67 transactions/minute`.|\n",
      "|`payload_en_3000-4000.jsonl`|`anthropic.claude-3-haiku-20240307-v1:0`|The best option for staying within a latency budget of `5 seconds` on a `anthropic.claude-3-haiku-20240307-v1:0` for the `payload_en_3000-4000.jsonl` dataset is a `concurrency level of 1`. A concurrency level of 1 achieves an `median latency of 1.05 seconds`, for an `average prompt size of 4515 tokens` and `completion size of 64 tokens` with `60 transactions/minute`.|\n",
      "|`payload_en_500-1000.jsonl`|`anthropic.claude-3-haiku-20240307-v1:0`|The best option for staying within a latency budget of `5 seconds` on a `anthropic.claude-3-haiku-20240307-v1:0` for the `payload_en_500-1000.jsonl` dataset is a `concurrency level of 1`. A concurrency level of 1 achieves an `median latency of 0.79 seconds`, for an `average prompt size of 1277 tokens` and `completion size of 60 tokens` with `81 transactions/minute`.|\n",
      "|`payload_en_1-500.jsonl`|`anthropic.claude-3-sonnet-20240229-v1:0`|The best option for staying within a latency budget of `5 seconds` on a `anthropic.claude-3-sonnet-20240229-v1:0` for the `payload_en_1-500.jsonl` dataset is a `concurrency level of 1`. A concurrency level of 1 achieves an `median latency of 1.43 seconds`, for an `average prompt size of 299 tokens` and `completion size of 31 tokens` with `44 transactions/minute`.|\n",
      "|`payload_en_1000-2000.jsonl`|`anthropic.claude-3-sonnet-20240229-v1:0`|The best option for staying within a latency budget of `5 seconds` on a `anthropic.claude-3-sonnet-20240229-v1:0` for the `payload_en_1000-2000.jsonl` dataset is a `concurrency level of 1`. A concurrency level of 1 achieves an `median latency of 3.07 seconds`, for an `average prompt size of 2065 tokens` and `completion size of 72 tokens` with `22 transactions/minute`.|\n",
      "|`payload_en_2000-3000.jsonl`|`anthropic.claude-3-sonnet-20240229-v1:0`|The best option for staying within a latency budget of `5 seconds` on a `anthropic.claude-3-sonnet-20240229-v1:0` for the `payload_en_2000-3000.jsonl` dataset is a `concurrency level of 1`. A concurrency level of 1 achieves an `median latency of 3.47 seconds`, for an `average prompt size of 3164 tokens` and `completion size of 72 tokens` with `19 transactions/minute`.|\n",
      "|`payload_en_3000-4000.jsonl`|`anthropic.claude-3-sonnet-20240229-v1:0`|The best option for staying within a latency budget of `5 seconds` on a `anthropic.claude-3-sonnet-20240229-v1:0` for the `payload_en_3000-4000.jsonl` dataset is a `concurrency level of 1`. A concurrency level of 1 achieves an `median latency of 3.67 seconds`, for an `average prompt size of 4515 tokens` and `completion size of 69 tokens` with `17 transactions/minute`.|\n",
      "|`payload_en_500-1000.jsonl`|`anthropic.claude-3-sonnet-20240229-v1:0`|The best option for staying within a latency budget of `5 seconds` on a `anthropic.claude-3-sonnet-20240229-v1:0` for the `payload_en_500-1000.jsonl` dataset is a `concurrency level of 1`. A concurrency level of 1 achieves an `median latency of 1.93 seconds`, for an `average prompt size of 1277 tokens` and `completion size of 59 tokens` with `32 transactions/minute`.|\n",
      "\n",
      "## Plots\n",
      "\n",
      "The following plots provide insights into the results from the different experiments run.\n",
      "\n",
      "![Error rates for different concurrency levels and instance types](error_rates.png)\n",
      "\n",
      "![Tokens vs latency for different concurrency levels and instance types](tokens_vs_latency.png)\n",
      "\n",
      "![Concurrency Vs latency for different instance type for selected dataset](concurrency_vs_inference_latency.png)\n",
      "\n",
      "\n",
      "\n",
      "## Configuration file\n",
      "```.bash\n",
      "aws:\n",
      "  bucket: sagemaker-fmbench-write-us-east-1-015469603702\n",
      "  region: us-east-1\n",
      "  sagemaker_execution_role: arn:aws:iam::015469603702:role/SageMaker-ExecutionRole-20240111T084686\n",
      "datasets:\n",
      "  filters:\n",
      "  - language: en\n",
      "    max_length_in_tokens: 500\n",
      "    min_length_in_tokens: 1\n",
      "    payload_file: payload_en_1-500.jsonl\n",
      "  - language: en\n",
      "    max_length_in_tokens: 1000\n",
      "    min_length_in_tokens: 500\n",
      "    payload_file: payload_en_500-1000.jsonl\n",
      "  - language: en\n",
      "    max_length_in_tokens: 2000\n",
      "    min_length_in_tokens: 1000\n",
      "    payload_file: payload_en_1000-2000.jsonl\n",
      "  - language: en\n",
      "    max_length_in_tokens: 3000\n",
      "    min_length_in_tokens: 2000\n",
      "    payload_file: payload_en_2000-3000.jsonl\n",
      "  - language: en\n",
      "    max_length_in_tokens: 4000\n",
      "    min_length_in_tokens: 3000\n",
      "    payload_file: payload_en_3000-4000.jsonl\n",
      "  - language: en\n",
      "    max_length_in_tokens: 3997\n",
      "    min_length_in_tokens: 305\n",
      "    payload_file: payload_en_305-3997.jsonl\n",
      "  ground_truth_col_key: answers\n",
      "  prompt_template_keys:\n",
      "  - input\n",
      "  - context\n",
      "  question_col_key: input\n",
      "dir_paths:\n",
      "  all_prompts_file: all_prompts.csv\n",
      "  data_prefix: data\n",
      "  metadata_dir: metadata\n",
      "  metrics_dir: metrics\n",
      "  models_dir: models\n",
      "  prompts_prefix: prompts\n",
      "experiments:\n",
      "- bucket: sagemaker-fmbench-write-us-east-1-015469603702\n",
      "  concurrency_levels:\n",
      "  - 1\n",
      "  env: null\n",
      "  ep_name: anthropic.claude-3-sonnet-20240229-v1:0\n",
      "  inference_script: bedrock_predictor.py\n",
      "  inference_spec:\n",
      "    parameter_set: bedrock\n",
      "    parameters:\n",
      "      caching: false\n",
      "      max_tokens: 100\n",
      "      temperature: 0.1\n",
      "      top_p: 0.92\n",
      "    split_input_and_parameters: false\n",
      "  instance_count: null\n",
      "  instance_type: anthropic.claude-3-sonnet-20240229-v1:0\n",
      "  model_name: anthropic.claude-3-sonnet-20240229-v1:0\n",
      "  name: anthropic.claude-3-sonnet-20240229-v1:0\n",
      "  payload_files:\n",
      "  - payload_en_1-500.jsonl\n",
      "  - payload_en_500-1000.jsonl\n",
      "  - payload_en_1000-2000.jsonl\n",
      "  - payload_en_2000-3000.jsonl\n",
      "  - payload_en_3000-4000.jsonl\n",
      "- bucket: sagemaker-fmbench-write-us-east-1-015469603702\n",
      "  concurrency_levels:\n",
      "  - 1\n",
      "  env: null\n",
      "  ep_name: anthropic.claude-3-haiku-20240307-v1:0\n",
      "  inference_script: bedrock_predictor.py\n",
      "  inference_spec:\n",
      "    parameter_set: bedrock\n",
      "    parameters:\n",
      "      caching: false\n",
      "      max_tokens: 100\n",
      "      temperature: 0.1\n",
      "      top_p: 0.92\n",
      "    split_input_and_parameters: false\n",
      "  instance_count: null\n",
      "  instance_type: anthropic.claude-3-haiku-20240307-v1:0\n",
      "  model_name: anthropic.claude-3-haiku-20240307-v1:0\n",
      "  name: anthropic.claude-3-haiku-20240307-v1:0\n",
      "  payload_files:\n",
      "  - payload_en_1-500.jsonl\n",
      "  - payload_en_500-1000.jsonl\n",
      "  - payload_en_1000-2000.jsonl\n",
      "  - payload_en_2000-3000.jsonl\n",
      "  - payload_en_3000-4000.jsonl\n",
      "general:\n",
      "  model_name: Sonnet and Haiku on Amazon Bedrock\n",
      "  name: fmbench-bedrock-anthropic-models\n",
      "inference_parameters:\n",
      "  bedrock:\n",
      "    caching: false\n",
      "    max_tokens: 100\n",
      "    temperature: 0.1\n",
      "    top_p: 0.92\n",
      "metrics:\n",
      "  dataset_of_interest: en_3000-4000\n",
      "model_evaluations: model_eval_all_info.yml\n",
      "pricing: pricing.yml\n",
      "report:\n",
      "  all_metrics_file: all_metrics.csv\n",
      "  cost_per_10k_txn_budget: 350\n",
      "  error_rate_budget: 0\n",
      "  latency_budget: 5\n",
      "  per_inference_request_file: per_inference_request_results.csv\n",
      "  txn_count_for_showing_cost: 10000\n",
      "  v_shift_w_gt_one_instance: 0.025\n",
      "  v_shift_w_single_instance: 0.025\n",
      "run_steps:\n",
      "  0_setup.ipynb: false\n",
      "  1_generate_data.ipynb: false\n",
      "  2_deploy_model.ipynb: false\n",
      "  3_run_inference.ipynb: false\n",
      "  4_get_evaluations.ipynb: false\n",
      "  5_model_metric_analysis.ipynb: true\n",
      "  6_cleanup.ipynb: false\n",
      "s3_read_data:\n",
      "  config_files:\n",
      "  - pricing.yml\n",
      "  configs_prefix: configs\n",
      "  prompt_template_dir: prompt_template\n",
      "  prompt_template_file: prompt_template_claude.txt\n",
      "  read_bucket: sagemaker-fmbench-read-us-east-1-015469603702\n",
      "  script_files:\n",
      "  - hf_token.txt\n",
      "  scripts_prefix: scripts\n",
      "  source_data_files:\n",
      "  - 2wikimqa_e.jsonl\n",
      "  - 2wikimqa.jsonl\n",
      "  - hotpotqa_e.jsonl\n",
      "  - hotpotqa.jsonl\n",
      "  - narrativeqa.jsonl\n",
      "  - triviaqa_e.jsonl\n",
      "  - triviaqa.jsonl\n",
      "  source_data_prefix: source_data\n",
      "  tokenizer_prefix: tokenizer\n",
      "\n",
      "```\n",
      "\n",
      "[2024-08-12 23:42:19,961] p31041 {4071145682.py:99} INFO - results.md file saved to to s3://sagemaker-fmbench-write-us-east-1-015469603702/fmbench-bedrock-anthropic-models-SageMaker-ExecutionRole-20240111T084686/data/metrics/yyyy=2024/mm=08/dd=12/hh=22/mm=16/report.md\n"
     ]
    }
   ],
   "source": [
    "from typing import Optional\n",
    "dttm = str(datetime.utcnow())\n",
    "datasets_used = \", \".join([f\"`{d}`\" for d in config['s3_read_data']['source_data_files']])\n",
    "title = config['report'].get('title',\n",
    "                             f\"Results for performance benchmarking {config['general']['model_name']}\")\n",
    "overall_results_md = OVERALL_RESULTS_MD.format(title=title,\n",
    "                                               dttm=dttm,\n",
    "                                               fmbench_version=fmbench_version,\n",
    "                                               business_summary=business_summary, \n",
    "                                               datasets=datasets_used)\n",
    "results_group_cols: List[str] = ['instance_type', 'payload_file']\n",
    "result_rows: List[str] = []\n",
    "latency_budget: int = config['report'].get('latency_budget',\n",
    "                                           LATENCY_BUDGET)\n",
    "\n",
    "for row in df_summary_metrics[results_group_cols].drop_duplicates().iterrows():\n",
    "    instance_type = row[1]['instance_type']\n",
    "    dataset = row[1]['payload_file']\n",
    "    df_summary_metrics_nz_subset = df_summary_metrics_nz[(df_summary_metrics_nz.instance_type == instance_type) &\n",
    "                                                          (df_summary_metrics_nz.payload_file == dataset) &\n",
    "                                                           (df_summary_metrics_nz.latency_p95 <= latency_budget)]\n",
    "    num_results = df_summary_metrics_nz_subset.shape[0]\n",
    "    result_row: Optional[str] = None\n",
    "    if num_results > 0:\n",
    "        logger.info(f\"there are {num_results} options to choose the best option from for instance_type={instance_type}, dataset={dataset}\")\n",
    "        df_summary_metrics_nz_subset_selected = df_summary_metrics_nz_subset[df_summary_metrics_nz_subset.concurrency == df_summary_metrics_nz_subset.concurrency.max()]\n",
    "        best = df_summary_metrics_nz_subset_selected.to_dict(orient='records')[0]\n",
    "        best_instance_type= best['instance_type']\n",
    "        # logger.info(best)\n",
    "        result_desc = RESULT_DESC.format(latency_budget=latency_budget,\n",
    "                           instance_type=best_instance_type,\n",
    "                           dataset=dataset,\n",
    "                           concurrency=best['concurrency'],\n",
    "                           latency_median=best['latency_p50'],\n",
    "                           prompt_size=int(best['prompt_token_count_mean']),\n",
    "                           completion_size=int(best['completion_token_count_mean']),\n",
    "                           tpm=int(best['transactions_per_minute']))     \n",
    "\n",
    "    else:\n",
    "        logger.info(f\"there are NO options to choose from for instance_type={instance_type}, dataset={dataset}\")\n",
    "        best_instance_type= instance_type\n",
    "        result_desc = RESULT_FAILURE_DESC.format(latency_budget=latency_budget,\n",
    "                                                 instance_type=instance_type,\n",
    "                                                 dataset=dataset)\n",
    "    result_row: str = RESULT_ROW.format(instance_type=best_instance_type,\n",
    "                                        dataset=dataset,\n",
    "                                        desc=result_desc)\n",
    "    result_rows.append(result_row)\n",
    "\n",
    "overall_results_md += \"\\n\".join(result_rows)\n",
    "\n",
    "OVERALL_RESULTS_PLOTS_MD: str = \"\"\"\n",
    "\n",
    "## Plots\n",
    "\n",
    "The following plots provide insights into the results from the different experiments run.\n",
    "\n",
    "![{plot1_text}]({plot1_fname})\n",
    "\n",
    "![{plot2_text}]({plot2_fname})\n",
    "\n",
    "![{plot3_text}]({plot3_fname})\n",
    "\"\"\"\n",
    "\n",
    "overall_results_plots_md: str = OVERALL_RESULTS_PLOTS_MD.format(plot1_text=ERROR_RATES_PLOT_TEXT, \n",
    "                                                                plot1_fname=ERROR_RATES_PLOT_FNAME,\n",
    "                                                                plot2_text=TOKENS_VS_LATENCY_PLOT_TEXT, \n",
    "                                                                plot2_fname=TOKENS_VS_LATENCY_PLOT_FNAME,\n",
    "                                                                plot3_text=CONCURRENCY_VS_INFERENCE_LATENCY_PLOT_TEXT, \n",
    "                                                                plot3_fname=CONCURRENCY_VS_INFERENCE_LATENCY_PLOT_FNAME)\n",
    "\n",
    "overall_results_md += overall_results_plots_md\n",
    "\n",
    "# dump the config file at the end so that there is a record of what \n",
    "# we tested with\n",
    "# write the config file in the results directory for record sake\n",
    "import yaml\n",
    "class VerboseSafeDumper(yaml.SafeDumper):\n",
    "    def ignore_aliases(self, data):\n",
    "        return True\n",
    "\n",
    "config_yml = yaml.dump(config, Dumper=VerboseSafeDumper)\n",
    "config_dump = f\"\"\"\\n\\n\n",
    "## Configuration file\n",
    "```.bash\n",
    "{config_yml}\n",
    "```\n",
    "\"\"\"\n",
    "overall_results_md += config_dump\n",
    "\n",
    "\n",
    "fpath: str = os.path.join(METRICS_DIR, RESULTS_DESC_MD_FNAME)\n",
    "logger.info(f\"writing final markdown to {METRICS_DIR}\")\n",
    "Path(fpath).write_text(overall_results_md)\n",
    "logger.info(overall_results_md)\n",
    "\n",
    "# Write the CSV data to S3\n",
    "write_to_s3(overall_results_md, BUCKET_NAME, \"\", METRICS_DIR, RESULTS_DESC_MD_FNAME)\n",
    "logger.info(f\"results.md file saved to to s3://{BUCKET_NAME}/{METRICS_DIR}/{RESULTS_DESC_MD_FNAME}\")"
   ]
  },
  {
   "cell_type": "code",
   "execution_count": 141,
   "metadata": {
    "tags": []
   },
   "outputs": [
    {
     "name": "stderr",
     "output_type": "stream",
     "text": [
      "[2024-08-12 23:42:30,008] p31041 {3951884529.py:10} INFO - saving config yaml in file results-fmbench-bedrock-anthropic-models/config-bedrock-haiku-sonnet-majority-voting.yml\n",
      "[2024-08-12 23:42:30,012] p31041 {3951884529.py:13} INFO - going to download all metrics and reports from s3 into results-fmbench-bedrock-anthropic-models directory\n",
      "[2024-08-12 23:42:30,013] p31041 {utils.py:375} INFO - download_multiple_files_from_s3, bucket_name=sagemaker-fmbench-write-us-east-1-015469603702, prefix=fmbench-bedrock-anthropic-models-SageMaker-ExecutionRole-20240111T084686/data/metrics/yyyy=2024/mm=08/dd=12/hh=22/mm=16, local_dir=results-fmbench-bedrock-anthropic-models\n",
      "[2024-08-12 23:42:30,554] p31041 {utils.py:319} INFO - found 1000 items in bucket=sagemaker-fmbench-write-us-east-1-015469603702, prefix=fmbench-bedrock-anthropic-models-SageMaker-ExecutionRole-20240111T084686/data/metrics/yyyy=2024/mm=08/dd=12/hh=22/mm=16, suffix=None\n",
      "[2024-08-12 23:42:30,591] p31041 {utils.py:319} INFO - found 1132 items in bucket=sagemaker-fmbench-write-us-east-1-015469603702, prefix=fmbench-bedrock-anthropic-models-SageMaker-ExecutionRole-20240111T084686/data/metrics/yyyy=2024/mm=08/dd=12/hh=22/mm=16, suffix=None\n",
      "[2024-08-12 23:42:30,592] p31041 {utils.py:324} INFO - there are total of 1132 items in bucket=sagemaker-fmbench-write-us-east-1-015469603702, prefix=fmbench-bedrock-anthropic-models-SageMaker-ExecutionRole-20240111T084686/data/metrics/yyyy=2024/mm=08/dd=12/hh=22/mm=16, suffix=None\n",
      "[2024-08-12 23:43:37,241] p31041 {3951884529.py:17} INFO - results-fmbench-bedrock-anthropic-models/\n",
      "results-fmbench-bedrock-anthropic-models/config-bedrock-haiku-sonnet-majority-voting.yml\n",
      "results-fmbench-bedrock-anthropic-models/PoLL_per_model_accuracy.csv\n",
      "results-fmbench-bedrock-anthropic-models/summary_metrics_for_dataset_w_scores.csv\n",
      "results-fmbench-bedrock-anthropic-models/accuracy_trajectory_per_payload.html\n",
      "results-fmbench-bedrock-anthropic-models/verdict_type_breakdown_for_incorrect.csv\n",
      "results-fmbench-bedrock-anthropic-models/accuracy_trajectory_per_payload.png\n",
      "results-fmbench-bedrock-anthropic-models/all_judges_evals.txt\n",
      "results-fmbench-bedrock-anthropic-models/all_metrics.csv\n",
      "results-fmbench-bedrock-anthropic-models/all_metrics_summary.csv\n",
      "results-fmbench-bedrock-anthropic-models/processed_eval_prompts_for_inference.csv\n",
      "results-fmbench-bedrock-anthropic-models/anthropic.claude-3-sonnet-20240229-v1:0_correct_verdicts_evaluation.txt\n",
      "results-fmbench-bedrock-anthropic-models/per_inference_quantitative_eval_metrics.csv\n",
      "results-fmbench-bedrock-anthropic-models/anthropic.claude-3-sonnet-20240229-v1:0_incorrect_verdicts_evaluation.txt\n",
      "results-fmbench-bedrock-anthropic-models/per_chunk\n",
      "results-fmbench-bedrock-anthropic-models/per_chunk/1723501118.603501.json\n",
      "results-fmbench-bedrock-anthropic-models/per_chunk/1723500991.5307467.json\n",
      "results-fmbench-bedrock-anthropic-models/per_chunk/1723501115.7505372.json\n",
      "results-fmbench-bedrock-anthropic-models/per_chunk/1723500992.7676091.json\n",
      "results-fmbench-bedrock-anthropic-models/per_chunk/1723501123.3478584.json\n",
      "results-fmbench-bedrock-anthropic-models/per_chunk/1723500995.2142246.json\n",
      "results-fmbench-bedrock-anthropic-models/per_chunk/1723501126.652198.json\n",
      "results-fmbench-bedrock-anthropic-models/per_chunk/1723500996.764991.json\n",
      "results-fmbench-bedrock-anthropic-models/per_chunk/1723501129.4862964.json\n",
      "results-fmbench-bedrock-anthropic-models/per_chunk/1723500998.1619127.json\n",
      "results-fmbench-bedrock-anthropic-models/per_chunk/1723501146.8256946.json\n",
      "results-fmbench-bedrock-anthropic-models/per_chunk/1723501000.5782933.json\n",
      "results-fmbench-bedrock-anthropic-models/per_chunk/1723501148.412743.json\n",
      "results-fmbench-bedrock-anthropic-models/per_chunk/1723501002.3173199.json\n",
      "results-fmbench-bedrock-anthropic-models/per_chunk/1723501151.4333994.json\n",
      "results-fmbench-bedrock-anthropic-models/per_chunk/1723501004.164064.json\n",
      "results-fmbench-bedrock-anthropic-models/per_chunk/1723501156.556597.json\n",
      "results-fmbench-bedrock-anthropic-models/per_chunk/1723501007.375837.json\n",
      "results-fmbench-bedrock-anthropic-models/per_chunk/1723501160.7943063.json\n",
      "results-fmbench-bedrock-anthropic-models/per_chunk/1723501009.2710006.json\n",
      "results-fmbench-bedrock-anthropic-models/per_chunk/1723501164.8901935.json\n",
      "results-fmbench-bedrock-anthropic-models/per_chunk/1723501012.882285.json\n",
      "results-fmbench-bedrock-anthropic-models/per_chunk/1723501169.2271616.json\n",
      "results-fmbench-bedrock-anthropic-models/per_chunk/1723501015.594848.json\n",
      "results-fmbench-bedrock-anthropic-models/per_chunk/1723501172.0926483.json\n",
      "results-fmbench-bedrock-anthropic-models/per_chunk/1723501018.743216.json\n",
      "results-fmbench-bedrock-anthropic-models/per_chunk/1723501178.3400834.json\n",
      "results-fmbench-bedrock-anthropic-models/per_chunk/1723501021.6201136.json\n",
      "results-fmbench-bedrock-anthropic-models/per_chunk/1723501181.5403583.json\n",
      "results-fmbench-bedrock-anthropic-models/per_chunk/1723501024.6015854.json\n",
      "results-fmbench-bedrock-anthropic-models/per_chunk/1723501183.5217636.json\n",
      "results-fmbench-bedrock-anthropic-models/per_chunk/1723501027.2682655.json\n",
      "results-fmbench-bedrock-anthropic-models/per_chunk/1723501185.750454.json\n",
      "results-fmbench-bedrock-anthropic-models/per_chunk/1723501034.3479297.json\n",
      "results-fmbench-bedrock-anthropic-models/per_chunk/1723501189.948289.json\n",
      "results-fmbench-bedrock-anthropic-models/per_chunk/1723501036.823006.json\n",
      "results-fmbench-bedrock-anthropic-models/per_chunk/1723501194.986975.json\n",
      "results-fmbench-bedrock-anthropic-models/per_chunk/1723501042.3312652.json\n",
      "results-fmbench-bedrock-anthropic-models/per_chunk/1723501198.0142388.json\n",
      "results-fmbench-bedrock-anthropic-models/per_chunk/1723501045.648235.json\n",
      "results-fmbench-bedrock-anthropic-models/per_chunk/1723501202.653923.json\n",
      "results-fmbench-bedrock-anthropic-models/per_chunk/1723501047.8474798.json\n",
      "results-fmbench-bedrock-anthropic-models/per_chunk/1723501208.8557317.json\n",
      "results-fmbench-bedrock-anthropic-models/per_chunk/1723501051.3584778.json\n",
      "results-fmbench-bedrock-anthropic-models/per_chunk/1723501211.4523478.json\n",
      "results-fmbench-bedrock-anthropic-models/per_chunk/1723501054.581464.json\n",
      "results-fmbench-bedrock-anthropic-models/per_chunk/1723501218.9905758.json\n",
      "results-fmbench-bedrock-anthropic-models/per_chunk/1723501056.8430574.json\n",
      "results-fmbench-bedrock-anthropic-models/per_chunk/1723501222.199796.json\n",
      "results-fmbench-bedrock-anthropic-models/per_chunk/1723501059.4601.json\n",
      "results-fmbench-bedrock-anthropic-models/per_chunk/1723501225.2006092.json\n",
      "results-fmbench-bedrock-anthropic-models/per_chunk/1723501061.8000607.json\n",
      "results-fmbench-bedrock-anthropic-models/per_chunk/1723501228.7640665.json\n",
      "results-fmbench-bedrock-anthropic-models/per_chunk/1723501064.3421297.json\n",
      "results-fmbench-bedrock-anthropic-models/per_chunk/1723501232.2055197.json\n",
      "results-fmbench-bedrock-anthropic-models/per_chunk/1723501066.8745682.json\n",
      "results-fmbench-bedrock-anthropic-models/per_chunk/1723501236.1969535.json\n",
      "results-fmbench-bedrock-anthropic-models/per_chunk/1723501069.627749.json\n",
      "results-fmbench-bedrock-anthropic-models/per_chunk/1723501240.0628333.json\n",
      "results-fmbench-bedrock-anthropic-models/per_chunk/1723501073.8374512.json\n",
      "results-fmbench-bedrock-anthropic-models/per_chunk/1723501241.868084.json\n",
      "results-fmbench-bedrock-anthropic-models/per_chunk/1723501075.31829.json\n",
      "results-fmbench-bedrock-anthropic-models/per_chunk/1723501243.867852.json\n",
      "results-fmbench-bedrock-anthropic-models/per_chunk/1723501077.8901427.json\n",
      "results-fmbench-bedrock-anthropic-models/per_chunk/1723501246.6505408.json\n",
      "results-fmbench-bedrock-anthropic-models/per_chunk/1723501080.054231.json\n",
      "results-fmbench-bedrock-anthropic-models/per_chunk/1723501249.4119892.json\n",
      "results-fmbench-bedrock-anthropic-models/per_chunk/1723501082.0874035.json\n",
      "results-fmbench-bedrock-anthropic-models/per_chunk/1723501252.2882347.json\n",
      "results-fmbench-bedrock-anthropic-models/per_chunk/1723501086.9685416.json\n",
      "results-fmbench-bedrock-anthropic-models/per_chunk/1723501255.6152437.json\n",
      "results-fmbench-bedrock-anthropic-models/per_chunk/1723501089.4722047.json\n",
      "results-fmbench-bedrock-anthropic-models/per_chunk/1723501259.2464287.json\n",
      "results-fmbench-bedrock-anthropic-models/per_chunk/1723501092.903952.json\n",
      "results-fmbench-bedrock-anthropic-models/per_chunk/1723501262.6714928.json\n",
      "results-fmbench-bedrock-anthropic-models/per_chunk/1723501100.385132.json\n",
      "results-fmbench-bedrock-anthropic-models/per_chunk/1723501268.9425697.json\n",
      "results-fmbench-bedrock-anthropic-models/per_chunk/1723501106.9323924.json\n",
      "results-fmbench-bedrock-anthropic-models/per_chunk/1723501274.5953155.json\n",
      "results-fmbench-bedrock-anthropic-models/per_chunk/1723501111.1452143.json\n",
      "results-fmbench-bedrock-anthropic-models/per_chunk/1723501279.7792494.json\n",
      "results-fmbench-bedrock-anthropic-models/per_chunk/1723501113.4741645.json\n",
      "results-fmbench-bedrock-anthropic-models/per_chunk/1723501132.3823655.json\n",
      "results-fmbench-bedrock-anthropic-models/per_chunk/1723501281.6361692.json\n",
      "results-fmbench-bedrock-anthropic-models/per_chunk/1723501135.2478597.json\n",
      "results-fmbench-bedrock-anthropic-models/per_chunk/1723501285.6166334.json\n",
      "results-fmbench-bedrock-anthropic-models/per_chunk/1723501138.816821.json\n",
      "results-fmbench-bedrock-anthropic-models/per_chunk/1723501287.827931.json\n",
      "results-fmbench-bedrock-anthropic-models/per_chunk/1723501141.6761522.json\n",
      "results-fmbench-bedrock-anthropic-models/per_chunk/1723501291.331064.json\n",
      "results-fmbench-bedrock-anthropic-models/per_chunk/1723501293.5166564.json\n",
      "results-fmbench-bedrock-anthropic-models/per_chunk/1723501296.859269.json\n",
      "results-fmbench-bedrock-anthropic-models/per_chunk/1723501301.932109.json\n",
      "results-fmbench-bedrock-anthropic-models/per_chunk/1723501304.3892415.json\n",
      "results-fmbench-bedrock-anthropic-models/per_chunk/1723501307.964907.json\n",
      "results-fmbench-bedrock-anthropic-models/per_chunk/1723501315.0045342.json\n",
      "results-fmbench-bedrock-anthropic-models/per_chunk/1723501321.2802684.json\n",
      "results-fmbench-bedrock-anthropic-models/per_chunk/1723501325.5340524.json\n",
      "results-fmbench-bedrock-anthropic-models/per_chunk/1723501329.598802.json\n",
      "results-fmbench-bedrock-anthropic-models/per_chunk/1723501332.923056.json\n",
      "results-fmbench-bedrock-anthropic-models/per_chunk/1723501336.542003.json\n",
      "results-fmbench-bedrock-anthropic-models/per_chunk/1723501338.2615855.json\n",
      "results-fmbench-bedrock-anthropic-models/per_chunk/1723501341.3107963.json\n",
      "results-fmbench-bedrock-anthropic-models/per_chunk/1723501344.2495878.json\n",
      "results-fmbench-bedrock-anthropic-models/per_chunk/1723501350.2545657.json\n",
      "results-fmbench-bedrock-anthropic-models/per_chunk/1723501355.2223482.json\n",
      "results-fmbench-bedrock-anthropic-models/per_chunk/1723501358.3930764.json\n",
      "results-fmbench-bedrock-anthropic-models/per_chunk/1723501363.4717708.json\n",
      "results-fmbench-bedrock-anthropic-models/per_chunk/1723501366.0563257.json\n",
      "results-fmbench-bedrock-anthropic-models/per_chunk/1723501369.4301803.json\n",
      "results-fmbench-bedrock-anthropic-models/per_chunk/1723501373.6718488.json\n",
      "results-fmbench-bedrock-anthropic-models/per_chunk/1723501376.4505475.json\n",
      "results-fmbench-bedrock-anthropic-models/per_chunk/1723501381.817306.json\n",
      "results-fmbench-bedrock-anthropic-models/per_chunk/1723501385.713247.json\n",
      "results-fmbench-bedrock-anthropic-models/per_chunk/1723501389.7197301.json\n",
      "results-fmbench-bedrock-anthropic-models/per_chunk/1723501394.6670883.json\n",
      "results-fmbench-bedrock-anthropic-models/per_chunk/1723501397.77063.json\n",
      "results-fmbench-bedrock-anthropic-models/per_chunk/1723501400.5935209.json\n",
      "results-fmbench-bedrock-anthropic-models/per_chunk/1723501404.1565146.json\n",
      "results-fmbench-bedrock-anthropic-models/per_chunk/1723501407.0957897.json\n",
      "results-fmbench-bedrock-anthropic-models/per_chunk/1723501411.630222.json\n",
      "results-fmbench-bedrock-anthropic-models/per_chunk/1723501417.4163237.json\n",
      "results-fmbench-bedrock-anthropic-models/per_chunk/1723501420.776452.json\n",
      "results-fmbench-bedrock-anthropic-models/per_chunk/1723501428.3740673.json\n",
      "results-fmbench-bedrock-anthropic-models/per_chunk/1723501432.997879.json\n",
      "results-fmbench-bedrock-anthropic-models/per_chunk/1723501436.76815.json\n",
      "results-fmbench-bedrock-anthropic-models/per_chunk/1723501442.6666358.json\n",
      "results-fmbench-bedrock-anthropic-models/per_chunk/1723501449.4903486.json\n",
      "results-fmbench-bedrock-anthropic-models/per_chunk/1723501454.7729683.json\n",
      "results-fmbench-bedrock-anthropic-models/per_chunk/1723501461.1924965.json\n",
      "results-fmbench-bedrock-anthropic-models/per_chunk/1723501466.088082.json\n",
      "results-fmbench-bedrock-anthropic-models/per_chunk/1723501469.0591695.json\n",
      "results-fmbench-bedrock-anthropic-models/per_chunk/1723501471.9146621.json\n",
      "results-fmbench-bedrock-anthropic-models/per_chunk/1723501476.4591827.json\n",
      "results-fmbench-bedrock-anthropic-models/per_chunk/1723501479.1076825.json\n",
      "results-fmbench-bedrock-anthropic-models/per_chunk/1723501483.2580855.json\n",
      "results-fmbench-bedrock-anthropic-models/per_chunk/1723501486.6866689.json\n",
      "results-fmbench-bedrock-anthropic-models/per_chunk/1723501489.6533468.json\n",
      "results-fmbench-bedrock-anthropic-models/per_chunk/1723501492.571257.json\n",
      "results-fmbench-bedrock-anthropic-models/per_chunk/1723501495.9803855.json\n",
      "results-fmbench-bedrock-anthropic-models/per_chunk/1723501504.3383055.json\n",
      "results-fmbench-bedrock-anthropic-models/per_chunk/1723501508.939838.json\n",
      "results-fmbench-bedrock-anthropic-models/per_chunk/1723501512.8100898.json\n",
      "results-fmbench-bedrock-anthropic-models/per_chunk/1723501515.9885497.json\n",
      "results-fmbench-bedrock-anthropic-models/per_chunk/1723501519.9275413.json\n",
      "results-fmbench-bedrock-anthropic-models/per_chunk/1723501524.0757256.json\n",
      "results-fmbench-bedrock-anthropic-models/per_chunk/1723501528.5716984.json\n",
      "results-fmbench-bedrock-anthropic-models/per_chunk/1723501537.9147637.json\n",
      "results-fmbench-bedrock-anthropic-models/per_chunk/1723501541.0626388.json\n",
      "results-fmbench-bedrock-anthropic-models/per_chunk/1723501546.6895666.json\n",
      "results-fmbench-bedrock-anthropic-models/per_chunk/1723501551.9749596.json\n",
      "results-fmbench-bedrock-anthropic-models/per_chunk/1723501555.1856017.json\n",
      "results-fmbench-bedrock-anthropic-models/per_chunk/1723501560.0117023.json\n",
      "results-fmbench-bedrock-anthropic-models/per_chunk/1723501564.7525532.json\n",
      "results-fmbench-bedrock-anthropic-models/per_chunk/1723501567.6536977.json\n",
      "results-fmbench-bedrock-anthropic-models/per_chunk/1723501571.0922468.json\n",
      "results-fmbench-bedrock-anthropic-models/per_chunk/1723501574.0490468.json\n",
      "results-fmbench-bedrock-anthropic-models/per_chunk/1723501577.7531426.json\n",
      "results-fmbench-bedrock-anthropic-models/per_chunk/1723501580.5333138.json\n",
      "results-fmbench-bedrock-anthropic-models/per_chunk/1723501584.8335843.json\n",
      "results-fmbench-bedrock-anthropic-models/per_chunk/1723501588.8870409.json\n",
      "results-fmbench-bedrock-anthropic-models/per_chunk/1723501593.071112.json\n",
      "results-fmbench-bedrock-anthropic-models/per_chunk/1723501595.9344165.json\n",
      "results-fmbench-bedrock-anthropic-models/per_chunk/1723501598.699361.json\n",
      "results-fmbench-bedrock-anthropic-models/per_chunk/1723501602.9308662.json\n",
      "results-fmbench-bedrock-anthropic-models/per_chunk/1723501605.3478801.json\n",
      "results-fmbench-bedrock-anthropic-models/per_chunk/1723501608.2915325.json\n",
      "results-fmbench-bedrock-anthropic-models/per_chunk/1723501610.9586754.json\n",
      "results-fmbench-bedrock-anthropic-models/per_chunk/1723501613.7409737.json\n",
      "results-fmbench-bedrock-anthropic-models/per_chunk/1723501616.3458276.json\n",
      "results-fmbench-bedrock-anthropic-models/per_chunk/1723501621.9563255.json\n",
      "results-fmbench-bedrock-anthropic-models/per_chunk/1723501626.903746.json\n",
      "results-fmbench-bedrock-anthropic-models/per_chunk/1723501629.9640179.json\n",
      "results-fmbench-bedrock-anthropic-models/per_chunk/1723501633.6155121.json\n",
      "results-fmbench-bedrock-anthropic-models/per_chunk/1723501638.364707.json\n",
      "results-fmbench-bedrock-anthropic-models/per_chunk/1723501642.2450457.json\n",
      "results-fmbench-bedrock-anthropic-models/per_chunk/1723501649.344113.json\n",
      "results-fmbench-bedrock-anthropic-models/per_chunk/1723501652.280275.json\n",
      "results-fmbench-bedrock-anthropic-models/per_chunk/1723501655.3875544.json\n",
      "results-fmbench-bedrock-anthropic-models/per_chunk/1723501657.7968035.json\n",
      "results-fmbench-bedrock-anthropic-models/per_chunk/1723501662.5050998.json\n",
      "results-fmbench-bedrock-anthropic-models/per_chunk/1723501665.3989246.json\n",
      "results-fmbench-bedrock-anthropic-models/per_chunk/1723501668.0104415.json\n",
      "results-fmbench-bedrock-anthropic-models/per_chunk/1723501672.3709686.json\n",
      "results-fmbench-bedrock-anthropic-models/per_chunk/1723501675.7587621.json\n",
      "results-fmbench-bedrock-anthropic-models/per_chunk/1723501680.4922163.json\n",
      "results-fmbench-bedrock-anthropic-models/per_chunk/1723501684.657745.json\n",
      "results-fmbench-bedrock-anthropic-models/per_chunk/1723501689.7806795.json\n",
      "results-fmbench-bedrock-anthropic-models/per_chunk/1723501692.1587074.json\n",
      "results-fmbench-bedrock-anthropic-models/per_chunk/1723501697.8973618.json\n",
      "results-fmbench-bedrock-anthropic-models/per_chunk/1723501700.2939847.json\n",
      "results-fmbench-bedrock-anthropic-models/per_chunk/1723501702.9275637.json\n",
      "results-fmbench-bedrock-anthropic-models/per_chunk/1723501706.143099.json\n",
      "results-fmbench-bedrock-anthropic-models/per_chunk/1723501710.5648353.json\n",
      "results-fmbench-bedrock-anthropic-models/per_chunk/1723501713.122284.json\n",
      "results-fmbench-bedrock-anthropic-models/per_chunk/1723501715.5532808.json\n",
      "results-fmbench-bedrock-anthropic-models/per_chunk/1723501719.1790469.json\n",
      "results-fmbench-bedrock-anthropic-models/per_chunk/1723501724.451557.json\n",
      "results-fmbench-bedrock-anthropic-models/per_chunk/1723501727.5790431.json\n",
      "results-fmbench-bedrock-anthropic-models/per_chunk/1723501729.6070735.json\n",
      "results-fmbench-bedrock-anthropic-models/per_chunk/1723501732.7983825.json\n",
      "results-fmbench-bedrock-anthropic-models/per_chunk/1723501737.4763982.json\n",
      "results-fmbench-bedrock-anthropic-models/per_chunk/1723501741.0027664.json\n",
      "results-fmbench-bedrock-anthropic-models/per_chunk/1723501745.257661.json\n",
      "results-fmbench-bedrock-anthropic-models/per_chunk/1723501748.1560366.json\n",
      "results-fmbench-bedrock-anthropic-models/per_chunk/1723501752.3288794.json\n",
      "results-fmbench-bedrock-anthropic-models/per_chunk/1723501756.7417808.json\n",
      "results-fmbench-bedrock-anthropic-models/per_chunk/1723501759.1903229.json\n",
      "results-fmbench-bedrock-anthropic-models/per_chunk/1723501761.5685358.json\n",
      "results-fmbench-bedrock-anthropic-models/per_chunk/1723501764.3080645.json\n",
      "results-fmbench-bedrock-anthropic-models/per_chunk/1723501768.3700194.json\n",
      "results-fmbench-bedrock-anthropic-models/per_chunk/1723501772.1798115.json\n",
      "results-fmbench-bedrock-anthropic-models/per_chunk/1723501775.7874553.json\n",
      "results-fmbench-bedrock-anthropic-models/per_chunk/1723501779.9251077.json\n",
      "results-fmbench-bedrock-anthropic-models/per_chunk/1723501781.5305061.json\n",
      "results-fmbench-bedrock-anthropic-models/per_chunk/1723501782.2414937.json\n",
      "results-fmbench-bedrock-anthropic-models/per_chunk/1723501782.9195607.json\n",
      "results-fmbench-bedrock-anthropic-models/per_chunk/1723501783.5928202.json\n",
      "results-fmbench-bedrock-anthropic-models/per_chunk/1723501784.2001998.json\n",
      "results-fmbench-bedrock-anthropic-models/per_chunk/1723501785.4039114.json\n",
      "results-fmbench-bedrock-anthropic-models/per_chunk/1723501786.0559328.json\n",
      "results-fmbench-bedrock-anthropic-models/per_chunk/1723501787.2568486.json\n",
      "results-fmbench-bedrock-anthropic-models/per_chunk/1723501788.1880333.json\n",
      "results-fmbench-bedrock-anthropic-models/per_chunk/1723501789.2950754.json\n",
      "results-fmbench-bedrock-anthropic-models/per_chunk/1723501790.923073.json\n",
      "results-fmbench-bedrock-anthropic-models/per_chunk/1723501791.9917166.json\n",
      "results-fmbench-bedrock-anthropic-models/per_chunk/1723501793.033571.json\n",
      "results-fmbench-bedrock-anthropic-models/per_chunk/1723501794.3238652.json\n",
      "results-fmbench-bedrock-anthropic-models/per_chunk/1723501795.9337337.json\n",
      "results-fmbench-bedrock-anthropic-models/per_chunk/1723501797.0156603.json\n",
      "results-fmbench-bedrock-anthropic-models/per_chunk/1723501797.9953468.json\n",
      "results-fmbench-bedrock-anthropic-models/per_chunk/1723501799.2994857.json\n",
      "results-fmbench-bedrock-anthropic-models/per_chunk/1723501800.555389.json\n",
      "results-fmbench-bedrock-anthropic-models/per_chunk/1723501801.6470945.json\n",
      "results-fmbench-bedrock-anthropic-models/per_chunk/1723501803.0800867.json\n",
      "results-fmbench-bedrock-anthropic-models/per_chunk/1723501804.6549523.json\n",
      "results-fmbench-bedrock-anthropic-models/per_chunk/1723501805.9246352.json\n",
      "results-fmbench-bedrock-anthropic-models/per_chunk/1723501807.3074012.json\n",
      "results-fmbench-bedrock-anthropic-models/per_chunk/1723501808.640772.json\n",
      "results-fmbench-bedrock-anthropic-models/per_chunk/1723501809.540507.json\n",
      "results-fmbench-bedrock-anthropic-models/per_chunk/1723501810.4991019.json\n",
      "results-fmbench-bedrock-anthropic-models/per_chunk/1723501811.5008583.json\n",
      "results-fmbench-bedrock-anthropic-models/per_chunk/1723501813.0553634.json\n",
      "results-fmbench-bedrock-anthropic-models/per_chunk/1723501814.2994683.json\n",
      "results-fmbench-bedrock-anthropic-models/per_chunk/1723501815.0221617.json\n",
      "results-fmbench-bedrock-anthropic-models/per_chunk/1723501816.136331.json\n",
      "results-fmbench-bedrock-anthropic-models/per_chunk/1723501817.3494802.json\n",
      "results-fmbench-bedrock-anthropic-models/per_chunk/1723501818.1579576.json\n",
      "results-fmbench-bedrock-anthropic-models/per_chunk/1723501819.6424806.json\n",
      "results-fmbench-bedrock-anthropic-models/per_chunk/1723501820.7934628.json\n",
      "results-fmbench-bedrock-anthropic-models/per_chunk/1723501821.7510915.json\n",
      "results-fmbench-bedrock-anthropic-models/per_chunk/1723501823.44584.json\n",
      "results-fmbench-bedrock-anthropic-models/per_chunk/1723501824.785846.json\n",
      "results-fmbench-bedrock-anthropic-models/per_chunk/1723501825.9403944.json\n",
      "results-fmbench-bedrock-anthropic-models/per_chunk/1723501827.131004.json\n",
      "results-fmbench-bedrock-anthropic-models/per_chunk/1723501827.8883102.json\n",
      "results-fmbench-bedrock-anthropic-models/per_chunk/1723501828.957067.json\n",
      "results-fmbench-bedrock-anthropic-models/per_chunk/1723501830.449413.json\n",
      "results-fmbench-bedrock-anthropic-models/per_chunk/1723501831.7127323.json\n",
      "results-fmbench-bedrock-anthropic-models/per_chunk/1723501832.7289743.json\n",
      "results-fmbench-bedrock-anthropic-models/per_chunk/1723501834.0507646.json\n",
      "results-fmbench-bedrock-anthropic-models/per_chunk/1723501835.3129668.json\n",
      "results-fmbench-bedrock-anthropic-models/per_chunk/1723501837.1890934.json\n",
      "results-fmbench-bedrock-anthropic-models/per_chunk/1723501838.7830615.json\n",
      "results-fmbench-bedrock-anthropic-models/per_chunk/1723501840.5094047.json\n",
      "results-fmbench-bedrock-anthropic-models/per_chunk/1723501841.5317028.json\n",
      "results-fmbench-bedrock-anthropic-models/per_chunk/1723501842.817184.json\n",
      "results-fmbench-bedrock-anthropic-models/per_chunk/1723501844.3066273.json\n",
      "results-fmbench-bedrock-anthropic-models/per_chunk/1723501846.0845294.json\n",
      "results-fmbench-bedrock-anthropic-models/per_chunk/1723501847.6601694.json\n",
      "results-fmbench-bedrock-anthropic-models/per_chunk/1723501848.8995159.json\n",
      "results-fmbench-bedrock-anthropic-models/per_chunk/1723501850.266315.json\n",
      "results-fmbench-bedrock-anthropic-models/per_chunk/1723501851.862807.json\n",
      "results-fmbench-bedrock-anthropic-models/per_chunk/1723501852.9035208.json\n",
      "results-fmbench-bedrock-anthropic-models/per_chunk/1723501854.0789657.json\n",
      "results-fmbench-bedrock-anthropic-models/per_chunk/1723501855.8433785.json\n",
      "results-fmbench-bedrock-anthropic-models/per_chunk/1723501857.029408.json\n",
      "results-fmbench-bedrock-anthropic-models/per_chunk/1723501858.4045467.json\n",
      "results-fmbench-bedrock-anthropic-models/per_chunk/1723501859.9474132.json\n",
      "results-fmbench-bedrock-anthropic-models/per_chunk/1723501861.6088674.json\n",
      "results-fmbench-bedrock-anthropic-models/per_chunk/1723501862.6533093.json\n",
      "results-fmbench-bedrock-anthropic-models/per_chunk/1723501865.5377812.json\n",
      "results-fmbench-bedrock-anthropic-models/per_chunk/1723501867.0714083.json\n",
      "results-fmbench-bedrock-anthropic-models/per_chunk/1723501868.2623286.json\n",
      "results-fmbench-bedrock-anthropic-models/per_chunk/1723501870.078867.json\n",
      "results-fmbench-bedrock-anthropic-models/per_chunk/1723501871.311827.json\n",
      "results-fmbench-bedrock-anthropic-models/per_chunk/1723501872.8742547.json\n",
      "results-fmbench-bedrock-anthropic-models/per_chunk/1723501874.695868.json\n",
      "results-fmbench-bedrock-anthropic-models/per_chunk/1723501877.630437.json\n",
      "results-fmbench-bedrock-anthropic-models/per_chunk/1723501878.5086656.json\n",
      "results-fmbench-bedrock-anthropic-models/per_chunk/1723501879.495948.json\n",
      "results-fmbench-bedrock-anthropic-models/per_chunk/1723501880.124821.json\n",
      "results-fmbench-bedrock-anthropic-models/per_chunk/1723501881.1139064.json\n",
      "results-fmbench-bedrock-anthropic-models/per_chunk/1723501882.3347495.json\n",
      "results-fmbench-bedrock-anthropic-models/per_chunk/1723501883.6943517.json\n",
      "results-fmbench-bedrock-anthropic-models/per_chunk/1723501884.2842941.json\n",
      "results-fmbench-bedrock-anthropic-models/per_chunk/1723501885.009952.json\n",
      "results-fmbench-bedrock-anthropic-models/per_chunk/1723501886.9493206.json\n",
      "results-fmbench-bedrock-anthropic-models/per_chunk/1723501888.4904416.json\n",
      "results-fmbench-bedrock-anthropic-models/per_chunk/1723501890.239459.json\n",
      "results-fmbench-bedrock-anthropic-models/per_chunk/1723501891.4167733.json\n",
      "results-fmbench-bedrock-anthropic-models/per_chunk/1723501893.0608902.json\n",
      "results-fmbench-bedrock-anthropic-models/per_chunk/1723501894.0040603.json\n",
      "results-fmbench-bedrock-anthropic-models/per_chunk/1723501894.8005655.json\n",
      "results-fmbench-bedrock-anthropic-models/per_chunk/1723501895.929727.json\n",
      "results-fmbench-bedrock-anthropic-models/per_chunk/1723501897.2513998.json\n",
      "results-fmbench-bedrock-anthropic-models/per_chunk/1723501898.029742.json\n",
      "results-fmbench-bedrock-anthropic-models/per_chunk/1723501899.1339028.json\n",
      "results-fmbench-bedrock-anthropic-models/per_chunk/1723501899.9494734.json\n",
      "results-fmbench-bedrock-anthropic-models/per_chunk/1723501901.3108284.json\n",
      "results-fmbench-bedrock-anthropic-models/per_chunk/1723501902.6943383.json\n",
      "results-fmbench-bedrock-anthropic-models/per_chunk/1723501904.2693245.json\n",
      "results-fmbench-bedrock-anthropic-models/per_chunk/1723501906.1489062.json\n",
      "results-fmbench-bedrock-anthropic-models/per_chunk/1723501906.7730823.json\n",
      "results-fmbench-bedrock-anthropic-models/per_chunk/1723501907.810305.json\n",
      "results-fmbench-bedrock-anthropic-models/per_chunk/1723501908.622929.json\n",
      "results-fmbench-bedrock-anthropic-models/per_chunk/1723501909.329085.json\n",
      "results-fmbench-bedrock-anthropic-models/per_chunk/1723501910.3123388.json\n",
      "results-fmbench-bedrock-anthropic-models/per_chunk/1723501911.0653014.json\n",
      "results-fmbench-bedrock-anthropic-models/per_chunk/1723501912.9285939.json\n",
      "results-fmbench-bedrock-anthropic-models/per_chunk/1723501913.8775191.json\n",
      "results-fmbench-bedrock-anthropic-models/per_chunk/1723501915.0058856.json\n",
      "results-fmbench-bedrock-anthropic-models/per_chunk/1723501915.9708905.json\n",
      "results-fmbench-bedrock-anthropic-models/per_chunk/1723501917.1276631.json\n",
      "results-fmbench-bedrock-anthropic-models/per_chunk/1723501918.2954347.json\n",
      "results-fmbench-bedrock-anthropic-models/per_chunk/1723501920.3251429.json\n",
      "results-fmbench-bedrock-anthropic-models/per_chunk/1723501922.174942.json\n",
      "results-fmbench-bedrock-anthropic-models/per_chunk/1723501923.4289894.json\n",
      "results-fmbench-bedrock-anthropic-models/per_chunk/1723501925.015136.json\n",
      "results-fmbench-bedrock-anthropic-models/per_chunk/1723501926.142622.json\n",
      "results-fmbench-bedrock-anthropic-models/per_chunk/1723501928.6015913.json\n",
      "results-fmbench-bedrock-anthropic-models/per_chunk/1723501929.694656.json\n",
      "results-fmbench-bedrock-anthropic-models/per_chunk/1723501931.0805848.json\n",
      "results-fmbench-bedrock-anthropic-models/per_chunk/1723501932.718809.json\n",
      "results-fmbench-bedrock-anthropic-models/per_chunk/1723501933.6899614.json\n",
      "results-fmbench-bedrock-anthropic-models/per_chunk/1723501935.0591924.json\n",
      "results-fmbench-bedrock-anthropic-models/per_chunk/1723501936.5166566.json\n",
      "results-fmbench-bedrock-anthropic-models/per_chunk/1723501937.947838.json\n",
      "results-fmbench-bedrock-anthropic-models/per_chunk/1723501939.1988227.json\n",
      "results-fmbench-bedrock-anthropic-models/per_chunk/1723501940.70775.json\n",
      "results-fmbench-bedrock-anthropic-models/per_chunk/1723501942.3154647.json\n",
      "results-fmbench-bedrock-anthropic-models/per_chunk/1723501943.8982959.json\n",
      "results-fmbench-bedrock-anthropic-models/per_chunk/1723501944.9926012.json\n",
      "results-fmbench-bedrock-anthropic-models/per_chunk/1723501946.3551965.json\n",
      "results-fmbench-bedrock-anthropic-models/per_chunk/1723501948.0672135.json\n",
      "results-fmbench-bedrock-anthropic-models/per_chunk/1723501949.5738137.json\n",
      "results-fmbench-bedrock-anthropic-models/per_chunk/1723501951.1830604.json\n",
      "results-fmbench-bedrock-anthropic-models/per_chunk/1723501952.371911.json\n",
      "results-fmbench-bedrock-anthropic-models/per_chunk/1723501953.6424916.json\n",
      "results-fmbench-bedrock-anthropic-models/per_chunk/1723501954.62821.json\n",
      "results-fmbench-bedrock-anthropic-models/per_chunk/1723501955.9259489.json\n",
      "results-fmbench-bedrock-anthropic-models/per_chunk/1723501957.292816.json\n",
      "results-fmbench-bedrock-anthropic-models/per_chunk/1723501958.5800643.json\n",
      "results-fmbench-bedrock-anthropic-models/per_chunk/1723501959.6643727.json\n",
      "results-fmbench-bedrock-anthropic-models/per_chunk/1723501961.0986683.json\n",
      "results-fmbench-bedrock-anthropic-models/per_chunk/1723501962.6828163.json\n",
      "results-fmbench-bedrock-anthropic-models/per_chunk/1723501964.0510604.json\n",
      "results-fmbench-bedrock-anthropic-models/per_chunk/1723501965.1700385.json\n",
      "results-fmbench-bedrock-anthropic-models/per_chunk/1723501966.9166977.json\n",
      "results-fmbench-bedrock-anthropic-models/per_chunk/1723501967.913835.json\n",
      "results-fmbench-bedrock-anthropic-models/per_chunk/1723501969.2960687.json\n",
      "results-fmbench-bedrock-anthropic-models/per_chunk/1723501970.7286053.json\n",
      "results-fmbench-bedrock-anthropic-models/per_chunk/1723501971.7893903.json\n",
      "results-fmbench-bedrock-anthropic-models/per_chunk/1723501973.1005468.json\n",
      "results-fmbench-bedrock-anthropic-models/per_chunk/1723501974.8304684.json\n",
      "results-fmbench-bedrock-anthropic-models/per_chunk/1723501975.7557364.json\n",
      "results-fmbench-bedrock-anthropic-models/per_chunk/1723501977.4026113.json\n",
      "results-fmbench-bedrock-anthropic-models/per_chunk/1723501978.7281446.json\n",
      "results-fmbench-bedrock-anthropic-models/per_chunk/1723501980.2249496.json\n",
      "results-fmbench-bedrock-anthropic-models/per_chunk/1723501981.826346.json\n",
      "results-fmbench-bedrock-anthropic-models/per_chunk/1723501983.0665479.json\n",
      "results-fmbench-bedrock-anthropic-models/per_chunk/1723501984.5449827.json\n",
      "results-fmbench-bedrock-anthropic-models/per_chunk/1723501985.7900367.json\n",
      "results-fmbench-bedrock-anthropic-models/per_chunk/1723501987.8715122.json\n",
      "results-fmbench-bedrock-anthropic-models/per_chunk/1723501989.3214977.json\n",
      "results-fmbench-bedrock-anthropic-models/per_chunk/1723501990.9053886.json\n",
      "results-fmbench-bedrock-anthropic-models/per_chunk/1723501992.1292999.json\n",
      "results-fmbench-bedrock-anthropic-models/per_chunk/1723501993.338169.json\n",
      "results-fmbench-bedrock-anthropic-models/per_chunk/1723501994.355313.json\n",
      "results-fmbench-bedrock-anthropic-models/per_chunk/1723501995.3650746.json\n",
      "results-fmbench-bedrock-anthropic-models/per_chunk/1723501996.9485703.json\n",
      "results-fmbench-bedrock-anthropic-models/per_chunk/1723501998.2949553.json\n",
      "results-fmbench-bedrock-anthropic-models/per_chunk/1723501999.273337.json\n",
      "results-fmbench-bedrock-anthropic-models/per_chunk/1723502000.5616138.json\n",
      "results-fmbench-bedrock-anthropic-models/per_chunk/1723502001.8138118.json\n",
      "results-fmbench-bedrock-anthropic-models/per_chunk/1723502003.4025264.json\n",
      "results-fmbench-bedrock-anthropic-models/per_chunk/1723502005.0228484.json\n",
      "results-fmbench-bedrock-anthropic-models/per_chunk/1723502006.7311819.json\n",
      "results-fmbench-bedrock-anthropic-models/per_chunk/1723502007.725533.json\n",
      "results-fmbench-bedrock-anthropic-models/per_chunk/1723502009.026419.json\n",
      "results-fmbench-bedrock-anthropic-models/per_chunk/1723502010.6989949.json\n",
      "results-fmbench-bedrock-anthropic-models/per_chunk/1723502012.337781.json\n",
      "results-fmbench-bedrock-anthropic-models/per_chunk/1723502013.2093606.json\n",
      "results-fmbench-bedrock-anthropic-models/per_chunk/1723502014.401765.json\n",
      "results-fmbench-bedrock-anthropic-models/per_chunk/1723502015.880227.json\n",
      "results-fmbench-bedrock-anthropic-models/per_chunk/1723502017.1329677.json\n",
      "results-fmbench-bedrock-anthropic-models/per_chunk/1723502018.0957074.json\n",
      "results-fmbench-bedrock-anthropic-models/per_chunk/1723502019.306554.json\n",
      "results-fmbench-bedrock-anthropic-models/per_chunk/1723502020.6571543.json\n",
      "results-fmbench-bedrock-anthropic-models/per_chunk/1723502021.9033825.json\n",
      "results-fmbench-bedrock-anthropic-models/per_chunk/1723502023.381542.json\n",
      "results-fmbench-bedrock-anthropic-models/per_chunk/1723502024.401723.json\n",
      "results-fmbench-bedrock-anthropic-models/per_chunk/1723502025.5563023.json\n",
      "results-fmbench-bedrock-anthropic-models/per_chunk/1723502026.2702916.json\n",
      "results-fmbench-bedrock-anthropic-models/per_chunk/1723502027.3034847.json\n",
      "results-fmbench-bedrock-anthropic-models/per_chunk/1723502028.7478018.json\n",
      "results-fmbench-bedrock-anthropic-models/per_chunk/1723502029.7418408.json\n",
      "results-fmbench-bedrock-anthropic-models/per_chunk/1723502031.2908545.json\n",
      "results-fmbench-bedrock-anthropic-models/per_chunk/1723502032.0677464.json\n",
      "results-fmbench-bedrock-anthropic-models/per_chunk/1723502033.6667807.json\n",
      "results-fmbench-bedrock-anthropic-models/per_chunk/1723502034.9914927.json\n",
      "results-fmbench-bedrock-anthropic-models/per_chunk/1723502036.338052.json\n",
      "results-fmbench-bedrock-anthropic-models/per_chunk/1723502037.4759018.json\n",
      "results-fmbench-bedrock-anthropic-models/per_chunk/1723502038.546371.json\n",
      "results-fmbench-bedrock-anthropic-models/per_chunk/1723502039.5866458.json\n",
      "results-fmbench-bedrock-anthropic-models/per_chunk/1723502040.8467743.json\n",
      "results-fmbench-bedrock-anthropic-models/per_chunk/1723502041.95226.json\n",
      "results-fmbench-bedrock-anthropic-models/per_chunk/1723502043.1260064.json\n",
      "results-fmbench-bedrock-anthropic-models/per_chunk/1723502043.9916837.json\n",
      "results-fmbench-bedrock-anthropic-models/per_chunk/1723502044.908883.json\n",
      "results-fmbench-bedrock-anthropic-models/per_chunk/1723502046.330065.json\n",
      "results-fmbench-bedrock-anthropic-models/per_chunk/1723502047.1418743.json\n",
      "results-fmbench-bedrock-anthropic-models/per_chunk/1723502048.4124918.json\n",
      "results-fmbench-bedrock-anthropic-models/per_chunk/1723502049.3653417.json\n",
      "results-fmbench-bedrock-anthropic-models/per_chunk/1723502050.30068.json\n",
      "results-fmbench-bedrock-anthropic-models/per_chunk/1723502051.2942326.json\n",
      "results-fmbench-bedrock-anthropic-models/per_chunk/1723502052.285392.json\n",
      "results-fmbench-bedrock-anthropic-models/per_chunk/1723502053.7374756.json\n",
      "results-fmbench-bedrock-anthropic-models/per_inference\n",
      "results-fmbench-bedrock-anthropic-models/per_inference/1723501118.7218354.json\n",
      "results-fmbench-bedrock-anthropic-models/per_inference/1723500991.644698.json\n",
      "results-fmbench-bedrock-anthropic-models/per_inference/1723501115.8468795.json\n",
      "results-fmbench-bedrock-anthropic-models/per_inference/1723500992.910378.json\n",
      "results-fmbench-bedrock-anthropic-models/per_inference/1723501123.4384787.json\n",
      "results-fmbench-bedrock-anthropic-models/per_inference/1723500995.3415668.json\n",
      "results-fmbench-bedrock-anthropic-models/per_inference/1723501126.7950191.json\n",
      "results-fmbench-bedrock-anthropic-models/per_inference/1723500996.9111488.json\n",
      "results-fmbench-bedrock-anthropic-models/per_inference/1723501141.8339934.json\n",
      "results-fmbench-bedrock-anthropic-models/per_inference/1723500998.2541125.json\n",
      "results-fmbench-bedrock-anthropic-models/per_inference/1723501146.9725592.json\n",
      "results-fmbench-bedrock-anthropic-models/per_inference/1723501000.7061362.json\n",
      "results-fmbench-bedrock-anthropic-models/per_inference/1723501148.5123148.json\n",
      "results-fmbench-bedrock-anthropic-models/per_inference/1723501002.492904.json\n",
      "results-fmbench-bedrock-anthropic-models/per_inference/1723501151.5205023.json\n",
      "results-fmbench-bedrock-anthropic-models/per_inference/1723501004.2744422.json\n",
      "results-fmbench-bedrock-anthropic-models/per_inference/1723501156.656832.json\n",
      "results-fmbench-bedrock-anthropic-models/per_inference/1723501007.5891495.json\n",
      "results-fmbench-bedrock-anthropic-models/per_inference/1723501160.99769.json\n",
      "results-fmbench-bedrock-anthropic-models/per_inference/1723501009.366549.json\n",
      "results-fmbench-bedrock-anthropic-models/per_inference/1723501165.0208826.json\n",
      "results-fmbench-bedrock-anthropic-models/per_inference/1723501012.9767857.json\n",
      "results-fmbench-bedrock-anthropic-models/per_inference/1723501169.3170447.json\n",
      "results-fmbench-bedrock-anthropic-models/per_inference/1723501015.6917052.json\n",
      "results-fmbench-bedrock-anthropic-models/per_inference/1723501172.1987386.json\n",
      "results-fmbench-bedrock-anthropic-models/per_inference/1723501018.8565242.json\n",
      "results-fmbench-bedrock-anthropic-models/per_inference/1723501178.4338877.json\n",
      "results-fmbench-bedrock-anthropic-models/per_inference/1723501021.726481.json\n",
      "results-fmbench-bedrock-anthropic-models/per_inference/1723501181.6353734.json\n",
      "results-fmbench-bedrock-anthropic-models/per_inference/1723501024.7049873.json\n",
      "results-fmbench-bedrock-anthropic-models/per_inference/1723501183.6231217.json\n",
      "results-fmbench-bedrock-anthropic-models/per_inference/1723501027.3605344.json\n",
      "results-fmbench-bedrock-anthropic-models/per_inference/1723501185.8508122.json\n",
      "results-fmbench-bedrock-anthropic-models/per_inference/1723501034.504998.json\n",
      "results-fmbench-bedrock-anthropic-models/per_inference/1723501190.0516105.json\n",
      "results-fmbench-bedrock-anthropic-models/per_inference/1723501036.9180973.json\n",
      "results-fmbench-bedrock-anthropic-models/per_inference/1723501195.0991733.json\n",
      "results-fmbench-bedrock-anthropic-models/per_inference/1723501042.424948.json\n",
      "results-fmbench-bedrock-anthropic-models/per_inference/1723501198.1034462.json\n",
      "results-fmbench-bedrock-anthropic-models/per_inference/1723501045.7610564.json\n",
      "results-fmbench-bedrock-anthropic-models/per_inference/1723501202.759867.json\n",
      "results-fmbench-bedrock-anthropic-models/per_inference/1723501047.948125.json\n",
      "results-fmbench-bedrock-anthropic-models/per_inference/1723501208.9769247.json\n",
      "results-fmbench-bedrock-anthropic-models/per_inference/1723501051.513664.json\n",
      "results-fmbench-bedrock-anthropic-models/per_inference/1723501211.544924.json\n",
      "results-fmbench-bedrock-anthropic-models/per_inference/1723501054.7459204.json\n",
      "results-fmbench-bedrock-anthropic-models/per_inference/1723501219.089185.json\n",
      "results-fmbench-bedrock-anthropic-models/per_inference/1723501056.9753819.json\n",
      "results-fmbench-bedrock-anthropic-models/per_inference/1723501222.3002417.json\n",
      "results-fmbench-bedrock-anthropic-models/per_inference/1723501059.5844533.json\n",
      "results-fmbench-bedrock-anthropic-models/per_inference/1723501225.2999616.json\n",
      "results-fmbench-bedrock-anthropic-models/per_inference/1723501061.952789.json\n",
      "results-fmbench-bedrock-anthropic-models/per_inference/1723501228.8615024.json\n",
      "results-fmbench-bedrock-anthropic-models/per_inference/1723501064.4243653.json\n",
      "results-fmbench-bedrock-anthropic-models/per_inference/1723501232.3046122.json\n",
      "results-fmbench-bedrock-anthropic-models/per_inference/1723501066.9699302.json\n",
      "results-fmbench-bedrock-anthropic-models/per_inference/1723501236.3232212.json\n",
      "results-fmbench-bedrock-anthropic-models/per_inference/1723501069.7288187.json\n",
      "results-fmbench-bedrock-anthropic-models/per_inference/1723501240.1754096.json\n",
      "results-fmbench-bedrock-anthropic-models/per_inference/1723501074.0188224.json\n",
      "results-fmbench-bedrock-anthropic-models/per_inference/1723501241.9681242.json\n",
      "results-fmbench-bedrock-anthropic-models/per_inference/1723501075.4363372.json\n",
      "results-fmbench-bedrock-anthropic-models/per_inference/1723501243.9734876.json\n",
      "results-fmbench-bedrock-anthropic-models/per_inference/1723501078.0128124.json\n",
      "results-fmbench-bedrock-anthropic-models/per_inference/1723501246.7505856.json\n",
      "results-fmbench-bedrock-anthropic-models/per_inference/1723501080.162273.json\n",
      "results-fmbench-bedrock-anthropic-models/per_inference/1723501249.537952.json\n",
      "results-fmbench-bedrock-anthropic-models/per_inference/1723501082.1936128.json\n",
      "results-fmbench-bedrock-anthropic-models/per_inference/1723501252.387607.json\n",
      "results-fmbench-bedrock-anthropic-models/per_inference/1723501087.0985308.json\n",
      "results-fmbench-bedrock-anthropic-models/per_inference/1723501255.7123094.json\n",
      "results-fmbench-bedrock-anthropic-models/per_inference/1723501089.5661507.json\n",
      "results-fmbench-bedrock-anthropic-models/per_inference/1723501259.3382697.json\n",
      "results-fmbench-bedrock-anthropic-models/per_inference/1723501093.015649.json\n",
      "results-fmbench-bedrock-anthropic-models/per_inference/1723501262.7673213.json\n",
      "results-fmbench-bedrock-anthropic-models/per_inference/1723501100.4913824.json\n",
      "results-fmbench-bedrock-anthropic-models/per_inference/1723501269.0538645.json\n",
      "results-fmbench-bedrock-anthropic-models/per_inference/1723501107.044895.json\n",
      "results-fmbench-bedrock-anthropic-models/per_inference/1723501274.6913419.json\n",
      "results-fmbench-bedrock-anthropic-models/per_inference/1723501111.2858143.json\n",
      "results-fmbench-bedrock-anthropic-models/per_inference/1723501279.877386.json\n",
      "results-fmbench-bedrock-anthropic-models/per_inference/1723501113.6259267.json\n",
      "results-fmbench-bedrock-anthropic-models/per_inference/1723501129.6070566.json\n",
      "results-fmbench-bedrock-anthropic-models/per_inference/1723501281.766596.json\n",
      "results-fmbench-bedrock-anthropic-models/per_inference/1723501132.4707985.json\n",
      "results-fmbench-bedrock-anthropic-models/per_inference/1723501285.713745.json\n",
      "results-fmbench-bedrock-anthropic-models/per_inference/1723501135.375771.json\n",
      "results-fmbench-bedrock-anthropic-models/per_inference/1723501287.9343123.json\n",
      "results-fmbench-bedrock-anthropic-models/per_inference/1723501138.9206722.json\n",
      "results-fmbench-bedrock-anthropic-models/per_inference/1723501291.4227219.json\n",
      "results-fmbench-bedrock-anthropic-models/per_inference/1723501293.6209772.json\n",
      "results-fmbench-bedrock-anthropic-models/per_inference/1723501296.9492111.json\n",
      "results-fmbench-bedrock-anthropic-models/per_inference/1723501302.0720232.json\n",
      "results-fmbench-bedrock-anthropic-models/per_inference/1723501304.4756482.json\n",
      "results-fmbench-bedrock-anthropic-models/per_inference/1723501308.055156.json\n",
      "results-fmbench-bedrock-anthropic-models/per_inference/1723501315.0997384.json\n",
      "results-fmbench-bedrock-anthropic-models/per_inference/1723501321.391312.json\n",
      "results-fmbench-bedrock-anthropic-models/per_inference/1723501325.63508.json\n",
      "results-fmbench-bedrock-anthropic-models/per_inference/1723501329.6913776.json\n",
      "results-fmbench-bedrock-anthropic-models/per_inference/1723501333.0164468.json\n",
      "results-fmbench-bedrock-anthropic-models/per_inference/1723501336.6400363.json\n",
      "results-fmbench-bedrock-anthropic-models/per_inference/1723501338.4368153.json\n",
      "results-fmbench-bedrock-anthropic-models/per_inference/1723501341.4003599.json\n",
      "results-fmbench-bedrock-anthropic-models/per_inference/1723501344.3441613.json\n",
      "results-fmbench-bedrock-anthropic-models/per_inference/1723501350.366802.json\n",
      "results-fmbench-bedrock-anthropic-models/per_inference/1723501355.3403707.json\n",
      "results-fmbench-bedrock-anthropic-models/per_inference/1723501358.4919791.json\n",
      "results-fmbench-bedrock-anthropic-models/per_inference/1723501363.6241508.json\n",
      "results-fmbench-bedrock-anthropic-models/per_inference/1723501366.2758334.json\n",
      "results-fmbench-bedrock-anthropic-models/per_inference/1723501369.546557.json\n",
      "results-fmbench-bedrock-anthropic-models/per_inference/1723501373.779831.json\n",
      "results-fmbench-bedrock-anthropic-models/per_inference/1723501376.8466449.json\n",
      "results-fmbench-bedrock-anthropic-models/per_inference/1723501381.9167984.json\n",
      "results-fmbench-bedrock-anthropic-models/per_inference/1723501385.9022393.json\n",
      "results-fmbench-bedrock-anthropic-models/per_inference/1723501389.8379865.json\n",
      "results-fmbench-bedrock-anthropic-models/per_inference/1723501394.766669.json\n",
      "results-fmbench-bedrock-anthropic-models/per_inference/1723501397.8635283.json\n",
      "results-fmbench-bedrock-anthropic-models/per_inference/1723501400.708777.json\n",
      "results-fmbench-bedrock-anthropic-models/per_inference/1723501404.265237.json\n",
      "results-fmbench-bedrock-anthropic-models/per_inference/1723501407.223931.json\n",
      "results-fmbench-bedrock-anthropic-models/per_inference/1723501411.7319434.json\n",
      "results-fmbench-bedrock-anthropic-models/per_inference/1723501417.507065.json\n",
      "results-fmbench-bedrock-anthropic-models/per_inference/1723501420.9269168.json\n",
      "results-fmbench-bedrock-anthropic-models/per_inference/1723501428.518307.json\n",
      "results-fmbench-bedrock-anthropic-models/per_inference/1723501433.1051028.json\n",
      "results-fmbench-bedrock-anthropic-models/per_inference/1723501436.8734584.json\n",
      "results-fmbench-bedrock-anthropic-models/per_inference/1723501442.7917926.json\n",
      "results-fmbench-bedrock-anthropic-models/per_inference/1723501449.6255434.json\n",
      "results-fmbench-bedrock-anthropic-models/per_inference/1723501454.8879771.json\n",
      "results-fmbench-bedrock-anthropic-models/per_inference/1723501461.293614.json\n",
      "results-fmbench-bedrock-anthropic-models/per_inference/1723501466.19916.json\n",
      "results-fmbench-bedrock-anthropic-models/per_inference/1723501469.2410512.json\n",
      "results-fmbench-bedrock-anthropic-models/per_inference/1723501472.0691102.json\n",
      "results-fmbench-bedrock-anthropic-models/per_inference/1723501476.5835211.json\n",
      "results-fmbench-bedrock-anthropic-models/per_inference/1723501479.2158828.json\n",
      "results-fmbench-bedrock-anthropic-models/per_inference/1723501483.3565185.json\n",
      "results-fmbench-bedrock-anthropic-models/per_inference/1723501486.7750175.json\n",
      "results-fmbench-bedrock-anthropic-models/per_inference/1723501489.754341.json\n",
      "results-fmbench-bedrock-anthropic-models/per_inference/1723501492.7465026.json\n",
      "results-fmbench-bedrock-anthropic-models/per_inference/1723501496.1137474.json\n",
      "results-fmbench-bedrock-anthropic-models/per_inference/1723501504.498845.json\n",
      "results-fmbench-bedrock-anthropic-models/per_inference/1723501509.068248.json\n",
      "results-fmbench-bedrock-anthropic-models/per_inference/1723501512.9516923.json\n",
      "results-fmbench-bedrock-anthropic-models/per_inference/1723501516.0891356.json\n",
      "results-fmbench-bedrock-anthropic-models/per_inference/1723501520.051528.json\n",
      "results-fmbench-bedrock-anthropic-models/per_inference/1723501524.2910407.json\n",
      "results-fmbench-bedrock-anthropic-models/per_inference/1723501528.6912754.json\n",
      "results-fmbench-bedrock-anthropic-models/per_inference/1723501538.0179162.json\n",
      "results-fmbench-bedrock-anthropic-models/per_inference/1723501541.2039783.json\n",
      "results-fmbench-bedrock-anthropic-models/per_inference/1723501546.7840092.json\n",
      "results-fmbench-bedrock-anthropic-models/per_inference/1723501552.1338532.json\n",
      "results-fmbench-bedrock-anthropic-models/per_inference/1723501555.2888374.json\n",
      "results-fmbench-bedrock-anthropic-models/per_inference/1723501560.1138506.json\n",
      "results-fmbench-bedrock-anthropic-models/per_inference/1723501564.9061828.json\n",
      "results-fmbench-bedrock-anthropic-models/per_inference/1723501567.7698598.json\n",
      "results-fmbench-bedrock-anthropic-models/per_inference/1723501571.1799695.json\n",
      "results-fmbench-bedrock-anthropic-models/per_inference/1723501574.1477392.json\n",
      "results-fmbench-bedrock-anthropic-models/per_inference/1723501577.8760333.json\n",
      "results-fmbench-bedrock-anthropic-models/per_inference/1723501580.6392612.json\n",
      "results-fmbench-bedrock-anthropic-models/per_inference/1723501584.9530191.json\n",
      "results-fmbench-bedrock-anthropic-models/per_inference/1723501589.0121887.json\n",
      "results-fmbench-bedrock-anthropic-models/per_inference/1723501593.1739125.json\n",
      "results-fmbench-bedrock-anthropic-models/per_inference/1723501596.0257509.json\n",
      "results-fmbench-bedrock-anthropic-models/per_inference/1723501598.786084.json\n",
      "results-fmbench-bedrock-anthropic-models/per_inference/1723501603.0262706.json\n",
      "results-fmbench-bedrock-anthropic-models/per_inference/1723501605.4470334.json\n",
      "results-fmbench-bedrock-anthropic-models/per_inference/1723501608.3838863.json\n",
      "results-fmbench-bedrock-anthropic-models/per_inference/1723501611.0489714.json\n",
      "results-fmbench-bedrock-anthropic-models/per_inference/1723501613.885521.json\n",
      "results-fmbench-bedrock-anthropic-models/per_inference/1723501616.4493294.json\n",
      "results-fmbench-bedrock-anthropic-models/per_inference/1723501622.055957.json\n",
      "results-fmbench-bedrock-anthropic-models/per_inference/1723501627.0276356.json\n",
      "results-fmbench-bedrock-anthropic-models/per_inference/1723501630.0573692.json\n",
      "results-fmbench-bedrock-anthropic-models/per_inference/1723501633.7913446.json\n",
      "results-fmbench-bedrock-anthropic-models/per_inference/1723501638.4601488.json\n",
      "results-fmbench-bedrock-anthropic-models/per_inference/1723501642.387986.json\n",
      "results-fmbench-bedrock-anthropic-models/per_inference/1723501649.431522.json\n",
      "results-fmbench-bedrock-anthropic-models/per_inference/1723501652.3704507.json\n",
      "results-fmbench-bedrock-anthropic-models/per_inference/1723501655.5055003.json\n",
      "results-fmbench-bedrock-anthropic-models/per_inference/1723501657.9275246.json\n",
      "results-fmbench-bedrock-anthropic-models/per_inference/1723501662.6145875.json\n",
      "results-fmbench-bedrock-anthropic-models/per_inference/1723501665.524103.json\n",
      "results-fmbench-bedrock-anthropic-models/per_inference/1723501668.118546.json\n",
      "results-fmbench-bedrock-anthropic-models/per_inference/1723501672.4785628.json\n",
      "results-fmbench-bedrock-anthropic-models/per_inference/1723501675.8778036.json\n",
      "results-fmbench-bedrock-anthropic-models/per_inference/1723501680.6609426.json\n",
      "results-fmbench-bedrock-anthropic-models/per_inference/1723501684.8055081.json\n",
      "results-fmbench-bedrock-anthropic-models/per_inference/1723501689.8894367.json\n",
      "results-fmbench-bedrock-anthropic-models/per_inference/1723501692.4585736.json\n",
      "results-fmbench-bedrock-anthropic-models/per_inference/1723501697.9860253.json\n",
      "results-fmbench-bedrock-anthropic-models/per_inference/1723501700.429832.json\n",
      "results-fmbench-bedrock-anthropic-models/per_inference/1723501703.039835.json\n",
      "results-fmbench-bedrock-anthropic-models/per_inference/1723501706.267424.json\n",
      "results-fmbench-bedrock-anthropic-models/per_inference/1723501710.6595051.json\n",
      "results-fmbench-bedrock-anthropic-models/per_inference/1723501713.2250268.json\n",
      "results-fmbench-bedrock-anthropic-models/per_inference/1723501715.6510284.json\n",
      "results-fmbench-bedrock-anthropic-models/per_inference/1723501719.3841248.json\n",
      "results-fmbench-bedrock-anthropic-models/per_inference/1723501724.570402.json\n",
      "results-fmbench-bedrock-anthropic-models/per_inference/1723501727.6836233.json\n",
      "results-fmbench-bedrock-anthropic-models/per_inference/1723501729.7097123.json\n",
      "results-fmbench-bedrock-anthropic-models/per_inference/1723501732.9194348.json\n",
      "results-fmbench-bedrock-anthropic-models/per_inference/1723501737.6060302.json\n",
      "results-fmbench-bedrock-anthropic-models/per_inference/1723501741.121925.json\n",
      "results-fmbench-bedrock-anthropic-models/per_inference/1723501745.3589168.json\n",
      "results-fmbench-bedrock-anthropic-models/per_inference/1723501748.2996657.json\n",
      "results-fmbench-bedrock-anthropic-models/per_inference/1723501752.4175498.json\n",
      "results-fmbench-bedrock-anthropic-models/per_inference/1723501756.8704758.json\n",
      "results-fmbench-bedrock-anthropic-models/per_inference/1723501759.278646.json\n",
      "results-fmbench-bedrock-anthropic-models/per_inference/1723501761.6929293.json\n",
      "results-fmbench-bedrock-anthropic-models/per_inference/1723501764.4428487.json\n",
      "results-fmbench-bedrock-anthropic-models/per_inference/1723501768.4738686.json\n",
      "results-fmbench-bedrock-anthropic-models/per_inference/1723501772.3399446.json\n",
      "results-fmbench-bedrock-anthropic-models/per_inference/1723501775.896445.json\n",
      "results-fmbench-bedrock-anthropic-models/per_inference/1723501780.0311353.json\n",
      "results-fmbench-bedrock-anthropic-models/per_inference/1723501781.6652129.json\n",
      "results-fmbench-bedrock-anthropic-models/per_inference/1723501782.3545952.json\n",
      "results-fmbench-bedrock-anthropic-models/per_inference/1723501783.112972.json\n",
      "results-fmbench-bedrock-anthropic-models/per_inference/1723501783.7022965.json\n",
      "results-fmbench-bedrock-anthropic-models/per_inference/1723501784.3431828.json\n",
      "results-fmbench-bedrock-anthropic-models/per_inference/1723501785.5046825.json\n",
      "results-fmbench-bedrock-anthropic-models/per_inference/1723501786.1547532.json\n",
      "results-fmbench-bedrock-anthropic-models/per_inference/1723501787.4083574.json\n",
      "results-fmbench-bedrock-anthropic-models/per_inference/1723501788.2934124.json\n",
      "results-fmbench-bedrock-anthropic-models/per_inference/1723501789.385213.json\n",
      "results-fmbench-bedrock-anthropic-models/per_inference/1723501791.0345457.json\n",
      "results-fmbench-bedrock-anthropic-models/per_inference/1723501792.0993812.json\n",
      "results-fmbench-bedrock-anthropic-models/per_inference/1723501793.1295424.json\n",
      "results-fmbench-bedrock-anthropic-models/per_inference/1723501794.4690242.json\n",
      "results-fmbench-bedrock-anthropic-models/per_inference/1723501796.031383.json\n",
      "results-fmbench-bedrock-anthropic-models/per_inference/1723501797.123465.json\n",
      "results-fmbench-bedrock-anthropic-models/per_inference/1723501798.12111.json\n",
      "results-fmbench-bedrock-anthropic-models/per_inference/1723501799.400498.json\n",
      "results-fmbench-bedrock-anthropic-models/per_inference/1723501800.658415.json\n",
      "results-fmbench-bedrock-anthropic-models/per_inference/1723501801.8054037.json\n",
      "results-fmbench-bedrock-anthropic-models/per_inference/1723501803.1950128.json\n",
      "results-fmbench-bedrock-anthropic-models/per_inference/1723501804.802805.json\n",
      "results-fmbench-bedrock-anthropic-models/per_inference/1723501806.0327034.json\n",
      "results-fmbench-bedrock-anthropic-models/per_inference/1723501807.4097748.json\n",
      "results-fmbench-bedrock-anthropic-models/per_inference/1723501808.7509568.json\n",
      "results-fmbench-bedrock-anthropic-models/per_inference/1723501809.7192287.json\n",
      "results-fmbench-bedrock-anthropic-models/per_inference/1723501810.6183832.json\n",
      "results-fmbench-bedrock-anthropic-models/per_inference/1723501811.6324232.json\n",
      "results-fmbench-bedrock-anthropic-models/per_inference/1723501813.1802473.json\n",
      "results-fmbench-bedrock-anthropic-models/per_inference/1723501814.412575.json\n",
      "results-fmbench-bedrock-anthropic-models/per_inference/1723501815.1777422.json\n",
      "results-fmbench-bedrock-anthropic-models/per_inference/1723501816.2549508.json\n",
      "results-fmbench-bedrock-anthropic-models/per_inference/1723501817.49245.json\n",
      "results-fmbench-bedrock-anthropic-models/per_inference/1723501818.2889178.json\n",
      "results-fmbench-bedrock-anthropic-models/per_inference/1723501819.7411277.json\n",
      "results-fmbench-bedrock-anthropic-models/per_inference/1723501820.8868673.json\n",
      "results-fmbench-bedrock-anthropic-models/per_inference/1723501821.8815856.json\n",
      "results-fmbench-bedrock-anthropic-models/per_inference/1723501823.5569787.json\n",
      "results-fmbench-bedrock-anthropic-models/per_inference/1723501824.8729305.json\n",
      "results-fmbench-bedrock-anthropic-models/per_inference/1723501826.0340514.json\n",
      "results-fmbench-bedrock-anthropic-models/per_inference/1723501827.232534.json\n",
      "results-fmbench-bedrock-anthropic-models/per_inference/1723501827.9774818.json\n",
      "results-fmbench-bedrock-anthropic-models/per_inference/1723501829.0840697.json\n",
      "results-fmbench-bedrock-anthropic-models/per_inference/1723501830.5413005.json\n",
      "results-fmbench-bedrock-anthropic-models/per_inference/1723501831.8076046.json\n",
      "results-fmbench-bedrock-anthropic-models/per_inference/1723501832.8636465.json\n",
      "results-fmbench-bedrock-anthropic-models/per_inference/1723501834.1696534.json\n",
      "results-fmbench-bedrock-anthropic-models/per_inference/1723501835.4268796.json\n",
      "results-fmbench-bedrock-anthropic-models/per_inference/1723501837.3165548.json\n",
      "results-fmbench-bedrock-anthropic-models/per_inference/1723501838.903993.json\n",
      "results-fmbench-bedrock-anthropic-models/per_inference/1723501840.6264935.json\n",
      "results-fmbench-bedrock-anthropic-models/per_inference/1723501841.6227028.json\n",
      "results-fmbench-bedrock-anthropic-models/per_inference/1723501842.9498122.json\n",
      "results-fmbench-bedrock-anthropic-models/per_inference/1723501844.4131677.json\n",
      "results-fmbench-bedrock-anthropic-models/per_inference/1723501846.1780348.json\n",
      "results-fmbench-bedrock-anthropic-models/per_inference/1723501847.7691278.json\n",
      "results-fmbench-bedrock-anthropic-models/per_inference/1723501849.0179553.json\n",
      "results-fmbench-bedrock-anthropic-models/per_inference/1723501850.3818216.json\n",
      "results-fmbench-bedrock-anthropic-models/per_inference/1723501851.9856706.json\n",
      "results-fmbench-bedrock-anthropic-models/per_inference/1723501853.0293145.json\n",
      "results-fmbench-bedrock-anthropic-models/per_inference/1723501854.1880403.json\n",
      "results-fmbench-bedrock-anthropic-models/per_inference/1723501855.988838.json\n",
      "results-fmbench-bedrock-anthropic-models/per_inference/1723501857.1411824.json\n",
      "results-fmbench-bedrock-anthropic-models/per_inference/1723501858.5901763.json\n",
      "results-fmbench-bedrock-anthropic-models/per_inference/1723501860.0857368.json\n",
      "results-fmbench-bedrock-anthropic-models/per_inference/1723501861.711709.json\n",
      "results-fmbench-bedrock-anthropic-models/per_inference/1723501862.7414618.json\n",
      "results-fmbench-bedrock-anthropic-models/per_inference/1723501865.6465318.json\n",
      "results-fmbench-bedrock-anthropic-models/per_inference/1723501867.1812541.json\n",
      "results-fmbench-bedrock-anthropic-models/per_inference/1723501868.4042702.json\n",
      "results-fmbench-bedrock-anthropic-models/per_inference/1723501870.2002318.json\n",
      "results-fmbench-bedrock-anthropic-models/per_inference/1723501871.4100876.json\n",
      "results-fmbench-bedrock-anthropic-models/per_inference/1723501873.006145.json\n",
      "results-fmbench-bedrock-anthropic-models/per_inference/1723501874.7799037.json\n",
      "results-fmbench-bedrock-anthropic-models/per_inference/1723501877.7315955.json\n",
      "results-fmbench-bedrock-anthropic-models/per_inference/1723501878.6100025.json\n",
      "results-fmbench-bedrock-anthropic-models/per_inference/1723501879.5923848.json\n",
      "results-fmbench-bedrock-anthropic-models/per_inference/1723501880.2658832.json\n",
      "results-fmbench-bedrock-anthropic-models/per_inference/1723501881.2344375.json\n",
      "results-fmbench-bedrock-anthropic-models/per_inference/1723501882.4960551.json\n",
      "results-fmbench-bedrock-anthropic-models/per_inference/1723501883.782989.json\n",
      "results-fmbench-bedrock-anthropic-models/per_inference/1723501884.414346.json\n",
      "results-fmbench-bedrock-anthropic-models/per_inference/1723501885.10433.json\n",
      "results-fmbench-bedrock-anthropic-models/per_inference/1723501887.0830648.json\n",
      "results-fmbench-bedrock-anthropic-models/per_inference/1723501888.6459584.json\n",
      "results-fmbench-bedrock-anthropic-models/per_inference/1723501890.4720507.json\n",
      "results-fmbench-bedrock-anthropic-models/per_inference/1723501891.509694.json\n",
      "results-fmbench-bedrock-anthropic-models/per_inference/1723501893.1527138.json\n",
      "results-fmbench-bedrock-anthropic-models/per_inference/1723501894.1137457.json\n",
      "results-fmbench-bedrock-anthropic-models/per_inference/1723501894.9112067.json\n",
      "results-fmbench-bedrock-anthropic-models/per_inference/1723501896.101234.json\n",
      "results-fmbench-bedrock-anthropic-models/per_inference/1723501897.371094.json\n",
      "results-fmbench-bedrock-anthropic-models/per_inference/1723501898.1165323.json\n",
      "results-fmbench-bedrock-anthropic-models/per_inference/1723501899.2533517.json\n",
      "results-fmbench-bedrock-anthropic-models/per_inference/1723501900.0386608.json\n",
      "results-fmbench-bedrock-anthropic-models/per_inference/1723501901.4097102.json\n",
      "results-fmbench-bedrock-anthropic-models/per_inference/1723501902.834353.json\n",
      "results-fmbench-bedrock-anthropic-models/per_inference/1723501904.3922496.json\n",
      "results-fmbench-bedrock-anthropic-models/per_inference/1723501906.2530355.json\n",
      "results-fmbench-bedrock-anthropic-models/per_inference/1723501906.8729692.json\n",
      "results-fmbench-bedrock-anthropic-models/per_inference/1723501907.9519682.json\n",
      "results-fmbench-bedrock-anthropic-models/per_inference/1723501908.766168.json\n",
      "results-fmbench-bedrock-anthropic-models/per_inference/1723501909.4184222.json\n",
      "results-fmbench-bedrock-anthropic-models/per_inference/1723501910.420538.json\n",
      "results-fmbench-bedrock-anthropic-models/per_inference/1723501911.1975844.json\n",
      "results-fmbench-bedrock-anthropic-models/per_inference/1723501913.0324137.json\n",
      "results-fmbench-bedrock-anthropic-models/per_inference/1723501914.0058572.json\n",
      "results-fmbench-bedrock-anthropic-models/per_inference/1723501915.180078.json\n",
      "results-fmbench-bedrock-anthropic-models/per_inference/1723501916.0632799.json\n",
      "results-fmbench-bedrock-anthropic-models/per_inference/1723501917.2194505.json\n",
      "results-fmbench-bedrock-anthropic-models/per_inference/1723501918.4285035.json\n",
      "results-fmbench-bedrock-anthropic-models/per_inference/1723501920.4655647.json\n",
      "results-fmbench-bedrock-anthropic-models/per_inference/1723501922.3005366.json\n",
      "results-fmbench-bedrock-anthropic-models/per_inference/1723501923.5494926.json\n",
      "results-fmbench-bedrock-anthropic-models/per_inference/1723501925.1519156.json\n",
      "results-fmbench-bedrock-anthropic-models/per_inference/1723501926.2364342.json\n",
      "results-fmbench-bedrock-anthropic-models/per_inference/1723501928.697155.json\n",
      "results-fmbench-bedrock-anthropic-models/per_inference/1723501929.7965224.json\n",
      "results-fmbench-bedrock-anthropic-models/per_inference/1723501931.2048633.json\n",
      "results-fmbench-bedrock-anthropic-models/per_inference/1723501932.8372333.json\n",
      "results-fmbench-bedrock-anthropic-models/per_inference/1723501933.8166838.json\n",
      "results-fmbench-bedrock-anthropic-models/per_inference/1723501935.1734612.json\n",
      "results-fmbench-bedrock-anthropic-models/per_inference/1723501936.6083713.json\n",
      "results-fmbench-bedrock-anthropic-models/per_inference/1723501938.0470252.json\n",
      "results-fmbench-bedrock-anthropic-models/per_inference/1723501939.3525698.json\n",
      "results-fmbench-bedrock-anthropic-models/per_inference/1723501940.7995496.json\n",
      "results-fmbench-bedrock-anthropic-models/per_inference/1723501942.4419992.json\n",
      "results-fmbench-bedrock-anthropic-models/per_inference/1723501944.0560105.json\n",
      "results-fmbench-bedrock-anthropic-models/per_inference/1723501945.1645322.json\n",
      "results-fmbench-bedrock-anthropic-models/per_inference/1723501946.4820344.json\n",
      "results-fmbench-bedrock-anthropic-models/per_inference/1723501948.1535833.json\n",
      "results-fmbench-bedrock-anthropic-models/per_inference/1723501949.6959786.json\n",
      "results-fmbench-bedrock-anthropic-models/per_inference/1723501951.2753925.json\n",
      "results-fmbench-bedrock-anthropic-models/per_inference/1723501952.5020669.json\n",
      "results-fmbench-bedrock-anthropic-models/per_inference/1723501953.7296064.json\n",
      "results-fmbench-bedrock-anthropic-models/per_inference/1723501954.737927.json\n",
      "results-fmbench-bedrock-anthropic-models/per_inference/1723501956.0169146.json\n",
      "results-fmbench-bedrock-anthropic-models/per_inference/1723501957.4448621.json\n",
      "results-fmbench-bedrock-anthropic-models/per_inference/1723501958.684281.json\n",
      "results-fmbench-bedrock-anthropic-models/per_inference/1723501959.7830467.json\n",
      "results-fmbench-bedrock-anthropic-models/per_inference/1723501961.2650344.json\n",
      "results-fmbench-bedrock-anthropic-models/per_inference/1723501962.824592.json\n",
      "results-fmbench-bedrock-anthropic-models/per_inference/1723501964.1468954.json\n",
      "results-fmbench-bedrock-anthropic-models/per_inference/1723501965.2696507.json\n",
      "results-fmbench-bedrock-anthropic-models/per_inference/1723501967.0352046.json\n",
      "results-fmbench-bedrock-anthropic-models/per_inference/1723501968.0113065.json\n",
      "results-fmbench-bedrock-anthropic-models/per_inference/1723501969.4572396.json\n",
      "results-fmbench-bedrock-anthropic-models/per_inference/1723501970.9206672.json\n",
      "results-fmbench-bedrock-anthropic-models/per_inference/1723501971.9261708.json\n",
      "results-fmbench-bedrock-anthropic-models/per_inference/1723501973.2237275.json\n",
      "results-fmbench-bedrock-anthropic-models/per_inference/1723501974.9266436.json\n",
      "results-fmbench-bedrock-anthropic-models/per_inference/1723501975.8717318.json\n",
      "results-fmbench-bedrock-anthropic-models/per_inference/1723501977.5809715.json\n",
      "results-fmbench-bedrock-anthropic-models/per_inference/1723501978.850912.json\n",
      "results-fmbench-bedrock-anthropic-models/per_inference/1723501980.3919792.json\n",
      "results-fmbench-bedrock-anthropic-models/per_inference/1723501981.960998.json\n",
      "results-fmbench-bedrock-anthropic-models/per_inference/1723501983.1549892.json\n",
      "results-fmbench-bedrock-anthropic-models/per_inference/1723501984.6684558.json\n",
      "results-fmbench-bedrock-anthropic-models/per_inference/1723501985.897092.json\n",
      "results-fmbench-bedrock-anthropic-models/per_inference/1723501987.9780214.json\n",
      "results-fmbench-bedrock-anthropic-models/per_inference/1723501989.4390967.json\n",
      "results-fmbench-bedrock-anthropic-models/per_inference/1723501991.0962312.json\n",
      "results-fmbench-bedrock-anthropic-models/per_inference/1723501992.255498.json\n",
      "results-fmbench-bedrock-anthropic-models/per_inference/1723501993.440917.json\n",
      "results-fmbench-bedrock-anthropic-models/per_inference/1723501994.5580487.json\n",
      "results-fmbench-bedrock-anthropic-models/per_inference/1723501995.4601023.json\n",
      "results-fmbench-bedrock-anthropic-models/per_inference/1723501997.0457625.json\n",
      "results-fmbench-bedrock-anthropic-models/per_inference/1723501998.401308.json\n",
      "results-fmbench-bedrock-anthropic-models/per_inference/1723501999.3733897.json\n",
      "results-fmbench-bedrock-anthropic-models/per_inference/1723502000.7064583.json\n",
      "results-fmbench-bedrock-anthropic-models/per_inference/1723502001.9355774.json\n",
      "results-fmbench-bedrock-anthropic-models/per_inference/1723502003.5083745.json\n",
      "results-fmbench-bedrock-anthropic-models/per_inference/1723502005.1673088.json\n",
      "results-fmbench-bedrock-anthropic-models/per_inference/1723502006.8374968.json\n",
      "results-fmbench-bedrock-anthropic-models/per_inference/1723502007.8380942.json\n",
      "results-fmbench-bedrock-anthropic-models/per_inference/1723502009.1411095.json\n",
      "results-fmbench-bedrock-anthropic-models/per_inference/1723502010.8376768.json\n",
      "results-fmbench-bedrock-anthropic-models/per_inference/1723502012.436771.json\n",
      "results-fmbench-bedrock-anthropic-models/per_inference/1723502013.3880205.json\n",
      "results-fmbench-bedrock-anthropic-models/per_inference/1723502014.5215242.json\n",
      "results-fmbench-bedrock-anthropic-models/per_inference/1723502015.9737356.json\n",
      "results-fmbench-bedrock-anthropic-models/per_inference/1723502017.2287526.json\n",
      "results-fmbench-bedrock-anthropic-models/per_inference/1723502018.213655.json\n",
      "results-fmbench-bedrock-anthropic-models/per_inference/1723502019.4194243.json\n",
      "results-fmbench-bedrock-anthropic-models/per_inference/1723502020.7971447.json\n",
      "results-fmbench-bedrock-anthropic-models/per_inference/1723502022.0447638.json\n",
      "results-fmbench-bedrock-anthropic-models/per_inference/1723502023.4641898.json\n",
      "results-fmbench-bedrock-anthropic-models/per_inference/1723502024.4961348.json\n",
      "results-fmbench-bedrock-anthropic-models/per_inference/1723502025.6593845.json\n",
      "results-fmbench-bedrock-anthropic-models/per_inference/1723502026.383071.json\n",
      "results-fmbench-bedrock-anthropic-models/per_inference/1723502027.41703.json\n",
      "results-fmbench-bedrock-anthropic-models/per_inference/1723502028.8420112.json\n",
      "results-fmbench-bedrock-anthropic-models/per_inference/1723502029.8561852.json\n",
      "results-fmbench-bedrock-anthropic-models/per_inference/1723502031.3868482.json\n",
      "results-fmbench-bedrock-anthropic-models/per_inference/1723502032.1634583.json\n",
      "results-fmbench-bedrock-anthropic-models/per_inference/1723502033.8927135.json\n",
      "results-fmbench-bedrock-anthropic-models/per_inference/1723502035.0911632.json\n",
      "results-fmbench-bedrock-anthropic-models/per_inference/1723502036.4375966.json\n",
      "results-fmbench-bedrock-anthropic-models/per_inference/1723502037.576926.json\n",
      "results-fmbench-bedrock-anthropic-models/per_inference/1723502038.6485229.json\n",
      "results-fmbench-bedrock-anthropic-models/per_inference/1723502039.7531526.json\n",
      "results-fmbench-bedrock-anthropic-models/per_inference/1723502040.9570136.json\n",
      "results-fmbench-bedrock-anthropic-models/per_inference/1723502042.0546153.json\n",
      "results-fmbench-bedrock-anthropic-models/per_inference/1723502043.2188456.json\n",
      "results-fmbench-bedrock-anthropic-models/per_inference/1723502044.097572.json\n",
      "results-fmbench-bedrock-anthropic-models/per_inference/1723502045.0392504.json\n",
      "results-fmbench-bedrock-anthropic-models/per_inference/1723502046.4468148.json\n",
      "results-fmbench-bedrock-anthropic-models/per_inference/1723502047.2914338.json\n",
      "results-fmbench-bedrock-anthropic-models/per_inference/1723502048.5038137.json\n",
      "results-fmbench-bedrock-anthropic-models/per_inference/1723502049.4954507.json\n",
      "results-fmbench-bedrock-anthropic-models/per_inference/1723502050.401255.json\n",
      "results-fmbench-bedrock-anthropic-models/per_inference/1723502051.4297056.json\n",
      "results-fmbench-bedrock-anthropic-models/per_inference/1723502052.4015741.json\n",
      "results-fmbench-bedrock-anthropic-models/per_inference/1723502053.8837333.json\n",
      "results-fmbench-bedrock-anthropic-models/responses_need_further_eval.txt\n",
      "results-fmbench-bedrock-anthropic-models/anthropic.claude-3-sonnet-20240229-v1:0_needs_further_human_or_LLM_evaluation_verdicts_evaluation.txt\n",
      "results-fmbench-bedrock-anthropic-models/business_summary.html\n",
      "results-fmbench-bedrock-anthropic-models/business_summary.png\n",
      "results-fmbench-bedrock-anthropic-models/business_summary_barchart.png\n",
      "results-fmbench-bedrock-anthropic-models/candidate_model_accuracy.csv\n",
      "results-fmbench-bedrock-anthropic-models/report.md\n",
      "results-fmbench-bedrock-anthropic-models/cohere.command-r-plus-v1:0_correct_verdicts_evaluation.txt\n",
      "results-fmbench-bedrock-anthropic-models/per_inference_request_results.csv\n",
      "results-fmbench-bedrock-anthropic-models/cohere.command-r-plus-v1:0_incorrect_verdicts_evaluation.txt\n",
      "results-fmbench-bedrock-anthropic-models/overall_candidate_model_majority_voting_accuracy.html\n",
      "results-fmbench-bedrock-anthropic-models/cohere.command-r-plus-v1:0_needs_further_human_or_LLM_evaluation_verdicts_evaluation.txt\n",
      "results-fmbench-bedrock-anthropic-models/summary_metrics_w_pricing.csv\n",
      "results-fmbench-bedrock-anthropic-models/concurrency_vs_inference_latency.png\n",
      "results-fmbench-bedrock-anthropic-models/correct_verdict_responses.csv\n",
      "results-fmbench-bedrock-anthropic-models/tokens_vs_latency.png\n",
      "results-fmbench-bedrock-anthropic-models/endpoint_per_instance_per_run_costs.csv\n",
      "results-fmbench-bedrock-anthropic-models/error_rates.csv\n",
      "results-fmbench-bedrock-anthropic-models/error_rates.png\n",
      "results-fmbench-bedrock-anthropic-models/experiment_counts.csv\n",
      "results-fmbench-bedrock-anthropic-models/incorrect_verdict_responses.csv\n",
      "results-fmbench-bedrock-anthropic-models/llm_as_a_judge_per_eval_summary.csv\n",
      "results-fmbench-bedrock-anthropic-models/verdict_type_breakdown_for_correct.csv\n",
      "results-fmbench-bedrock-anthropic-models/majority_vote_accuracy_per_payload_file.csv\n",
      "results-fmbench-bedrock-anthropic-models/majority_vote_results_raw.csv\n",
      "results-fmbench-bedrock-anthropic-models/per_model_accuracy_w_verdict_type.csv\n",
      "results-fmbench-bedrock-anthropic-models/meta.llama3-70b-instruct-v1:0_correct_verdicts_evaluation.txt\n",
      "results-fmbench-bedrock-anthropic-models/raw_llm_as_a_judge_evals.csv\n",
      "results-fmbench-bedrock-anthropic-models/meta.llama3-70b-instruct-v1:0_incorrect_verdicts_evaluation.txt\n",
      "results-fmbench-bedrock-anthropic-models/overall_candidate_model_majority_voting_accuracy.png\n",
      "results-fmbench-bedrock-anthropic-models/meta.llama3-70b-instruct-v1:0_needs_further_human_or_LLM_evaluation_verdicts_evaluation.txt\n",
      "results-fmbench-bedrock-anthropic-models/per_model_per_eval_judge_accuracy.csv\n",
      "results-fmbench-bedrock-anthropic-models/summary_metrics_for_dataset_best_option.csv\n",
      "results-fmbench-bedrock-anthropic-models/per_payload_model_accuracy_majority_vote.csv\n",
      "results-fmbench-bedrock-anthropic-models/per_poll_eval\n",
      "results-fmbench-bedrock-anthropic-models/per_poll_eval/anthropic.claude-3-haiku-20240307-v1:0_1723503192.9773455_Based_on_the_information_provided.json\n",
      "results-fmbench-bedrock-anthropic-models/per_poll_eval/anthropic.claude-3-haiku-20240307-v1:0_1723503192.9076722_Based_on_the_information_provided.json\n",
      "results-fmbench-bedrock-anthropic-models/per_poll_eval/anthropic.claude-3-haiku-20240307-v1:0_1723503192.947055_According_to_the_passage__King.json\n",
      "results-fmbench-bedrock-anthropic-models/per_poll_eval/anthropic.claude-3-haiku-20240307-v1:0_1723503192.9081726_According_to_the_information_provided_.json\n",
      "results-fmbench-bedrock-anthropic-models/per_poll_eval/anthropic.claude-3-haiku-20240307-v1:0_1723503192.98572_According_to_the_passage__Magnus.json\n",
      "results-fmbench-bedrock-anthropic-models/per_poll_eval/anthropic.claude-3-haiku-20240307-v1:0_1723503192.9087334_No__Ding_Yaping_and_Johann.json\n",
      "results-fmbench-bedrock-anthropic-models/per_poll_eval/anthropic.claude-3-haiku-20240307-v1:0_1723503192.9476395_Charlotte_of_Mecklenburg_Strelitz_was_the.json\n",
      "results-fmbench-bedrock-anthropic-models/per_poll_eval/anthropic.claude-3-haiku-20240307-v1:0_1723503192.9093072_According_to_the_information_provided.json\n",
      "results-fmbench-bedrock-anthropic-models/per_poll_eval/anthropic.claude-3-haiku-20240307-v1:0_1723503192.9780207_Based_on_the_information_provided_.json\n",
      "results-fmbench-bedrock-anthropic-models/per_poll_eval/anthropic.claude-3-haiku-20240307-v1:0_1723503192.9099183_Based_on_the_information_provided.json\n",
      "results-fmbench-bedrock-anthropic-models/per_poll_eval/anthropic.claude-3-haiku-20240307-v1:0_1723503192.9863694_Based_on_the_information_provided_.json\n",
      "results-fmbench-bedrock-anthropic-models/per_poll_eval/anthropic.claude-3-haiku-20240307-v1:0_1723503192.9124787_The_passage_does_not_mention.json\n",
      "results-fmbench-bedrock-anthropic-models/per_poll_eval/anthropic.claude-3-haiku-20240307-v1:0_1723503192.9833512_The_passage_does_not_provide.json\n",
      "results-fmbench-bedrock-anthropic-models/per_poll_eval/anthropic.claude-3-haiku-20240307-v1:0_1723503192.9130833_Based_on_the_information_provided.json\n",
      "results-fmbench-bedrock-anthropic-models/per_poll_eval/anthropic.claude-3-haiku-20240307-v1:0_1723503192.983982_No__Thomas_Wykes__the_chronicler_.json\n",
      "results-fmbench-bedrock-anthropic-models/per_poll_eval/anthropic.claude-3-haiku-20240307-v1:0_1723503192.913684_Yes__Edmonton_Twin_Island_Airpark_and.json\n",
      "results-fmbench-bedrock-anthropic-models/per_poll_eval/anthropic.claude-3-haiku-20240307-v1:0_1723503192.9845264_No__The_Bloom_of_Yesterday.json\n",
      "results-fmbench-bedrock-anthropic-models/per_poll_eval/anthropic.claude-3-haiku-20240307-v1:0_1723503192.9143136_Based_on_the_information_provided_.json\n",
      "results-fmbench-bedrock-anthropic-models/per_poll_eval/anthropic.claude-3-haiku-20240307-v1:0_1723503193.0237699_Jake_LaMotta__nicknamed__The_Bronx.json\n",
      "results-fmbench-bedrock-anthropic-models/per_poll_eval/anthropic.claude-3-haiku-20240307-v1:0_1723503192.941993_The_Uffizi_and_the_Bargello.json\n",
      "results-fmbench-bedrock-anthropic-models/per_poll_eval/anthropic.claude-3-haiku-20240307-v1:0_1723503193.0274005_Based_on_the_passage__La.json\n",
      "results-fmbench-bedrock-anthropic-models/per_poll_eval/anthropic.claude-3-haiku-20240307-v1:0_1723503192.9430525_I_do_not_see_any.json\n",
      "results-fmbench-bedrock-anthropic-models/per_poll_eval/anthropic.claude-3-haiku-20240307-v1:0_1723503193.0244954_According_to_the_passage__in.json\n",
      "results-fmbench-bedrock-anthropic-models/per_poll_eval/anthropic.claude-3-haiku-20240307-v1:0_1723503192.9436219_A_guillemot_is_a_type.json\n",
      "results-fmbench-bedrock-anthropic-models/per_poll_eval/anthropic.claude-3-haiku-20240307-v1:0_1723503193.0263617_The_last_name_of_the.json\n",
      "results-fmbench-bedrock-anthropic-models/per_poll_eval/anthropic.claude-3-haiku-20240307-v1:0_1723503192.944254_The_song__Seasons_in_the.json\n",
      "results-fmbench-bedrock-anthropic-models/per_poll_eval/anthropic.claude-3-haiku-20240307-v1:0_1723503193.0269282_According_to_the_passage__the.json\n",
      "results-fmbench-bedrock-anthropic-models/per_poll_eval/anthropic.claude-3-haiku-20240307-v1:0_1723503192.9448543_The_song__Dakota__by_the.json\n",
      "results-fmbench-bedrock-anthropic-models/per_poll_eval/anthropic.claude-3-haiku-20240307-v1:0_1723503192.9851637_Based_on_the_information_provided_.json\n",
      "results-fmbench-bedrock-anthropic-models/per_poll_eval/anthropic.claude-3-haiku-20240307-v1:0_1723503192.9455726_Spelunking_is_the_exploration_of.json\n",
      "results-fmbench-bedrock-anthropic-models/per_poll_eval/anthropic.claude-3-haiku-20240307-v1:0_1723503192.9764988_No__Breville_and_Jakab_Industries.json\n",
      "results-fmbench-bedrock-anthropic-models/per_poll_eval/anthropic.claude-3-haiku-20240307-v1:0_1723503192.946415_The_counter_intelligence_agency_featured_in.json\n",
      "results-fmbench-bedrock-anthropic-models/per_poll_eval/anthropic.claude-3-haiku-20240307-v1:0_1723503193.025847_The_capital_of_the_U_S_.json\n",
      "results-fmbench-bedrock-anthropic-models/per_poll_eval/anthropic.claude-3-haiku-20240307-v1:0_1723503193.0251713_According_to_the_passage__the.json\n",
      "results-fmbench-bedrock-anthropic-models/per_poll_eval/anthropic.claude-3-haiku-20240307-v1:0_1723503193.0281515_According_to_the_passage__Anne.json\n",
      "results-fmbench-bedrock-anthropic-models/per_poll_eval/anthropic.claude-3-haiku-20240307-v1:0_1723503193.0287452_O_R__Tambo_International_Airport_is.json\n",
      "results-fmbench-bedrock-anthropic-models/per_poll_eval/anthropic.claude-3-haiku-20240307-v1:0_1723503193.2061903_According_to_the_passage__in.json\n",
      "results-fmbench-bedrock-anthropic-models/per_poll_eval/anthropic.claude-3-haiku-20240307-v1:0_1723503193.206806_The_Siege_Perilous_was_a.json\n",
      "results-fmbench-bedrock-anthropic-models/per_poll_eval/anthropic.claude-3-haiku-20240307-v1:0_1723503193.207524_The_first_emperor_of_Rome.json\n",
      "results-fmbench-bedrock-anthropic-models/per_poll_eval/anthropic.claude-3-haiku-20240307-v1:0_1723503193.208034_In_physics__the__rate_of.json\n",
      "results-fmbench-bedrock-anthropic-models/per_poll_eval/anthropic.claude-3-haiku-20240307-v1:0_1723503193.2086143_According_to_the_passage__Mary.json\n",
      "results-fmbench-bedrock-anthropic-models/per_poll_eval/anthropic.claude-3-haiku-20240307-v1:0_1723503193.2092226_You_would_find_a_cowcatcher.json\n",
      "results-fmbench-bedrock-anthropic-models/per_poll_eval/anthropic.claude-3-haiku-20240307-v1:0_1723503193.2099233_According_to_the_passage__Andrew.json\n",
      "results-fmbench-bedrock-anthropic-models/per_poll_eval/anthropic.claude-3-haiku-20240307-v1:0_1723503193.2104213_The_precious_gem_that_is.json\n",
      "results-fmbench-bedrock-anthropic-models/per_poll_eval/anthropic.claude-3-haiku-20240307-v1:0_1723503193.2111292_According_to_the_passage__the.json\n",
      "results-fmbench-bedrock-anthropic-models/per_poll_eval/anthropic.claude-3-haiku-20240307-v1:0_1723503193.243434_According_to_the_passage__the.json\n",
      "results-fmbench-bedrock-anthropic-models/per_poll_eval/anthropic.claude-3-haiku-20240307-v1:0_1723503193.244019_The_Hennessy_Gold_Cup_is.json\n",
      "results-fmbench-bedrock-anthropic-models/per_poll_eval/anthropic.claude-3-haiku-20240307-v1:0_1723503193.24475_The_names_of_Donald_Duck_s.json\n",
      "results-fmbench-bedrock-anthropic-models/per_poll_eval/anthropic.claude-3-haiku-20240307-v1:0_1723503193.2453187_The_boxer_who_was_stripped.json\n",
      "results-fmbench-bedrock-anthropic-models/per_poll_eval/anthropic.claude-3-haiku-20240307-v1:0_1723503193.2459059_Aldo_Moro__a_former_Italian.json\n",
      "results-fmbench-bedrock-anthropic-models/per_poll_eval/anthropic.claude-3-haiku-20240307-v1:0_1723503193.2465317_Cary_Grant.json\n",
      "results-fmbench-bedrock-anthropic-models/per_poll_eval/anthropic.claude-3-haiku-20240307-v1:0_1723503193.2473173_The_name_of_David_Bowie_s.json\n",
      "results-fmbench-bedrock-anthropic-models/per_poll_eval/anthropic.claude-3-haiku-20240307-v1:0_1723503193.2479358_Unfortunately__the_passage_provided_does.json\n",
      "results-fmbench-bedrock-anthropic-models/per_poll_eval/anthropic.claude-3-haiku-20240307-v1:0_1723503193.2487442_According_to_the_passage__a.json\n",
      "results-fmbench-bedrock-anthropic-models/per_poll_eval/anthropic.claude-3-haiku-20240307-v1:0_1723503193.2922363_Based_on_the_information_provided_.json\n",
      "results-fmbench-bedrock-anthropic-models/per_poll_eval/anthropic.claude-3-haiku-20240307-v1:0_1723503193.292875_According_to_the_information_provided.json\n",
      "results-fmbench-bedrock-anthropic-models/per_poll_eval/anthropic.claude-3-haiku-20240307-v1:0_1723503193.2934003_According_to_the_information_provided_.json\n",
      "results-fmbench-bedrock-anthropic-models/per_poll_eval/anthropic.claude-3-haiku-20240307-v1:0_1723503193.2940001_Based_on_the_information_provided.json\n",
      "results-fmbench-bedrock-anthropic-models/per_poll_eval/anthropic.claude-3-haiku-20240307-v1:0_1723503193.294734_Based_on_the_information_provided.json\n",
      "results-fmbench-bedrock-anthropic-models/per_poll_eval/anthropic.claude-3-haiku-20240307-v1:0_1723503193.2954023_No__the_information_provided_does.json\n",
      "results-fmbench-bedrock-anthropic-models/per_poll_eval/anthropic.claude-3-haiku-20240307-v1:0_1723503193.2961247_Based_on_the_information_provided.json\n",
      "results-fmbench-bedrock-anthropic-models/per_poll_eval/anthropic.claude-3-haiku-20240307-v1:0_1723503193.2985697_Based_on_the_information_provided.json\n",
      "results-fmbench-bedrock-anthropic-models/per_poll_eval/anthropic.claude-3-haiku-20240307-v1:0_1723503193.2992506_The_passage_does_not_provide.json\n",
      "results-fmbench-bedrock-anthropic-models/per_poll_eval/anthropic.claude-3-haiku-20240307-v1:0_1723503193.3324203_According_to_the_information_provided_.json\n",
      "results-fmbench-bedrock-anthropic-models/per_poll_eval/anthropic.claude-3-haiku-20240307-v1:0_1723503193.3329988_According_to_the_passage__the.json\n",
      "results-fmbench-bedrock-anthropic-models/per_poll_eval/anthropic.claude-3-haiku-20240307-v1:0_1723503193.3351085_According_to_the_passage__Aughton.json\n",
      "results-fmbench-bedrock-anthropic-models/per_poll_eval/anthropic.claude-3-haiku-20240307-v1:0_1723503193.335932_Based_on_the_information_provided.json\n",
      "results-fmbench-bedrock-anthropic-models/per_poll_eval/anthropic.claude-3-haiku-20240307-v1:0_1723503193.3365283_According_to_the_information_provided_.json\n",
      "results-fmbench-bedrock-anthropic-models/per_poll_eval/anthropic.claude-3-haiku-20240307-v1:0_1723503193.337538_According_to_the_information_provided_.json\n",
      "results-fmbench-bedrock-anthropic-models/per_poll_eval/anthropic.claude-3-haiku-20240307-v1:0_1723503193.338145_Based_on_the_information_provided.json\n",
      "results-fmbench-bedrock-anthropic-models/per_poll_eval/anthropic.claude-3-haiku-20240307-v1:0_1723503193.3387449_The_song__She_s_My_Baby_.json\n",
      "results-fmbench-bedrock-anthropic-models/per_poll_eval/anthropic.claude-3-haiku-20240307-v1:0_1723503193.339323_Based_on_the_information_provided.json\n",
      "results-fmbench-bedrock-anthropic-models/per_poll_eval/anthropic.claude-3-haiku-20240307-v1:0_1723503193.5219753_Yes__both_Yana_Urqu__Q_Umirqucha_.json\n",
      "results-fmbench-bedrock-anthropic-models/per_poll_eval/anthropic.claude-3-haiku-20240307-v1:0_1723503193.522594_Both_WAGS_Atlanta_and_WAGS.json\n",
      "results-fmbench-bedrock-anthropic-models/per_poll_eval/anthropic.claude-3-haiku-20240307-v1:0_1723503193.5233693_Based_on_the_information_provided.json\n",
      "results-fmbench-bedrock-anthropic-models/per_poll_eval/anthropic.claude-3-haiku-20240307-v1:0_1723503193.5239615_Based_on_the_information_provided.json\n",
      "results-fmbench-bedrock-anthropic-models/per_poll_eval/anthropic.claude-3-haiku-20240307-v1:0_1723503193.5313303_Based_on_the_information_provided_.json\n",
      "results-fmbench-bedrock-anthropic-models/per_poll_eval/anthropic.claude-3-haiku-20240307-v1:0_1723503193.5320902_Based_on_the_information_provided.json\n",
      "results-fmbench-bedrock-anthropic-models/per_poll_eval/anthropic.claude-3-haiku-20240307-v1:0_1723503193.5329173_Based_on_the_information_provided.json\n",
      "results-fmbench-bedrock-anthropic-models/per_poll_eval/anthropic.claude-3-haiku-20240307-v1:0_1723503193.5334666_No__Revolt_in_the_Big.json\n",
      "results-fmbench-bedrock-anthropic-models/per_poll_eval/anthropic.claude-3-haiku-20240307-v1:0_1723503193.534112_The_passage_does_not_provide.json\n",
      "results-fmbench-bedrock-anthropic-models/per_poll_eval/anthropic.claude-3-haiku-20240307-v1:0_1723503193.5703552_Based_on_the_information_provided.json\n",
      "results-fmbench-bedrock-anthropic-models/per_poll_eval/anthropic.claude-3-haiku-20240307-v1:0_1723503193.5717907_According_to_the_information_provided.json\n",
      "results-fmbench-bedrock-anthropic-models/per_poll_eval/anthropic.claude-3-haiku-20240307-v1:0_1723503193.572381_No__Yadboro_River_and_Pigna.json\n",
      "results-fmbench-bedrock-anthropic-models/per_poll_eval/anthropic.claude-3-haiku-20240307-v1:0_1723503193.572954_According_to_the_information_provided_.json\n",
      "results-fmbench-bedrock-anthropic-models/per_poll_eval/anthropic.claude-3-haiku-20240307-v1:0_1723503193.5735078_Band_e_Amir_Dragons_is_named_after.json\n",
      "results-fmbench-bedrock-anthropic-models/per_poll_eval/anthropic.claude-3-haiku-20240307-v1:0_1723503193.574794_The_radio_station_that_serves.json\n",
      "results-fmbench-bedrock-anthropic-models/per_poll_eval/anthropic.claude-3-haiku-20240307-v1:0_1723503193.5759113_Based_on_the_information_provided.json\n",
      "results-fmbench-bedrock-anthropic-models/per_poll_eval/anthropic.claude-3-haiku-20240307-v1:0_1723503193.5764508_Based_on_the_information_provided.json\n",
      "results-fmbench-bedrock-anthropic-models/per_poll_eval/anthropic.claude-3-haiku-20240307-v1:0_1723503193.5771792_Based_on_the_information_provided.json\n",
      "results-fmbench-bedrock-anthropic-models/per_poll_eval/anthropic.claude-3-haiku-20240307-v1:0_1723503193.6084723_According_to_the_passage__the.json\n",
      "results-fmbench-bedrock-anthropic-models/per_poll_eval/anthropic.claude-3-haiku-20240307-v1:0_1723503193.611435_The_passage_does_not_provide.json\n",
      "results-fmbench-bedrock-anthropic-models/per_poll_eval/anthropic.claude-3-haiku-20240307-v1:0_1723503193.6124094_According_to_the_information_provided_.json\n",
      "results-fmbench-bedrock-anthropic-models/per_poll_eval/anthropic.claude-3-haiku-20240307-v1:0_1723503193.6130705_Based_on_the_information_provided.json\n",
      "results-fmbench-bedrock-anthropic-models/per_poll_eval/anthropic.claude-3-haiku-20240307-v1:0_1723503193.6139176_Based_on_the_information_provided.json\n",
      "results-fmbench-bedrock-anthropic-models/per_poll_eval/anthropic.claude-3-haiku-20240307-v1:0_1723503193.6188922_According_to_the_passages__Pyotr.json\n",
      "results-fmbench-bedrock-anthropic-models/per_poll_eval/anthropic.claude-3-haiku-20240307-v1:0_1723503193.619761_Based_on_the_information_provided.json\n",
      "results-fmbench-bedrock-anthropic-models/per_poll_eval/anthropic.claude-3-haiku-20240307-v1:0_1723503193.6205115_According_to_the_information_provided_.json\n",
      "results-fmbench-bedrock-anthropic-models/per_poll_eval/anthropic.claude-3-haiku-20240307-v1:0_1723503193.621324_According_to_the_passage__Sir.json\n",
      "results-fmbench-bedrock-anthropic-models/per_poll_eval/anthropic.claude-3-haiku-20240307-v1:0_1723503193.667059_According_to_the_information_provided.json\n",
      "results-fmbench-bedrock-anthropic-models/per_poll_eval/anthropic.claude-3-haiku-20240307-v1:0_1723503193.668225_The_ingredients_for_she_crab_soup.json\n",
      "results-fmbench-bedrock-anthropic-models/per_poll_eval/anthropic.claude-3-haiku-20240307-v1:0_1723503193.6691008_According_to_the_information_provided_.json\n",
      "results-fmbench-bedrock-anthropic-models/per_poll_eval/anthropic.claude-3-haiku-20240307-v1:0_1723503193.6699717_The_play_in_which_Rønnaug.json\n",
      "results-fmbench-bedrock-anthropic-models/per_poll_eval/anthropic.claude-3-haiku-20240307-v1:0_1723503193.6711307_According_to_the_information_provided_.json\n",
      "results-fmbench-bedrock-anthropic-models/per_poll_eval/anthropic.claude-3-haiku-20240307-v1:0_1723503193.673796_Based_on_the_information_provided.json\n",
      "results-fmbench-bedrock-anthropic-models/per_poll_eval/anthropic.claude-3-haiku-20240307-v1:0_1723503193.675496_Willsmere_was_a_railway_station.json\n",
      "results-fmbench-bedrock-anthropic-models/per_poll_eval/anthropic.claude-3-haiku-20240307-v1:0_1723503193.6763656_Based_on_the_information_provided.json\n",
      "results-fmbench-bedrock-anthropic-models/per_poll_eval/anthropic.claude-3-haiku-20240307-v1:0_1723503193.6778936_Based_on_the_information_provided.json\n",
      "results-fmbench-bedrock-anthropic-models/per_poll_eval/anthropic.claude-3-haiku-20240307-v1:0_1723503193.718509_Juba_is_the_capital_of.json\n",
      "results-fmbench-bedrock-anthropic-models/per_poll_eval/anthropic.claude-3-haiku-20240307-v1:0_1723503193.7193246_The_paintings_entitled__St__George.json\n",
      "results-fmbench-bedrock-anthropic-models/per_poll_eval/anthropic.claude-3-haiku-20240307-v1:0_1723503193.720681_According_to_the_passage__Christopher.json\n",
      "results-fmbench-bedrock-anthropic-models/per_poll_eval/anthropic.claude-3-haiku-20240307-v1:0_1723503193.7224581_Harriet_Tubman_was_a_conductor.json\n",
      "results-fmbench-bedrock-anthropic-models/per_poll_eval/anthropic.claude-3-haiku-20240307-v1:0_1723503193.7235253_According_to_the_passage__Boris.json\n",
      "results-fmbench-bedrock-anthropic-models/per_poll_eval/anthropic.claude-3-sonnet-20240229-v1:0_1723503192.6924434_Sinofranchetia_and_Stauntonia_are_genera.json\n",
      "results-fmbench-bedrock-anthropic-models/per_poll_eval/anthropic.claude-3-sonnet-20240229-v1:0_1723503192.6946716_No__Rhosgoch_and_Qaleh_ye_Sahar.json\n",
      "results-fmbench-bedrock-anthropic-models/per_poll_eval/anthropic.claude-3-sonnet-20240229-v1:0_1723503192.6957452_Yes__both_Gut__Crișul_Alb_.json\n",
      "results-fmbench-bedrock-anthropic-models/per_poll_eval/anthropic.claude-3-sonnet-20240229-v1:0_1723503192.6964045_Yes__both_Howard_Lake__British.json\n",
      "results-fmbench-bedrock-anthropic-models/per_poll_eval/anthropic.claude-3-sonnet-20240229-v1:0_1723503192.697152_Yes__both_Yana_Urqu__Q_umirqucha_.json\n",
      "results-fmbench-bedrock-anthropic-models/per_poll_eval/anthropic.claude-3-sonnet-20240229-v1:0_1723503192.6978927_Both_WAGS_Atlanta_and_WAGS.json\n",
      "results-fmbench-bedrock-anthropic-models/per_poll_eval/anthropic.claude-3-sonnet-20240229-v1:0_1723503192.6985328_Based_on_the_provided_passages_.json\n",
      "results-fmbench-bedrock-anthropic-models/per_poll_eval/anthropic.claude-3-sonnet-20240229-v1:0_1723503192.699214_Based_on_the_given_passages_.json\n",
      "results-fmbench-bedrock-anthropic-models/per_poll_eval/anthropic.claude-3-sonnet-20240229-v1:0_1723503192.7350516_Based_on_the_information_provided_.json\n",
      "results-fmbench-bedrock-anthropic-models/per_poll_eval/anthropic.claude-3-sonnet-20240229-v1:0_1723503192.735795_No__Kakwa_River_and_Bighead.json\n",
      "results-fmbench-bedrock-anthropic-models/per_poll_eval/anthropic.claude-3-sonnet-20240229-v1:0_1723503192.7365017_Based_on_the_given_passages_.json\n",
      "results-fmbench-bedrock-anthropic-models/per_poll_eval/anthropic.claude-3-sonnet-20240229-v1:0_1723503192.737885_According_to_the_passages__William.json\n",
      "results-fmbench-bedrock-anthropic-models/per_poll_eval/anthropic.claude-3-sonnet-20240229-v1:0_1723503192.7384636_Based_on_the_provided_context_.json\n",
      "results-fmbench-bedrock-anthropic-models/per_poll_eval/anthropic.claude-3-sonnet-20240229-v1:0_1723503192.7390735_Based_on_the_information_provided_.json\n",
      "results-fmbench-bedrock-anthropic-models/per_poll_eval/anthropic.claude-3-sonnet-20240229-v1:0_1723503192.7395897_Unfortunately__the_given_passages_do.json\n",
      "results-fmbench-bedrock-anthropic-models/per_poll_eval/anthropic.claude-3-sonnet-20240229-v1:0_1723503192.741801_Yes__both_the_Yadboro_River.json\n",
      "results-fmbench-bedrock-anthropic-models/per_poll_eval/anthropic.claude-3-sonnet-20240229-v1:0_1723503192.7425487_According_to_the_provided_context_.json\n",
      "results-fmbench-bedrock-anthropic-models/per_poll_eval/anthropic.claude-3-sonnet-20240229-v1:0_1723503192.7797246_Based_on_the_provided_context_.json\n",
      "results-fmbench-bedrock-anthropic-models/per_poll_eval/anthropic.claude-3-sonnet-20240229-v1:0_1723503192.7810638_Based_on_the_passage__the.json\n",
      "results-fmbench-bedrock-anthropic-models/per_poll_eval/anthropic.claude-3-sonnet-20240229-v1:0_1723503192.782329_Based_on_the_provided_passage_.json\n",
      "results-fmbench-bedrock-anthropic-models/per_poll_eval/anthropic.claude-3-sonnet-20240229-v1:0_1723503192.7831235_According_to_the_passage__the.json\n",
      "results-fmbench-bedrock-anthropic-models/per_poll_eval/anthropic.claude-3-sonnet-20240229-v1:0_1723503192.7838013_According_to_the_passage__the.json\n",
      "results-fmbench-bedrock-anthropic-models/per_poll_eval/anthropic.claude-3-sonnet-20240229-v1:0_1723503192.784398_According_to_the_poem__The.json\n",
      "results-fmbench-bedrock-anthropic-models/per_poll_eval/anthropic.claude-3-sonnet-20240229-v1:0_1723503192.7852843_Unfortunately__the_given_passages_do.json\n",
      "results-fmbench-bedrock-anthropic-models/per_poll_eval/anthropic.claude-3-sonnet-20240229-v1:0_1723503192.7863798_Unfortunately__I_could_not_find.json\n",
      "results-fmbench-bedrock-anthropic-models/per_poll_eval/anthropic.claude-3-sonnet-20240229-v1:0_1723503192.787087_Based_on_the_information_provided_.json\n",
      "results-fmbench-bedrock-anthropic-models/per_poll_eval/anthropic.claude-3-sonnet-20240229-v1:0_1723503192.8262784_Based_on_the_information_provided_.json\n",
      "results-fmbench-bedrock-anthropic-models/per_poll_eval/anthropic.claude-3-sonnet-20240229-v1:0_1723503192.826963_Based_on_the_information_provided_.json\n",
      "results-fmbench-bedrock-anthropic-models/per_poll_eval/anthropic.claude-3-sonnet-20240229-v1:0_1723503192.827583_I_don_t_have_enough_information.json\n",
      "results-fmbench-bedrock-anthropic-models/per_poll_eval/anthropic.claude-3-sonnet-20240229-v1:0_1723503192.8281877_The_Pirate_s_Dream__Italian__Il.json\n",
      "results-fmbench-bedrock-anthropic-models/per_poll_eval/anthropic.claude-3-sonnet-20240229-v1:0_1723503192.8300087_Based_on_the_information_provided_.json\n",
      "results-fmbench-bedrock-anthropic-models/per_poll_eval/anthropic.claude-3-sonnet-20240229-v1:0_1723503192.8309062_According_to_the_passage__the.json\n",
      "results-fmbench-bedrock-anthropic-models/per_poll_eval/anthropic.claude-3-sonnet-20240229-v1:0_1723503192.8315883_Based_on_the_passage__She_crab.json\n",
      "results-fmbench-bedrock-anthropic-models/per_poll_eval/anthropic.claude-3-sonnet-20240229-v1:0_1723503192.832382_The_2011_La_Manga_Cup.json\n",
      "results-fmbench-bedrock-anthropic-models/per_poll_eval/anthropic.claude-3-sonnet-20240229-v1:0_1723503192.8331704_The_author_who_wrote_the.json\n",
      "results-fmbench-bedrock-anthropic-models/per_poll_eval/anthropic.claude-3-sonnet-20240229-v1:0_1723503192.8635747_Gwyl_San_Steffan_is_the.json\n",
      "results-fmbench-bedrock-anthropic-models/per_poll_eval/anthropic.claude-3-sonnet-20240229-v1:0_1723503192.8644226_According_to_the_passage__the.json\n",
      "results-fmbench-bedrock-anthropic-models/per_poll_eval/anthropic.claude-3-sonnet-20240229-v1:0_1723503192.8651483_According_to_the_passage__the.json\n",
      "results-fmbench-bedrock-anthropic-models/per_poll_eval/anthropic.claude-3-sonnet-20240229-v1:0_1723503192.8657591_According_to_the_passage__the.json\n",
      "results-fmbench-bedrock-anthropic-models/per_poll_eval/anthropic.claude-3-sonnet-20240229-v1:0_1723503192.8664901_The_singer_of_the_title.json\n",
      "results-fmbench-bedrock-anthropic-models/per_poll_eval/anthropic.claude-3-sonnet-20240229-v1:0_1723503192.8671288_According_to_the_passage__Juba.json\n",
      "results-fmbench-bedrock-anthropic-models/per_poll_eval/anthropic.claude-3-sonnet-20240229-v1:0_1723503192.869932_Based_on_the_passage__the.json\n",
      "results-fmbench-bedrock-anthropic-models/per_poll_eval/anthropic.claude-3-sonnet-20240229-v1:0_1723503192.8706832_According_to_the_passage__Christopher.json\n",
      "results-fmbench-bedrock-anthropic-models/per_poll_eval/anthropic.claude-3-sonnet-20240229-v1:0_1723503192.8713946_According_to_the_passage__Harriet.json\n",
      "results-fmbench-bedrock-anthropic-models/per_poll_eval/anthropic.claude-3-sonnet-20240229-v1:0_1723503193.0579114_According_to_the_passage__in.json\n",
      "results-fmbench-bedrock-anthropic-models/per_poll_eval/anthropic.claude-3-sonnet-20240229-v1:0_1723503193.0584924_Based_on_the_passage__Catalonia.json\n",
      "results-fmbench-bedrock-anthropic-models/per_poll_eval/anthropic.claude-3-sonnet-20240229-v1:0_1723503193.0595112_Unfortunately__the_given_context_does.json\n",
      "results-fmbench-bedrock-anthropic-models/per_poll_eval/anthropic.claude-3-sonnet-20240229-v1:0_1723503193.0601168_Unfortunately__the_given_passage_does.json\n",
      "results-fmbench-bedrock-anthropic-models/per_poll_eval/anthropic.claude-3-sonnet-20240229-v1:0_1723503193.0606527_The_Naismith_Legacy_Award_is.json\n",
      "results-fmbench-bedrock-anthropic-models/per_poll_eval/anthropic.claude-3-sonnet-20240229-v1:0_1723503193.0614054_According_to_the_passage__the.json\n",
      "results-fmbench-bedrock-anthropic-models/per_poll_eval/anthropic.claude-3-sonnet-20240229-v1:0_1723503193.0619628_According_to_the_passage__the.json\n",
      "results-fmbench-bedrock-anthropic-models/per_poll_eval/anthropic.claude-3-sonnet-20240229-v1:0_1723503193.062597_Indradhanura_Chhai__an_Indian_Oriya.json\n",
      "results-fmbench-bedrock-anthropic-models/per_poll_eval/anthropic.claude-3-sonnet-20240229-v1:0_1723503193.0636718_Based_on_the_provided_passages_.json\n",
      "results-fmbench-bedrock-anthropic-models/per_poll_eval/anthropic.claude-3-sonnet-20240229-v1:0_1723503193.0982692_According_to_the_passage__Matthew.json\n",
      "results-fmbench-bedrock-anthropic-models/per_poll_eval/anthropic.claude-3-sonnet-20240229-v1:0_1723503193.098912_According_to_the_passage__Alexander.json\n",
      "results-fmbench-bedrock-anthropic-models/per_poll_eval/anthropic.claude-3-sonnet-20240229-v1:0_1723503193.0994287_Unfortunately__the_given_context_does.json\n",
      "results-fmbench-bedrock-anthropic-models/per_poll_eval/anthropic.claude-3-sonnet-20240229-v1:0_1723503193.1002252_According_to_the_passage__in.json\n",
      "results-fmbench-bedrock-anthropic-models/per_poll_eval/anthropic.claude-3-sonnet-20240229-v1:0_1723503193.100847_According_to_the_passage__Gary.json\n",
      "results-fmbench-bedrock-anthropic-models/per_poll_eval/anthropic.claude-3-sonnet-20240229-v1:0_1723503193.1018076_According_to_the_passage__Hattie.json\n",
      "results-fmbench-bedrock-anthropic-models/per_poll_eval/anthropic.claude-3-sonnet-20240229-v1:0_1723503193.1024337_According_to_the_passage__Julian.json\n",
      "results-fmbench-bedrock-anthropic-models/per_poll_eval/anthropic.claude-3-sonnet-20240229-v1:0_1723503193.1029592_Based_on_the_provided_context_.json\n",
      "results-fmbench-bedrock-anthropic-models/per_poll_eval/anthropic.claude-3-sonnet-20240229-v1:0_1723503193.1034994_According_to_the_passage__Nadine.json\n",
      "results-fmbench-bedrock-anthropic-models/per_poll_eval/anthropic.claude-3-sonnet-20240229-v1:0_1723503193.1327791_Unfortunately__I_could_not_find.json\n",
      "results-fmbench-bedrock-anthropic-models/per_poll_eval/anthropic.claude-3-sonnet-20240229-v1:0_1723503193.134137_Unfortunately__the_given_passages_do.json\n",
      "results-fmbench-bedrock-anthropic-models/per_poll_eval/anthropic.claude-3-sonnet-20240229-v1:0_1723503193.1350315_Based_on_the_provided_passages_.json\n",
      "results-fmbench-bedrock-anthropic-models/per_poll_eval/anthropic.claude-3-sonnet-20240229-v1:0_1723503193.1355252_Free_China__The_Courage_to.json\n",
      "results-fmbench-bedrock-anthropic-models/per_poll_eval/anthropic.claude-3-sonnet-20240229-v1:0_1723503193.1361217_Unfortunately__I_could_not_find.json\n",
      "results-fmbench-bedrock-anthropic-models/per_poll_eval/anthropic.claude-3-sonnet-20240229-v1:0_1723503193.1369915_Unfortunately__I_could_not_find.json\n",
      "results-fmbench-bedrock-anthropic-models/per_poll_eval/anthropic.claude-3-sonnet-20240229-v1:0_1723503193.1374948_According_to_the_passages__the.json\n",
      "results-fmbench-bedrock-anthropic-models/per_poll_eval/anthropic.claude-3-sonnet-20240229-v1:0_1723503193.1380372_According_to_the_passages__George.json\n",
      "results-fmbench-bedrock-anthropic-models/per_poll_eval/anthropic.claude-3-sonnet-20240229-v1:0_1723503193.1385717_Unfortunately__I_could_not_find.json\n",
      "results-fmbench-bedrock-anthropic-models/per_poll_eval/anthropic.claude-3-sonnet-20240229-v1:0_1723503193.1670394_Based_on_the_information_provided_.json\n",
      "results-fmbench-bedrock-anthropic-models/per_poll_eval/anthropic.claude-3-sonnet-20240229-v1:0_1723503193.1677718_Based_on_the_provided_context_.json\n",
      "results-fmbench-bedrock-anthropic-models/per_poll_eval/anthropic.claude-3-sonnet-20240229-v1:0_1723503193.1684227_Used_to_This_was_included.json\n",
      "results-fmbench-bedrock-anthropic-models/per_poll_eval/anthropic.claude-3-sonnet-20240229-v1:0_1723503193.169099_According_to_the_passage__Wellington.json\n",
      "results-fmbench-bedrock-anthropic-models/per_poll_eval/anthropic.claude-3-sonnet-20240229-v1:0_1723503193.1699846_A_saluki_is_a_breed.json\n",
      "results-fmbench-bedrock-anthropic-models/per_poll_eval/anthropic.claude-3-sonnet-20240229-v1:0_1723503193.1706183_The_Naismith_Legacy_Award_is.json\n",
      "results-fmbench-bedrock-anthropic-models/per_poll_eval/anthropic.claude-3-sonnet-20240229-v1:0_1723503193.1711032_According_to_the_passage__Tannochbrae.json\n",
      "results-fmbench-bedrock-anthropic-models/per_poll_eval/anthropic.claude-3-sonnet-20240229-v1:0_1723503193.1716664_According_to_the_passage__a.json\n",
      "results-fmbench-bedrock-anthropic-models/per_poll_eval/anthropic.claude-3-sonnet-20240229-v1:0_1723503193.1722581_According_to_the_passage___The.json\n",
      "results-fmbench-bedrock-anthropic-models/per_poll_eval/anthropic.claude-3-sonnet-20240229-v1:0_1723503193.3719618_Unfortunately__I_could_not_find.json\n",
      "results-fmbench-bedrock-anthropic-models/per_poll_eval/anthropic.claude-3-sonnet-20240229-v1:0_1723503193.3725252_Based_on_the_provided_passages_.json\n",
      "results-fmbench-bedrock-anthropic-models/per_poll_eval/anthropic.claude-3-sonnet-20240229-v1:0_1723503193.3730886_Based_on_the_given_passages_.json\n",
      "results-fmbench-bedrock-anthropic-models/per_poll_eval/anthropic.claude-3-sonnet-20240229-v1:0_1723503193.373596_According_to_the_passages__Suining.json\n",
      "results-fmbench-bedrock-anthropic-models/per_poll_eval/anthropic.claude-3-sonnet-20240229-v1:0_1723503193.3743038_Yes__both_Dictyosperma_and_Huernia.json\n",
      "results-fmbench-bedrock-anthropic-models/per_poll_eval/anthropic.claude-3-sonnet-20240229-v1:0_1723503193.3753402_Javier_Frana_and_Thomaz_Koch.json\n",
      "results-fmbench-bedrock-anthropic-models/per_poll_eval/anthropic.claude-3-sonnet-20240229-v1:0_1723503193.375884_No__Dafeng_District_and_Dazhou.json\n",
      "results-fmbench-bedrock-anthropic-models/per_poll_eval/anthropic.claude-3-sonnet-20240229-v1:0_1723503193.3769202_According_to_the_passages__the.json\n",
      "results-fmbench-bedrock-anthropic-models/per_poll_eval/anthropic.claude-3-sonnet-20240229-v1:0_1723503193.3781247_According_to_the_passage__Charlotte.json\n",
      "results-fmbench-bedrock-anthropic-models/per_poll_eval/anthropic.claude-3-sonnet-20240229-v1:0_1723503193.4076664_According_to_the_passages__the.json\n",
      "results-fmbench-bedrock-anthropic-models/per_poll_eval/anthropic.claude-3-sonnet-20240229-v1:0_1723503193.4094763_Based_on_the_given_passages_.json\n",
      "results-fmbench-bedrock-anthropic-models/per_poll_eval/anthropic.claude-3-sonnet-20240229-v1:0_1723503193.4101567_Jacob_Minah_set_his_personal.json\n",
      "results-fmbench-bedrock-anthropic-models/per_poll_eval/anthropic.claude-3-sonnet-20240229-v1:0_1723503193.411154_Yes__Euptelea_and_Muehlenbeckia_are.json\n",
      "results-fmbench-bedrock-anthropic-models/per_poll_eval/anthropic.claude-3-sonnet-20240229-v1:0_1723503193.4135253_According_to_the_provided_context_.json\n",
      "results-fmbench-bedrock-anthropic-models/per_poll_eval/anthropic.claude-3-sonnet-20240229-v1:0_1723503193.4141366_Sergio_Casal_and_Manuel_Orantes.json\n",
      "results-fmbench-bedrock-anthropic-models/per_poll_eval/anthropic.claude-3-sonnet-20240229-v1:0_1723503193.4147584_Based_on_the_information_provided_.json\n",
      "results-fmbench-bedrock-anthropic-models/per_poll_eval/anthropic.claude-3-sonnet-20240229-v1:0_1723503193.4152417_According_to_the_given_context_.json\n",
      "results-fmbench-bedrock-anthropic-models/per_poll_eval/anthropic.claude-3-sonnet-20240229-v1:0_1723503193.4157681__Back_to_Bedlam__was_the.json\n",
      "results-fmbench-bedrock-anthropic-models/per_poll_eval/anthropic.claude-3-sonnet-20240229-v1:0_1723503193.448993_Based_on_the_information_provided_.json\n",
      "results-fmbench-bedrock-anthropic-models/per_poll_eval/anthropic.claude-3-sonnet-20240229-v1:0_1723503193.4495687_Based_on_the_information_provided_.json\n",
      "results-fmbench-bedrock-anthropic-models/per_poll_eval/anthropic.claude-3-sonnet-20240229-v1:0_1723503193.4502673_Based_on_the_information_provided_.json\n",
      "results-fmbench-bedrock-anthropic-models/per_poll_eval/anthropic.claude-3-sonnet-20240229-v1:0_1723503193.450941_According_to_the_provided_context_.json\n",
      "results-fmbench-bedrock-anthropic-models/per_poll_eval/anthropic.claude-3-sonnet-20240229-v1:0_1723503193.4514592_According_to_the_given_context_.json\n",
      "results-fmbench-bedrock-anthropic-models/per_poll_eval/anthropic.claude-3-sonnet-20240229-v1:0_1723503193.4521995_Based_on_the_information_provided_.json\n",
      "results-fmbench-bedrock-anthropic-models/per_poll_eval/anthropic.claude-3-sonnet-20240229-v1:0_1723503193.4527986_Based_on_the_information_provided_.json\n",
      "results-fmbench-bedrock-anthropic-models/per_poll_eval/anthropic.claude-3-sonnet-20240229-v1:0_1723503193.45342_According_to_the_passage__Frances.json\n",
      "results-fmbench-bedrock-anthropic-models/per_poll_eval/anthropic.claude-3-sonnet-20240229-v1:0_1723503193.4540849_According_to_the_passages__Sir.json\n",
      "results-fmbench-bedrock-anthropic-models/per_poll_eval/anthropic.claude-3-sonnet-20240229-v1:0_1723503193.482853_The_Russian_route_M9__also.json\n",
      "results-fmbench-bedrock-anthropic-models/per_poll_eval/anthropic.claude-3-sonnet-20240229-v1:0_1723503193.4834025_Based_on_the_provided_context_.json\n",
      "results-fmbench-bedrock-anthropic-models/per_poll_eval/anthropic.claude-3-sonnet-20240229-v1:0_1723503193.486117_Timanfaya_National_Park_is_further.json\n",
      "results-fmbench-bedrock-anthropic-models/per_poll_eval/anthropic.claude-3-sonnet-20240229-v1:0_1723503193.4866607_Rimo_I_and_Passu_Sar.json\n",
      "results-fmbench-bedrock-anthropic-models/per_poll_eval/anthropic.claude-3-sonnet-20240229-v1:0_1723503193.4872038_According_to_the_passages__the.json\n",
      "results-fmbench-bedrock-anthropic-models/per_poll_eval/anthropic.claude-3-sonnet-20240229-v1:0_1723503193.4877582_Both_Gevork_Minaskanian_and_George.json\n",
      "results-fmbench-bedrock-anthropic-models/per_poll_eval/anthropic.claude-3-sonnet-20240229-v1:0_1723503193.4883792_According_to_the_passages__Kyle.json\n",
      "results-fmbench-bedrock-anthropic-models/per_poll_eval/anthropic.claude-3-sonnet-20240229-v1:0_1723503193.4889529_Michał_Wiśniowiecki__1529_1584__was_the.json\n",
      "results-fmbench-bedrock-anthropic-models/per_poll_eval/anthropic.claude-3-sonnet-20240229-v1:0_1723503193.4895322_Hardley_Flood_is_an_area.json\n",
      "results-fmbench-bedrock-anthropic-models/summary_metrics_for_dataset_best_option_each_instance_type.csv\n"
     ]
    }
   ],
   "source": [
    "#save all the metrics and report files locally\n",
    "import time\n",
    "import shutil\n",
    "shutil.rmtree(RESULTS_DIR, ignore_errors=True)\n",
    "time.sleep(10)\n",
    "os.makedirs(RESULTS_DIR, exist_ok=False)\n",
    "\n",
    "# config_yml = yaml.dump(config, default_flow_style=False)\n",
    "fpath: str = os.path.join(RESULTS_DIR, os.path.basename(CONFIG_FILE))\n",
    "logger.info(f\"saving config yaml in file {fpath}\")\n",
    "Path(fpath).write_text(config_yml)\n",
    "\n",
    "logger.info(f\"going to download all metrics and reports from s3 into {RESULTS_DIR} directory\")\n",
    "download_multiple_files_from_s3(BUCKET_NAME, METRICS_DIR, RESULTS_DIR)\n",
    "import glob\n",
    "result_files = glob.glob(os.path.join(RESULTS_DIR, \"**\"), recursive=True)\n",
    "logger.info(\"\\n\".join([f for f in result_files]))"
   ]
  },
  {
   "cell_type": "code",
   "execution_count": 142,
   "metadata": {
    "tags": []
   },
   "outputs": [
    {
     "name": "stderr",
     "output_type": "stream",
     "text": [
      "[2024-08-12 23:43:37,272] p31041 {1133856087.py:15} INFO - docker check, cmd=docker --version, std_out=Docker version 27.1.1, build 6312585\n",
      ", std_err=\n",
      "[2024-08-12 23:43:37,273] p31041 {1133856087.py:26} INFO - going to create self-conained html report with cmd=\"docker run --rm -v /home/sagemaker-user/repos/foundation-model-benchmarking-tool/src/fmbench/results-fmbench-bedrock-anthropic-models:/public -w /public -u $(id -u):$(id -g) registry.gitlab.com/quarto-forge/docker/quarto quarto render report.md --to html --self-contained\"\n",
      "[2024-08-12 23:43:37,291] p31041 {1133856087.py:33} INFO - \n",
      "[2024-08-12 23:43:37,292] p31041 {1133856087.py:34} INFO - docker: Cannot connect to the Docker daemon at unix:///var/run/docker.sock. Is the docker daemon running?.\n",
      "See 'docker run --help'.\n",
      "\n"
     ]
    }
   ],
   "source": [
    "import docker\n",
    "import subprocess\n",
    "docker_running = False\n",
    "generate_html_report = config['report'].get('generate_html_report', True)\n",
    "\n",
    "if generate_html_report is True:\n",
    "    try:\n",
    "        docker_client = docker.DockerClient()\n",
    "        docker_running = docker_client.ping()\n",
    "    except Exception as e:\n",
    "        print(f\"seems like docker is not installed or not running, exception={e}\")\n",
    "\n",
    "    if docker_running is True:\n",
    "        report_md_path = f\"{os.getcwd()}/{RESULTS_DIR}\"\n",
    "        report_html_path = os.path.join(report_md_path, f\"{config['general']['name']}.html\")\n",
    "        cmd = f\"docker run --rm -v {report_md_path}:/public -w /public -u $(id -u):$(id -g) registry.gitlab.com/quarto-forge/docker/quarto quarto render report.md --to html --self-contained\"\n",
    "        logger.info(f\"going to create self-conained html report with cmd=\\\"{cmd}\\\"\")\n",
    "        process = subprocess.Popen(cmd,\n",
    "                                   stdout=subprocess.PIPE, \n",
    "                                   stderr=subprocess.PIPE,\n",
    "                                   text=True,\n",
    "                                   shell=True)\n",
    "        std_out, std_err = process.communicate()\n",
    "        logger.info(std_out.strip())\n",
    "        logger.info(std_err)\n",
    "\n",
    "    else:\n",
    "        logger.error(f\"docker is not available, not going to create self-conained html report\")\n",
    "else:\n",
    "    logger.info(f\"generate_html_report={generate_html_report}, skipping html report generation\")"
   ]
  }
 ],
 "metadata": {
  "availableInstances": [
   {
    "_defaultOrder": 0,
    "_isFastLaunch": true,
    "category": "General purpose",
    "gpuNum": 0,
    "hideHardwareSpecs": false,
    "memoryGiB": 4,
    "name": "ml.t3.medium",
    "vcpuNum": 2
   },
   {
    "_defaultOrder": 1,
    "_isFastLaunch": false,
    "category": "General purpose",
    "gpuNum": 0,
    "hideHardwareSpecs": false,
    "memoryGiB": 8,
    "name": "ml.t3.large",
    "vcpuNum": 2
   },
   {
    "_defaultOrder": 2,
    "_isFastLaunch": false,
    "category": "General purpose",
    "gpuNum": 0,
    "hideHardwareSpecs": false,
    "memoryGiB": 16,
    "name": "ml.t3.xlarge",
    "vcpuNum": 4
   },
   {
    "_defaultOrder": 3,
    "_isFastLaunch": false,
    "category": "General purpose",
    "gpuNum": 0,
    "hideHardwareSpecs": false,
    "memoryGiB": 32,
    "name": "ml.t3.2xlarge",
    "vcpuNum": 8
   },
   {
    "_defaultOrder": 4,
    "_isFastLaunch": true,
    "category": "General purpose",
    "gpuNum": 0,
    "hideHardwareSpecs": false,
    "memoryGiB": 8,
    "name": "ml.m5.large",
    "vcpuNum": 2
   },
   {
    "_defaultOrder": 5,
    "_isFastLaunch": false,
    "category": "General purpose",
    "gpuNum": 0,
    "hideHardwareSpecs": false,
    "memoryGiB": 16,
    "name": "ml.m5.xlarge",
    "vcpuNum": 4
   },
   {
    "_defaultOrder": 6,
    "_isFastLaunch": false,
    "category": "General purpose",
    "gpuNum": 0,
    "hideHardwareSpecs": false,
    "memoryGiB": 32,
    "name": "ml.m5.2xlarge",
    "vcpuNum": 8
   },
   {
    "_defaultOrder": 7,
    "_isFastLaunch": false,
    "category": "General purpose",
    "gpuNum": 0,
    "hideHardwareSpecs": false,
    "memoryGiB": 64,
    "name": "ml.m5.4xlarge",
    "vcpuNum": 16
   },
   {
    "_defaultOrder": 8,
    "_isFastLaunch": false,
    "category": "General purpose",
    "gpuNum": 0,
    "hideHardwareSpecs": false,
    "memoryGiB": 128,
    "name": "ml.m5.8xlarge",
    "vcpuNum": 32
   },
   {
    "_defaultOrder": 9,
    "_isFastLaunch": false,
    "category": "General purpose",
    "gpuNum": 0,
    "hideHardwareSpecs": false,
    "memoryGiB": 192,
    "name": "ml.m5.12xlarge",
    "vcpuNum": 48
   },
   {
    "_defaultOrder": 10,
    "_isFastLaunch": false,
    "category": "General purpose",
    "gpuNum": 0,
    "hideHardwareSpecs": false,
    "memoryGiB": 256,
    "name": "ml.m5.16xlarge",
    "vcpuNum": 64
   },
   {
    "_defaultOrder": 11,
    "_isFastLaunch": false,
    "category": "General purpose",
    "gpuNum": 0,
    "hideHardwareSpecs": false,
    "memoryGiB": 384,
    "name": "ml.m5.24xlarge",
    "vcpuNum": 96
   },
   {
    "_defaultOrder": 12,
    "_isFastLaunch": false,
    "category": "General purpose",
    "gpuNum": 0,
    "hideHardwareSpecs": false,
    "memoryGiB": 8,
    "name": "ml.m5d.large",
    "vcpuNum": 2
   },
   {
    "_defaultOrder": 13,
    "_isFastLaunch": false,
    "category": "General purpose",
    "gpuNum": 0,
    "hideHardwareSpecs": false,
    "memoryGiB": 16,
    "name": "ml.m5d.xlarge",
    "vcpuNum": 4
   },
   {
    "_defaultOrder": 14,
    "_isFastLaunch": false,
    "category": "General purpose",
    "gpuNum": 0,
    "hideHardwareSpecs": false,
    "memoryGiB": 32,
    "name": "ml.m5d.2xlarge",
    "vcpuNum": 8
   },
   {
    "_defaultOrder": 15,
    "_isFastLaunch": false,
    "category": "General purpose",
    "gpuNum": 0,
    "hideHardwareSpecs": false,
    "memoryGiB": 64,
    "name": "ml.m5d.4xlarge",
    "vcpuNum": 16
   },
   {
    "_defaultOrder": 16,
    "_isFastLaunch": false,
    "category": "General purpose",
    "gpuNum": 0,
    "hideHardwareSpecs": false,
    "memoryGiB": 128,
    "name": "ml.m5d.8xlarge",
    "vcpuNum": 32
   },
   {
    "_defaultOrder": 17,
    "_isFastLaunch": false,
    "category": "General purpose",
    "gpuNum": 0,
    "hideHardwareSpecs": false,
    "memoryGiB": 192,
    "name": "ml.m5d.12xlarge",
    "vcpuNum": 48
   },
   {
    "_defaultOrder": 18,
    "_isFastLaunch": false,
    "category": "General purpose",
    "gpuNum": 0,
    "hideHardwareSpecs": false,
    "memoryGiB": 256,
    "name": "ml.m5d.16xlarge",
    "vcpuNum": 64
   },
   {
    "_defaultOrder": 19,
    "_isFastLaunch": false,
    "category": "General purpose",
    "gpuNum": 0,
    "hideHardwareSpecs": false,
    "memoryGiB": 384,
    "name": "ml.m5d.24xlarge",
    "vcpuNum": 96
   },
   {
    "_defaultOrder": 20,
    "_isFastLaunch": false,
    "category": "General purpose",
    "gpuNum": 0,
    "hideHardwareSpecs": true,
    "memoryGiB": 0,
    "name": "ml.geospatial.interactive",
    "supportedImageNames": [
     "sagemaker-geospatial-v1-0"
    ],
    "vcpuNum": 0
   },
   {
    "_defaultOrder": 21,
    "_isFastLaunch": true,
    "category": "Compute optimized",
    "gpuNum": 0,
    "hideHardwareSpecs": false,
    "memoryGiB": 4,
    "name": "ml.c5.large",
    "vcpuNum": 2
   },
   {
    "_defaultOrder": 22,
    "_isFastLaunch": false,
    "category": "Compute optimized",
    "gpuNum": 0,
    "hideHardwareSpecs": false,
    "memoryGiB": 8,
    "name": "ml.c5.xlarge",
    "vcpuNum": 4
   },
   {
    "_defaultOrder": 23,
    "_isFastLaunch": false,
    "category": "Compute optimized",
    "gpuNum": 0,
    "hideHardwareSpecs": false,
    "memoryGiB": 16,
    "name": "ml.c5.2xlarge",
    "vcpuNum": 8
   },
   {
    "_defaultOrder": 24,
    "_isFastLaunch": false,
    "category": "Compute optimized",
    "gpuNum": 0,
    "hideHardwareSpecs": false,
    "memoryGiB": 32,
    "name": "ml.c5.4xlarge",
    "vcpuNum": 16
   },
   {
    "_defaultOrder": 25,
    "_isFastLaunch": false,
    "category": "Compute optimized",
    "gpuNum": 0,
    "hideHardwareSpecs": false,
    "memoryGiB": 72,
    "name": "ml.c5.9xlarge",
    "vcpuNum": 36
   },
   {
    "_defaultOrder": 26,
    "_isFastLaunch": false,
    "category": "Compute optimized",
    "gpuNum": 0,
    "hideHardwareSpecs": false,
    "memoryGiB": 96,
    "name": "ml.c5.12xlarge",
    "vcpuNum": 48
   },
   {
    "_defaultOrder": 27,
    "_isFastLaunch": false,
    "category": "Compute optimized",
    "gpuNum": 0,
    "hideHardwareSpecs": false,
    "memoryGiB": 144,
    "name": "ml.c5.18xlarge",
    "vcpuNum": 72
   },
   {
    "_defaultOrder": 28,
    "_isFastLaunch": false,
    "category": "Compute optimized",
    "gpuNum": 0,
    "hideHardwareSpecs": false,
    "memoryGiB": 192,
    "name": "ml.c5.24xlarge",
    "vcpuNum": 96
   },
   {
    "_defaultOrder": 29,
    "_isFastLaunch": true,
    "category": "Accelerated computing",
    "gpuNum": 1,
    "hideHardwareSpecs": false,
    "memoryGiB": 16,
    "name": "ml.g4dn.xlarge",
    "vcpuNum": 4
   },
   {
    "_defaultOrder": 30,
    "_isFastLaunch": false,
    "category": "Accelerated computing",
    "gpuNum": 1,
    "hideHardwareSpecs": false,
    "memoryGiB": 32,
    "name": "ml.g4dn.2xlarge",
    "vcpuNum": 8
   },
   {
    "_defaultOrder": 31,
    "_isFastLaunch": false,
    "category": "Accelerated computing",
    "gpuNum": 1,
    "hideHardwareSpecs": false,
    "memoryGiB": 64,
    "name": "ml.g4dn.4xlarge",
    "vcpuNum": 16
   },
   {
    "_defaultOrder": 32,
    "_isFastLaunch": false,
    "category": "Accelerated computing",
    "gpuNum": 1,
    "hideHardwareSpecs": false,
    "memoryGiB": 128,
    "name": "ml.g4dn.8xlarge",
    "vcpuNum": 32
   },
   {
    "_defaultOrder": 33,
    "_isFastLaunch": false,
    "category": "Accelerated computing",
    "gpuNum": 4,
    "hideHardwareSpecs": false,
    "memoryGiB": 192,
    "name": "ml.g4dn.12xlarge",
    "vcpuNum": 48
   },
   {
    "_defaultOrder": 34,
    "_isFastLaunch": false,
    "category": "Accelerated computing",
    "gpuNum": 1,
    "hideHardwareSpecs": false,
    "memoryGiB": 256,
    "name": "ml.g4dn.16xlarge",
    "vcpuNum": 64
   },
   {
    "_defaultOrder": 35,
    "_isFastLaunch": false,
    "category": "Accelerated computing",
    "gpuNum": 1,
    "hideHardwareSpecs": false,
    "memoryGiB": 61,
    "name": "ml.p3.2xlarge",
    "vcpuNum": 8
   },
   {
    "_defaultOrder": 36,
    "_isFastLaunch": false,
    "category": "Accelerated computing",
    "gpuNum": 4,
    "hideHardwareSpecs": false,
    "memoryGiB": 244,
    "name": "ml.p3.8xlarge",
    "vcpuNum": 32
   },
   {
    "_defaultOrder": 37,
    "_isFastLaunch": false,
    "category": "Accelerated computing",
    "gpuNum": 8,
    "hideHardwareSpecs": false,
    "memoryGiB": 488,
    "name": "ml.p3.16xlarge",
    "vcpuNum": 64
   },
   {
    "_defaultOrder": 38,
    "_isFastLaunch": false,
    "category": "Accelerated computing",
    "gpuNum": 8,
    "hideHardwareSpecs": false,
    "memoryGiB": 768,
    "name": "ml.p3dn.24xlarge",
    "vcpuNum": 96
   },
   {
    "_defaultOrder": 39,
    "_isFastLaunch": false,
    "category": "Memory Optimized",
    "gpuNum": 0,
    "hideHardwareSpecs": false,
    "memoryGiB": 16,
    "name": "ml.r5.large",
    "vcpuNum": 2
   },
   {
    "_defaultOrder": 40,
    "_isFastLaunch": false,
    "category": "Memory Optimized",
    "gpuNum": 0,
    "hideHardwareSpecs": false,
    "memoryGiB": 32,
    "name": "ml.r5.xlarge",
    "vcpuNum": 4
   },
   {
    "_defaultOrder": 41,
    "_isFastLaunch": false,
    "category": "Memory Optimized",
    "gpuNum": 0,
    "hideHardwareSpecs": false,
    "memoryGiB": 64,
    "name": "ml.r5.2xlarge",
    "vcpuNum": 8
   },
   {
    "_defaultOrder": 42,
    "_isFastLaunch": false,
    "category": "Memory Optimized",
    "gpuNum": 0,
    "hideHardwareSpecs": false,
    "memoryGiB": 128,
    "name": "ml.r5.4xlarge",
    "vcpuNum": 16
   },
   {
    "_defaultOrder": 43,
    "_isFastLaunch": false,
    "category": "Memory Optimized",
    "gpuNum": 0,
    "hideHardwareSpecs": false,
    "memoryGiB": 256,
    "name": "ml.r5.8xlarge",
    "vcpuNum": 32
   },
   {
    "_defaultOrder": 44,
    "_isFastLaunch": false,
    "category": "Memory Optimized",
    "gpuNum": 0,
    "hideHardwareSpecs": false,
    "memoryGiB": 384,
    "name": "ml.r5.12xlarge",
    "vcpuNum": 48
   },
   {
    "_defaultOrder": 45,
    "_isFastLaunch": false,
    "category": "Memory Optimized",
    "gpuNum": 0,
    "hideHardwareSpecs": false,
    "memoryGiB": 512,
    "name": "ml.r5.16xlarge",
    "vcpuNum": 64
   },
   {
    "_defaultOrder": 46,
    "_isFastLaunch": false,
    "category": "Memory Optimized",
    "gpuNum": 0,
    "hideHardwareSpecs": false,
    "memoryGiB": 768,
    "name": "ml.r5.24xlarge",
    "vcpuNum": 96
   },
   {
    "_defaultOrder": 47,
    "_isFastLaunch": false,
    "category": "Accelerated computing",
    "gpuNum": 1,
    "hideHardwareSpecs": false,
    "memoryGiB": 16,
    "name": "ml.g5.xlarge",
    "vcpuNum": 4
   },
   {
    "_defaultOrder": 48,
    "_isFastLaunch": false,
    "category": "Accelerated computing",
    "gpuNum": 1,
    "hideHardwareSpecs": false,
    "memoryGiB": 32,
    "name": "ml.g5.2xlarge",
    "vcpuNum": 8
   },
   {
    "_defaultOrder": 49,
    "_isFastLaunch": false,
    "category": "Accelerated computing",
    "gpuNum": 1,
    "hideHardwareSpecs": false,
    "memoryGiB": 64,
    "name": "ml.g5.4xlarge",
    "vcpuNum": 16
   },
   {
    "_defaultOrder": 50,
    "_isFastLaunch": false,
    "category": "Accelerated computing",
    "gpuNum": 1,
    "hideHardwareSpecs": false,
    "memoryGiB": 128,
    "name": "ml.g5.8xlarge",
    "vcpuNum": 32
   },
   {
    "_defaultOrder": 51,
    "_isFastLaunch": false,
    "category": "Accelerated computing",
    "gpuNum": 1,
    "hideHardwareSpecs": false,
    "memoryGiB": 256,
    "name": "ml.g5.16xlarge",
    "vcpuNum": 64
   },
   {
    "_defaultOrder": 52,
    "_isFastLaunch": false,
    "category": "Accelerated computing",
    "gpuNum": 4,
    "hideHardwareSpecs": false,
    "memoryGiB": 192,
    "name": "ml.g5.12xlarge",
    "vcpuNum": 48
   },
   {
    "_defaultOrder": 53,
    "_isFastLaunch": false,
    "category": "Accelerated computing",
    "gpuNum": 4,
    "hideHardwareSpecs": false,
    "memoryGiB": 384,
    "name": "ml.g5.24xlarge",
    "vcpuNum": 96
   },
   {
    "_defaultOrder": 54,
    "_isFastLaunch": false,
    "category": "Accelerated computing",
    "gpuNum": 8,
    "hideHardwareSpecs": false,
    "memoryGiB": 768,
    "name": "ml.g5.48xlarge",
    "vcpuNum": 192
   },
   {
    "_defaultOrder": 55,
    "_isFastLaunch": false,
    "category": "Accelerated computing",
    "gpuNum": 8,
    "hideHardwareSpecs": false,
    "memoryGiB": 1152,
    "name": "ml.p4d.24xlarge",
    "vcpuNum": 96
   },
   {
    "_defaultOrder": 56,
    "_isFastLaunch": false,
    "category": "Accelerated computing",
    "gpuNum": 8,
    "hideHardwareSpecs": false,
    "memoryGiB": 1152,
    "name": "ml.p4de.24xlarge",
    "vcpuNum": 96
   },
   {
    "_defaultOrder": 57,
    "_isFastLaunch": false,
    "category": "Accelerated computing",
    "gpuNum": 0,
    "hideHardwareSpecs": false,
    "memoryGiB": 32,
    "name": "ml.trn1.2xlarge",
    "vcpuNum": 8
   },
   {
    "_defaultOrder": 58,
    "_isFastLaunch": false,
    "category": "Accelerated computing",
    "gpuNum": 0,
    "hideHardwareSpecs": false,
    "memoryGiB": 512,
    "name": "ml.trn1.32xlarge",
    "vcpuNum": 128
   },
   {
    "_defaultOrder": 59,
    "_isFastLaunch": false,
    "category": "Accelerated computing",
    "gpuNum": 0,
    "hideHardwareSpecs": false,
    "memoryGiB": 512,
    "name": "ml.trn1n.32xlarge",
    "vcpuNum": 128
   }
  ],
  "instance_type": "ml.c5.large",
  "kernelspec": {
   "display_name": "fmbench_python311",
   "language": "python",
   "name": "python3"
  },
  "language_info": {
   "codemirror_mode": {
    "name": "ipython",
    "version": 3
   },
   "file_extension": ".py",
   "mimetype": "text/x-python",
   "name": "python",
   "nbconvert_exporter": "python",
   "pygments_lexer": "ipython3",
   "version": "3.11.9"
  }
 },
 "nbformat": 4,
 "nbformat_minor": 4
}
